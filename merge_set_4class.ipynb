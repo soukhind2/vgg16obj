{
  "nbformat": 4,
  "nbformat_minor": 0,
  "metadata": {
    "colab": {
      "name": "merge_set_4class.ipynb",
      "provenance": [],
      "machine_shape": "hm",
      "authorship_tag": "ABX9TyO5gmW6+G9azO/3/2nhRpHH",
      "include_colab_link": true
    },
    "kernelspec": {
      "name": "python3",
      "display_name": "Python 3"
    },
    "accelerator": "GPU"
  },
  "cells": [
    {
      "cell_type": "markdown",
      "metadata": {
        "id": "view-in-github",
        "colab_type": "text"
      },
      "source": [
        "<a href=\"https://colab.research.google.com/github/soukhind2/vgg16obj/blob/master/merge_set_4class.ipynb\" target=\"_parent\"><img src=\"https://colab.research.google.com/assets/colab-badge.svg\" alt=\"Open In Colab\"/></a>"
      ]
    },
    {
      "cell_type": "markdown",
      "metadata": {
        "id": "9uhBNXwh_w9B"
      },
      "source": [
        "# Preload"
      ]
    },
    {
      "cell_type": "markdown",
      "metadata": {
        "id": "TNH3vmYgxdao"
      },
      "source": [
        "Mount the google drive and load necessary packages"
      ]
    },
    {
      "cell_type": "code",
      "metadata": {
        "id": "tWeNtkRpYWgy",
        "colab": {
          "base_uri": "https://localhost:8080/"
        },
        "outputId": "98eef0c2-505f-46a8-e0ee-9932d906528a"
      },
      "source": [
        "from google.colab import drive\n",
        "\n",
        "from pathlib import Path\n",
        "import sys\n",
        "drive.mount(\"/content/drive\", force_remount=True)"
      ],
      "execution_count": 1,
      "outputs": [
        {
          "output_type": "stream",
          "text": [
            "Mounted at /content/drive\n"
          ],
          "name": "stdout"
        }
      ]
    },
    {
      "cell_type": "code",
      "metadata": {
        "id": "paH-Z9zPYk6t",
        "colab": {
          "base_uri": "https://localhost:8080/"
        },
        "outputId": "bc93e4d6-4928-4e22-e18b-a8aa2d837ba0"
      },
      "source": [
        "!rm -rf vgg16obj\n",
        "!git clone -b tuning_calc https://github.com/soukhind2/vgg16obj\n",
        "! pip install https://github.com/raghakot/keras-vis/archive/master.zip #keras vis"
      ],
      "execution_count": 2,
      "outputs": [
        {
          "output_type": "stream",
          "text": [
            "Cloning into 'vgg16obj'...\n",
            "remote: Enumerating objects: 124, done.\u001b[K\n",
            "remote: Counting objects: 100% (124/124), done.\u001b[K\n",
            "remote: Compressing objects: 100% (110/110), done.\u001b[K\n",
            "remote: Total 431 (delta 62), reused 38 (delta 14), pack-reused 307\u001b[K\n",
            "Receiving objects: 100% (431/431), 10.12 MiB | 10.58 MiB/s, done.\n",
            "Resolving deltas: 100% (239/239), done.\n",
            "Collecting https://github.com/raghakot/keras-vis/archive/master.zip\n",
            "\u001b[?25l  Downloading https://github.com/raghakot/keras-vis/archive/master.zip\n",
            "\u001b[K     / 51.0MB 1.7MB/s\n",
            "\u001b[?25hRequirement already satisfied: keras>=2.0 in /usr/local/lib/python3.7/dist-packages (from keras-vis==0.5.0) (2.4.3)\n",
            "Requirement already satisfied: six in /usr/local/lib/python3.7/dist-packages (from keras-vis==0.5.0) (1.15.0)\n",
            "Requirement already satisfied: scikit-image in /usr/local/lib/python3.7/dist-packages (from keras-vis==0.5.0) (0.16.2)\n",
            "Requirement already satisfied: matplotlib in /usr/local/lib/python3.7/dist-packages (from keras-vis==0.5.0) (3.2.2)\n",
            "Requirement already satisfied: h5py in /usr/local/lib/python3.7/dist-packages (from keras-vis==0.5.0) (2.10.0)\n",
            "Requirement already satisfied: scipy>=0.14 in /usr/local/lib/python3.7/dist-packages (from keras>=2.0->keras-vis==0.5.0) (1.4.1)\n",
            "Requirement already satisfied: pyyaml in /usr/local/lib/python3.7/dist-packages (from keras>=2.0->keras-vis==0.5.0) (3.13)\n",
            "Requirement already satisfied: numpy>=1.9.1 in /usr/local/lib/python3.7/dist-packages (from keras>=2.0->keras-vis==0.5.0) (1.19.5)\n",
            "Requirement already satisfied: pillow>=4.3.0 in /usr/local/lib/python3.7/dist-packages (from scikit-image->keras-vis==0.5.0) (7.0.0)\n",
            "Requirement already satisfied: imageio>=2.3.0 in /usr/local/lib/python3.7/dist-packages (from scikit-image->keras-vis==0.5.0) (2.4.1)\n",
            "Requirement already satisfied: PyWavelets>=0.4.0 in /usr/local/lib/python3.7/dist-packages (from scikit-image->keras-vis==0.5.0) (1.1.1)\n",
            "Requirement already satisfied: networkx>=2.0 in /usr/local/lib/python3.7/dist-packages (from scikit-image->keras-vis==0.5.0) (2.5)\n",
            "Requirement already satisfied: python-dateutil>=2.1 in /usr/local/lib/python3.7/dist-packages (from matplotlib->keras-vis==0.5.0) (2.8.1)\n",
            "Requirement already satisfied: kiwisolver>=1.0.1 in /usr/local/lib/python3.7/dist-packages (from matplotlib->keras-vis==0.5.0) (1.3.1)\n",
            "Requirement already satisfied: cycler>=0.10 in /usr/local/lib/python3.7/dist-packages (from matplotlib->keras-vis==0.5.0) (0.10.0)\n",
            "Requirement already satisfied: pyparsing!=2.0.4,!=2.1.2,!=2.1.6,>=2.0.1 in /usr/local/lib/python3.7/dist-packages (from matplotlib->keras-vis==0.5.0) (2.4.7)\n",
            "Requirement already satisfied: decorator>=4.3.0 in /usr/local/lib/python3.7/dist-packages (from networkx>=2.0->scikit-image->keras-vis==0.5.0) (4.4.2)\n",
            "Building wheels for collected packages: keras-vis\n",
            "  Building wheel for keras-vis (setup.py) ... \u001b[?25l\u001b[?25hdone\n",
            "  Created wheel for keras-vis: filename=keras_vis-0.5.0-py2.py3-none-any.whl size=30857 sha256=87216bbae6f8c4b5c8c96813e6f8dddcdc486c729a6256ef9fb46fc81ac85940\n",
            "  Stored in directory: /tmp/pip-ephem-wheel-cache-_w156w17/wheels/7e/91/e5/9fdb0f2f5fa5d9f402c6fbfaf015aadbe3dba024ede6532727\n",
            "Successfully built keras-vis\n",
            "Installing collected packages: keras-vis\n",
            "  Found existing installation: keras-vis 0.4.1\n",
            "    Uninstalling keras-vis-0.4.1:\n",
            "      Successfully uninstalled keras-vis-0.4.1\n",
            "Successfully installed keras-vis-0.5.0\n"
          ],
          "name": "stdout"
        }
      ]
    },
    {
      "cell_type": "markdown",
      "metadata": {
        "id": "bVSWxf5qxoSv"
      },
      "source": [
        "Unpack the items"
      ]
    },
    {
      "cell_type": "code",
      "metadata": {
        "id": "TL5079ZkYpf5"
      },
      "source": [
        "#!unzip -q /content/drive/My\\ Drive/obj/data\n",
        "#!unzip -q /content/drive/My\\ Drive/obj/test2\n",
        "#!unzip -q /content/drive/My\\ Drive/obj/sean_test\n",
        "!unzip -q /content/drive/My\\ Drive/obj/data_6class\n",
        "!unzip -q /content/drive/My\\ Drive/obj/merge\n"
      ],
      "execution_count": 3,
      "outputs": []
    },
    {
      "cell_type": "markdown",
      "metadata": {
        "id": "Uxfdgi8hHv_1"
      },
      "source": [
        "# Load libraries\n",
        "Load the necessary libraries"
      ]
    },
    {
      "cell_type": "code",
      "metadata": {
        "id": "bmdIPynMYsJj"
      },
      "source": [
        "import numpy as np\n",
        "import pandas as pd\n",
        "import os\n",
        "import time\n",
        "import math\n",
        "import matplotlib.pyplot as plt\n",
        "import pickle\n",
        "import cv2\n",
        "import seaborn as sns\n",
        "import random\n",
        "\n",
        "\n",
        "from keras.applications.vgg16 import VGG16,preprocess_input\n",
        "from keras.preprocessing.image import ImageDataGenerator,load_img, img_to_array\n",
        "from keras.layers import Flatten,Dense,Dropout,Input,BatchNormalization\n",
        "from keras.models import Sequential,Model\n",
        "from keras.utils.np_utils import to_categorical\n",
        "from keras.optimizers import Adam\n",
        "from keras.callbacks import EarlyStopping\n",
        "from keras.utils.vis_utils import plot_model\n",
        "\n",
        "from sklearn import metrics\n",
        "from sklearn.metrics import confusion_matrix\n",
        "import itertools\n",
        "\n",
        "from vgg16obj.tools import tuning_calcs as tc\n",
        "from vgg16obj.tools import gradient_calcs as gc\n",
        "from vgg16obj.tools import stats as st\n",
        "from vgg16obj.tools import plot_tools as pt\n",
        "\n",
        "\n",
        "import tensorflow as tf\n",
        "from tensorflow import math"
      ],
      "execution_count": 1,
      "outputs": []
    },
    {
      "cell_type": "markdown",
      "metadata": {
        "id": "vPKnbq8zZAEI"
      },
      "source": [
        "# Load Images"
      ]
    },
    {
      "cell_type": "markdown",
      "metadata": {
        "id": "K3AFr11WZBql"
      },
      "source": [
        "### Merged Images"
      ]
    },
    {
      "cell_type": "code",
      "metadata": {
        "id": "jWkKJ-FAY8Dq"
      },
      "source": [
        "def noisy(image):\n",
        "  row,col,ch= image.shape\n",
        "  mean = 0\n",
        "  var = 1\n",
        "  sigma = var**0.5\n",
        "  gauss = np.random.normal(mean,sigma,(row,col,ch))\n",
        "  gauss = gauss.reshape(row,col,ch)\n",
        "  noisy = image + gauss\n",
        "  return noisy\n",
        "\n",
        "def convertimgs(path,noise = False) :\n",
        "    data = []\n",
        "    for dirName, subdir, files in os.walk(path):\n",
        "        for filename in sorted(files):\n",
        "            if filename == '.DS_Store':\n",
        "                continue\n",
        "            ds = load_img(path +'/' + filename,target_size = (224,224))\n",
        "            im = img_to_array(ds)\n",
        "            im /= 255.\n",
        "            #im = im.reshape((1, im.shape[0], im.shape[1], im.shape[2]))\n",
        "            #im = preprocess_input(im)\n",
        "            if noise:\n",
        "              im = noisy(im)\n",
        "            data.append(im) \n",
        "    return data"
      ],
      "execution_count": 2,
      "outputs": []
    },
    {
      "cell_type": "code",
      "metadata": {
        "id": "P267h5kYZE_H",
        "colab": {
          "base_uri": "https://localhost:8080/",
          "height": 0
        },
        "outputId": "4017272d-ce6d-4c22-fcbe-5e1f1709a60d"
      },
      "source": [
        "# Merged images load\n",
        "data_train = [[]  for i in range(8)]\n",
        "data_train[0] = convertimgs('/content/merge/merge_train/Correct/Male',noise = False)  #75\n",
        "data_train[1] = convertimgs('/content/merge/merge_train/Correct/Female/',noise = False) #75\n",
        "data_train[2] = convertimgs('/content/merge/merge_train/Correct/Manmade/',noise = False) #75\n",
        "data_train[3] = convertimgs('/content/merge/merge_train/Correct/Natural/',noise = False) #75\n",
        "#data_train[4] = convertimgs('/content/merge/merge_train/Correct/Powered',noise = False) #75\n",
        "#data_train[5] = convertimgs('/content/merge/merge_train/Correct/Nonpowered',noise = False) #75\n",
        "\n",
        "data_train[4] = convertimgs('/content/merge/merge_train/Incorrect/Male',noise = False) #75\n",
        "data_train[5] = convertimgs('/content/merge/merge_train/Incorrect/Female',noise = False) #75\n",
        "data_train[6] = convertimgs('/content/merge/merge_train/Incorrect/Manmade',noise = False) #75\n",
        "data_train[7] = convertimgs('/content/merge/merge_train/Incorrect/Natural',noise = False) #75\n",
        "#data_train[10] = convertimgs('/content/merge/merge_train/Incorrect/Powered',noise = False) #75\n",
        "#data_train[11] = convertimgs('/content/merge/merge_train/Incorrect/Nonpowered',noise = False) #75\n",
        "data_train = np.array(data_train)\n",
        " \n",
        "data_test = [[]  for i in range(8)]\n",
        "data_test[0] = convertimgs('/content/merge/merge_test/Correct/Male',noise = False)  #75\n",
        "data_test[1] = convertimgs('/content/merge/merge_test/Correct/Female/',noise = False) #75\n",
        "data_test[2] = convertimgs('/content/merge/merge_test/Correct/Manmade/',noise = False) #75\n",
        "data_test[3] = convertimgs('/content/merge/merge_test/Correct/Natural/',noise = False) #75\n",
        "#data_test[4] = convertimgs('/content/merge/merge_test/Correct/Powered',noise = False) #75\n",
        "#data_test[5] = convertimgs('/content/merge/merge_test/Correct/Nonpowered',noise = False) #75\n",
        "\n",
        "data_test[4] = convertimgs('/content/merge/merge_test/Incorrect/Male',noise = False) #75\n",
        "data_test[5] = convertimgs('/content/merge/merge_test/Incorrect/Female',noise = False) #75\n",
        "data_test[6] = convertimgs('/content/merge/merge_test/Incorrect/Manmade',noise = False) #75\n",
        "data_test[7] = convertimgs('/content/merge/merge_test/Incorrect/Natural',noise = False) #75\n",
        "#data_test[10] = convertimgs('/content/merge/merge_test/Incorrect/Powered',noise = False) #75\n",
        "#data_test[11] = convertimgs('/content/merge/merge_test/Incorrect/Nonpowered',noise = False) #75\n",
        "data_test = np.array(data_test)\n",
        "\n",
        "\n",
        "print(data_train.shape,data_test.shape)\n",
        "\n",
        "plt.imshow(data_train[3,79])\n",
        "plt.axis('off')\n",
        "\n",
        "# Regular Images load\n",
        "\n",
        "reg_train = [[]  for i in range(8)]\n",
        "reg_train[0] = convertimgs('/content/merge/merge_reg_train/Correct/Male',noise = False)  # 75\n",
        "reg_train[1] = convertimgs('/content/merge/merge_reg_train/Correct/Female',noise = False) # 75\n",
        "reg_train[2] = convertimgs('/content/merge/merge_reg_train/Correct/Manmade',noise = False) # 75\n",
        "reg_train[3] = convertimgs('/content/merge/merge_reg_train/Correct/Natural/',noise = False) # 75\n",
        "#reg_train[4] = convertimgs('/content/merge/merge_reg_train/Correct/Powered',noise = False) # 75\n",
        "#reg_train[5] = convertimgs('/content/merge/merge_reg_train/Correct/Nonpowered',noise = False) # 75\n",
        "\n",
        "reg_train[4] = convertimgs('/content/merge/merge_reg_train/Incorrect/Male',noise = False)  # 75\n",
        "reg_train[5] = convertimgs('/content/merge/merge_reg_train/Incorrect/Female',noise = False) # 75\n",
        "reg_train[6] = convertimgs('/content/merge/merge_reg_train/Incorrect/Manmade',noise = False) # 75\n",
        "reg_train[7] = convertimgs('/content/merge/merge_reg_train/Incorrect/Natural/',noise = False) # 75\n",
        "#reg_train[10] = convertimgs('/content/merge/merge_reg_train/Incorrect/Powered',noise = False) # 75\n",
        "#reg_train[11] = convertimgs('/content/merge/merge_reg_train/Incorrect/Nonpowered',noise = False) # 75\n",
        "reg_train = np.array(reg_train)\n",
        "\n",
        "\n",
        "reg_test = [[]  for i in range(8)]\n",
        "reg_test[0] = convertimgs('/content/merge/merge_reg_test/Correct/Male',noise = False)  #75\n",
        "reg_test[1] = convertimgs('/content/merge/merge_reg_test/Correct/Female/',noise = False) #75\n",
        "reg_test[2] = convertimgs('/content/merge/merge_reg_test/Correct/Manmade/',noise = False) #75\n",
        "reg_test[3] = convertimgs('/content/merge/merge_reg_test/Correct/Natural/',noise = False) #75\n",
        "#reg_test[4] = convertimgs('/content/merge/merge_reg_test/Correct/Powered',noise = False) #75\n",
        "#reg_test[5] = convertimgs('/content/merge/merge_reg_test/Correct/Nonpowered',noise = False) #75\n",
        "\n",
        "reg_test[4] = convertimgs('/content/merge/merge_reg_test/Incorrect/Male',noise = False) #75\n",
        "reg_test[5] = convertimgs('/content/merge/merge_reg_test/Incorrect/Female',noise = False) #75\n",
        "reg_test[6] = convertimgs('/content/merge/merge_reg_test/Incorrect/Manmade',noise = False) #75\n",
        "reg_test[7] = convertimgs('/content/merge/merge_reg_test/Incorrect/Natural',noise = False) #75\n",
        "#reg_test[10] = convertimgs('/content/merge/merge_reg_test/Incorrect/Powered',noise = False) #75\n",
        "#reg_test[11] = convertimgs('/content/merge/merge_reg_test/Incorrect/Nonpowered',noise = False) #75\n",
        "reg_test = np.array(reg_test)\n",
        "\n",
        "print(reg_train.shape,reg_test.shape)\n",
        "\n"
      ],
      "execution_count": 3,
      "outputs": [
        {
          "output_type": "stream",
          "text": [
            "(8, 80, 224, 224, 3) (8, 40, 224, 224, 3)\n",
            "(8, 80, 224, 224, 3) (8, 40, 224, 224, 3)\n"
          ],
          "name": "stdout"
        },
        {
          "output_type": "display_data",
          "data": {
            "image/png": "[encoded data removed]",
            "text/plain": [
              "<Figure size 432x288 with 1 Axes>"
            ]
          },
          "metadata": {
            "tags": [],
            "needs_background": "light"
          }
        }
      ]
    },
    {
      "cell_type": "markdown",
      "metadata": {
        "id": "RsJqRd2ccJXG"
      },
      "source": [
        "# Model\n",
        "Call the base model and the top model here"
      ]
    },
    {
      "cell_type": "markdown",
      "metadata": {
        "id": "6QLK6addybWJ"
      },
      "source": [
        "### Model Architecture"
      ]
    },
    {
      "cell_type": "code",
      "metadata": {
        "id": "Dsm9BSiwGctD",
        "colab": {
          "base_uri": "https://localhost:8080/"
        },
        "outputId": "9735d4ce-6bcb-4412-ad34-c7c5aa6f7d69"
      },
      "source": [
        "# Calling VGG16 without the top FC layers with weights loaded from imagenet \n",
        "model = VGG16(weights='imagenet',\n",
        "              include_top=False,input_shape = [224,224,3])\n",
        "#plot_model(model,show_shapes=True,expand_nested=True)\n",
        "#model.save_weights('vgg_w',save_format='h5')\n",
        "\n",
        "categories = ['Male','Female','Manmade','Natural']\n",
        "interest = 0\n",
        "print('Category of interest: ', categories[interest])\n",
        "train_it = np.concatenate((reg_train[interest],reg_train[interest + 6]))\n",
        "test_it = np.concatenate((reg_test[interest],reg_test[interest + 6]))\n",
        "print(train_it.shape,test_it.shape)\n",
        "\n",
        "start = time.time()\n",
        "features_train = model.predict(train_it) \n",
        "print(f'Train Time: {time.time() - start}')\n",
        "\n",
        "start = time.time()\n",
        "features_test = model.predict(test_it) \n",
        "print(f'Test Time: {time.time() - start}')\n",
        "epochs = 30\n",
        "\n",
        "ntrain = 80\n",
        "train_labels = to_categorical([0] * ntrain + [1]*ntrain)\n",
        "\n",
        "\n",
        "ntest = 40\n",
        "test_labels = to_categorical([0] * ntest + [1]*ntest) \n",
        "\n",
        "losses = 'binary_crossentropy'\n",
        "\n",
        "# Initialize the top model with FC layers. These are the only ones to be trained\n",
        "top_model = Sequential()\n",
        "top_model.add(Flatten(input_shape=features_train.shape[1:])) \n",
        "top_model.add(Dense(4096, activation='relu',name = 'top_dense1')) \n",
        "top_model.add(Dense(2, activation='softmax',name = 'predictions'))\n",
        "\n",
        "top_model.compile(optimizer= Adam(lr=1e-5),\n",
        "              loss=losses,\n",
        "              metrics=['accuracy'])\n",
        "top_model.summary()\n",
        "\n",
        "es = EarlyStopping(monitor='loss', mode='min', verbose=1)\n"
      ],
      "execution_count": 4,
      "outputs": [
        {
          "output_type": "stream",
          "text": [
            "Category of interest:  Male\n",
            "(160, 224, 224, 3) (80, 224, 224, 3)\n",
            "Train Time: 18.412256002426147\n",
            "Test Time: 1.2696914672851562\n",
            "Model: \"sequential\"\n",
            "_________________________________________________________________\n",
            "Layer (type)                 Output Shape              Param #   \n",
            "=================================================================\n",
            "flatten (Flatten)            (None, 25088)             0         \n",
            "_________________________________________________________________\n",
            "top_dense1 (Dense)           (None, 4096)              102764544 \n",
            "_________________________________________________________________\n",
            "predictions (Dense)          (None, 2)                 8194      \n",
            "=================================================================\n",
            "Total params: 102,772,738\n",
            "Trainable params: 102,772,738\n",
            "Non-trainable params: 0\n",
            "_________________________________________________________________\n"
          ],
          "name": "stdout"
        }
      ]
    },
    {
      "cell_type": "markdown",
      "metadata": {
        "id": "La-h_mR0ygZN"
      },
      "source": [
        "### Model Testing\n",
        "\n",
        "Train the model on regular images, and then test separately on regular images\n",
        "followed by testing separately for merged images"
      ]
    },
    {
      "cell_type": "code",
      "metadata": {
        "id": "pBvaXyRraKrN",
        "colab": {
          "base_uri": "https://localhost:8080/"
        },
        "outputId": "03493bb0-79b7-43e8-f92c-eda8781a2c50"
      },
      "source": [
        "\n",
        "acc = np.zeros((2,4))\n",
        "for imtype in range(2):\n",
        "  for cat in range(len(categories)):\n",
        "\n",
        "    print('Category of interest: ', categories[cat])\n",
        "    train_it = np.concatenate((reg_train[cat],reg_train[cat + 4])) # Train on regular data\n",
        "    if imtype == 0: # Regular\n",
        "      test_it = np.concatenate((reg_test[cat],reg_test[cat + 4])) # Test on merged data\n",
        "    else:\n",
        "      test_it = np.concatenate((data_test[cat],data_test[cat + 4])) # Test on merged data\n",
        "    print(train_it.shape,test_it.shape)\n",
        "\n",
        "    \n",
        "    start = time.time()\n",
        "    train_data = model.predict(train_it) \n",
        "    print(f'Train Time: {time.time() - start}')\n",
        "\n",
        "    start = time.time()\n",
        "    test_data = model.predict(test_it) \n",
        "    print(f'Test Time: {time.time() - start}')\n",
        "    \n",
        "    history = top_model.fit(x = train_data,  y = train_labels,\n",
        "            epochs=epochs,\n",
        "            batch_size=64,\n",
        "            verbose = 1, callbacks = [es])\n",
        "\n",
        "    out = top_model.evaluate(test_data, test_labels)\n",
        "    acc[imtype,cat] = out[1]\n",
        "    print(out)"
      ],
      "execution_count": 25,
      "outputs": [
        {
          "output_type": "stream",
          "text": [
            "Category of interest:  Male\n",
            "(160, 224, 224, 3) (80, 224, 224, 3)\n",
            "Train Time: 0.2256009578704834\n",
            "Test Time: 0.13314604759216309\n",
            "Epoch 1/30\n",
            "3/3 [==============================] - 0s 10ms/step - loss: 0.7437 - accuracy: 0.4691\n",
            "Epoch 2/30\n",
            "3/3 [==============================] - 0s 10ms/step - loss: 0.4873 - accuracy: 0.8777\n",
            "Epoch 3/30\n",
            "3/3 [==============================] - 0s 9ms/step - loss: 0.3394 - accuracy: 0.9062\n",
            "Epoch 4/30\n",
            "3/3 [==============================] - 0s 9ms/step - loss: 0.2607 - accuracy: 0.9184\n",
            "Epoch 5/30\n",
            "3/3 [==============================] - 0s 9ms/step - loss: 0.2106 - accuracy: 0.9391\n",
            "Epoch 6/30\n",
            "3/3 [==============================] - 0s 10ms/step - loss: 0.1895 - accuracy: 0.9285\n",
            "Epoch 7/30\n",
            "3/3 [==============================] - 0s 9ms/step - loss: 0.1574 - accuracy: 0.9465\n",
            "Epoch 8/30\n",
            "3/3 [==============================] - 0s 9ms/step - loss: 0.1393 - accuracy: 0.9477\n",
            "Epoch 9/30\n",
            "3/3 [==============================] - 0s 10ms/step - loss: 0.1011 - accuracy: 0.9773\n",
            "Epoch 10/30\n",
            "3/3 [==============================] - 0s 10ms/step - loss: 0.1075 - accuracy: 0.9668\n",
            "Epoch 11/30\n",
            "3/3 [==============================] - 0s 9ms/step - loss: 0.0971 - accuracy: 1.0000\n",
            "Epoch 12/30\n",
            "3/3 [==============================] - 0s 9ms/step - loss: 0.0893 - accuracy: 1.0000\n",
            "Epoch 13/30\n",
            "3/3 [==============================] - 0s 9ms/step - loss: 0.0754 - accuracy: 1.0000\n",
            "Epoch 14/30\n",
            "3/3 [==============================] - 0s 10ms/step - loss: 0.0729 - accuracy: 1.0000\n",
            "Epoch 15/30\n",
            "3/3 [==============================] - 0s 10ms/step - loss: 0.0616 - accuracy: 1.0000\n",
            "Epoch 16/30\n",
            "3/3 [==============================] - 0s 9ms/step - loss: 0.0547 - accuracy: 1.0000\n",
            "Epoch 17/30\n",
            "3/3 [==============================] - 0s 9ms/step - loss: 0.0554 - accuracy: 1.0000\n",
            "Epoch 18/30\n",
            "3/3 [==============================] - 0s 9ms/step - loss: 0.0491 - accuracy: 1.0000\n",
            "Epoch 19/30\n",
            "3/3 [==============================] - 0s 9ms/step - loss: 0.0451 - accuracy: 1.0000\n",
            "Epoch 20/30\n",
            "3/3 [==============================] - 0s 9ms/step - loss: 0.0397 - accuracy: 1.0000\n",
            "Epoch 21/30\n",
            "3/3 [==============================] - 0s 9ms/step - loss: 0.0424 - accuracy: 1.0000\n",
            "Epoch 22/30\n",
            "3/3 [==============================] - 0s 9ms/step - loss: 0.0373 - accuracy: 1.0000\n",
            "Epoch 23/30\n",
            "3/3 [==============================] - 0s 10ms/step - loss: 0.0357 - accuracy: 1.0000\n",
            "Epoch 24/30\n",
            "3/3 [==============================] - 0s 10ms/step - loss: 0.0357 - accuracy: 1.0000\n",
            "Epoch 25/30\n",
            "3/3 [==============================] - 0s 10ms/step - loss: 0.0295 - accuracy: 1.0000\n",
            "Epoch 26/30\n",
            "3/3 [==============================] - 0s 9ms/step - loss: 0.0306 - accuracy: 1.0000\n",
            "Epoch 27/30\n",
            "3/3 [==============================] - 0s 9ms/step - loss: 0.0257 - accuracy: 1.0000\n",
            "Epoch 28/30\n",
            "3/3 [==============================] - 0s 9ms/step - loss: 0.0262 - accuracy: 1.0000\n",
            "Epoch 29/30\n",
            "3/3 [==============================] - 0s 9ms/step - loss: 0.0220 - accuracy: 1.0000\n",
            "Epoch 30/30\n",
            "3/3 [==============================] - 0s 9ms/step - loss: 0.0221 - accuracy: 1.0000\n",
            "3/3 [==============================] - 0s 3ms/step - loss: 0.1110 - accuracy: 0.9500\n",
            "[0.11104307323694229, 0.949999988079071]\n",
            "Category of interest:  Female\n",
            "(160, 224, 224, 3) (80, 224, 224, 3)\n",
            "Train Time: 0.22854328155517578\n",
            "Test Time: 0.13519954681396484\n",
            "Epoch 1/30\n",
            "3/3 [==============================] - 0s 10ms/step - loss: 0.9701 - accuracy: 0.6687\n",
            "Epoch 2/30\n",
            "3/3 [==============================] - 0s 10ms/step - loss: 0.8187 - accuracy: 0.8250\n",
            "Epoch 3/30\n",
            "3/3 [==============================] - 0s 9ms/step - loss: 0.7407 - accuracy: 0.8750\n",
            "Epoch 4/30\n",
            "3/3 [==============================] - 0s 9ms/step - loss: 0.6180 - accuracy: 0.8813\n",
            "Epoch 5/30\n",
            "3/3 [==============================] - 0s 10ms/step - loss: 0.4765 - accuracy: 0.8687\n",
            "Epoch 6/30\n",
            "3/3 [==============================] - 0s 10ms/step - loss: 0.3837 - accuracy: 0.8438\n",
            "Epoch 7/30\n",
            "3/3 [==============================] - 0s 10ms/step - loss: 0.2905 - accuracy: 0.8938\n",
            "Epoch 8/30\n",
            "3/3 [==============================] - 0s 9ms/step - loss: 0.2244 - accuracy: 0.9062\n",
            "Epoch 9/30\n",
            "3/3 [==============================] - 0s 10ms/step - loss: 0.1802 - accuracy: 0.9438\n",
            "Epoch 10/30\n",
            "3/3 [==============================] - 0s 10ms/step - loss: 0.1481 - accuracy: 0.9563\n",
            "Epoch 11/30\n",
            "3/3 [==============================] - 0s 10ms/step - loss: 0.1307 - accuracy: 0.9563\n",
            "Epoch 12/30\n",
            "3/3 [==============================] - 0s 9ms/step - loss: 0.1129 - accuracy: 0.9625\n",
            "Epoch 13/30\n",
            "3/3 [==============================] - 0s 9ms/step - loss: 0.1002 - accuracy: 0.9625\n",
            "Epoch 14/30\n",
            "3/3 [==============================] - 0s 10ms/step - loss: 0.0902 - accuracy: 0.9625\n",
            "Epoch 15/30\n",
            "3/3 [==============================] - 0s 9ms/step - loss: 0.0813 - accuracy: 0.9812\n",
            "Epoch 16/30\n",
            "3/3 [==============================] - 0s 10ms/step - loss: 0.0709 - accuracy: 0.9875\n",
            "Epoch 17/30\n",
            "3/3 [==============================] - 0s 9ms/step - loss: 0.0641 - accuracy: 0.9937\n",
            "Epoch 18/30\n",
            "3/3 [==============================] - 0s 9ms/step - loss: 0.0584 - accuracy: 0.9937\n",
            "Epoch 19/30\n",
            "3/3 [==============================] - 0s 10ms/step - loss: 0.0539 - accuracy: 0.9937\n",
            "Epoch 20/30\n",
            "3/3 [==============================] - 0s 10ms/step - loss: 0.0494 - accuracy: 0.9937\n",
            "Epoch 21/30\n",
            "3/3 [==============================] - 0s 9ms/step - loss: 0.0458 - accuracy: 1.0000\n",
            "Epoch 22/30\n",
            "3/3 [==============================] - 0s 9ms/step - loss: 0.0424 - accuracy: 1.0000\n",
            "Epoch 23/30\n",
            "3/3 [==============================] - 0s 9ms/step - loss: 0.0398 - accuracy: 1.0000\n",
            "Epoch 24/30\n",
            "3/3 [==============================] - 0s 9ms/step - loss: 0.0377 - accuracy: 1.0000\n",
            "Epoch 25/30\n",
            "3/3 [==============================] - 0s 10ms/step - loss: 0.0352 - accuracy: 1.0000\n",
            "Epoch 26/30\n",
            "3/3 [==============================] - 0s 10ms/step - loss: 0.0333 - accuracy: 1.0000\n",
            "Epoch 27/30\n",
            "3/3 [==============================] - 0s 9ms/step - loss: 0.0314 - accuracy: 1.0000\n",
            "Epoch 28/30\n",
            "3/3 [==============================] - 0s 9ms/step - loss: 0.0300 - accuracy: 1.0000\n",
            "Epoch 29/30\n",
            "3/3 [==============================] - 0s 9ms/step - loss: 0.0285 - accuracy: 1.0000\n",
            "Epoch 30/30\n",
            "3/3 [==============================] - 0s 9ms/step - loss: 0.0271 - accuracy: 1.0000\n",
            "3/3 [==============================] - 0s 3ms/step - loss: 0.2577 - accuracy: 0.9250\n",
            "[0.25772175192832947, 0.925000011920929]\n",
            "Category of interest:  Manmade\n",
            "(160, 224, 224, 3) (80, 224, 224, 3)\n",
            "Train Time: 0.22566723823547363\n",
            "Test Time: 0.1382594108581543\n",
            "Epoch 1/30\n",
            "3/3 [==============================] - 0s 10ms/step - loss: 3.2639 - accuracy: 0.3500\n",
            "Epoch 2/30\n",
            "3/3 [==============================] - 0s 10ms/step - loss: 1.9866 - accuracy: 0.3438\n",
            "Epoch 3/30\n",
            "3/3 [==============================] - 0s 9ms/step - loss: 1.6609 - accuracy: 0.5250\n",
            "Epoch 4/30\n",
            "3/3 [==============================] - 0s 9ms/step - loss: 1.0578 - accuracy: 0.6438\n",
            "Epoch 5/30\n",
            "3/3 [==============================] - 0s 9ms/step - loss: 0.4481 - accuracy: 0.8313\n",
            "Epoch 6/30\n",
            "3/3 [==============================] - 0s 10ms/step - loss: 0.4167 - accuracy: 0.8250\n",
            "Epoch 7/30\n",
            "3/3 [==============================] - 0s 9ms/step - loss: 0.2713 - accuracy: 0.9250\n",
            "Epoch 8/30\n",
            "3/3 [==============================] - 0s 10ms/step - loss: 0.1534 - accuracy: 0.9625\n",
            "Epoch 9/30\n",
            "3/3 [==============================] - 0s 9ms/step - loss: 0.1436 - accuracy: 0.9688\n",
            "Epoch 10/30\n",
            "3/3 [==============================] - 0s 9ms/step - loss: 0.1492 - accuracy: 0.9500\n",
            "Epoch 00010: early stopping\n",
            "3/3 [==============================] - 0s 4ms/step - loss: 0.1135 - accuracy: 0.9625\n",
            "[0.1135350689291954, 0.9624999761581421]\n",
            "Category of interest:  Natural\n",
            "(160, 224, 224, 3) (80, 224, 224, 3)\n",
            "Train Time: 0.23006939888000488\n",
            "Test Time: 0.13516807556152344\n",
            "Epoch 1/30\n",
            "3/3 [==============================] - 0s 10ms/step - loss: 0.9697 - accuracy: 0.6000\n",
            "Epoch 2/30\n",
            "3/3 [==============================] - 0s 10ms/step - loss: 0.8398 - accuracy: 0.7437\n",
            "Epoch 3/30\n",
            "3/3 [==============================] - 0s 9ms/step - loss: 0.7454 - accuracy: 0.8687\n",
            "Epoch 4/30\n",
            "3/3 [==============================] - 0s 9ms/step - loss: 0.6607 - accuracy: 0.8813\n",
            "Epoch 5/30\n",
            "3/3 [==============================] - 0s 9ms/step - loss: 0.5545 - accuracy: 0.8938\n",
            "Epoch 6/30\n",
            "3/3 [==============================] - 0s 10ms/step - loss: 0.4332 - accuracy: 0.8938\n",
            "Epoch 7/30\n",
            "3/3 [==============================] - 0s 10ms/step - loss: 0.3575 - accuracy: 0.8875\n",
            "Epoch 8/30\n",
            "3/3 [==============================] - 0s 10ms/step - loss: 0.2914 - accuracy: 0.8875\n",
            "Epoch 9/30\n",
            "3/3 [==============================] - 0s 9ms/step - loss: 0.2278 - accuracy: 0.9250\n",
            "Epoch 10/30\n",
            "3/3 [==============================] - 0s 10ms/step - loss: 0.1780 - accuracy: 0.9438\n",
            "Epoch 11/30\n",
            "3/3 [==============================] - 0s 10ms/step - loss: 0.1428 - accuracy: 0.9563\n",
            "Epoch 12/30\n",
            "3/3 [==============================] - 0s 10ms/step - loss: 0.1162 - accuracy: 0.9625\n",
            "Epoch 13/30\n",
            "3/3 [==============================] - 0s 10ms/step - loss: 0.0963 - accuracy: 0.9812\n",
            "Epoch 14/30\n",
            "3/3 [==============================] - 0s 10ms/step - loss: 0.0802 - accuracy: 0.9875\n",
            "Epoch 15/30\n",
            "3/3 [==============================] - 0s 10ms/step - loss: 0.0699 - accuracy: 0.9875\n",
            "Epoch 16/30\n",
            "3/3 [==============================] - 0s 9ms/step - loss: 0.0607 - accuracy: 0.9937\n",
            "Epoch 17/30\n",
            "3/3 [==============================] - 0s 9ms/step - loss: 0.0534 - accuracy: 1.0000\n",
            "Epoch 18/30\n",
            "3/3 [==============================] - 0s 10ms/step - loss: 0.0470 - accuracy: 1.0000\n",
            "Epoch 19/30\n",
            "3/3 [==============================] - 0s 9ms/step - loss: 0.0429 - accuracy: 1.0000\n",
            "Epoch 20/30\n",
            "3/3 [==============================] - 0s 9ms/step - loss: 0.0392 - accuracy: 1.0000\n",
            "Epoch 21/30\n",
            "3/3 [==============================] - 0s 10ms/step - loss: 0.0364 - accuracy: 1.0000\n",
            "Epoch 22/30\n",
            "3/3 [==============================] - 0s 10ms/step - loss: 0.0331 - accuracy: 1.0000\n",
            "Epoch 23/30\n",
            "3/3 [==============================] - 0s 9ms/step - loss: 0.0308 - accuracy: 1.0000\n",
            "Epoch 24/30\n",
            "3/3 [==============================] - 0s 9ms/step - loss: 0.0290 - accuracy: 1.0000\n",
            "Epoch 25/30\n",
            "3/3 [==============================] - 0s 10ms/step - loss: 0.0274 - accuracy: 1.0000\n",
            "Epoch 26/30\n",
            "3/3 [==============================] - 0s 9ms/step - loss: 0.0258 - accuracy: 1.0000\n",
            "Epoch 27/30\n",
            "3/3 [==============================] - 0s 9ms/step - loss: 0.0245 - accuracy: 1.0000\n",
            "Epoch 28/30\n",
            "3/3 [==============================] - 0s 10ms/step - loss: 0.0233 - accuracy: 1.0000\n",
            "Epoch 29/30\n",
            "3/3 [==============================] - 0s 9ms/step - loss: 0.0221 - accuracy: 1.0000\n",
            "Epoch 30/30\n",
            "3/3 [==============================] - 0s 9ms/step - loss: 0.0211 - accuracy: 1.0000\n",
            "3/3 [==============================] - 0s 4ms/step - loss: 0.0815 - accuracy: 0.9750\n",
            "[0.08145927637815475, 0.9750000238418579]\n",
            "Category of interest:  Male\n",
            "(160, 224, 224, 3) (80, 224, 224, 3)\n",
            "Train Time: 0.22419095039367676\n",
            "Test Time: 0.13989686965942383\n",
            "Epoch 1/30\n",
            "3/3 [==============================] - 0s 10ms/step - loss: 4.1595 - accuracy: 0.3187\n",
            "Epoch 2/30\n",
            "3/3 [==============================] - 0s 9ms/step - loss: 2.8700 - accuracy: 0.3187\n",
            "Epoch 3/30\n",
            "3/3 [==============================] - 0s 9ms/step - loss: 1.7873 - accuracy: 0.4938\n",
            "Epoch 4/30\n",
            "3/3 [==============================] - 0s 9ms/step - loss: 1.4931 - accuracy: 0.6125\n",
            "Epoch 5/30\n",
            "3/3 [==============================] - 0s 10ms/step - loss: 0.8432 - accuracy: 0.7063\n",
            "Epoch 6/30\n",
            "3/3 [==============================] - 0s 9ms/step - loss: 0.3503 - accuracy: 0.8375\n",
            "Epoch 7/30\n",
            "3/3 [==============================] - 0s 10ms/step - loss: 0.3123 - accuracy: 0.8875\n",
            "Epoch 8/30\n",
            "3/3 [==============================] - 0s 10ms/step - loss: 0.2718 - accuracy: 0.9000\n",
            "Epoch 9/30\n",
            "3/3 [==============================] - 0s 10ms/step - loss: 0.1632 - accuracy: 0.9500\n",
            "Epoch 10/30\n",
            "3/3 [==============================] - 0s 10ms/step - loss: 0.1317 - accuracy: 0.9375\n",
            "Epoch 11/30\n",
            "3/3 [==============================] - 0s 9ms/step - loss: 0.1366 - accuracy: 0.9250\n",
            "Epoch 00011: early stopping\n",
            "3/3 [==============================] - 0s 3ms/step - loss: 0.5327 - accuracy: 0.7125\n",
            "[0.5326800346374512, 0.7124999761581421]\n",
            "Category of interest:  Female\n",
            "(160, 224, 224, 3) (80, 224, 224, 3)\n",
            "Train Time: 0.22555756568908691\n",
            "Test Time: 0.13120508193969727\n",
            "Epoch 1/30\n",
            "3/3 [==============================] - 0s 10ms/step - loss: 0.3333 - accuracy: 0.8875\n",
            "Epoch 2/30\n",
            "3/3 [==============================] - 0s 9ms/step - loss: 0.3312 - accuracy: 0.8875\n",
            "Epoch 3/30\n",
            "3/3 [==============================] - 0s 9ms/step - loss: 0.3103 - accuracy: 0.8875\n",
            "Epoch 4/30\n",
            "3/3 [==============================] - 0s 9ms/step - loss: 0.2855 - accuracy: 0.8875\n",
            "Epoch 5/30\n",
            "3/3 [==============================] - 0s 10ms/step - loss: 0.2514 - accuracy: 0.9062\n",
            "Epoch 6/30\n",
            "3/3 [==============================] - 0s 10ms/step - loss: 0.2179 - accuracy: 0.9125\n",
            "Epoch 7/30\n",
            "3/3 [==============================] - 0s 10ms/step - loss: 0.1875 - accuracy: 0.9250\n",
            "Epoch 8/30\n",
            "3/3 [==============================] - 0s 10ms/step - loss: 0.1614 - accuracy: 0.9312\n",
            "Epoch 9/30\n",
            "3/3 [==============================] - 0s 10ms/step - loss: 0.1360 - accuracy: 0.9375\n",
            "Epoch 10/30\n",
            "3/3 [==============================] - 0s 9ms/step - loss: 0.1159 - accuracy: 0.9563\n",
            "Epoch 11/30\n",
            "3/3 [==============================] - 0s 9ms/step - loss: 0.1018 - accuracy: 0.9688\n",
            "Epoch 12/30\n",
            "3/3 [==============================] - 0s 10ms/step - loss: 0.0919 - accuracy: 0.9750\n",
            "Epoch 13/30\n",
            "3/3 [==============================] - 0s 10ms/step - loss: 0.0823 - accuracy: 0.9937\n",
            "Epoch 14/30\n",
            "3/3 [==============================] - 0s 10ms/step - loss: 0.0742 - accuracy: 0.9875\n",
            "Epoch 15/30\n",
            "3/3 [==============================] - 0s 10ms/step - loss: 0.0679 - accuracy: 0.9875\n",
            "Epoch 16/30\n",
            "3/3 [==============================] - 0s 9ms/step - loss: 0.0634 - accuracy: 0.9875\n",
            "Epoch 17/30\n",
            "3/3 [==============================] - 0s 10ms/step - loss: 0.0593 - accuracy: 0.9937\n",
            "Epoch 18/30\n",
            "3/3 [==============================] - 0s 10ms/step - loss: 0.0557 - accuracy: 0.9937\n",
            "Epoch 19/30\n",
            "3/3 [==============================] - 0s 9ms/step - loss: 0.0523 - accuracy: 1.0000\n",
            "Epoch 20/30\n",
            "3/3 [==============================] - 0s 9ms/step - loss: 0.0494 - accuracy: 1.0000\n",
            "Epoch 21/30\n",
            "3/3 [==============================] - 0s 10ms/step - loss: 0.0468 - accuracy: 1.0000\n",
            "Epoch 22/30\n",
            "3/3 [==============================] - 0s 9ms/step - loss: 0.0449 - accuracy: 1.0000\n",
            "Epoch 23/30\n",
            "3/3 [==============================] - 0s 9ms/step - loss: 0.0427 - accuracy: 1.0000\n",
            "Epoch 24/30\n",
            "3/3 [==============================] - 0s 9ms/step - loss: 0.0411 - accuracy: 1.0000\n",
            "Epoch 25/30\n",
            "3/3 [==============================] - 0s 10ms/step - loss: 0.0392 - accuracy: 1.0000\n",
            "Epoch 26/30\n",
            "3/3 [==============================] - 0s 9ms/step - loss: 0.0377 - accuracy: 1.0000\n",
            "Epoch 27/30\n",
            "3/3 [==============================] - 0s 10ms/step - loss: 0.0364 - accuracy: 1.0000\n",
            "Epoch 28/30\n",
            "3/3 [==============================] - 0s 10ms/step - loss: 0.0351 - accuracy: 1.0000\n",
            "Epoch 29/30\n",
            "3/3 [==============================] - 0s 9ms/step - loss: 0.0338 - accuracy: 1.0000\n",
            "Epoch 30/30\n",
            "3/3 [==============================] - 0s 9ms/step - loss: 0.0328 - accuracy: 1.0000\n",
            "3/3 [==============================] - 0s 3ms/step - loss: 0.6890 - accuracy: 0.6500\n",
            "[0.6890490651130676, 0.6499999761581421]\n",
            "Category of interest:  Manmade\n",
            "(160, 224, 224, 3) (80, 224, 224, 3)\n",
            "Train Time: 0.2309269905090332\n",
            "Test Time: 0.13489842414855957\n",
            "Epoch 1/30\n",
            "3/3 [==============================] - 0s 10ms/step - loss: 2.4439 - accuracy: 0.3562\n",
            "Epoch 2/30\n",
            "3/3 [==============================] - 0s 10ms/step - loss: 1.7026 - accuracy: 0.3750\n",
            "Epoch 3/30\n",
            "3/3 [==============================] - 0s 9ms/step - loss: 1.1320 - accuracy: 0.6625\n",
            "Epoch 4/30\n",
            "3/3 [==============================] - 0s 9ms/step - loss: 1.0007 - accuracy: 0.6562\n",
            "Epoch 5/30\n",
            "3/3 [==============================] - 0s 10ms/step - loss: 0.6561 - accuracy: 0.7125\n",
            "Epoch 6/30\n",
            "3/3 [==============================] - 0s 10ms/step - loss: 0.2911 - accuracy: 0.8750\n",
            "Epoch 7/30\n",
            "3/3 [==============================] - 0s 10ms/step - loss: 0.2289 - accuracy: 0.9438\n",
            "Epoch 8/30\n",
            "3/3 [==============================] - 0s 9ms/step - loss: 0.2069 - accuracy: 0.9500\n",
            "Epoch 9/30\n",
            "3/3 [==============================] - 0s 9ms/step - loss: 0.1555 - accuracy: 0.9688\n",
            "Epoch 10/30\n",
            "3/3 [==============================] - 0s 10ms/step - loss: 0.1156 - accuracy: 0.9750\n",
            "Epoch 11/30\n",
            "3/3 [==============================] - 0s 9ms/step - loss: 0.1000 - accuracy: 0.9750\n",
            "Epoch 12/30\n",
            "3/3 [==============================] - 0s 9ms/step - loss: 0.0941 - accuracy: 0.9750\n",
            "Epoch 13/30\n",
            "3/3 [==============================] - 0s 9ms/step - loss: 0.0875 - accuracy: 0.9750\n",
            "Epoch 14/30\n",
            "3/3 [==============================] - 0s 10ms/step - loss: 0.0791 - accuracy: 0.9812\n",
            "Epoch 15/30\n",
            "3/3 [==============================] - 0s 9ms/step - loss: 0.0705 - accuracy: 0.9812\n",
            "Epoch 16/30\n",
            "3/3 [==============================] - 0s 9ms/step - loss: 0.0636 - accuracy: 0.9812\n",
            "Epoch 17/30\n",
            "3/3 [==============================] - 0s 10ms/step - loss: 0.0585 - accuracy: 0.9875\n",
            "Epoch 18/30\n",
            "3/3 [==============================] - 0s 10ms/step - loss: 0.0537 - accuracy: 0.9937\n",
            "Epoch 19/30\n",
            "3/3 [==============================] - 0s 9ms/step - loss: 0.0499 - accuracy: 0.9937\n",
            "Epoch 20/30\n",
            "3/3 [==============================] - 0s 10ms/step - loss: 0.0473 - accuracy: 0.9937\n",
            "Epoch 21/30\n",
            "3/3 [==============================] - 0s 9ms/step - loss: 0.0431 - accuracy: 0.9937\n",
            "Epoch 22/30\n",
            "3/3 [==============================] - 0s 10ms/step - loss: 0.0403 - accuracy: 0.9937\n",
            "Epoch 23/30\n",
            "3/3 [==============================] - 0s 10ms/step - loss: 0.0375 - accuracy: 0.9937\n",
            "Epoch 24/30\n",
            "3/3 [==============================] - 0s 10ms/step - loss: 0.0357 - accuracy: 0.9937\n",
            "Epoch 25/30\n",
            "3/3 [==============================] - 0s 9ms/step - loss: 0.0337 - accuracy: 0.9937\n",
            "Epoch 26/30\n",
            "3/3 [==============================] - 0s 10ms/step - loss: 0.0318 - accuracy: 0.9937\n",
            "Epoch 27/30\n",
            "3/3 [==============================] - 0s 10ms/step - loss: 0.0301 - accuracy: 0.9937\n",
            "Epoch 28/30\n",
            "3/3 [==============================] - 0s 10ms/step - loss: 0.0291 - accuracy: 0.9937\n",
            "Epoch 29/30\n",
            "3/3 [==============================] - 0s 9ms/step - loss: 0.0276 - accuracy: 0.9937\n",
            "Epoch 30/30\n",
            "3/3 [==============================] - 0s 9ms/step - loss: 0.0263 - accuracy: 0.9937\n",
            "3/3 [==============================] - 0s 3ms/step - loss: 0.4267 - accuracy: 0.8500\n",
            "[0.426719605922699, 0.8500000238418579]\n",
            "Category of interest:  Natural\n",
            "(160, 224, 224, 3) (80, 224, 224, 3)\n",
            "Train Time: 0.22807788848876953\n",
            "Test Time: 0.13597321510314941\n",
            "Epoch 1/30\n",
            "3/3 [==============================] - 0s 10ms/step - loss: 0.9632 - accuracy: 0.5312\n",
            "Epoch 2/30\n",
            "3/3 [==============================] - 0s 10ms/step - loss: 0.6730 - accuracy: 0.7000\n",
            "Epoch 3/30\n",
            "3/3 [==============================] - 0s 10ms/step - loss: 0.5516 - accuracy: 0.8625\n",
            "Epoch 4/30\n",
            "3/3 [==============================] - 0s 10ms/step - loss: 0.4880 - accuracy: 0.8625\n",
            "Epoch 5/30\n",
            "3/3 [==============================] - 0s 10ms/step - loss: 0.3505 - accuracy: 0.8875\n",
            "Epoch 6/30\n",
            "3/3 [==============================] - 0s 10ms/step - loss: 0.2366 - accuracy: 0.9125\n",
            "Epoch 7/30\n",
            "3/3 [==============================] - 0s 10ms/step - loss: 0.1938 - accuracy: 0.9250\n",
            "Epoch 8/30\n",
            "3/3 [==============================] - 0s 10ms/step - loss: 0.1693 - accuracy: 0.9438\n",
            "Epoch 9/30\n",
            "3/3 [==============================] - 0s 10ms/step - loss: 0.1303 - accuracy: 0.9688\n",
            "Epoch 10/30\n",
            "3/3 [==============================] - 0s 10ms/step - loss: 0.0946 - accuracy: 0.9750\n",
            "Epoch 11/30\n",
            "3/3 [==============================] - 0s 10ms/step - loss: 0.0745 - accuracy: 0.9812\n",
            "Epoch 12/30\n",
            "3/3 [==============================] - 0s 9ms/step - loss: 0.0657 - accuracy: 0.9875\n",
            "Epoch 13/30\n",
            "3/3 [==============================] - 0s 10ms/step - loss: 0.0583 - accuracy: 0.9875\n",
            "Epoch 14/30\n",
            "3/3 [==============================] - 0s 10ms/step - loss: 0.0509 - accuracy: 0.9875\n",
            "Epoch 15/30\n",
            "3/3 [==============================] - 0s 10ms/step - loss: 0.0427 - accuracy: 0.9875\n",
            "Epoch 16/30\n",
            "3/3 [==============================] - 0s 10ms/step - loss: 0.0371 - accuracy: 1.0000\n",
            "Epoch 17/30\n",
            "3/3 [==============================] - 0s 10ms/step - loss: 0.0336 - accuracy: 1.0000\n",
            "Epoch 18/30\n",
            "3/3 [==============================] - 0s 9ms/step - loss: 0.0312 - accuracy: 1.0000\n",
            "Epoch 19/30\n",
            "3/3 [==============================] - 0s 10ms/step - loss: 0.0293 - accuracy: 1.0000\n",
            "Epoch 20/30\n",
            "3/3 [==============================] - 0s 10ms/step - loss: 0.0273 - accuracy: 1.0000\n",
            "Epoch 21/30\n",
            "3/3 [==============================] - 0s 10ms/step - loss: 0.0253 - accuracy: 1.0000\n",
            "Epoch 22/30\n",
            "3/3 [==============================] - 0s 10ms/step - loss: 0.0237 - accuracy: 1.0000\n",
            "Epoch 23/30\n",
            "3/3 [==============================] - 0s 10ms/step - loss: 0.0223 - accuracy: 1.0000\n",
            "Epoch 24/30\n",
            "3/3 [==============================] - 0s 10ms/step - loss: 0.0211 - accuracy: 1.0000\n",
            "Epoch 25/30\n",
            "3/3 [==============================] - 0s 10ms/step - loss: 0.0201 - accuracy: 1.0000\n",
            "Epoch 26/30\n",
            "3/3 [==============================] - 0s 10ms/step - loss: 0.0193 - accuracy: 1.0000\n",
            "Epoch 27/30\n",
            "3/3 [==============================] - 0s 11ms/step - loss: 0.0185 - accuracy: 1.0000\n",
            "Epoch 28/30\n",
            "3/3 [==============================] - 0s 10ms/step - loss: 0.0178 - accuracy: 1.0000\n",
            "Epoch 29/30\n",
            "3/3 [==============================] - 0s 10ms/step - loss: 0.0171 - accuracy: 1.0000\n",
            "Epoch 30/30\n",
            "3/3 [==============================] - 0s 10ms/step - loss: 0.0166 - accuracy: 1.0000\n",
            "3/3 [==============================] - 0s 4ms/step - loss: 0.7620 - accuracy: 0.6375\n",
            "[0.7619963884353638, 0.637499988079071]\n"
          ],
          "name": "stdout"
        }
      ]
    },
    {
      "cell_type": "markdown",
      "metadata": {
        "id": "2Gi97SdGyrE2"
      },
      "source": [
        "### Prelim result plots\n",
        "Plot the average accuracy obtained for regular vs merged images"
      ]
    },
    {
      "cell_type": "code",
      "metadata": {
        "id": "DvIZeqnRgQ4j",
        "colab": {
          "base_uri": "https://localhost:8080/",
          "height": 1000
        },
        "outputId": "c2245027-046e-4267-8ea0-2c45b61e006a"
      },
      "source": [
        "diff = acc[0]-acc[1]\n",
        "print(np.mean(acc))\n",
        "import seaborn as sns\n",
        "\n",
        "sns.set(style=\"white\",rc={\"lines.linewidth\": 0.7})\n",
        "plt.figure(figsize = (8,8))\n",
        "ax = sns.boxplot(data = acc.T )\n",
        "ax.set_xlabel('Category',size = 20)\n",
        "ax.set_xticklabels(['Regular','Merged'],size = 15)\n",
        "ax.set_ylabel('Binary Classification Acc.',size = 20)\n",
        "\n",
        "# Cateogory wise performance difference\n",
        "plt.figure(figsize = (8,8))\n",
        "sns.set(style=\"white\",rc={\"lines.linewidth\": 1})\n",
        "ax = sns.lineplot(data = diff ,marker=\"o\")\n",
        "ax.set_xlabel('Category',size = 20)\n",
        "ax.set_xticklabels(['Regular','Male','Female','Manmade','Natural'],size = 15)\n",
        "ax.set_ylabel('\\u0394 Accuracy',size = 20)\n",
        "\n"
      ],
      "execution_count": 26,
      "outputs": [
        {
          "output_type": "stream",
          "text": [
            "0.8328124955296516\n"
          ],
          "name": "stdout"
        },
        {
          "output_type": "execute_result",
          "data": {
            "text/plain": [
              "Text(0, 0.5, 'Δ Accuracy')"
            ]
          },
          "metadata": {
            "tags": []
          },
          "execution_count": 26
        },
        {
          "output_type": "display_data",
          "data": {
            "image/png": "[encoded data removed]",
            "text/plain": [
              "<Figure size 576x576 with 1 Axes>"
            ]
          },
          "metadata": {
            "tags": []
          }
        },
        {
          "output_type": "display_data",
          "data": {
            "image/png": "[encoded data removed]",
            "text/plain": [
              "<Figure size 576x576 with 1 Axes>"
            ]
          },
          "metadata": {
            "tags": []
          }
        }
      ]
    },
    {
      "cell_type": "markdown",
      "metadata": {
        "id": "bRcNO6SiiCOd"
      },
      "source": [
        "# Tuning Value Calculation"
      ]
    },
    {
      "cell_type": "code",
      "metadata": {
        "id": "X3fPlYt_uupE",
        "colab": {
          "base_uri": "https://localhost:8080/"
        },
        "outputId": "cb6e8f6b-f874-415c-c9bf-6d23079f6df9"
      },
      "source": [
        "calc_tun_activ = 1\n",
        "\n",
        "if calc_tun_activ:\n",
        "  for cat in range(len(categories)): \n",
        "\n",
        "    print('Category of interest: ', categories[cat])\n",
        "    train_it = reg_train[cat]\n",
        "\n",
        "    layer_names = [layer.name for layer in model.layers if 'conv' in layer.name]\n",
        "    layer_outputs = [layer.output for layer in model.layers if layer.name in layer_names]\n",
        "    activation_model = Model(inputs=model.input, outputs=layer_outputs)\n",
        "\n",
        "\n",
        "    start = time.time()\n",
        "    tun_activ = tc.calc_tun(train_it,activation_model,layer_names)\n",
        "    print(f'Elapsed: {time.time() - start}s')\n",
        "\n",
        "    with open('tuning_values_' + str(cat), 'wb') as fp:\n",
        "      pickle.dump(tun_activ, fp)\n",
        "\n"
      ],
      "execution_count": 5,
      "outputs": [
        {
          "output_type": "stream",
          "text": [
            "Category of interest:  Male\n",
            "Elapsed: 14.907090425491333s\n",
            "Category of interest:  Female\n",
            "Elapsed: 14.774339199066162s\n",
            "Category of interest:  Manmade\n",
            "Elapsed: 15.024022817611694s\n",
            "Category of interest:  Natural\n",
            "Elapsed: 14.82635498046875s\n"
          ],
          "name": "stdout"
        }
      ]
    },
    {
      "cell_type": "markdown",
      "metadata": {
        "id": "KmnNRm50Q05-"
      },
      "source": [
        "### Load tuning activities"
      ]
    },
    {
      "cell_type": "code",
      "metadata": {
        "id": "if9i3JjziHTN",
        "colab": {
          "base_uri": "https://localhost:8080/"
        },
        "outputId": "1bfb2505-326b-4490-c178-46caa52db948"
      },
      "source": [
        "tun_activ = []\n",
        "for interest in range(len(categories)): \n",
        "  with open ('tuning_values_' + str(interest), 'rb') as fp:\n",
        "      tun_activ.extend(pickle.load(fp))\n",
        "len(tun_activ)\n",
        "\n"
      ],
      "execution_count": 6,
      "outputs": [
        {
          "output_type": "execute_result",
          "data": {
            "text/plain": [
              "320"
            ]
          },
          "metadata": {
            "tags": []
          },
          "execution_count": 6
        }
      ]
    },
    {
      "cell_type": "markdown",
      "metadata": {
        "id": "jJIu_3X-iLeP"
      },
      "source": [
        "### Calculation of tuning values for each map"
      ]
    },
    {
      "cell_type": "code",
      "metadata": {
        "id": "Y6C47jSjiJXP"
      },
      "source": [
        "ncats = len(categories)\n",
        "# to fish out each category tun_activations\n",
        "labels = np.array([0] * 80 + [1] * 80 + [2] * 80 + [3] * 80 )\n",
        "cat_tun = [[[] for j in range(len(tun_activ[0]))] for i in range(ncats)]\n",
        "\n",
        "avg_tun_activ = tc.calc_avg(tun_activ) #average tuning activity for each map\n",
        "std_tun_activ = tc.calc_std(tun_activ,avg_tun_activ) #std tuning activity for each map\n",
        "\n",
        "for i in range(ncats):\n",
        "  #Calculating average activity of each\n",
        "  #feature map in response to images of respective category, \n",
        "  #with the mean activity under all image categories subtracted from it\n",
        "  idx = list(np.where(labels == i))\n",
        "  cat_tun[i] = tc.calc_avg([tun_activ[i] for i in idx[0]])\n",
        "\n",
        "# Vector of tuning values for each obj cataegory\n",
        "fc = [[[0 for item in subl] for subl in cat_tun[0]] for i in range(ncats)]\n",
        "#fc has length of ncats x nlayers x no of maps in each layer\n",
        "for cat in range(ncats):\n",
        "  for layer in range(len(cat_tun[cat])):\n",
        "    for map in range(len(cat_tun[cat][layer])):\n",
        "      if std_tun_activ[layer][map] == 0:\n",
        "        continue\n",
        "      fc[cat][layer][map] = (cat_tun[cat][layer][map] - \n",
        "                                avg_tun_activ[layer][map])/std_tun_activ[layer][map]"
      ],
      "execution_count": 7,
      "outputs": []
    },
    {
      "cell_type": "markdown",
      "metadata": {
        "id": "OiF5A5hzMSjT"
      },
      "source": [
        "### Tuning quality"
      ]
    },
    {
      "cell_type": "code",
      "metadata": {
        "id": "wOSl0b-UiRnH",
        "colab": {
          "base_uri": "https://localhost:8080/",
          "height": 306
        },
        "outputId": "6edb497f-3edf-4f5b-ec13-e23f92faa4c5"
      },
      "source": [
        "tun_quality = tc.calc_tun_quality(fc)\n",
        "sns.set(style=\"whitegrid\")\n",
        "ax = sns.boxplot(data = tun_quality,palette='cool')\n",
        "ax.set_xlabel('Layer')\n",
        "ax.set_xticklabels(np.arange(1,14))\n",
        "ax.set_ylabel('Tuning Quality')\n",
        "ax.set_ylim([0,50])"
      ],
      "execution_count": 8,
      "outputs": [
        {
          "output_type": "execute_result",
          "data": {
            "text/plain": [
              "(0.0, 50.0)"
            ]
          },
          "metadata": {
            "tags": []
          },
          "execution_count": 8
        },
        {
          "output_type": "display_data",
          "data": {
            "image/png": "[encoded data removed]",
            "text/plain": [
              "<Figure size 432x288 with 1 Axes>"
            ]
          },
          "metadata": {
            "tags": []
          }
        }
      ]
    },
    {
      "cell_type": "markdown",
      "metadata": {
        "id": "yoC7ZmIr95_E"
      },
      "source": [
        "### Tuning quality for face images"
      ]
    },
    {
      "cell_type": "code",
      "metadata": {
        "id": "fcxFzTBfK-PU",
        "colab": {
          "base_uri": "https://localhost:8080/",
          "height": 318
        },
        "outputId": "4b78af30-22bd-4785-e9aa-7bafa728c0cc"
      },
      "source": [
        "tun_q_face = [[0 for item in subl] for subl in fc[0]]\n",
        "for cat in range(2):\n",
        "  for layer in range(len(fc[cat])):\n",
        "    for map in range(len(fc[cat][layer])):\n",
        "      if tun_q_face[layer][map] < fc[cat][layer][map]:\n",
        "        tun_q_face[layer][map] = fc[cat][layer][map]\n",
        "\n",
        "sns.set(style=\"whitegrid\")\n",
        "ax = sns.boxplot(data = tun_q_face,palette='cool')\n",
        "ax.set_xlabel('Layer')\n",
        "ax.set_xticklabels(np.arange(1,14))\n",
        "ax.set_ylabel('Tuning Quality')\n",
        "ax.set_ylim([0,50])\n",
        "plt.title('Tuning quality for Face Images')\n"
      ],
      "execution_count": 9,
      "outputs": [
        {
          "output_type": "execute_result",
          "data": {
            "text/plain": [
              "Text(0.5, 1.0, 'Tuning quality for Face Images')"
            ]
          },
          "metadata": {
            "tags": []
          },
          "execution_count": 9
        },
        {
          "output_type": "display_data",
          "data": {
            "image/png": "[encoded data removed]",
            "text/plain": [
              "<Figure size 432x288 with 1 Axes>"
            ]
          },
          "metadata": {
            "tags": []
          }
        }
      ]
    },
    {
      "cell_type": "markdown",
      "metadata": {
        "id": "et83rH-l93zU"
      },
      "source": [
        "### Tuning quality for non face neurons"
      ]
    },
    {
      "cell_type": "code",
      "metadata": {
        "id": "iafMwylj93N4",
        "colab": {
          "base_uri": "https://localhost:8080/",
          "height": 335
        },
        "outputId": "424a0721-82f6-4ba4-c02d-e2b87381d811"
      },
      "source": [
        "tun_q_face = [[0 for item in subl] for subl in fc[0]]\n",
        "for cat in range(2,4):\n",
        "  for layer in range(len(fc[cat])):\n",
        "    for map in range(len(fc[cat][layer])):\n",
        "      if tun_q_face[layer][map] < fc[cat][layer][map]:\n",
        "        tun_q_face[layer][map] = fc[cat][layer][map]\n",
        "\n",
        "sns.set(style=\"whitegrid\")\n",
        "ax = sns.boxplot(data = tun_q_face,palette='cool')\n",
        "ax.set_xlabel('Layer')\n",
        "ax.set_xticklabels(np.arange(1,14))\n",
        "ax.set_ylabel('Tuning Quality')\n",
        "ax.set_ylim([0,50])\n",
        "plt.title('Tuning quality for Scene Images')\n",
        "\n",
        "plt.figure()\n",
        "\n"
      ],
      "execution_count": 10,
      "outputs": [
        {
          "output_type": "execute_result",
          "data": {
            "text/plain": [
              "<Figure size 432x288 with 0 Axes>"
            ]
          },
          "metadata": {
            "tags": []
          },
          "execution_count": 10
        },
        {
          "output_type": "display_data",
          "data": {
            "image/png": "[encoded data removed]",
            "text/plain": [
              "<Figure size 432x288 with 1 Axes>"
            ]
          },
          "metadata": {
            "tags": []
          }
        },
        {
          "output_type": "display_data",
          "data": {
            "text/plain": [
              "<Figure size 432x288 with 0 Axes>"
            ]
          },
          "metadata": {
            "tags": []
          }
        }
      ]
    },
    {
      "cell_type": "code",
      "metadata": {
        "id": "UtKxd454A1_N",
        "colab": {
          "base_uri": "https://localhost:8080/",
          "height": 539
        },
        "outputId": "1768d9c1-b2ce-4c89-8128-5576503d372e"
      },
      "source": [
        "idx = [[-1 for item in subl] for subl in fc[0]] \n",
        "for layer in range(13):\n",
        "  for map in range(len(fc[0][layer])):\n",
        "    max = 0\n",
        "    for cat in range(ncats):\n",
        "      if fc[cat][layer][map] > max:\n",
        "        max = fc[cat][layer][map]\n",
        "        idx[layer][map] = cat\n",
        "\n",
        "counter = np.zeros(13)\n",
        "fig = plt.figure(figsize = (10,8))\n",
        "for layer in range(13):\n",
        "  for ele in idx[layer]:\n",
        "    if ele == 0 or ele == 1:\n",
        "      counter[layer] += 1\n",
        "plt.bar(x = np.arange(1,14,1),\n",
        "        height = counter,\n",
        "        color = 'mediumseagreen')\n",
        "plt.ylim(0,500)\n",
        "plt.xlabel('Layer',size = 15)\n",
        "plt.ylabel('No. of neurons',size = 15)\n",
        "plt.title('Number of face selective neurons',size = 15)"
      ],
      "execution_count": 11,
      "outputs": [
        {
          "output_type": "execute_result",
          "data": {
            "text/plain": [
              "Text(0.5, 1.0, 'Number of face selective neurons')"
            ]
          },
          "metadata": {
            "tags": []
          },
          "execution_count": 11
        },
        {
          "output_type": "display_data",
          "data": {
            "image/png": "[encoded data removed]",
            "text/plain": [
              "<Figure size 720x576 with 1 Axes>"
            ]
          },
          "metadata": {
            "tags": []
          }
        }
      ]
    },
    {
      "cell_type": "code",
      "metadata": {
        "id": "BWHE21BdChtO",
        "colab": {
          "base_uri": "https://localhost:8080/",
          "height": 542
        },
        "outputId": "fef93756-f653-406d-8189-869485cef889"
      },
      "source": [
        "width = 0.25\n",
        "\n",
        "idx = [[-1 for item in subl] for subl in fc[0]] \n",
        "for layer in range(13):\n",
        "  for map in range(len(fc[0][layer])):\n",
        "    max = 0\n",
        "    for cat in range(ncats):\n",
        "      if fc[cat][layer][map] > max:\n",
        "        max = fc[cat][layer][map]\n",
        "        idx[layer][map] = cat\n",
        "\n",
        "c_face = np.zeros(13)\n",
        "c_scene = np.zeros(13)\n",
        "\n",
        "\n",
        "for layer in range(13):\n",
        "  for ele in idx[layer]:\n",
        "    if ele == 0 or ele == 1:\n",
        "      c_face[layer] += 1\n",
        "    elif ele == 2 or ele ==3:\n",
        "      c_scene[layer] += 1\n",
        "\n",
        "\n",
        "\n",
        "fig, ax = plt.subplots(figsize = (10,8))\n",
        "rects1 = ax.bar(np.arange(13) - width/2 , c_face, width, label='Faces',color = '#D65353')\n",
        "rects2 = ax.bar(np.arange(13) + width/2, c_scene, width, label='Scenes',color = '#F7C45F')\n",
        "\n",
        "\n",
        "# Add some text for labels, title and custom x-axis tick labels, etc.\n",
        "ax.set_ylabel('Scores')\n",
        "ax.set_title('Scores by group and gender')\n",
        "ax.set_xticks(np.arange(13))\n",
        "ax.set_xticklabels(np.arange(13))\n",
        "ax.legend()\n",
        "\n",
        "plt.ylim(0,500)\n",
        "plt.xticks(np.arange(13),np.arange(1,14),size = 12)\n",
        "plt.xlabel('Layer',size = 15)\n",
        "plt.ylabel('No. of Neurons',size = 15)\n",
        "plt.title('Number of selective neurons, category wise', size = 15)"
      ],
      "execution_count": 12,
      "outputs": [
        {
          "output_type": "execute_result",
          "data": {
            "text/plain": [
              "Text(0.5, 1.0, 'Number of selective neurons, category wise')"
            ]
          },
          "metadata": {
            "tags": []
          },
          "execution_count": 12
        },
        {
          "output_type": "display_data",
          "data": {
            "image/png": "[encoded data removed]",
            "text/plain": [
              "<Figure size 720x576 with 1 Axes>"
            ]
          },
          "metadata": {
            "tags": []
          }
        }
      ]
    },
    {
      "cell_type": "markdown",
      "metadata": {
        "id": "syf9wsRa6Fr2"
      },
      "source": [
        "# Neuron level activities"
      ]
    },
    {
      "cell_type": "code",
      "metadata": {
        "colab": {
          "base_uri": "https://localhost:8080/"
        },
        "id": "jqmuwH9K5jpy",
        "outputId": "1882a4b1-13f7-488d-cdf3-9951246752c8"
      },
      "source": [
        "calc_neuron_activ = 1\n",
        "neuron_act = [[np.empty((224,224,64)),\n",
        "              np.empty((224,224,64)),\n",
        "              np.empty((112,112,128)),\n",
        "              np.empty((112,112,128)),\n",
        "              np.empty((56,56,256)),\n",
        "              np.empty((56,56,256)),\n",
        "              np.empty((56,56,256)),\n",
        "              np.empty((28,28,512)),\n",
        "              np.empty((28,28,512)),\n",
        "              np.empty((28,28,512)),\n",
        "              np.empty((14,14,512)),\n",
        "              np.empty((14,14,512)),\n",
        "              np.empty((14,14,512))] for i in range(len(categories))]\n",
        "\n",
        "if calc_neuron_activ:\n",
        "  for cat in range(len(categories)): \n",
        "\n",
        "    print('Category of interest: ', categories[cat])\n",
        "    train_it = reg_train[cat]\n",
        "\n",
        "    layer_names = [layer.name for layer in model.layers if 'conv' in layer.name]\n",
        "    layer_outputs = [layer.output for layer in model.layers if layer.name in layer_names]\n",
        "    activation_model = Model(inputs=model.input, outputs=layer_outputs)\n",
        "\n",
        "    tun_activ = [[[np.empty((224,224,64)),\n",
        "              np.empty((224,224,64)),\n",
        "              np.empty((112,112,128)),\n",
        "              np.empty((112,112,128)),\n",
        "              np.empty((56,56,256)),\n",
        "              np.empty((56,56,256)),\n",
        "              np.empty((56,56,256)),\n",
        "              np.empty((28,28,512)),\n",
        "              np.empty((28,28,512)),\n",
        "              np.empty((28,28,512)),\n",
        "              np.empty((14,14,512)),\n",
        "              np.empty((14,14,512)),\n",
        "              np.empty((14,14,512))] for j in range(len(layer_names))] for i in range(len(train_it))]\n",
        "\n",
        "    start = time.time()\n",
        "    for imgs,img_tensor in enumerate(train_it):\n",
        "      img_tensor = img_tensor.reshape([1,224,224,3])\n",
        "      intermediate_activations = activation_model.predict(img_tensor)\n",
        "      for l in range(len(layer_names)):\n",
        "        layer_activation = intermediate_activations[l]\n",
        "        tun_activ[imgs][l].append(layer_activation)\n",
        "    \n",
        "    for l in range(len(layer_names)):\n",
        "      neuron_act[cat][l] = np.mean(tun_activ,0)\n",
        "    print(f'Elapsed: {time.time() - start}s')\n"
      ],
      "execution_count": null,
      "outputs": [
        {
          "output_type": "stream",
          "text": [
            "Category of interest:  Male\n"
          ],
          "name": "stdout"
        },
        {
          "output_type": "stream",
          "text": [
            "/usr/local/lib/python3.7/dist-packages/numpy/core/_asarray.py:136: VisibleDeprecationWarning: Creating an ndarray from ragged nested sequences (which is a list-or-tuple of lists-or-tuples-or ndarrays with different lengths or shapes) is deprecated. If you meant to do this, you must specify 'dtype=object' when creating the ndarray\n",
            "  return array(a, dtype, copy=False, order=order, subok=True)\n"
          ],
          "name": "stderr"
        }
      ]
    },
    {
      "cell_type": "code",
      "metadata": {
        "colab": {
          "base_uri": "https://localhost:8080/"
        },
        "id": "GSZ0XyAL2v7W",
        "outputId": "3be2368e-99b4-435a-cc6c-d970aeaf65f5"
      },
      "source": [
        "len(neuron_act[0][2][1][1])"
      ],
      "execution_count": 80,
      "outputs": [
        {
          "output_type": "execute_result",
          "data": {
            "text/plain": [
              "128"
            ]
          },
          "metadata": {
            "tags": []
          },
          "execution_count": 80
        }
      ]
    },
    {
      "cell_type": "markdown",
      "metadata": {
        "id": "LoqhbP8HixD0"
      },
      "source": [
        "# Attention"
      ]
    },
    {
      "cell_type": "markdown",
      "metadata": {
        "id": "-etj3D0SVwfb"
      },
      "source": [
        "### Att\n",
        "(This is optional. The same code is written in vgg16obj/tools/model_calcs.py called separately in the next driver chunk"
      ]
    },
    {
      "cell_type": "code",
      "metadata": {
        "id": "QMxZPtSnWNdZ"
      },
      "source": [
        "#!/usr/bin/env python3\n",
        "# -*- coding: utf-8 -*-\n",
        "\"\"\"\n",
        "Created on Sat Oct 10 02:39:43 2020\n",
        "\n",
        "@author: soukhind\n",
        "\"\"\"\n",
        "import numpy as np\n",
        "import tensorflow as tf\n",
        "from tensorflow.keras.layers import Activation\n",
        "from tensorflow.keras.activations import relu\n",
        "from keras.utils.generic_utils import get_custom_objects\n",
        "from tensorflow.keras.callbacks import EarlyStopping\n",
        "from vis.utils import utils\n",
        "from tensorflow.python.ops import nn\n",
        "from tensorflow import math\n",
        "import time\n",
        "from sklearn.metrics import roc_curve,accuracy_score,precision_recall_curve,f1_score\n",
        "\n",
        "def gen_attnmap(modifier,mask,category,bi,atype,rand_map):\n",
        "    \"\"\"\n",
        "    \n",
        "\n",
        "    Parameters\n",
        "    ----------\n",
        "    modifier : list\n",
        "        modifier to be used to implement attention.\n",
        "    mask : ndarray\n",
        "        binary vector to determine which layer to apply attention at. \n",
        "        include attention strength by multiplying to it\n",
        "    category : ndarray\n",
        "        cateogies .\n",
        "    bi : boolean \n",
        "        bidirectionality\n",
        "        True & False.\n",
        "    atype: int\n",
        "        1 = Multiplicative\n",
        "        2 = Additive\n",
        "    rand_map: bool, optional\n",
        "        Set to 'True' for random set of tuning values\n",
        "    Returns\n",
        "    -------\n",
        "    tensor_attnmap : tensor\n",
        "        attention map.\n",
        "\n",
        "    \"\"\"\n",
        "    attnmap = []\n",
        "    #beta = calc_beta(avg_tun_activ)/10\n",
        "  \n",
        "    #conv1_1 & conv1_2\n",
        "\n",
        "    for layer in range(2):\n",
        "        mapval = np.float32(modifier[category][layer])\n",
        "        if bi == False:\n",
        "            mapval[mapval < 0] = 0\n",
        "        if atype == 1:\n",
        "          amap = np.ones((224,224,64),dtype='float32') + np.tile(mapval,[224,224,1])* mask[layer]\n",
        "        elif atype == 2:\n",
        "          amap = np.tile(mapval,[224,224,1])* mask[layer]\n",
        "        #amap[amap < 0] = 0\n",
        "        if rand_map == 1:\n",
        "          random.shuffle(amap)\n",
        "        elif rand_map == 2:\n",
        "          \n",
        "          amap = np.ones((224,224,64),dtype='float32') +  mask[layer]\n",
        "        attnmap.append(amap)\n",
        "        \n",
        "    \n",
        "    #conv2_1 & conv2_2\n",
        "    for layer in range(2,4):\n",
        "        mapval = np.float32(modifier[category][layer])\n",
        "        if bi == False:\n",
        "            mapval[mapval < 0] = 0\n",
        "        if atype == 1:\n",
        "          amap = np.ones((112,112,128),dtype='float32') + np.tile(mapval,[112,112,1])* mask[layer]\n",
        "        elif atype == 2:\n",
        "          amap = np.tile(mapval,[112,112,1])* mask[layer]\n",
        "        #amap[amap < 0] = 0\n",
        "        if rand_map == 1:\n",
        "          random.shuffle(amap)\n",
        "        elif rand_map == 2:\n",
        "          amap = np.ones((112,112,128),dtype='float32') +  mask[layer]\n",
        "        attnmap.append(amap)\n",
        "    \n",
        "    #conv3_1 - conv3_3\n",
        "    for layer in range(4,7):\n",
        "        mapval = np.float32(modifier[category][layer])\n",
        "        if bi == False:\n",
        "            mapval[mapval < 0] = 0\n",
        "        if atype == 1:\n",
        "          amap = np.ones((56,56,256),dtype='float32') + np.tile(mapval,[56,56,1])* mask[layer]\n",
        "        elif atype == 2:\n",
        "          amap = np.tile(mapval,[56,56,1])* mask[layer]\n",
        "        #amap[amap < 0] = 0\n",
        "        if rand_map == 1:\n",
        "          random.shuffle(amap)\n",
        "        elif rand_map == 2:\n",
        "          amap = np.ones((56,56,256),dtype='float32') + mask[layer]\n",
        "        attnmap.append(amap)\n",
        "    \n",
        "    #conv4_1 - conv4_3\n",
        "    for layer in range(7,10):\n",
        "        mapval = np.float32(modifier[category][layer])\n",
        "        if bi == False:\n",
        "            mapval[mapval < 0] = 0\n",
        "        if atype == 1:\n",
        "          amap = np.ones((28,28,512),dtype='float32') + np.tile(mapval,[28,28,1])* mask[layer]\n",
        "        elif atype == 2:\n",
        "          amap = np.tile(mapval,[28,28,1])* mask[layer]\n",
        "        #amap[amap < 0] = 0\n",
        "        if rand_map == 1:\n",
        "          random.shuffle(amap)\n",
        "        elif rand_map == 2:\n",
        "          amap = np.ones((28,28,512),dtype='float32') + mask[layer]\n",
        "        attnmap.append(amap)\n",
        "    \n",
        "    #conv5_1 - conv5_3\n",
        "    for layer in range(10,13):\n",
        "        mapval = np.float32(modifier[category][layer])\n",
        "        if bi == False:\n",
        "            mapval[mapval < 0] = 0\n",
        "        if atype ==1:\n",
        "          amap = np.ones((14,14,512),dtype='float32') + np.tile(mapval,[14,14,1])* mask[layer]\n",
        "        elif atype == 2:\n",
        "          amap = np.tile(mapval,[14,14,1])* mask[layer]\n",
        "        #amap[amap < 0] = 0\n",
        "        if rand_map == 1:\n",
        "          random.shuffle(amap)\n",
        "        elif rand_map == 2:\n",
        "          amap = np.ones((14,14,512),dtype='float32') + mask[layer]\n",
        "        attnmap.append(amap)\n",
        "    \n",
        "    \n",
        "    \n",
        "    tensor_attnmap = []\n",
        "    for layer in range(len(attnmap)):\n",
        "      tensor_attnmap.append(tf.convert_to_tensor(attnmap[layer])) \n",
        "    \n",
        "    return tensor_attnmap\n",
        "\n",
        "\n",
        "\n",
        "def avg_accuracy(data_train,train_labels,\n",
        "                 data_test,test_labels,\n",
        "                 modifier,\n",
        "                 model,top_model,idxpath,\n",
        "                 category,\n",
        "                 atstrng,\n",
        "                 bidir = True,\n",
        "                 atype = 1,\n",
        "                 rand_map = 0):\n",
        "    \"\"\"\n",
        "    \n",
        "\n",
        "    Parameters\n",
        "    ----------\n",
        "    data_train : ndarray\n",
        "        Training data.\n",
        "    train_labels : categorical\n",
        "        Training labels.\n",
        "    data_test : ndarray\n",
        "        Testing data.\n",
        "    test_labels : categorical\n",
        "        Testing labels.\n",
        "    categories : ndarray\n",
        "        Names of each category.\n",
        "    modifier : list\n",
        "        modifier to be used to implement attention.\n",
        "    model : keras model\n",
        "        base model.\n",
        "    top_model : keras model\n",
        "        top model.\n",
        "    idxpath : string\n",
        "        for internal use.\n",
        "    atstrng : float32\n",
        "        attention strength.\n",
        "    bidir : bool, optional\n",
        "        Bidirectionality. The default is True.\n",
        "    atype: int\n",
        "        1 = Multiplicative\n",
        "        2 = Additive\n",
        "    rand_map: int, optional\n",
        "        0 = No randomization\n",
        "        1 = Shuffled tuning values\n",
        "        2 = Same tuning values\n",
        "    Returns\n",
        "    -------\n",
        "    t_acc\n",
        "        Accuracy for each category at each layer.\n",
        "\n",
        "    \"\"\"\n",
        "    \n",
        "    epochs = 30    \n",
        "    n_layers = 13\n",
        "    t_acc = np.zeros(n_layers)\n",
        "    thr = np.zeros(n_layers)\n",
        "    for li in range(n_layers):\n",
        "        layermask = np.zeros(13)\n",
        "        layermask[li] = 1\n",
        "        tensor_attnmap = gen_attnmap(modifier,layermask*atstrng,category,bidir,atype,rand_map)     \n",
        "        def attnrelu(x,map = tensor_attnmap,atype = atype):\n",
        "            layeridx = np.load(idxpath)\n",
        "            if layeridx == 13:\n",
        "                layeridx = 0\n",
        "            if atype == 1:\n",
        "              x = nn.relu(x)\n",
        "              activations = math.multiply(x,map[layeridx])\n",
        "            if atype == 2:\n",
        "              activations = math.add(x,map[layeridx])\n",
        "              activations = nn.relu(activations)\n",
        "            layeridx += 1\n",
        "            np.save(idxpath,layeridx)\n",
        "            return activations\n",
        "    \n",
        "        get_custom_objects().update({'attnrelu': Activation(attnrelu)})\n",
        "    \n",
        "        for layer in model.layers:\n",
        "            if(hasattr(layer,'activation')):\n",
        "                layer.activation = attnrelu\n",
        "    \n",
        "        utils.apply_modifications(model)\n",
        "        model.compile()\n",
        "        \n",
        "        f_train = model.predict(data_train)     \n",
        "    \n",
        "        f_test = model.predict(data_test)\n",
        "        es = EarlyStopping(monitor='loss', mode='min', verbose=1)\n",
        "  \n",
        "        history = top_model.fit(x = f_train,  y = train_labels,\n",
        "                epochs=epochs,\n",
        "                batch_size=64,\n",
        "                verbose = 0, callbacks = [])\n",
        "    \n",
        "        out = top_model.evaluate(f_test, test_labels)\n",
        "        t_acc[li] = out[1]\n",
        "\n",
        "    return t_acc\n",
        "\n"
      ],
      "execution_count": 50,
      "outputs": []
    },
    {
      "cell_type": "markdown",
      "metadata": {
        "id": "fP0gLmlmVz7q"
      },
      "source": [
        "### Driver\n",
        "This is the big loop which applies attention at each layer separately as a function of different attentional strengths. \n",
        "PS. This is very heavy and requires hours to finish.\n"
      ]
    },
    {
      "cell_type": "code",
      "metadata": {
        "id": "0foPTv5Git5q",
        "colab": {
          "base_uri": "https://localhost:8080/"
        },
        "outputId": "ef4574ee-6313-453a-9f97-b8d1a2df2130"
      },
      "source": [
        "#@title Multiplicative and bidirectionality corrected\n",
        "\n",
        "from vgg16obj.tools import model_calcs as mc\n",
        "import gc\n",
        "layeridx = 0\n",
        "np.save('layeridx',layeridx)\n",
        "#atstrng = 10.5 #0,0.5,1,1.5,2,2.5,3,3.5,4,4.5,5,5.5,6,6.5,7,7.5,8,8.5,9,9.5,10\n",
        "for atstrng in np.arange(0,10,0.5): #Calling for different attn strengths\n",
        "  grand_acc = [[] for i in range(ncats)] \n",
        "  for cat in range(ncats): # Iterating over 6 categories\n",
        "    tf.keras.backend.clear_session()\n",
        "    print('Category of interest: ', categories[cat])\n",
        "    train_it = np.concatenate((reg_train[cat],reg_train[cat + 4])) # Training on regular data\n",
        "    test_it = np.concatenate((data_test[cat],data_test[cat + 4])) # Testing on merged data\n",
        "    print(train_it.shape,test_it.shape)\n",
        "    model = VGG16(weights='imagenet',\n",
        "                        include_top=False,input_shape = [224,224,3])\n",
        "          \n",
        "    top_model = Sequential()\n",
        "    top_model.add(Flatten(input_shape=features_train.shape[1:])) \n",
        "    top_model.add(Dense(4096, activation='relu',name = 'top_dense1')) \n",
        "    top_model.add(Dense(2, activation='sigmoid',name = 'predictions'))\n",
        "    top_model.compile(optimizer= Adam(lr=1e-5),\n",
        "                loss='categorical_crossentropy',\n",
        "                metrics=['accuracy'])\n",
        "    \n",
        "    # Read avg_accuracy's definition to learn about the parameters\n",
        "    grand_acc[cat] = avg_accuracy(train_it,\n",
        "                              train_labels,\n",
        "                              test_it,\n",
        "                              test_labels,\n",
        "                              fc,\n",
        "                              model,\n",
        "                              top_model,\n",
        "                              '/content/layeridx.npy',\n",
        "                              cat,\n",
        "                              atstrng,\n",
        "                              bidir = True,\n",
        "                              atype = 1,\n",
        "                              rand_map = 2 )\n",
        "  grand_acc = np.array(grand_acc)\n",
        "  grand_acc.reshape([13,4,1])\n",
        "  # Use tun_accuracy_multi for multiplicative mode (atype = 1) and\n",
        "  # use tun_accuracy_bias for bias mode (atype = 2)\n",
        "  np.save('tun_accuracy_multi' + str(atstrng),grand_acc)\n",
        "\n"
      ],
      "execution_count": 64,
      "outputs": [
        {
          "output_type": "stream",
          "text": [
            "Category of interest:  Male\n",
            "(160, 224, 224, 3) (80, 224, 224, 3)\n",
            "WARNING:tensorflow:No training configuration found in the save file, so the model was *not* compiled. Compile it manually.\n",
            "3/3 [==============================] - 0s 4ms/step - loss: 0.6940 - accuracy: 0.7250\n",
            "3/3 [==============================] - 0s 4ms/step - loss: 0.7109 - accuracy: 0.7250\n",
            "3/3 [==============================] - 0s 4ms/step - loss: 0.7566 - accuracy: 0.7250\n",
            "3/3 [==============================] - 0s 4ms/step - loss: 0.7822 - accuracy: 0.7625\n",
            "3/3 [==============================] - 0s 4ms/step - loss: 0.7937 - accuracy: 0.7625\n",
            "3/3 [==============================] - 0s 4ms/step - loss: 0.8147 - accuracy: 0.7625\n",
            "3/3 [==============================] - 0s 4ms/step - loss: 0.8312 - accuracy: 0.7625\n",
            "3/3 [==============================] - 0s 4ms/step - loss: 0.8417 - accuracy: 0.7625\n",
            "3/3 [==============================] - 0s 4ms/step - loss: 0.8468 - accuracy: 0.7625\n",
            "3/3 [==============================] - 0s 4ms/step - loss: 0.8601 - accuracy: 0.7625\n",
            "3/3 [==============================] - 0s 4ms/step - loss: 0.8708 - accuracy: 0.7625\n",
            "3/3 [==============================] - 0s 4ms/step - loss: 0.8798 - accuracy: 0.7625\n",
            "3/3 [==============================] - 0s 4ms/step - loss: 0.8911 - accuracy: 0.7625\n",
            "Category of interest:  Female\n",
            "(160, 224, 224, 3) (80, 224, 224, 3)\n",
            "WARNING:tensorflow:No training configuration found in the save file, so the model was *not* compiled. Compile it manually.\n",
            "3/3 [==============================] - 0s 4ms/step - loss: 0.7124 - accuracy: 0.7375\n",
            "3/3 [==============================] - 0s 4ms/step - loss: 0.7598 - accuracy: 0.7375\n",
            "3/3 [==============================] - 0s 4ms/step - loss: 0.7912 - accuracy: 0.7375\n",
            "3/3 [==============================] - 0s 4ms/step - loss: 0.8301 - accuracy: 0.7375\n",
            "3/3 [==============================] - 0s 4ms/step - loss: 0.8465 - accuracy: 0.7375\n",
            "3/3 [==============================] - 0s 4ms/step - loss: 0.8632 - accuracy: 0.7375\n",
            "3/3 [==============================] - 0s 4ms/step - loss: 0.8925 - accuracy: 0.7375\n",
            "3/3 [==============================] - 0s 4ms/step - loss: 0.9066 - accuracy: 0.7375\n",
            "3/3 [==============================] - 0s 4ms/step - loss: 0.9183 - accuracy: 0.7375\n",
            "3/3 [==============================] - 0s 4ms/step - loss: 0.9352 - accuracy: 0.7250\n",
            "3/3 [==============================] - 0s 4ms/step - loss: 0.9484 - accuracy: 0.7250\n",
            "3/3 [==============================] - 0s 4ms/step - loss: 0.9582 - accuracy: 0.7250\n",
            "3/3 [==============================] - 0s 4ms/step - loss: 0.9691 - accuracy: 0.7250\n",
            "Category of interest:  Manmade\n",
            "(160, 224, 224, 3) (80, 224, 224, 3)\n",
            "WARNING:tensorflow:No training configuration found in the save file, so the model was *not* compiled. Compile it manually.\n",
            "3/3 [==============================] - 0s 4ms/step - loss: 0.3782 - accuracy: 0.8375\n",
            "3/3 [==============================] - 0s 4ms/step - loss: 0.3954 - accuracy: 0.8375\n",
            "3/3 [==============================] - 0s 4ms/step - loss: 0.4061 - accuracy: 0.8375\n",
            "3/3 [==============================] - 0s 4ms/step - loss: 0.4196 - accuracy: 0.8375\n",
            "3/3 [==============================] - 0s 5ms/step - loss: 0.4304 - accuracy: 0.8375\n",
            "3/3 [==============================] - 0s 4ms/step - loss: 0.4383 - accuracy: 0.8375\n",
            "3/3 [==============================] - 0s 4ms/step - loss: 0.4486 - accuracy: 0.8375\n",
            "3/3 [==============================] - 0s 4ms/step - loss: 0.4535 - accuracy: 0.8375\n",
            "3/3 [==============================] - 0s 4ms/step - loss: 0.4598 - accuracy: 0.8375\n",
            "3/3 [==============================] - 0s 4ms/step - loss: 0.4663 - accuracy: 0.8375\n",
            "3/3 [==============================] - 0s 4ms/step - loss: 0.4727 - accuracy: 0.8375\n",
            "3/3 [==============================] - 0s 4ms/step - loss: 0.4784 - accuracy: 0.8375\n",
            "3/3 [==============================] - 0s 3ms/step - loss: 0.4827 - accuracy: 0.8375\n",
            "Category of interest:  Natural\n",
            "(160, 224, 224, 3) (80, 224, 224, 3)\n",
            "WARNING:tensorflow:No training configuration found in the save file, so the model was *not* compiled. Compile it manually.\n",
            "3/3 [==============================] - 0s 4ms/step - loss: 0.7152 - accuracy: 0.7000\n",
            "3/3 [==============================] - 0s 4ms/step - loss: 0.7454 - accuracy: 0.7125\n",
            "3/3 [==============================] - 0s 4ms/step - loss: 0.7665 - accuracy: 0.7125\n",
            "3/3 [==============================] - 0s 4ms/step - loss: 0.7828 - accuracy: 0.7125\n",
            "3/3 [==============================] - 0s 4ms/step - loss: 0.8087 - accuracy: 0.7125\n",
            "3/3 [==============================] - 0s 4ms/step - loss: 0.8235 - accuracy: 0.7250\n",
            "3/3 [==============================] - 0s 4ms/step - loss: 0.8347 - accuracy: 0.7250\n",
            "3/3 [==============================] - 0s 5ms/step - loss: 0.8469 - accuracy: 0.7375\n",
            "3/3 [==============================] - 0s 4ms/step - loss: 0.8659 - accuracy: 0.7250\n",
            "3/3 [==============================] - 0s 4ms/step - loss: 0.8734 - accuracy: 0.7375\n",
            "3/3 [==============================] - 0s 4ms/step - loss: 0.8838 - accuracy: 0.7375\n",
            "3/3 [==============================] - 0s 3ms/step - loss: 0.8960 - accuracy: 0.7375\n",
            "3/3 [==============================] - 0s 4ms/step - loss: 0.9058 - accuracy: 0.7375\n"
          ],
          "name": "stdout"
        }
      ]
    },
    {
      "cell_type": "code",
      "metadata": {
        "id": "_D_xfrLyptgA"
      },
      "source": [
        "grand_acc = np.array(grand_acc)\n",
        "grand_acc.reshape([1,6,13])\n",
        "np.save('tun_accuracy_new' + str(atstrng),grand_acc)"
      ],
      "execution_count": null,
      "outputs": []
    },
    {
      "cell_type": "code",
      "metadata": {
        "id": "8aeOcsA8jVFs",
        "colab": {
          "base_uri": "https://localhost:8080/",
          "height": 362
        },
        "outputId": "a17980f3-275d-47eb-c4e6-6b2e3eafb242"
      },
      "source": [
        "import seaborn as sns\n",
        "sns.set(style=\"white\",rc={\"lines.linewidth\": 0.7})\n",
        "plt.figure(figsize = (15,5))\n",
        "ax = sns.pointplot(data = grand_acc, color = 'mediumseagreen',\n",
        "                   errorwidth = 0.1 , capsize = 0.2)\n",
        "ax.set_xlabel('Layer',size = 20)\n",
        "ax.set_xticklabels(np.arange(1,14))\n",
        "ax.set_ylabel('Avg. acc.',size = 20)\n"
      ],
      "execution_count": null,
      "outputs": [
        {
          "output_type": "execute_result",
          "data": {
            "text/plain": [
              "Text(0, 0.5, 'Avg. acc.')"
            ]
          },
          "metadata": {
            "tags": []
          },
          "execution_count": 20
        },
        {
          "output_type": "display_data",
          "data": {
            "image/png": "[encoded data removed]",
            "text/plain": [
              "<Figure size 1080x360 with 1 Axes>"
            ]
          },
          "metadata": {
            "tags": []
          }
        }
      ]
    },
    {
      "cell_type": "markdown",
      "metadata": {
        "id": "wY8oDGHaSuqf"
      },
      "source": [
        "### Regular Accuracy\n",
        "Calculate the regular accuracy so that they can be contrasted against when attention is applied."
      ]
    },
    {
      "cell_type": "code",
      "metadata": {
        "id": "vLuKzW56SuEZ",
        "colab": {
          "base_uri": "https://localhost:8080/"
        },
        "outputId": "2f26e7bb-7352-46c3-9992-442d758e7a54"
      },
      "source": [
        "# Reinitialising the models for calculating regular accuracy\n",
        "model = VGG16(weights='imagenet',\n",
        "                        include_top=False,input_shape = [224,224,3])\n",
        "          \n",
        "top_model = Sequential()\n",
        "top_model.add(Flatten(input_shape=features_train.shape[1:])) \n",
        "top_model.add(Dense(4096, activation='relu',name = 'top_dense1')) \n",
        "top_model.add(Dense(2, activation='sigmoid',name = 'predictions'))\n",
        "top_model.compile(optimizer= Adam(lr=1e-5),\n",
        "            loss='categorical_crossentropy',\n",
        "            metrics=['accuracy'])\n",
        "    \n",
        "categories = ['Male','Female','Manmade','Natural','Powered','Nonpowered']\n",
        "acc = [0]*6\n",
        "for cat in range(ncats):\n",
        "  tf.keras.backend.clear_session()\n",
        "\n",
        "  print('Category of interest: ', categories[cat])\n",
        "  train_it = np.concatenate((reg_train[cat],reg_train[cat + 4]))\n",
        "  test_it = np.concatenate((data_test[cat],data_test[cat + 4]))\n",
        "  print(train_it.shape,test_it.shape)\n",
        "\n",
        "\n",
        "  #plot_model(model,show_shapes=True,expand_nested=True)\n",
        "  #model.save_weights('vgg_w',save_format='h5')\n",
        "\n",
        "  features_train = model.predict(train_it) \n",
        "\n",
        "  features_test = model.predict(test_it) \n",
        "\n",
        "\n",
        "  epochs = 30\n",
        "  #train_data = np.load('features_train.npy')\n",
        "  ntrain = 80\n",
        "  train_data = features_train\n",
        "  train_labels = to_categorical([0] * ntrain + [1]*ntrain)\n",
        "\n",
        "\n",
        "  #test_data = np.load('features_test.npy')\n",
        "  ntest = 40\n",
        "  test_data = features_test\n",
        "  test_labels = to_categorical([0] * ntest + [1]*ntest)\n",
        "\n",
        "\n",
        "\n",
        "  es = EarlyStopping(monitor='loss', mode='min', verbose=1)\n",
        "\n",
        "  history = top_model.fit(x = train_data,  y = train_labels,\n",
        "            epochs=epochs,\n",
        "            batch_size=64,\n",
        "            verbose = 0, callbacks = [es])\n",
        "\n",
        "  out = top_model.evaluate(test_data, test_labels)\n",
        "  print(out)\n",
        "  acc[cat] = out[1]\n",
        "  #print('rounded test labels',pred)\n",
        "np.mean(acc)"
      ],
      "execution_count": 54,
      "outputs": [
        {
          "output_type": "stream",
          "text": [
            "Category of interest:  Male\n",
            "(160, 224, 224, 3) (80, 224, 224, 3)\n",
            "3/3 [==============================] - 0s 4ms/step - loss: 0.6440 - accuracy: 0.7500\n",
            "[0.6439995765686035, 0.75]\n",
            "Category of interest:  Female\n",
            "(160, 224, 224, 3) (80, 224, 224, 3)\n",
            "3/3 [==============================] - 0s 4ms/step - loss: 0.8515 - accuracy: 0.7000\n",
            "[0.8515356779098511, 0.699999988079071]\n",
            "Category of interest:  Manmade\n",
            "(160, 224, 224, 3) (80, 224, 224, 3)\n",
            "Epoch 00005: early stopping\n",
            "3/3 [==============================] - 0s 4ms/step - loss: 1.0024 - accuracy: 0.6875\n",
            "[1.0023987293243408, 0.6875]\n",
            "Category of interest:  Natural\n",
            "(160, 224, 224, 3) (80, 224, 224, 3)\n",
            "Epoch 00003: early stopping\n",
            "3/3 [==============================] - 0s 4ms/step - loss: 2.0552 - accuracy: 0.5750\n",
            "[2.0551769733428955, 0.574999988079071]\n"
          ],
          "name": "stdout"
        },
        {
          "output_type": "execute_result",
          "data": {
            "text/plain": [
              "0.45208332935969037"
            ]
          },
          "metadata": {
            "tags": []
          },
          "execution_count": 54
        }
      ]
    },
    {
      "cell_type": "markdown",
      "metadata": {
        "id": "yOOHYrOnLHRk"
      },
      "source": [
        "# Calculation for control condition"
      ]
    },
    {
      "cell_type": "code",
      "metadata": {
        "id": "bGj72j787vQd",
        "colab": {
          "base_uri": "https://localhost:8080/",
          "height": 427
        },
        "outputId": "bb16f93c-c5e4-4b27-ec6c-aaaab26aae7a"
      },
      "source": [
        "plt_data = np.array((3,3,0,0.8))\n",
        "fig = plt.figure(figsize = (8,4))\n",
        "plt.bar(x = ['Male','Female','Manmade','Natural'],\n",
        "        height = plt_data.T,\n",
        "        color = 'mediumseagreen')\n",
        "plt.title('Control Condition')\n",
        "plt.ylabel('Increase in performance (%)')\n",
        "plt.xlabel('Category')\n"
      ],
      "execution_count": 75,
      "outputs": [
        {
          "output_type": "execute_result",
          "data": {
            "text/plain": [
              "Text(0.5, 0, 'Category')"
            ]
          },
          "metadata": {
            "tags": []
          },
          "execution_count": 75
        },
        {
          "output_type": "display_data",
          "data": {
            "image/png": "[encoded data removed]",
            "text/plain": [
              "<Figure size 800x400 with 1 Axes>"
            ]
          },
          "metadata": {
            "tags": []
          }
        }
      ]
    },
    {
      "cell_type": "markdown",
      "metadata": {
        "id": "qrX-2ukIQ1wV"
      },
      "source": [
        "# Plots"
      ]
    },
    {
      "cell_type": "markdown",
      "metadata": {
        "id": "d-Pl1kB3Q3vO"
      },
      "source": [
        "### Layer wise plot\n",
        "This code generates the plot for performance increase as a function of attention applied at each layer separately."
      ]
    },
    {
      "cell_type": "code",
      "metadata": {
        "id": "vTMr8HqKU6gb"
      },
      "source": [
        "acc = [0.69,0.72,0.85,0.58]\n",
        "import numpy as np\n",
        "import matplotlib.pyplot as plt\n",
        "\n",
        "x = np.load('tun_accuracy_multi0.0.npy')\n",
        "x = np.expand_dims(x,0)\n",
        "\n",
        "for i in np.arange(0.5,10,0.5):\n",
        "  temp = np.load('tun_accuracy_multi' + str(i) + '.npy')\n",
        "  temp = np.expand_dims(temp,0)\n",
        "  x = np.vstack((x,temp))\n",
        "\n",
        "\n",
        "\n",
        "x = np.amax(x,0)\n",
        "\n",
        "plt_data = np.zeros((ncats,1))\n",
        "for i in range(ncats):\n",
        "  for j in range(13):\n",
        "    plt_data[i,j] = x[i,j] - acc[i]\n",
        "\n",
        "\n",
        "import seaborn as sns\n",
        "sns.set(style=\"white\",rc={\"lines.linewidth\": 1})\n",
        "plt.figure(figsize = (15,12))\n",
        "ax = sns.pointplot(data = plt_data*100, color = 'mediumseagreen',\n",
        "                   errorwidth = 0.1 , capsize = 0.2)\n",
        "                   \n",
        "ax.set_xlabel('Layer',size = 20)\n",
        "ax.set_xticklabels(np.arange(1,14),size = 20)\n",
        "plt.yticks(fontsize = 20)\n",
        "plt.ylim(0,30)\n",
        "plt.title('Attention by tuning curve, bias stng: 0 - 10.5',size = 15)\n",
        "ax.set_ylabel('Performance Increase (%)',size = 20)"
      ],
      "execution_count": null,
      "outputs": []
    },
    {
      "cell_type": "code",
      "metadata": {
        "id": "6xvHyvKjmefC"
      },
      "source": [
        "# NOT REQUIRED FOR NOW\n",
        "#grad_acc = plt_data\n",
        "#tun_acc = plt_data\n",
        "\n",
        "from scipy import stats\n",
        "pval = np.zeros(13)\n",
        "\n",
        "for i in range(13):\n",
        "  _,pval[i] = stats.ttest_ind(tun_acc[:,i],grad_acc[:,i],equal_var=False)\n",
        "\n",
        "pval"
      ],
      "execution_count": null,
      "outputs": []
    },
    {
      "cell_type": "markdown",
      "metadata": {
        "id": "9C8vZVeCQ9Dj"
      },
      "source": [
        "### Category wise plot\n",
        "This code generates the plot for performance increase as a function of category and attention applied at each layer separately."
      ]
    },
    {
      "cell_type": "code",
      "metadata": {
        "id": "HVAZyDCmQ7sE",
        "colab": {
          "base_uri": "https://localhost:8080/",
          "height": 903
        },
        "outputId": "9c35567e-c165-42fe-c796-3ff140b9b024"
      },
      "source": [
        "acc = [0.75,0.72,0.68,0.58]\n",
        "\n",
        "gacc = np.load('tun_accuracy_multi0.0.npy')\n",
        "gacc = np.expand_dims(gacc,0)\n",
        "\n",
        "for i in np.arange(0.5,10,0.5):\n",
        "  temp = np.load('tun_accuracy_multi' + str(i) + '.npy')\n",
        "  temp = np.expand_dims(temp,0)\n",
        "  gacc = np.vstack((gacc,temp))\n",
        "strngs = np.arange(0.5,5,1)\n",
        "'''\n",
        "for i in np.arange(1,11,1):\n",
        "  temp = np.load('tun_accuracy_add' + str(i) + '.npy')\n",
        "  temp = np.expand_dims(temp,0)\n",
        "  gacc = np.vstack((gacc,temp))\n",
        "strngs = np.concatenate((strngs,np.arange(1,6,1)))'''\n",
        "y = np.amax(gacc,0).T\n",
        "\n",
        "\n",
        "plt_data = np.zeros((13,4))\n",
        "for i in range(13):\n",
        "  for j in range(4):\n",
        "    plt_data[i,j] = y[i,j] - acc[j]\n",
        "\n",
        "\n",
        "import seaborn as sns\n",
        "sns.set(style=\"white\",rc={\"lines.linewidth\": 1})\n",
        "layer = 0\n",
        "f,axes = plt.subplots(2,2,figsize=(15,15))\n",
        "f.add_subplot(111, frameon=False)\n",
        "# hide tick and tick label of the big axis\n",
        "plt.tick_params(labelcolor='none', top=False, bottom=False, left=False, right=False)\n",
        "plt.xlabel(\"Layer\",size = 15)\n",
        "plt.ylabel(\"Performance Increase (%)\",size = 15)\n",
        "for x in range(2):\n",
        "  for y in range(2):\n",
        "    axes[x,y].bar(x = np.arange(0,13),height = plt_data[:,layer]*100,color = 'mediumseagreen')\n",
        "    axes[x,y].set_xticklabels(np.arange(1,14),size = 15)\n",
        "    axes[x,y].set_xticks(np.arange(0,14))\n",
        "    axes[x,y].set_title(categories[layer],size = 15)\n",
        "    axes[x,y].set_ylim(-2,35)\n",
        "    axes[x,y].set_xlim(-1,13)\n",
        "    axes[x,y].hlines(y = 0,xmin= -1,xmax = 13)\n",
        "    layer+=1\n",
        "  "
      ],
      "execution_count": 63,
      "outputs": [
        {
          "output_type": "display_data",
          "data": {
            "image/png": "[encoded data removed]",
            "text/plain": [
              "<Figure size 1080x1080 with 5 Axes>"
            ]
          },
          "metadata": {
            "tags": []
          }
        }
      ]
    }
  ]
}
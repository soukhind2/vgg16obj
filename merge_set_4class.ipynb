{
  "nbformat": 4,
  "nbformat_minor": 0,
  "metadata": {
    "colab": {
      "name": "merge_set_4class.ipynb",
      "provenance": [],
      "machine_shape": "hm",
      "authorship_tag": "ABX9TyOCXFQp9y0vRqwtPgwEjNsa",
      "include_colab_link": true
    },
    "kernelspec": {
      "name": "python3",
      "display_name": "Python 3"
    },
    "accelerator": "GPU"
  },
  "cells": [
    {
      "cell_type": "markdown",
      "metadata": {
        "id": "view-in-github",
        "colab_type": "text"
      },
      "source": [
        "<a href=\"https://colab.research.google.com/github/soukhind2/vgg16obj/blob/tuning_calc/merge_set_4class.ipynb\" target=\"_parent\"><img src=\"https://colab.research.google.com/assets/colab-badge.svg\" alt=\"Open In Colab\"/></a>"
      ]
    },
    {
      "cell_type": "markdown",
      "metadata": {
        "id": "9uhBNXwh_w9B"
      },
      "source": [
        "# Preload"
      ]
    },
    {
      "cell_type": "markdown",
      "metadata": {
        "id": "TNH3vmYgxdao"
      },
      "source": [
        "Mount the google drive and load necessary packages"
      ]
    },
    {
      "cell_type": "code",
      "metadata": {
        "id": "tWeNtkRpYWgy",
        "colab": {
          "base_uri": "https://localhost:8080/"
        },
        "outputId": "3ff6fa59-75c0-4e7a-fda4-f5637f152fb2"
      },
      "source": [
        "from google.colab import drive\n",
        "\n",
        "from pathlib import Path\n",
        "import sys\n",
        "drive.mount(\"/content/drive\", force_remount=True)"
      ],
      "execution_count": 2,
      "outputs": [
        {
          "output_type": "stream",
          "text": [
            "Mounted at /content/drive\n"
          ],
          "name": "stdout"
        }
      ]
    },
    {
      "cell_type": "code",
      "metadata": {
        "id": "paH-Z9zPYk6t",
        "colab": {
          "base_uri": "https://localhost:8080/"
        },
        "outputId": "3d50f09a-b7cc-412b-c897-f7e1e4a24860"
      },
      "source": [
        "!rm -rf vgg16obj\n",
        "!git clone -b tuning_calc https://github.com/soukhind2/vgg16obj\n",
        "! pip install https://github.com/raghakot/keras-vis/archive/master.zip #keras vis"
      ],
      "execution_count": 3,
      "outputs": [
        {
          "output_type": "stream",
          "text": [
            "Cloning into 'vgg16obj'...\n",
            "remote: Enumerating objects: 446, done.\u001b[K\n",
            "remote: Counting objects: 100% (139/139), done.\u001b[K\n",
            "remote: Compressing objects: 100% (125/125), done.\u001b[K\n",
            "remote: Total 446 (delta 70), reused 38 (delta 14), pack-reused 307\u001b[K\n",
            "Receiving objects: 100% (446/446), 11.08 MiB | 19.47 MiB/s, done.\n",
            "Resolving deltas: 100% (247/247), done.\n",
            "Collecting https://github.com/raghakot/keras-vis/archive/master.zip\n",
            "\u001b[?25l  Downloading https://github.com/raghakot/keras-vis/archive/master.zip\n",
            "\u001b[K     | 50.0MB 210.3MB/s\n",
            "\u001b[?25hRequirement already satisfied: keras>=2.0 in /usr/local/lib/python3.7/dist-packages (from keras-vis==0.5.0) (2.4.3)\n",
            "Requirement already satisfied: six in /usr/local/lib/python3.7/dist-packages (from keras-vis==0.5.0) (1.15.0)\n",
            "Requirement already satisfied: scikit-image in /usr/local/lib/python3.7/dist-packages (from keras-vis==0.5.0) (0.16.2)\n",
            "Requirement already satisfied: matplotlib in /usr/local/lib/python3.7/dist-packages (from keras-vis==0.5.0) (3.2.2)\n",
            "Requirement already satisfied: h5py in /usr/local/lib/python3.7/dist-packages (from keras-vis==0.5.0) (3.1.0)\n",
            "Requirement already satisfied: numpy>=1.9.1 in /usr/local/lib/python3.7/dist-packages (from keras>=2.0->keras-vis==0.5.0) (1.19.5)\n",
            "Requirement already satisfied: pyyaml in /usr/local/lib/python3.7/dist-packages (from keras>=2.0->keras-vis==0.5.0) (3.13)\n",
            "Requirement already satisfied: scipy>=0.14 in /usr/local/lib/python3.7/dist-packages (from keras>=2.0->keras-vis==0.5.0) (1.4.1)\n",
            "Requirement already satisfied: imageio>=2.3.0 in /usr/local/lib/python3.7/dist-packages (from scikit-image->keras-vis==0.5.0) (2.4.1)\n",
            "Requirement already satisfied: pillow>=4.3.0 in /usr/local/lib/python3.7/dist-packages (from scikit-image->keras-vis==0.5.0) (7.1.2)\n",
            "Requirement already satisfied: PyWavelets>=0.4.0 in /usr/local/lib/python3.7/dist-packages (from scikit-image->keras-vis==0.5.0) (1.1.1)\n",
            "Requirement already satisfied: networkx>=2.0 in /usr/local/lib/python3.7/dist-packages (from scikit-image->keras-vis==0.5.0) (2.5.1)\n",
            "Requirement already satisfied: python-dateutil>=2.1 in /usr/local/lib/python3.7/dist-packages (from matplotlib->keras-vis==0.5.0) (2.8.1)\n",
            "Requirement already satisfied: pyparsing!=2.0.4,!=2.1.2,!=2.1.6,>=2.0.1 in /usr/local/lib/python3.7/dist-packages (from matplotlib->keras-vis==0.5.0) (2.4.7)\n",
            "Requirement already satisfied: kiwisolver>=1.0.1 in /usr/local/lib/python3.7/dist-packages (from matplotlib->keras-vis==0.5.0) (1.3.1)\n",
            "Requirement already satisfied: cycler>=0.10 in /usr/local/lib/python3.7/dist-packages (from matplotlib->keras-vis==0.5.0) (0.10.0)\n",
            "Requirement already satisfied: cached-property; python_version < \"3.8\" in /usr/local/lib/python3.7/dist-packages (from h5py->keras-vis==0.5.0) (1.5.2)\n",
            "Requirement already satisfied: decorator<5,>=4.3 in /usr/local/lib/python3.7/dist-packages (from networkx>=2.0->scikit-image->keras-vis==0.5.0) (4.4.2)\n",
            "Building wheels for collected packages: keras-vis\n",
            "  Building wheel for keras-vis (setup.py) ... \u001b[?25l\u001b[?25hdone\n",
            "  Created wheel for keras-vis: filename=keras_vis-0.5.0-py2.py3-none-any.whl size=30868 sha256=3fb784f225dec668e021e4adb1acc26e99814986d39a582a0b8a175ac2ade020\n",
            "  Stored in directory: /tmp/pip-ephem-wheel-cache-4hxfd59b/wheels/7e/91/e5/9fdb0f2f5fa5d9f402c6fbfaf015aadbe3dba024ede6532727\n",
            "Successfully built keras-vis\n",
            "Installing collected packages: keras-vis\n",
            "  Found existing installation: keras-vis 0.4.1\n",
            "    Uninstalling keras-vis-0.4.1:\n",
            "      Successfully uninstalled keras-vis-0.4.1\n",
            "Successfully installed keras-vis-0.5.0\n"
          ],
          "name": "stdout"
        }
      ]
    },
    {
      "cell_type": "markdown",
      "metadata": {
        "id": "bVSWxf5qxoSv"
      },
      "source": [
        "Unpack the items"
      ]
    },
    {
      "cell_type": "code",
      "metadata": {
        "id": "TL5079ZkYpf5"
      },
      "source": [
        "#!unzip -q /content/drive/My\\ Drive/obj/data\n",
        "#!unzip -q /content/drive/My\\ Drive/obj/test2\n",
        "#!unzip -q /content/drive/My\\ Drive/obj/sean_test\n",
        "!unzip -q /content/drive/My\\ Drive/obj/data_6class\n",
        "!unzip -q /content/drive/My\\ Drive/obj/merge\n"
      ],
      "execution_count": 4,
      "outputs": []
    },
    {
      "cell_type": "markdown",
      "metadata": {
        "id": "Uxfdgi8hHv_1"
      },
      "source": [
        "# Load libraries\n",
        "Load the necessary libraries"
      ]
    },
    {
      "cell_type": "code",
      "metadata": {
        "id": "bmdIPynMYsJj"
      },
      "source": [
        "import numpy as np\n",
        "import pandas as pd\n",
        "import os\n",
        "import time\n",
        "import math\n",
        "import matplotlib.pyplot as plt\n",
        "import pickle\n",
        "import cv2\n",
        "import seaborn as sns\n",
        "import random\n",
        "\n",
        "\n",
        "from keras.applications.vgg16 import VGG16,preprocess_input\n",
        "from keras.preprocessing.image import ImageDataGenerator,load_img, img_to_array\n",
        "from keras.layers import Flatten,Dense,Dropout,Input,BatchNormalization\n",
        "from keras.models import Sequential,Model\n",
        "from keras.utils.np_utils import to_categorical\n",
        "from keras.optimizers import Adam\n",
        "from keras.callbacks import EarlyStopping\n",
        "from keras.utils.vis_utils import plot_model\n",
        "\n",
        "from sklearn import metrics\n",
        "from sklearn.metrics import confusion_matrix\n",
        "import itertools\n",
        "\n",
        "from vgg16obj.tools import tuning_calcs as tc\n",
        "from vgg16obj.tools import gradient_calcs as gc\n",
        "from vgg16obj.tools import stats as st\n",
        "from vgg16obj.tools import plot_tools as pt\n",
        "\n",
        "\n",
        "import tensorflow as tf\n",
        "from tensorflow import math"
      ],
      "execution_count": 5,
      "outputs": []
    },
    {
      "cell_type": "markdown",
      "metadata": {
        "id": "vPKnbq8zZAEI"
      },
      "source": [
        "# Load Images"
      ]
    },
    {
      "cell_type": "markdown",
      "metadata": {
        "id": "K3AFr11WZBql"
      },
      "source": [
        "### Merged Images"
      ]
    },
    {
      "cell_type": "code",
      "metadata": {
        "id": "jWkKJ-FAY8Dq"
      },
      "source": [
        "def noisy(image):\n",
        "  row,col,ch= image.shape\n",
        "  mean = 0\n",
        "  var = 1\n",
        "  sigma = var**0.5\n",
        "  gauss = np.random.normal(mean,sigma,(row,col,ch))\n",
        "  gauss = gauss.reshape(row,col,ch)\n",
        "  noisy = image + gauss\n",
        "  return noisy\n",
        "\n",
        "def convertimgs(path,noise = False) :\n",
        "    data = []\n",
        "    for dirName, subdir, files in os.walk(path):\n",
        "        for filename in sorted(files):\n",
        "            if filename == '.DS_Store':\n",
        "                continue\n",
        "            ds = load_img(path +'/' + filename,target_size = (224,224))\n",
        "            im = img_to_array(ds)\n",
        "            im /= 255.\n",
        "            #im = im.reshape((1, im.shape[0], im.shape[1], im.shape[2]))\n",
        "            #im = preprocess_input(im)\n",
        "            if noise:\n",
        "              im = noisy(im)\n",
        "            data.append(im) \n",
        "    return data"
      ],
      "execution_count": 6,
      "outputs": []
    },
    {
      "cell_type": "code",
      "metadata": {
        "id": "P267h5kYZE_H",
        "colab": {
          "base_uri": "https://localhost:8080/",
          "height": 280
        },
        "outputId": "9c8cca4d-92d1-4687-8eb5-3816c210089b"
      },
      "source": [
        "# Merged images load\n",
        "data_train = [[]  for i in range(8)]\n",
        "data_train[0] = convertimgs('/content/merge/merge_train/Correct/Male',noise = False)  #75\n",
        "data_train[1] = convertimgs('/content/merge/merge_train/Correct/Female/',noise = False) #75\n",
        "data_train[2] = convertimgs('/content/merge/merge_train/Correct/Manmade/',noise = False) #75\n",
        "data_train[3] = convertimgs('/content/merge/merge_train/Correct/Natural/',noise = False) #75\n",
        "#data_train[4] = convertimgs('/content/merge/merge_train/Correct/Powered',noise = False) #75\n",
        "#data_train[5] = convertimgs('/content/merge/merge_train/Correct/Nonpowered',noise = False) #75\n",
        "\n",
        "data_train[4] = convertimgs('/content/merge/merge_train/Incorrect/Male',noise = False) #75\n",
        "data_train[5] = convertimgs('/content/merge/merge_train/Incorrect/Female',noise = False) #75\n",
        "data_train[6] = convertimgs('/content/merge/merge_train/Incorrect/Manmade',noise = False) #75\n",
        "data_train[7] = convertimgs('/content/merge/merge_train/Incorrect/Natural',noise = False) #75\n",
        "#data_train[10] = convertimgs('/content/merge/merge_train/Incorrect/Powered',noise = False) #75\n",
        "#data_train[11] = convertimgs('/content/merge/merge_train/Incorrect/Nonpowered',noise = False) #75\n",
        "data_train = np.array(data_train)\n",
        " \n",
        "data_test = [[]  for i in range(8)]\n",
        "data_test[0] = convertimgs('/content/merge/merge_test/Correct/Male',noise = False)  #75\n",
        "data_test[1] = convertimgs('/content/merge/merge_test/Correct/Female/',noise = False) #75\n",
        "data_test[2] = convertimgs('/content/merge/merge_test/Correct/Manmade/',noise = False) #75\n",
        "data_test[3] = convertimgs('/content/merge/merge_test/Correct/Natural/',noise = False) #75\n",
        "#data_test[4] = convertimgs('/content/merge/merge_test/Correct/Powered',noise = False) #75\n",
        "#data_test[5] = convertimgs('/content/merge/merge_test/Correct/Nonpowered',noise = False) #75\n",
        "\n",
        "data_test[4] = convertimgs('/content/merge/merge_test/Incorrect/Male',noise = False) #75\n",
        "data_test[5] = convertimgs('/content/merge/merge_test/Incorrect/Female',noise = False) #75\n",
        "data_test[6] = convertimgs('/content/merge/merge_test/Incorrect/Manmade',noise = False) #75\n",
        "data_test[7] = convertimgs('/content/merge/merge_test/Incorrect/Natural',noise = False) #75\n",
        "#data_test[10] = convertimgs('/content/merge/merge_test/Incorrect/Powered',noise = False) #75\n",
        "#data_test[11] = convertimgs('/content/merge/merge_test/Incorrect/Nonpowered',noise = False) #75\n",
        "data_test = np.array(data_test)\n",
        "\n",
        "\n",
        "print(data_train.shape,data_test.shape)\n",
        "\n",
        "#plt.imshow(data_train[3,79])\n",
        "plt.axis('off')\n",
        "\n",
        "# Regular Images load\n",
        "\n",
        "reg_train = [[]  for i in range(8)]\n",
        "reg_train[0] = convertimgs('/content/merge/merge_reg_train/Correct/Male',noise = False)  # 75\n",
        "reg_train[1] = convertimgs('/content/merge/merge_reg_train/Correct/Female',noise = False) # 75\n",
        "reg_train[2] = convertimgs('/content/merge/merge_reg_train/Correct/Manmade',noise = False) # 75\n",
        "reg_train[3] = convertimgs('/content/merge/merge_reg_train/Correct/Natural/',noise = False) # 75\n",
        "#reg_train[4] = convertimgs('/content/merge/merge_reg_train/Correct/Powered',noise = False) # 75\n",
        "#reg_train[5] = convertimgs('/content/merge/merge_reg_train/Correct/Nonpowered',noise = False) # 75\n",
        "\n",
        "reg_train[4] = convertimgs('/content/merge/merge_reg_train/Incorrect/Male',noise = False)  # 75\n",
        "reg_train[5] = convertimgs('/content/merge/merge_reg_train/Incorrect/Female',noise = False) # 75\n",
        "reg_train[6] = convertimgs('/content/merge/merge_reg_train/Incorrect/Manmade',noise = False) # 75\n",
        "reg_train[7] = convertimgs('/content/merge/merge_reg_train/Incorrect/Natural/',noise = False) # 75\n",
        "#reg_train[10] = convertimgs('/content/merge/merge_reg_train/Incorrect/Powered',noise = False) # 75\n",
        "#reg_train[11] = convertimgs('/content/merge/merge_reg_train/Incorrect/Nonpowered',noise = False) # 75\n",
        "reg_train = np.array(reg_train)\n",
        "\n",
        "\n",
        "reg_test = [[]  for i in range(8)]\n",
        "reg_test[0] = convertimgs('/content/merge/merge_reg_test/Correct/Male',noise = False)  #75\n",
        "reg_test[1] = convertimgs('/content/merge/merge_reg_test/Correct/Female/',noise = False) #75\n",
        "reg_test[2] = convertimgs('/content/merge/merge_reg_test/Correct/Manmade/',noise = False) #75\n",
        "reg_test[3] = convertimgs('/content/merge/merge_reg_test/Correct/Natural/',noise = False) #75\n",
        "#reg_test[4] = convertimgs('/content/merge/merge_reg_test/Correct/Powered',noise = False) #75\n",
        "#reg_test[5] = convertimgs('/content/merge/merge_reg_test/Correct/Nonpowered',noise = False) #75\n",
        "\n",
        "reg_test[4] = convertimgs('/content/merge/merge_reg_test/Incorrect/Male',noise = False) #75\n",
        "reg_test[5] = convertimgs('/content/merge/merge_reg_test/Incorrect/Female',noise = False) #75\n",
        "reg_test[6] = convertimgs('/content/merge/merge_reg_test/Incorrect/Manmade',noise = False) #75\n",
        "reg_test[7] = convertimgs('/content/merge/merge_reg_test/Incorrect/Natural',noise = False) #75\n",
        "#reg_test[10] = convertimgs('/content/merge/merge_reg_test/Incorrect/Powered',noise = False) #75\n",
        "#reg_test[11] = convertimgs('/content/merge/merge_reg_test/Incorrect/Nonpowered',noise = False) #75\n",
        "reg_test = np.array(reg_test)\n",
        "\n",
        "print(reg_train.shape,reg_test.shape)\n",
        "\n"
      ],
      "execution_count": 7,
      "outputs": [
        {
          "output_type": "stream",
          "text": [
            "(8, 75, 224, 224, 3) (8, 15, 224, 224, 3)\n",
            "(8, 75, 224, 224, 3) (8, 15, 224, 224, 3)\n"
          ],
          "name": "stdout"
        },
        {
          "output_type": "display_data",
          "data": {
            "image/png": "[encoded data removed]",
            "text/plain": [
              "<Figure size 432x288 with 1 Axes>"
            ]
          },
          "metadata": {
            "tags": [],
            "needs_background": "light"
          }
        }
      ]
    },
    {
      "cell_type": "markdown",
      "metadata": {
        "id": "RsJqRd2ccJXG"
      },
      "source": [
        "# Model\n",
        "Call the base model and the top model here"
      ]
    },
    {
      "cell_type": "markdown",
      "metadata": {
        "id": "6QLK6addybWJ"
      },
      "source": [
        "### Model Architecture"
      ]
    },
    {
      "cell_type": "code",
      "metadata": {
        "id": "Dsm9BSiwGctD",
        "colab": {
          "base_uri": "https://localhost:8080/"
        },
        "outputId": "21fdc247-825b-4e86-a1f1-88998e07c790"
      },
      "source": [
        "# Calling VGG16 without the top FC layers with weights loaded from imagenet \n",
        "model = VGG16(weights='imagenet',\n",
        "              include_top=False,input_shape = [224,224,3])\n",
        "#plot_model(model,show_shapes=True,expand_nested=True)\n",
        "#model.save_weights('vgg_w',save_format='h5')\n",
        "\n",
        "categories = ['Male','Female','Manmade','Natural']\n",
        "interest = 0\n",
        "print('Category of interest: ', categories[interest])\n",
        "train_it = np.concatenate((reg_train[interest],reg_train[interest + 6]))\n",
        "test_it = np.concatenate((reg_test[interest],reg_test[interest + 6]))\n",
        "print(train_it.shape,test_it.shape)\n",
        "\n",
        "start = time.time()\n",
        "features_train = model.predict(train_it) \n",
        "print(f'Train Time: {time.time() - start}')\n",
        "\n",
        "start = time.time()\n",
        "features_test = model.predict(test_it) \n",
        "print(f'Test Time: {time.time() - start}')\n",
        "epochs = 30\n",
        "\n",
        "ntrain = 75\n",
        "train_labels = to_categorical([0] * ntrain + [1]*ntrain)\n",
        "\n",
        "\n",
        "ntest = 15\n",
        "test_labels = to_categorical([0] * ntest + [1]*ntest) \n",
        "\n",
        "losses = 'binary_crossentropy'\n",
        "\n",
        "# Initialize the top model with FC layers. These are the only ones to be trained\n",
        "top_model = Sequential()\n",
        "top_model.add(Flatten(input_shape=features_train.shape[1:])) \n",
        "top_model.add(Dense(4096, activation='relu',name = 'top_dense1')) \n",
        "top_model.add(Dense(2, activation='softmax',name = 'predictions'))\n",
        "\n",
        "top_model.compile(optimizer= Adam(lr=1e-5),\n",
        "              loss=losses,\n",
        "              metrics=['accuracy'])\n",
        "top_model.summary()\n",
        "\n",
        "es = EarlyStopping(monitor='loss', mode='min', verbose=1)\n"
      ],
      "execution_count": 8,
      "outputs": [
        {
          "output_type": "stream",
          "text": [
            "Downloading data from https://storage.googleapis.com/tensorflow/keras-applications/vgg16/vgg16_weights_tf_dim_ordering_tf_kernels_notop.h5\n",
            "58892288/58889256 [==============================] - 0s 0us/step\n",
            "58900480/58889256 [==============================] - 0s 0us/step\n",
            "Category of interest:  Male\n",
            "(150, 224, 224, 3) (30, 224, 224, 3)\n",
            "Train Time: 25.26356554031372\n",
            "Test Time: 2.850229501724243\n",
            "Model: \"sequential\"\n",
            "_________________________________________________________________\n",
            "Layer (type)                 Output Shape              Param #   \n",
            "=================================================================\n",
            "flatten (Flatten)            (None, 25088)             0         \n",
            "_________________________________________________________________\n",
            "top_dense1 (Dense)           (None, 4096)              102764544 \n",
            "_________________________________________________________________\n",
            "predictions (Dense)          (None, 2)                 8194      \n",
            "=================================================================\n",
            "Total params: 102,772,738\n",
            "Trainable params: 102,772,738\n",
            "Non-trainable params: 0\n",
            "_________________________________________________________________\n"
          ],
          "name": "stdout"
        },
        {
          "output_type": "stream",
          "text": [
            "/usr/local/lib/python3.7/dist-packages/tensorflow/python/keras/optimizer_v2/optimizer_v2.py:375: UserWarning: The `lr` argument is deprecated, use `learning_rate` instead.\n",
            "  \"The `lr` argument is deprecated, use `learning_rate` instead.\")\n"
          ],
          "name": "stderr"
        }
      ]
    },
    {
      "cell_type": "markdown",
      "metadata": {
        "id": "La-h_mR0ygZN"
      },
      "source": [
        "### Model Testing\n",
        "\n",
        "Train the model on regular images, and then test separately on regular images\n",
        "followed by testing separately for merged images"
      ]
    },
    {
      "cell_type": "code",
      "metadata": {
        "id": "pBvaXyRraKrN",
        "colab": {
          "base_uri": "https://localhost:8080/"
        },
        "outputId": "9bc65cb7-1404-4596-ceb7-ad7137a07600"
      },
      "source": [
        "\n",
        "acc = np.zeros((2,4))\n",
        "for imtype in range(2):\n",
        "  for cat in range(2,3):\n",
        "    tf.keras.backend.clear_session()\n",
        "\n",
        "    print('Category of interest: ', categories[cat])\n",
        "    train_it = np.concatenate((reg_train[cat],reg_train[cat + 4])) # Train on regular data\n",
        "    if imtype == 0: # Regular\n",
        "      test_it = np.concatenate((reg_test[cat],reg_test[cat + 4])) # Test on merged data\n",
        "    else:\n",
        "      test_it = np.concatenate((data_test[cat],data_test[cat + 4])) # Test on merged data\n",
        "    print(train_it.shape,test_it.shape)\n",
        "\n",
        "    \n",
        "    start = time.time()\n",
        "    train_data = model.predict(train_it) \n",
        "    print(f'Train Time: {time.time() - start}')\n",
        "\n",
        "    start = time.time()\n",
        "    test_data = model.predict(test_it) \n",
        "    print(f'Test Time: {time.time() - start}')\n",
        "    \n",
        "    history = top_model.fit(x = train_data,  y = train_labels,\n",
        "            epochs=epochs,\n",
        "            batch_size=64,\n",
        "            verbose = 1, callbacks = [es])\n",
        "\n",
        "    out = top_model.evaluate(test_data, test_labels)\n",
        "    acc[imtype,cat] = out[1]\n",
        "    print(out)"
      ],
      "execution_count": 96,
      "outputs": [
        {
          "output_type": "stream",
          "text": [
            "Category of interest:  Manmade\n",
            "(150, 224, 224, 3) (30, 224, 224, 3)\n",
            "Train Time: 0.22277283668518066\n",
            "Test Time: 0.08020186424255371\n",
            "Epoch 1/30\n",
            "3/3 [==============================] - 0s 10ms/step - loss: 0.1804 - accuracy: 0.9333\n",
            "1/1 [==============================] - 0s 18ms/step - loss: 0.7584 - accuracy: 0.6333\n",
            "[0.7584006190299988, 0.6333333253860474]\n",
            "Category of interest:  Manmade\n",
            "(150, 224, 224, 3) (30, 224, 224, 3)\n",
            "Train Time: 0.22615432739257812\n",
            "Test Time: 0.07564306259155273\n",
            "Epoch 1/30\n",
            "3/3 [==============================] - 0s 10ms/step - loss: 0.1682 - accuracy: 0.9267\n",
            "1/1 [==============================] - 0s 16ms/step - loss: 0.5883 - accuracy: 0.7333\n",
            "[0.5882899761199951, 0.7333333492279053]\n"
          ],
          "name": "stdout"
        }
      ]
    },
    {
      "cell_type": "code",
      "metadata": {
        "id": "PvLJn95-fGAd"
      },
      "source": [
        "acc[0,:] = [86.67,86.67,80,86.67]\n",
        "acc[1,:] = [56.67,70,63,53]"
      ],
      "execution_count": 99,
      "outputs": []
    },
    {
      "cell_type": "markdown",
      "metadata": {
        "id": "2Gi97SdGyrE2"
      },
      "source": [
        "### Prelim result plots\n",
        "Plot the average accuracy obtained for regular vs merged images"
      ]
    },
    {
      "cell_type": "code",
      "metadata": {
        "id": "DvIZeqnRgQ4j",
        "colab": {
          "base_uri": "https://localhost:8080/",
          "height": 1000
        },
        "outputId": "9cda8110-b3d4-4f98-8dfb-93ab3178ffca"
      },
      "source": [
        "diff = acc[0]-acc[1]\n",
        "print(np.mean(acc))\n",
        "import seaborn as sns\n",
        "\n",
        "sns.set(style=\"white\",rc={\"lines.linewidth\": 0.7})\n",
        "sns.set(font_scale = 2)\n",
        "\n",
        "plt.figure(figsize = (8,8))\n",
        "ax = sns.boxplot(data = acc.T )\n",
        "ax.set_xlabel('Category',size = 20)\n",
        "ax.set_xticklabels(['Regular','Merged'])\n",
        "ax.set_ylabel('Binary Classification Acc.',size = 20)\n",
        "ax.set_yticks([50,60,70,80,90,100])\n",
        "\n",
        "\n",
        "# Cateogory wise performance difference\n",
        "plt.figure(figsize = (8,8))\n",
        "sns.set(style=\"white\",rc={\"lines.linewidth\": 1})\n",
        "ax = sns.lineplot(data = diff ,marker=\"o\")\n",
        "ax.set_xlabel('Category',size = 20)\n",
        "ax.set_xticklabels(['Regular','Male','Female','Manmade','Natural'],size = 15)\n",
        "ax.set_ylabel('\\u0394 Accuracy',size = 20)\n",
        "\n"
      ],
      "execution_count": 106,
      "outputs": [
        {
          "output_type": "stream",
          "text": [
            "72.83500000000001\n"
          ],
          "name": "stdout"
        },
        {
          "output_type": "execute_result",
          "data": {
            "text/plain": [
              "Text(0, 0.5, 'Δ Accuracy')"
            ]
          },
          "metadata": {
            "tags": []
          },
          "execution_count": 106
        },
        {
          "output_type": "display_data",
          "data": {
            "image/png": "[encoded data removed]",
            "text/plain": [
              "<Figure size 576x576 with 1 Axes>"
            ]
          },
          "metadata": {
            "tags": []
          }
        },
        {
          "output_type": "display_data",
          "data": {
            "image/png": "[encoded data removed]",
            "text/plain": [
              "<Figure size 576x576 with 1 Axes>"
            ]
          },
          "metadata": {
            "tags": []
          }
        }
      ]
    },
    {
      "cell_type": "markdown",
      "metadata": {
        "id": "bRcNO6SiiCOd"
      },
      "source": [
        "# Tuning Value Calculation"
      ]
    },
    {
      "cell_type": "code",
      "metadata": {
        "id": "X3fPlYt_uupE",
        "colab": {
          "base_uri": "https://localhost:8080/"
        },
        "outputId": "bc6985b6-0b0b-450f-9b9c-088d37d90b85"
      },
      "source": [
        "calc_tun_activ = 1\n",
        "\n",
        "if calc_tun_activ:\n",
        "  for cat in range(len(categories)): \n",
        "\n",
        "    print('Category of interest: ', categories[cat])\n",
        "    train_it = reg_train[cat]\n",
        "\n",
        "    layer_names = [layer.name for layer in model.layers if 'conv' in layer.name]\n",
        "    layer_outputs = [layer.output for layer in model.layers if layer.name in layer_names]\n",
        "    activation_model = Model(inputs=model.input, outputs=layer_outputs)\n",
        "    \n",
        "    start = time.time()\n",
        "    tun_activ = tc.calc_tun(train_it,activation_model,layer_names)\n",
        "    print(f'Elapsed: {time.time() - start}s')\n",
        "\n",
        "    with open('tuning_values_' + str(cat), 'wb') as fp:\n",
        "      pickle.dump(tun_activ, fp)"
      ],
      "execution_count": 9,
      "outputs": [
        {
          "output_type": "stream",
          "text": [
            "Category of interest:  Male\n",
            "Elapsed: 13.837868690490723s\n",
            "Category of interest:  Female\n",
            "Elapsed: 13.593281030654907s\n",
            "Category of interest:  Manmade\n",
            "Elapsed: 13.593870401382446s\n",
            "Category of interest:  Natural\n",
            "Elapsed: 13.706570863723755s\n"
          ],
          "name": "stdout"
        }
      ]
    },
    {
      "cell_type": "markdown",
      "metadata": {
        "id": "KmnNRm50Q05-"
      },
      "source": [
        "### Load tuning activities"
      ]
    },
    {
      "cell_type": "code",
      "metadata": {
        "id": "if9i3JjziHTN",
        "colab": {
          "base_uri": "https://localhost:8080/"
        },
        "outputId": "e335586c-3c21-440f-fd0b-dbaa1e8a6746"
      },
      "source": [
        "tun_activ = []\n",
        "for interest in range(len(categories)): \n",
        "  with open ('tuning_values_' + str(interest), 'rb') as fp:\n",
        "      tun_activ.extend(pickle.load(fp))\n",
        "len(tun_activ)\n",
        "\n"
      ],
      "execution_count": 10,
      "outputs": [
        {
          "output_type": "execute_result",
          "data": {
            "text/plain": [
              "300"
            ]
          },
          "metadata": {
            "tags": []
          },
          "execution_count": 10
        }
      ]
    },
    {
      "cell_type": "markdown",
      "metadata": {
        "id": "jJIu_3X-iLeP"
      },
      "source": [
        "### Calculation of tuning values for each map"
      ]
    },
    {
      "cell_type": "code",
      "metadata": {
        "id": "Y6C47jSjiJXP"
      },
      "source": [
        "ncats = len(categories)\n",
        "# to fish out each category tun_activations\n",
        "labels = np.array([0] * 75 + [1] * 75 + [2] * 75 + [3] * 75 )\n",
        "cat_tun = [[[] for j in range(len(tun_activ[0]))] for i in range(ncats)]\n",
        "\n",
        "avg_tun_activ = tc.calc_avg(tun_activ) #average tuning activity for each map\n",
        "std_tun_activ = tc.calc_std(tun_activ,avg_tun_activ) #std tuning activity for each map\n",
        "\n",
        "for i in range(ncats):\n",
        "  #Calculating average activity of each\n",
        "  #feature map in response to images of respective category, \n",
        "  #with the mean activity under all image categories subtracted from it\n",
        "  idx = list(np.where(labels == i))\n",
        "  cat_tun[i] = tc.calc_avg([tun_activ[i] for i in idx[0]])\n",
        "\n",
        "# Vector of tuning values for each obj cataegory\n",
        "fc = [[[0 for item in subl] for subl in cat_tun[0]] for i in range(ncats)]\n",
        "#fc has length of ncats x nlayers x no of maps in each layer\n",
        "for cat in range(ncats):\n",
        "  for layer in range(len(cat_tun[cat])):\n",
        "    for map in range(len(cat_tun[cat][layer])):\n",
        "      if std_tun_activ[layer][map] == 0:\n",
        "        continue\n",
        "      fc[cat][layer][map] = (cat_tun[cat][layer][map] - \n",
        "                                avg_tun_activ[layer][map])/std_tun_activ[layer][map]"
      ],
      "execution_count": 11,
      "outputs": []
    },
    {
      "cell_type": "markdown",
      "metadata": {
        "id": "OiF5A5hzMSjT"
      },
      "source": [
        "### Tuning quality"
      ]
    },
    {
      "cell_type": "code",
      "metadata": {
        "id": "wOSl0b-UiRnH",
        "colab": {
          "base_uri": "https://localhost:8080/"
        },
        "outputId": "2782e191-83ff-44cb-eb07-59fd3f639021"
      },
      "source": [
        "tun_quality = tc.calc_tun_quality(fc)\n",
        "sns.set(style=\"whitegrid\")\n",
        "ax = sns.boxplot(data = tun_quality,palette='cool')\n",
        "ax.set_xlabel('Layer')\n",
        "ax.set_xticklabels(np.arange(1,14))\n",
        "ax.set_ylabel('Tuning Quality')\n",
        "ax.set_ylim([0,50])"
      ],
      "execution_count": null,
      "outputs": [
        {
          "output_type": "execute_result",
          "data": {
            "text/plain": [
              "(0.0, 50.0)"
            ]
          },
          "metadata": {
            "tags": []
          },
          "execution_count": 10
        },
        {
          "output_type": "display_data",
          "data": {
            "image/png": "[encoded data removed]",
            "text/plain": [
              "<Figure size 432x288 with 1 Axes>"
            ]
          },
          "metadata": {
            "tags": []
          }
        }
      ]
    },
    {
      "cell_type": "markdown",
      "metadata": {
        "id": "yoC7ZmIr95_E"
      },
      "source": [
        "### Tuning quality for face images"
      ]
    },
    {
      "cell_type": "code",
      "metadata": {
        "id": "fcxFzTBfK-PU",
        "colab": {
          "base_uri": "https://localhost:8080/",
          "height": 317
        },
        "outputId": "bf018b3d-7af6-4180-8d03-4e56207e2a2a"
      },
      "source": [
        "tun_q_face = [[0 for item in subl] for subl in fc[0]]\n",
        "for cat in range(2):\n",
        "  for layer in range(len(fc[cat])):\n",
        "    for map in range(len(fc[cat][layer])):\n",
        "      if tun_q_face[layer][map] < fc[cat][layer][map]:\n",
        "        tun_q_face[layer][map] = fc[cat][layer][map]\n",
        "\n",
        "sns.set(style=\"whitegrid\")\n",
        "ax = sns.boxplot(data = tun_q_face,palette='cool')\n",
        "ax.set_xlabel('Layer')\n",
        "ax.set_xticklabels(np.arange(1,14))\n",
        "ax.set_ylabel('Tuning Quality')\n",
        "ax.set_ylim([0,50])\n",
        "plt.title('Tuning quality for Face Images')\n"
      ],
      "execution_count": 110,
      "outputs": [
        {
          "output_type": "execute_result",
          "data": {
            "text/plain": [
              "Text(0.5, 1.0, 'Tuning quality for Face Images')"
            ]
          },
          "metadata": {
            "tags": []
          },
          "execution_count": 110
        },
        {
          "output_type": "display_data",
          "data": {
            "image/png": "[encoded data removed]",
            "text/plain": [
              "<Figure size 432x288 with 1 Axes>"
            ]
          },
          "metadata": {
            "tags": []
          }
        }
      ]
    },
    {
      "cell_type": "markdown",
      "metadata": {
        "id": "et83rH-l93zU"
      },
      "source": [
        "### Tuning quality for non face neurons"
      ]
    },
    {
      "cell_type": "code",
      "metadata": {
        "id": "iafMwylj93N4",
        "colab": {
          "base_uri": "https://localhost:8080/",
          "height": 333
        },
        "outputId": "23ef27bb-48fa-4e47-f30f-7753fa13846f"
      },
      "source": [
        "tun_q_face = [[0 for item in subl] for subl in fc[0]]\n",
        "for cat in range(2,4):\n",
        "  for layer in range(len(fc[cat])):\n",
        "    for map in range(len(fc[cat][layer])):\n",
        "      if tun_q_face[layer][map] < fc[cat][layer][map]:\n",
        "        tun_q_face[layer][map] = fc[cat][layer][map]\n",
        "\n",
        "sns.set(style=\"whitegrid\")\n",
        "ax = sns.boxplot(data = tun_q_face,palette='cool')\n",
        "ax.set_xlabel('Layer')\n",
        "ax.set_xticklabels(np.arange(1,14))\n",
        "ax.set_ylabel('Tuning Quality')\n",
        "ax.set_ylim([0,50])\n",
        "plt.title('Tuning quality for Scene Images')\n",
        "\n",
        "plt.figure()\n",
        "\n"
      ],
      "execution_count": 111,
      "outputs": [
        {
          "output_type": "execute_result",
          "data": {
            "text/plain": [
              "<Figure size 432x288 with 0 Axes>"
            ]
          },
          "metadata": {
            "tags": []
          },
          "execution_count": 111
        },
        {
          "output_type": "display_data",
          "data": {
            "image/png": "[encoded data removed]",
            "text/plain": [
              "<Figure size 432x288 with 1 Axes>"
            ]
          },
          "metadata": {
            "tags": []
          }
        },
        {
          "output_type": "display_data",
          "data": {
            "text/plain": [
              "<Figure size 432x288 with 0 Axes>"
            ]
          },
          "metadata": {
            "tags": []
          }
        }
      ]
    },
    {
      "cell_type": "code",
      "metadata": {
        "id": "UtKxd454A1_N",
        "colab": {
          "base_uri": "https://localhost:8080/",
          "height": 538
        },
        "outputId": "d83af290-b411-4ebe-e7d9-4a365131ba3a"
      },
      "source": [
        "idx = [[-1 for item in subl] for subl in fc[0]] \n",
        "for layer in range(13):\n",
        "  for map in range(len(fc[0][layer])):\n",
        "    max = 0\n",
        "    for cat in range(ncats):\n",
        "      if fc[cat][layer][map] > max:\n",
        "        max = fc[cat][layer][map]\n",
        "        idx[layer][map] = cat\n",
        "\n",
        "counter = np.zeros(13)\n",
        "fig = plt.figure(figsize = (10,8))\n",
        "for layer in range(13):\n",
        "  for ele in idx[layer]:\n",
        "    if ele == 0 or ele == 1:\n",
        "      counter[layer] += 1\n",
        "plt.bar(x = np.arange(1,14,1),\n",
        "        height = counter,\n",
        "        color = 'mediumseagreen')\n",
        "plt.ylim(0,500)\n",
        "plt.xlabel('Layer',size = 15)\n",
        "plt.ylabel('No. of neurons',size = 15)\n",
        "plt.title('Number of face selective neurons',size = 15)"
      ],
      "execution_count": 112,
      "outputs": [
        {
          "output_type": "execute_result",
          "data": {
            "text/plain": [
              "Text(0.5, 1.0, 'Number of face selective neurons')"
            ]
          },
          "metadata": {
            "tags": []
          },
          "execution_count": 112
        },
        {
          "output_type": "display_data",
          "data": {
            "image/png": "[encoded data removed]",
            "text/plain": [
              "<Figure size 720x576 with 1 Axes>"
            ]
          },
          "metadata": {
            "tags": []
          }
        }
      ]
    },
    {
      "cell_type": "code",
      "metadata": {
        "id": "BWHE21BdChtO",
        "colab": {
          "base_uri": "https://localhost:8080/",
          "height": 541
        },
        "outputId": "2762000c-2b0e-41ed-9107-4f3a76e236fb"
      },
      "source": [
        "width = 0.25\n",
        "\n",
        "idx = [[-1 for item in subl] for subl in fc[0]] \n",
        "for layer in range(13):\n",
        "  for map in range(len(fc[0][layer])):\n",
        "    max = 0\n",
        "    for cat in range(ncats):\n",
        "      if fc[cat][layer][map] > max:\n",
        "        max = fc[cat][layer][map]\n",
        "        idx[layer][map] = cat\n",
        "\n",
        "c_face = np.zeros(13)\n",
        "c_scene = np.zeros(13)\n",
        "\n",
        "\n",
        "for layer in range(13):\n",
        "  for ele in idx[layer]:\n",
        "    if ele == 0 or ele == 1:\n",
        "      c_face[layer] += 1\n",
        "    elif ele == 2 or ele ==3:\n",
        "      c_scene[layer] += 1\n",
        "\n",
        "\n",
        "\n",
        "fig, ax = plt.subplots(figsize = (10,8))\n",
        "rects1 = ax.bar(np.arange(13) - width/2 , c_face, width, label='Faces',color = '#D65353')\n",
        "rects2 = ax.bar(np.arange(13) + width/2, c_scene, width, label='Scenes',color = '#F7C45F')\n",
        "\n",
        "\n",
        "# Add some text for labels, title and custom x-axis tick labels, etc.\n",
        "ax.set_ylabel('Scores')\n",
        "ax.set_title('Scores by group and gender')\n",
        "ax.set_xticks(np.arange(13))\n",
        "ax.set_xticklabels(np.arange(13))\n",
        "ax.legend()\n",
        "\n",
        "plt.ylim(0,500)\n",
        "plt.xticks(np.arange(13),np.arange(1,14),size = 12)\n",
        "plt.xlabel('Layer',size = 15)\n",
        "plt.ylabel('No. of Neurons',size = 15)\n",
        "plt.title('Number of selective neurons, category wise', size = 15)"
      ],
      "execution_count": 113,
      "outputs": [
        {
          "output_type": "execute_result",
          "data": {
            "text/plain": [
              "Text(0.5, 1.0, 'Number of selective neurons, category wise')"
            ]
          },
          "metadata": {
            "tags": []
          },
          "execution_count": 113
        },
        {
          "output_type": "display_data",
          "data": {
            "image/png": "[encoded data removed]",
            "text/plain": [
              "<Figure size 720x576 with 1 Axes>"
            ]
          },
          "metadata": {
            "tags": []
          }
        }
      ]
    },
    {
      "cell_type": "markdown",
      "metadata": {
        "id": "shVuFE6Zjx7i"
      },
      "source": [
        "# Gradient Calculations"
      ]
    },
    {
      "cell_type": "code",
      "metadata": {
        "id": "3_w6PCVSoI5k",
        "outputId": "ad693e70-060b-4d09-cb0b-2054898e60ce",
        "colab": {
          "base_uri": "https://localhost:8080/"
        }
      },
      "source": [
        "model = VGG16(weights='imagenet',\n",
        "              include_top=False,input_shape = [224,224,3])\n",
        "top_model = Sequential()\n",
        "top_model.add(Flatten(input_shape=features_train.shape[1:])) \n",
        "top_model.add(Dense(4096, activation='relu',name = 'top_dense1')) \n",
        "top_model.add(Dense(4, activation='softmax',name = 'predictions'))\n",
        "top_model.compile(optimizer= Adam(lr=1e-5),\n",
        "            loss='categorical_crossentropy',\n",
        "            metrics=['accuracy'])\n",
        "\n",
        "g_labels_train = to_categorical(labels)\n",
        "g_labels_test = to_categorical([0]* 15 + [1]*15 + [2]*15 + [3]*15)\n",
        "g_train = np.vstack((reg_train[0],reg_train[1],reg_train[2],reg_train[3]))\n",
        "g_test = np.vstack((reg_test[0],reg_test[1],reg_test[2],reg_test[3]))\n",
        "\n",
        "G_train = model.predict(g_train)\n",
        "G_test = model.predict(g_test)\n",
        "\n",
        "history = top_model.fit(x = G_train,  y = g_labels_train,\n",
        "            epochs=epochs,\n",
        "            batch_size=64,\n",
        "            verbose = 1, callbacks = [es])\n",
        "\n",
        "out = top_model.evaluate(G_test, g_labels_test)\n"
      ],
      "execution_count": 29,
      "outputs": [
        {
          "output_type": "stream",
          "text": [
            "/usr/local/lib/python3.7/dist-packages/tensorflow/python/keras/optimizer_v2/optimizer_v2.py:375: UserWarning: The `lr` argument is deprecated, use `learning_rate` instead.\n",
            "  \"The `lr` argument is deprecated, use `learning_rate` instead.\")\n"
          ],
          "name": "stderr"
        },
        {
          "output_type": "stream",
          "text": [
            "Epoch 1/30\n",
            "5/5 [==============================] - 5s 15ms/step - loss: 1.3995 - accuracy: 0.3870\n",
            "2/2 [==============================] - 0s 5ms/step - loss: 0.8094 - accuracy: 0.7333\n"
          ],
          "name": "stdout"
        }
      ]
    },
    {
      "cell_type": "code",
      "metadata": {
        "id": "nnt9MR2rj07E",
        "outputId": "0ded02ea-d9c3-49db-97de-b57e4a1672c4",
        "colab": {
          "base_uri": "https://localhost:8080/"
        }
      },
      "source": [
        "calc_gradient_val = 1\n",
        "if calc_gradient_val:\n",
        "  layer_names = [layer.name for layer in model.layers if 'conv' in layer.name]\n",
        "  cat_grads = [[[] for j in range(len(layer_names))] for i in range(ncats)]\n",
        "\n",
        "\n",
        "  start = time.time()\n",
        "  for i in range(ncats):\n",
        "    idx = list(np.where(labels == i))\n",
        "    cat_grads[i] = gc.calc_avg_gradcam(data_train[i],model,top_model)\n",
        "  print(f'Elapsed: {time.time() - start}s')\n",
        "\n",
        "  with open('gradient_values_cat', 'wb') as fp:\n",
        "      pickle.dump(cat_grads, fp)"
      ],
      "execution_count": 35,
      "outputs": [
        {
          "output_type": "stream",
          "text": [
            "0\n",
            "1\n",
            "2\n",
            "3\n",
            "4\n",
            "5\n",
            "6\n",
            "7\n",
            "8\n",
            "9\n",
            "10\n",
            "11\n",
            "12\n",
            "13\n",
            "14\n",
            "15\n",
            "16\n",
            "17\n",
            "18\n",
            "19\n",
            "20\n",
            "21\n",
            "22\n",
            "23\n",
            "24\n",
            "25\n",
            "26\n",
            "27\n",
            "28\n",
            "29\n",
            "30\n",
            "31\n",
            "32\n",
            "33\n",
            "34\n",
            "35\n",
            "36\n",
            "37\n",
            "38\n",
            "39\n",
            "40\n",
            "41\n",
            "42\n",
            "43\n",
            "44\n",
            "45\n",
            "46\n",
            "47\n",
            "48\n",
            "49\n",
            "50\n",
            "51\n",
            "52\n",
            "53\n",
            "54\n",
            "55\n",
            "56\n",
            "57\n",
            "58\n",
            "59\n",
            "60\n",
            "61\n",
            "62\n",
            "63\n",
            "64\n",
            "65\n",
            "66\n",
            "67\n",
            "68\n",
            "69\n",
            "70\n",
            "71\n",
            "72\n",
            "73\n",
            "74\n",
            "0\n",
            "1\n",
            "2\n",
            "3\n",
            "4\n",
            "5\n",
            "6\n",
            "7\n",
            "8\n",
            "9\n",
            "10\n",
            "11\n",
            "12\n",
            "13\n",
            "14\n",
            "15\n",
            "16\n",
            "17\n",
            "18\n",
            "19\n",
            "20\n",
            "21\n",
            "22\n",
            "23\n",
            "24\n",
            "25\n",
            "26\n",
            "27\n",
            "28\n",
            "29\n",
            "30\n",
            "31\n",
            "32\n",
            "33\n",
            "34\n",
            "35\n",
            "36\n",
            "37\n",
            "38\n",
            "39\n",
            "40\n",
            "41\n",
            "42\n",
            "43\n",
            "44\n",
            "45\n",
            "46\n",
            "47\n",
            "48\n",
            "49\n",
            "50\n",
            "51\n",
            "52\n",
            "53\n",
            "54\n",
            "55\n",
            "56\n",
            "57\n",
            "58\n",
            "59\n",
            "60\n",
            "61\n",
            "62\n",
            "63\n",
            "64\n",
            "65\n",
            "66\n",
            "67\n",
            "68\n",
            "69\n",
            "70\n",
            "71\n",
            "72\n",
            "73\n",
            "74\n",
            "0\n",
            "1\n",
            "2\n",
            "3\n",
            "4\n",
            "5\n",
            "6\n",
            "7\n",
            "8\n",
            "9\n",
            "10\n",
            "11\n",
            "12\n",
            "13\n",
            "14\n",
            "15\n",
            "16\n",
            "17\n",
            "18\n",
            "19\n",
            "20\n",
            "21\n",
            "22\n",
            "23\n",
            "24\n",
            "25\n",
            "26\n",
            "27\n",
            "28\n",
            "29\n",
            "30\n",
            "31\n",
            "32\n",
            "33\n",
            "34\n",
            "35\n",
            "36\n",
            "37\n",
            "38\n",
            "39\n",
            "40\n",
            "41\n",
            "42\n",
            "43\n",
            "44\n",
            "45\n",
            "46\n",
            "47\n",
            "48\n",
            "49\n",
            "50\n",
            "51\n",
            "52\n",
            "53\n",
            "54\n",
            "55\n",
            "56\n",
            "57\n",
            "58\n",
            "59\n",
            "60\n",
            "61\n",
            "62\n",
            "63\n",
            "64\n",
            "65\n",
            "66\n",
            "67\n",
            "68\n",
            "69\n",
            "70\n",
            "71\n",
            "72\n",
            "73\n",
            "74\n",
            "0\n",
            "1\n",
            "2\n",
            "3\n",
            "4\n",
            "5\n",
            "6\n",
            "7\n",
            "8\n",
            "9\n",
            "10\n",
            "11\n",
            "12\n",
            "13\n",
            "14\n",
            "15\n",
            "16\n",
            "17\n",
            "18\n",
            "19\n",
            "20\n",
            "21\n",
            "22\n",
            "23\n",
            "24\n",
            "25\n",
            "26\n",
            "27\n",
            "28\n",
            "29\n",
            "30\n",
            "31\n",
            "32\n",
            "33\n",
            "34\n",
            "35\n",
            "36\n",
            "37\n",
            "38\n",
            "39\n",
            "40\n",
            "41\n",
            "42\n",
            "43\n",
            "44\n",
            "45\n",
            "46\n",
            "47\n",
            "48\n",
            "49\n",
            "50\n",
            "51\n",
            "52\n",
            "53\n",
            "54\n",
            "55\n",
            "56\n",
            "57\n",
            "58\n",
            "59\n",
            "60\n",
            "61\n",
            "62\n",
            "63\n",
            "64\n",
            "65\n",
            "66\n",
            "67\n",
            "68\n",
            "69\n",
            "70\n",
            "71\n",
            "72\n",
            "73\n",
            "74\n",
            "Elapsed: 285.843820810318s\n"
          ],
          "name": "stdout"
        }
      ]
    },
    {
      "cell_type": "code",
      "metadata": {
        "id": "ifULoFAvj6aj"
      },
      "source": [
        "with open ('gradient_values_cat', 'rb') as fp:\n",
        "    cat_grads = pickle.load(fp)"
      ],
      "execution_count": null,
      "outputs": []
    },
    {
      "cell_type": "code",
      "metadata": {
        "id": "fqrcvvoZrDu4"
      },
      "source": [
        "corr_all = st.calc_all_corrcoeff(fc[2:4],cat_grads[2:4])\n",
        "\n",
        "import random\n",
        "\n",
        "cat_grad_s = cat_grads.copy()\n",
        "random.shuffle(cat_grad_s)\n",
        "for cat in range(len(cat_grad_s)):\n",
        "  for layer in range(len(cat_grad_s[cat])):\n",
        "    random.shuffle(cat_grad_s[cat][layer])\n",
        "\n",
        "corr_shuff = st.calc_all_corrcoeff(fc,cat_grad_s)\n",
        "\n",
        "pt.plot_corr(corr_shuff,corr_all,figsize = (20,8))\n"
      ],
      "execution_count": null,
      "outputs": []
    },
    {
      "cell_type": "code",
      "metadata": {
        "id": "-vsPYiI81jN2"
      },
      "source": [
        "corr_all"
      ],
      "execution_count": null,
      "outputs": []
    },
    {
      "cell_type": "markdown",
      "metadata": {
        "id": "syf9wsRa6Fr2"
      },
      "source": [
        "# Neuron level activities"
      ]
    },
    {
      "cell_type": "code",
      "metadata": {
        "colab": {
          "base_uri": "https://localhost:8080/"
        },
        "id": "jqmuwH9K5jpy",
        "outputId": "0e21f41c-3812-4adf-aab4-f1e0ca620184"
      },
      "source": [
        "calc_neuron_activ = 1\n",
        "\n",
        "tun_activ = [[[np.empty((224,224,64)),\n",
        "              np.empty((224,224,64)),\n",
        "              np.empty((112,112,128)),\n",
        "              np.empty((112,112,128)),\n",
        "              np.empty((56,56,256)),\n",
        "              np.empty((56,56,256)),\n",
        "              np.empty((56,56,256)),\n",
        "              np.empty((28,28,512)),\n",
        "              np.empty((28,28,512)),\n",
        "              np.empty((28,28,512)),\n",
        "              np.empty((14,14,512)),\n",
        "              np.empty((14,14,512)),\n",
        "              np.empty((14,14,512))]  for i in range(len(train_it))] for i in range(ncats)]\n",
        "              \n",
        "if calc_neuron_activ:\n",
        "  for cat in range(len(categories)): \n",
        "\n",
        "    print('Category of interest: ', categories[cat])\n",
        "    train_it = reg_train[cat]\n",
        "\n",
        "    layer_names = [layer.name for layer in model.layers if 'conv' in layer.name]\n",
        "    layer_outputs = [layer.output for layer in model.layers if layer.name in layer_names]\n",
        "    activation_model = Model(inputs=model.input, outputs=layer_outputs)\n",
        "\n",
        "\n",
        "    start = time.time()\n",
        "    for imgs,img_tensor in enumerate(train_it):\n",
        "      img_tensor = img_tensor.reshape([1,224,224,3])\n",
        "      intermediate_activations = activation_model.predict(img_tensor)\n",
        "      for l in range(len(layer_names)):\n",
        "        layer_activation = intermediate_activations[l]\n",
        "        tun_activ[cat][imgs][l] = np.squeeze(layer_activation,0)\n",
        "    \n",
        "\n",
        "    print(f'Elapsed: {time.time() - start}s')\n"
      ],
      "execution_count": null,
      "outputs": [
        {
          "output_type": "stream",
          "text": [
            "Category of interest:  Male\n",
            "Elapsed: 6.507528066635132s\n",
            "Category of interest:  Female\n",
            "Elapsed: 5.899834632873535s\n",
            "Category of interest:  Manmade\n",
            "Elapsed: 9.026545286178589s\n",
            "Category of interest:  Natural\n",
            "Elapsed: 13.638540029525757s\n"
          ],
          "name": "stdout"
        }
      ]
    },
    {
      "cell_type": "code",
      "metadata": {
        "id": "GSZ0XyAL2v7W"
      },
      "source": [
        "x = [[np.empty(64),\n",
        "     np.empty(64),\n",
        "     np.empty(128),\n",
        "     np.empty(128),\n",
        "     np.empty(256),\n",
        "     np.empty(256),\n",
        "     np.empty(256),\n",
        "     np.empty(512),\n",
        "     np.empty(512),\n",
        "     np.empty(512),\n",
        "     np.empty(512),\n",
        "     np.empty(512),\n",
        "     np.empty(512)] for i in range(ncats)]\n",
        "     \n",
        "for cat in range(ncats):\n",
        "  temp = tun_activ[cat]\n",
        "  for img in range(len(temp)):\n",
        "    for layer in range(len(temp[img])):\n",
        "      t = np.squeeze(np.array(temp[img][layer]))\n",
        "      for map in range(t.shape[2]):\n",
        "        x[cat][layer][map] = np.amax(t[:,:,map])"
      ],
      "execution_count": null,
      "outputs": []
    },
    {
      "cell_type": "code",
      "metadata": {
        "colab": {
          "base_uri": "https://localhost:8080/",
          "height": 1000
        },
        "id": "OCJ7p9xY5lAm",
        "outputId": "d5de0be6-2113-4a60-eb91-cfa48d6cd416"
      },
      "source": [
        "for cat in range(ncats):\n",
        "  plt_data = x[cat]\n",
        "  plt.figure(figsize= (15,8))\n",
        "  sns.pointplot(data = plt_data)\n",
        "  plt.xlabel('Layers')\n",
        "  plt.xticks(np.arange(0,14),np.arange(1,14),size = 15)\n",
        "  plt.ylabel('max - min neuron response magnitude',size = 15)\n",
        "  plt.yticks(np.arange(0,201,20),size = 15)\n",
        "  plt.title('Category: ' + categories[cat],size = 15)"
      ],
      "execution_count": null,
      "outputs": [
        {
          "output_type": "display_data",
          "data": {
            "image/png": "[encoded data removed]",
            "text/plain": [
              "<Figure size 1080x576 with 1 Axes>"
            ]
          },
          "metadata": {
            "tags": []
          }
        },
        {
          "output_type": "display_data",
          "data": {
            "image/png": "[encoded data removed]",
            "text/plain": [
              "<Figure size 1080x576 with 1 Axes>"
            ]
          },
          "metadata": {
            "tags": []
          }
        },
        {
          "output_type": "display_data",
          "data": {
            "image/png": "[encoded data removed]",
            "text/plain": [
              "<Figure size 1080x576 with 1 Axes>"
            ]
          },
          "metadata": {
            "tags": []
          }
        },
        {
          "output_type": "display_data",
          "data": {
            "image/png": "[encoded data removed]",
            "text/plain": [
              "<Figure size 1080x576 with 1 Axes>"
            ]
          },
          "metadata": {
            "tags": []
          }
        }
      ]
    },
    {
      "cell_type": "markdown",
      "metadata": {
        "id": "LoqhbP8HixD0"
      },
      "source": [
        "# Attention"
      ]
    },
    {
      "cell_type": "markdown",
      "metadata": {
        "id": "-etj3D0SVwfb"
      },
      "source": [
        "### Att\n",
        "(This is optional. The same code is written in vgg16obj/tools/model_calcs.py called separately in the next driver chunk"
      ]
    },
    {
      "cell_type": "code",
      "metadata": {
        "id": "QMxZPtSnWNdZ"
      },
      "source": [
        "#!/usr/bin/env python3\n",
        "# -*- coding: utf-8 -*-\n",
        "\"\"\"\n",
        "Created on Sat Oct 10 02:39:43 2020\n",
        "\n",
        "@author: soukhind\n",
        "\"\"\"\n",
        "import numpy as np\n",
        "import tensorflow as tf\n",
        "from tensorflow.keras.layers import Activation\n",
        "from tensorflow.keras.activations import relu\n",
        "from keras.utils.generic_utils import get_custom_objects\n",
        "from tensorflow.keras.callbacks import EarlyStopping\n",
        "from vis.utils import utils\n",
        "from tensorflow.python.ops import nn\n",
        "from tensorflow import math\n",
        "import time\n",
        "from sklearn.metrics import roc_curve,accuracy_score,precision_recall_curve,f1_score\n",
        "\n",
        "def gen_attnmap(modifier,mask,category,bi,atype,rand_map):\n",
        "    \"\"\"\n",
        "    \n",
        "\n",
        "    Parameters\n",
        "    ----------\n",
        "    modifier : list\n",
        "        modifier to be used to implement attention.\n",
        "    mask : ndarray\n",
        "        binary vector to determine which layer to apply attention at. \n",
        "        include attention strength by multiplying to it\n",
        "    category : ndarray\n",
        "        cateogies .\n",
        "    bi : boolean \n",
        "        bidirectionality\n",
        "        True & False.\n",
        "    atype: int\n",
        "        1 = Multiplicative\n",
        "        2 = Additive\n",
        "    rand_map: bool, optional\n",
        "        Set to 'True' for random set of tuning values\n",
        "    Returns\n",
        "    -------\n",
        "    tensor_attnmap : tensor\n",
        "        attention map.\n",
        "\n",
        "    \"\"\"\n",
        "    attnmap = []\n",
        "    #beta = calc_beta(avg_tun_activ)/10\n",
        "  \n",
        "    #conv1_1 & conv1_2\n",
        "\n",
        "    for layer in range(2):\n",
        "        mapval = np.float32(modifier[category][layer])\n",
        "        if bi == False:\n",
        "            mapval[mapval < 0] = 0\n",
        "        if atype == 1:\n",
        "          amap = np.ones((224,224,64),dtype='float32') + np.tile(mapval,[224,224,1])* mask[layer]\n",
        "        elif atype == 2:\n",
        "          amap = np.tile(mapval,[224,224,1])* mask[layer]\n",
        "        #amap[amap < 0] = 0\n",
        "        if rand_map == 1:\n",
        "          random.shuffle(amap)\n",
        "        elif rand_map == 2:\n",
        "          \n",
        "          amap = np.ones((224,224,64),dtype='float32') +  mask[layer]\n",
        "        attnmap.append(amap)\n",
        "        \n",
        "    \n",
        "    #conv2_1 & conv2_2\n",
        "    for layer in range(2,4):\n",
        "        mapval = np.float32(modifier[category][layer])\n",
        "        if bi == False:\n",
        "            mapval[mapval < 0] = 0\n",
        "        if atype == 1:\n",
        "          amap = np.ones((112,112,128),dtype='float32') + np.tile(mapval,[112,112,1])* mask[layer]\n",
        "        elif atype == 2:\n",
        "          amap = np.tile(mapval,[112,112,1])* mask[layer]\n",
        "        #amap[amap < 0] = 0\n",
        "        if rand_map == 1:\n",
        "          random.shuffle(amap)\n",
        "        elif rand_map == 2:\n",
        "          amap = np.ones((112,112,128),dtype='float32') +  mask[layer]\n",
        "        attnmap.append(amap)\n",
        "    \n",
        "    #conv3_1 - conv3_3\n",
        "    for layer in range(4,7):\n",
        "        mapval = np.float32(modifier[category][layer])\n",
        "        if bi == False:\n",
        "            mapval[mapval < 0] = 0\n",
        "        if atype == 1:\n",
        "          amap = np.ones((56,56,256),dtype='float32') + np.tile(mapval,[56,56,1])* mask[layer]\n",
        "        elif atype == 2:\n",
        "          amap = np.tile(mapval,[56,56,1])* mask[layer]\n",
        "        #amap[amap < 0] = 0\n",
        "        if rand_map == 1:\n",
        "          random.shuffle(amap)\n",
        "        elif rand_map == 2:\n",
        "          amap = np.ones((56,56,256),dtype='float32') + mask[layer]\n",
        "        attnmap.append(amap)\n",
        "    \n",
        "    #conv4_1 - conv4_3\n",
        "    for layer in range(7,10):\n",
        "        mapval = np.float32(modifier[category][layer])\n",
        "        if bi == False:\n",
        "            mapval[mapval < 0] = 0\n",
        "        if atype == 1:\n",
        "          amap = np.ones((28,28,512),dtype='float32') + np.tile(mapval,[28,28,1])* mask[layer]\n",
        "        elif atype == 2:\n",
        "          amap = np.tile(mapval,[28,28,1])* mask[layer]\n",
        "        #amap[amap < 0] = 0\n",
        "        if rand_map == 1:\n",
        "          random.shuffle(amap)\n",
        "        elif rand_map == 2:\n",
        "          amap = np.ones((28,28,512),dtype='float32') + mask[layer]\n",
        "        attnmap.append(amap)\n",
        "    \n",
        "    #conv5_1 - conv5_3\n",
        "    for layer in range(10,13):\n",
        "        mapval = np.float32(modifier[category][layer])\n",
        "        if bi == False:\n",
        "            mapval[mapval < 0] = 0\n",
        "        if atype ==1:\n",
        "          amap = np.ones((14,14,512),dtype='float32') + np.tile(mapval,[14,14,1])* mask[layer]\n",
        "        elif atype == 2:\n",
        "          amap = np.tile(mapval,[14,14,1])* mask[layer]\n",
        "        #amap[amap < 0] = 0\n",
        "        if rand_map == 1:\n",
        "          random.shuffle(amap)\n",
        "        elif rand_map == 2:\n",
        "          amap = np.ones((14,14,512),dtype='float32') + mask[layer]\n",
        "        attnmap.append(amap)\n",
        "    \n",
        "    \n",
        "    \n",
        "    tensor_attnmap = []\n",
        "    for layer in range(len(attnmap)):\n",
        "      tensor_attnmap.append(tf.convert_to_tensor(attnmap[layer])) \n",
        "    \n",
        "    return tensor_attnmap\n",
        "\n",
        "\n",
        "\n",
        "def avg_accuracy(data_train,train_labels,\n",
        "                 data_test,test_labels,\n",
        "                 modifier,\n",
        "                 model,top_model,idxpath,\n",
        "                 category,\n",
        "                 atstrng,\n",
        "                 bidir = True,\n",
        "                 atype = 1,\n",
        "                 rand_map = 0):\n",
        "    \"\"\"\n",
        "    \n",
        "\n",
        "    Parameters\n",
        "    ----------\n",
        "    data_train : ndarray\n",
        "        Training data.\n",
        "    train_labels : categorical\n",
        "        Training labels.\n",
        "    data_test : ndarray\n",
        "        Testing data.\n",
        "    test_labels : categorical\n",
        "        Testing labels.\n",
        "    categories : ndarray\n",
        "        Names of each category.\n",
        "    modifier : list\n",
        "        modifier to be used to implement attention.\n",
        "    model : keras model\n",
        "        base model.\n",
        "    top_model : keras model\n",
        "        top model.\n",
        "    idxpath : string\n",
        "        for internal use.\n",
        "    atstrng : float32\n",
        "        attention strength.\n",
        "    bidir : bool, optional\n",
        "        Bidirectionality. The default is True.\n",
        "    atype: int\n",
        "        1 = Multiplicative\n",
        "        2 = Additive\n",
        "    rand_map: int, optional\n",
        "        0 = No randomization\n",
        "        1 = Shuffled tuning values\n",
        "        2 = Same tuning values\n",
        "    Returns\n",
        "    -------\n",
        "    t_acc\n",
        "        Accuracy for each category at each layer.\n",
        "\n",
        "    \"\"\"\n",
        "    \n",
        "    epochs = 30    \n",
        "    n_layers = 13\n",
        "    t_acc = np.zeros(n_layers)\n",
        "    thr = np.zeros(n_layers)\n",
        "    for li in range(n_layers):\n",
        "        layermask = np.zeros(13)\n",
        "        layermask[li] = 1\n",
        "        tensor_attnmap = gen_attnmap(modifier,layermask*atstrng,category,bidir,atype,rand_map)     \n",
        "        def attnrelu(x,map = tensor_attnmap,atype = atype):\n",
        "            layeridx = np.load(idxpath)\n",
        "            if layeridx == 13:\n",
        "                layeridx = 0\n",
        "            if atype == 1:\n",
        "              x = nn.relu(x)\n",
        "              activations = math.multiply(x,map[layeridx])\n",
        "            if atype == 2:\n",
        "              activations = math.add(x,map[layeridx])\n",
        "              activations = nn.relu(activations)\n",
        "            layeridx += 1\n",
        "            np.save(idxpath,layeridx)\n",
        "            return activations\n",
        "    \n",
        "        get_custom_objects().update({'attnrelu': Activation(attnrelu)})\n",
        "    \n",
        "        for layer in model.layers:\n",
        "            if(hasattr(layer,'activation')):\n",
        "                layer.activation = attnrelu\n",
        "    \n",
        "        utils.apply_modifications(model)\n",
        "        model.compile()\n",
        "        \n",
        "        f_train = model.predict(data_train)     \n",
        "    \n",
        "        f_test = model.predict(data_test)\n",
        "        es = EarlyStopping(monitor='loss', mode='min', verbose=1)\n",
        "  \n",
        "        history = top_model.fit(x = f_train,  y = train_labels,\n",
        "                epochs=epochs,\n",
        "                batch_size=64,\n",
        "                verbose = 0, callbacks = [])\n",
        "    \n",
        "        out = top_model.evaluate(f_test, test_labels)\n",
        "        t_acc[li] = out[1]\n",
        "\n",
        "    return t_acc\n",
        "\n"
      ],
      "execution_count": 11,
      "outputs": []
    },
    {
      "cell_type": "markdown",
      "metadata": {
        "id": "fP0gLmlmVz7q"
      },
      "source": [
        "### Driver\n",
        "This is the big loop which applies attention at each layer separately as a function of different attentional strengths. \n",
        "PS. This is very heavy and requires hours to finish.\n"
      ]
    },
    {
      "cell_type": "code",
      "metadata": {
        "id": "0foPTv5Git5q",
        "colab": {
          "base_uri": "https://localhost:8080/"
        },
        "outputId": "807242bb-3de6-41d4-9d62-05964c5879f2"
      },
      "source": [
        "#@title Multiplicative and bidirectionality corrected\n",
        "\n",
        "from vgg16obj.tools import model_calcs as mc\n",
        "import gc\n",
        "layeridx = 0\n",
        "np.save('layeridx',layeridx)\n",
        "#atstrng = 10.5 #0,0.5,1,1.5,2,2.5,3,3.5,4,4.5,5,5.5,6,6.5,7,7.5,8,8.5,9,9.5,10\n",
        "for atstrng in np.arange(0,10,1): #Calling for different attn strengths\n",
        "  grand_acc = [[] for i in range(ncats)] \n",
        "  for cat in range(ncats): # Iterating over 6 categories\n",
        "    tf.keras.backend.clear_session()\n",
        "    print('Category of interest: ', categories[cat])\n",
        "    train_it = np.concatenate((reg_train[cat],reg_train[cat + 4])) # Training on regular data\n",
        "    test_it = np.concatenate((data_test[cat],data_test[cat + 4])) # Testing on merged data\n",
        "    print(train_it.shape,test_it.shape)\n",
        "    model = VGG16(weights='imagenet',\n",
        "                        include_top=False,input_shape = [224,224,3])\n",
        "          \n",
        "    top_model = Sequential()\n",
        "    top_model.add(Flatten(input_shape=features_train.shape[1:])) \n",
        "    top_model.add(Dense(4096, activation='relu',name = 'top_dense1')) \n",
        "    top_model.add(Dense(2, activation='sigmoid',name = 'predictions'))\n",
        "    top_model.compile(optimizer= Adam(lr=1e-5),\n",
        "                loss='categorical_crossentropy',\n",
        "                metrics=['accuracy'])\n",
        "    \n",
        "    # Read avg_accuracy's definition to learn about the parameters\n",
        "    grand_acc[cat] = avg_accuracy(train_it,\n",
        "                              train_labels,\n",
        "                              test_it,\n",
        "                              test_labels,\n",
        "                              fc,\n",
        "                              model,\n",
        "                              top_model,\n",
        "                              '/content/layeridx.npy',\n",
        "                              cat,\n",
        "                              atstrng,\n",
        "                              bidir = True,\n",
        "                              atype = 1,\n",
        "                              rand_map = 2 )\n",
        "  grand_acc = np.array(grand_acc)\n",
        "  grand_acc.reshape([13,4,1])\n",
        "  # Use tun_accuracy_multi for multiplicative mode (atype = 1) and\n",
        "  # use tun_accuracy_bias for bias mode (atype = 2)\n",
        "  np.save('tun_accuracy_multi' + str(atstrng),grand_acc)\n",
        "\n"
      ],
      "execution_count": 115,
      "outputs": [
        {
          "output_type": "stream",
          "text": [
            "Category of interest:  Male\n",
            "(150, 224, 224, 3) (30, 224, 224, 3)\n",
            "WARNING:tensorflow:Compiled the loaded model, but the compiled metrics have yet to be built. `model.compile_metrics` will be empty until you train or evaluate the model.\n"
          ],
          "name": "stdout"
        },
        {
          "output_type": "stream",
          "text": [
            "/usr/local/lib/python3.7/dist-packages/tensorflow/python/keras/optimizer_v2/optimizer_v2.py:375: UserWarning: The `lr` argument is deprecated, use `learning_rate` instead.\n",
            "  \"The `lr` argument is deprecated, use `learning_rate` instead.\")\n"
          ],
          "name": "stderr"
        },
        {
          "output_type": "stream",
          "text": [
            "WARNING:tensorflow:No training configuration found in the save file, so the model was *not* compiled. Compile it manually.\n",
            "1/1 [==============================] - 0s 211ms/step - loss: 0.6860 - accuracy: 0.7333\n",
            "1/1 [==============================] - 0s 18ms/step - loss: 0.6507 - accuracy: 0.7333\n",
            "1/1 [==============================] - 0s 18ms/step - loss: 0.6258 - accuracy: 0.7333\n",
            "1/1 [==============================] - 0s 17ms/step - loss: 0.6446 - accuracy: 0.7333\n",
            "1/1 [==============================] - 0s 18ms/step - loss: 0.6450 - accuracy: 0.7333\n",
            "1/1 [==============================] - 0s 17ms/step - loss: 0.6372 - accuracy: 0.7333\n",
            "1/1 [==============================] - 0s 18ms/step - loss: 0.6511 - accuracy: 0.7333\n",
            "1/1 [==============================] - 0s 18ms/step - loss: 0.6525 - accuracy: 0.7333\n",
            "1/1 [==============================] - 0s 18ms/step - loss: 0.6522 - accuracy: 0.7333\n",
            "1/1 [==============================] - 0s 18ms/step - loss: 0.6571 - accuracy: 0.7333\n",
            "1/1 [==============================] - 0s 18ms/step - loss: 0.6504 - accuracy: 0.7333\n",
            "1/1 [==============================] - 0s 19ms/step - loss: 0.6622 - accuracy: 0.7333\n",
            "1/1 [==============================] - 0s 18ms/step - loss: 0.6641 - accuracy: 0.7333\n",
            "Category of interest:  Female\n",
            "(150, 224, 224, 3) (30, 224, 224, 3)\n",
            "WARNING:tensorflow:Compiled the loaded model, but the compiled metrics have yet to be built. `model.compile_metrics` will be empty until you train or evaluate the model.\n",
            "WARNING:tensorflow:No training configuration found in the save file, so the model was *not* compiled. Compile it manually.\n",
            "1/1 [==============================] - 0s 204ms/step - loss: 0.5105 - accuracy: 0.8333\n",
            "1/1 [==============================] - 0s 17ms/step - loss: 0.5096 - accuracy: 0.8333\n",
            "1/1 [==============================] - 0s 18ms/step - loss: 0.5410 - accuracy: 0.8333\n",
            "1/1 [==============================] - 0s 19ms/step - loss: 0.5550 - accuracy: 0.8333\n",
            "1/1 [==============================] - 0s 17ms/step - loss: 0.5657 - accuracy: 0.8000\n",
            "1/1 [==============================] - 0s 19ms/step - loss: 0.5727 - accuracy: 0.8000\n",
            "1/1 [==============================] - 0s 21ms/step - loss: 0.5801 - accuracy: 0.8333\n",
            "1/1 [==============================] - 0s 20ms/step - loss: 0.5929 - accuracy: 0.8333\n",
            "1/1 [==============================] - 0s 18ms/step - loss: 0.5949 - accuracy: 0.8333\n",
            "1/1 [==============================] - 0s 18ms/step - loss: 0.6017 - accuracy: 0.8333\n",
            "1/1 [==============================] - 0s 18ms/step - loss: 0.6078 - accuracy: 0.8333\n",
            "1/1 [==============================] - 0s 18ms/step - loss: 0.6126 - accuracy: 0.8333\n",
            "1/1 [==============================] - 0s 17ms/step - loss: 0.6191 - accuracy: 0.8333\n",
            "Category of interest:  Manmade\n",
            "(150, 224, 224, 3) (30, 224, 224, 3)\n",
            "WARNING:tensorflow:Compiled the loaded model, but the compiled metrics have yet to be built. `model.compile_metrics` will be empty until you train or evaluate the model.\n",
            "WARNING:tensorflow:No training configuration found in the save file, so the model was *not* compiled. Compile it manually.\n",
            "1/1 [==============================] - 0s 205ms/step - loss: 0.2509 - accuracy: 0.9000\n",
            "1/1 [==============================] - 0s 18ms/step - loss: 0.2216 - accuracy: 0.8667\n",
            "1/1 [==============================] - 0s 19ms/step - loss: 0.2137 - accuracy: 0.8667\n",
            "1/1 [==============================] - 0s 18ms/step - loss: 0.2088 - accuracy: 0.8667\n",
            "1/1 [==============================] - 0s 18ms/step - loss: 0.2051 - accuracy: 0.8667\n",
            "1/1 [==============================] - 0s 18ms/step - loss: 0.1998 - accuracy: 0.9000\n",
            "1/1 [==============================] - 0s 18ms/step - loss: 0.1981 - accuracy: 0.9000\n",
            "1/1 [==============================] - 0s 18ms/step - loss: 0.1968 - accuracy: 0.9000\n",
            "1/1 [==============================] - 0s 17ms/step - loss: 0.1949 - accuracy: 0.9000\n",
            "1/1 [==============================] - 0s 18ms/step - loss: 0.1937 - accuracy: 0.9000\n",
            "1/1 [==============================] - 0s 20ms/step - loss: 0.1939 - accuracy: 0.9000\n",
            "1/1 [==============================] - 0s 18ms/step - loss: 0.1932 - accuracy: 0.9000\n",
            "1/1 [==============================] - 0s 19ms/step - loss: 0.1913 - accuracy: 0.9000\n",
            "Category of interest:  Natural\n",
            "(150, 224, 224, 3) (30, 224, 224, 3)\n",
            "WARNING:tensorflow:Compiled the loaded model, but the compiled metrics have yet to be built. `model.compile_metrics` will be empty until you train or evaluate the model.\n",
            "WARNING:tensorflow:No training configuration found in the save file, so the model was *not* compiled. Compile it manually.\n",
            "1/1 [==============================] - 0s 214ms/step - loss: 1.1489 - accuracy: 0.5333\n",
            "1/1 [==============================] - 0s 18ms/step - loss: 1.3490 - accuracy: 0.5333\n",
            "1/1 [==============================] - 0s 19ms/step - loss: 1.3999 - accuracy: 0.5333\n",
            "1/1 [==============================] - 0s 18ms/step - loss: 1.4780 - accuracy: 0.5333\n",
            "1/1 [==============================] - 0s 18ms/step - loss: 1.5175 - accuracy: 0.5333\n",
            "1/1 [==============================] - 0s 17ms/step - loss: 1.5613 - accuracy: 0.5333\n",
            "1/1 [==============================] - 0s 19ms/step - loss: 1.6107 - accuracy: 0.5333\n",
            "1/1 [==============================] - 0s 18ms/step - loss: 1.6572 - accuracy: 0.5333\n",
            "1/1 [==============================] - 0s 18ms/step - loss: 1.6943 - accuracy: 0.5333\n",
            "1/1 [==============================] - 0s 18ms/step - loss: 1.7397 - accuracy: 0.5333\n",
            "1/1 [==============================] - 0s 18ms/step - loss: 1.7621 - accuracy: 0.5333\n",
            "1/1 [==============================] - 0s 19ms/step - loss: 1.7928 - accuracy: 0.5333\n",
            "1/1 [==============================] - 0s 19ms/step - loss: 1.8124 - accuracy: 0.5333\n",
            "Category of interest:  Male\n",
            "(150, 224, 224, 3) (30, 224, 224, 3)\n",
            "WARNING:tensorflow:Compiled the loaded model, but the compiled metrics have yet to be built. `model.compile_metrics` will be empty until you train or evaluate the model.\n",
            "WARNING:tensorflow:No training configuration found in the save file, so the model was *not* compiled. Compile it manually.\n",
            "1/1 [==============================] - 0s 209ms/step - loss: 0.8288 - accuracy: 0.6667\n",
            "1/1 [==============================] - 0s 18ms/step - loss: 0.7646 - accuracy: 0.6667\n",
            "1/1 [==============================] - 0s 18ms/step - loss: 0.7422 - accuracy: 0.6667\n",
            "1/1 [==============================] - 0s 19ms/step - loss: 0.7518 - accuracy: 0.6667\n",
            "1/1 [==============================] - 0s 20ms/step - loss: 0.7418 - accuracy: 0.7000\n",
            "1/1 [==============================] - 0s 17ms/step - loss: 0.7541 - accuracy: 0.7333\n",
            "1/1 [==============================] - 0s 18ms/step - loss: 0.7398 - accuracy: 0.7333\n",
            "1/1 [==============================] - 0s 20ms/step - loss: 0.7430 - accuracy: 0.7333\n",
            "1/1 [==============================] - 0s 19ms/step - loss: 0.7497 - accuracy: 0.7333\n",
            "1/1 [==============================] - 0s 19ms/step - loss: 0.7602 - accuracy: 0.7333\n",
            "1/1 [==============================] - 0s 17ms/step - loss: 0.7985 - accuracy: 0.7333\n",
            "1/1 [==============================] - 0s 18ms/step - loss: 1.0034 - accuracy: 0.7333\n",
            "1/1 [==============================] - 0s 18ms/step - loss: 1.3650 - accuracy: 0.7000\n",
            "Category of interest:  Female\n",
            "(150, 224, 224, 3) (30, 224, 224, 3)\n",
            "WARNING:tensorflow:Compiled the loaded model, but the compiled metrics have yet to be built. `model.compile_metrics` will be empty until you train or evaluate the model.\n",
            "WARNING:tensorflow:No training configuration found in the save file, so the model was *not* compiled. Compile it manually.\n",
            "1/1 [==============================] - 0s 220ms/step - loss: 0.5894 - accuracy: 0.7667\n",
            "1/1 [==============================] - 0s 21ms/step - loss: 0.6219 - accuracy: 0.7667\n",
            "1/1 [==============================] - 0s 19ms/step - loss: 0.6521 - accuracy: 0.7667\n",
            "1/1 [==============================] - 0s 19ms/step - loss: 0.6385 - accuracy: 0.8000\n",
            "1/1 [==============================] - 0s 18ms/step - loss: 0.6548 - accuracy: 0.8000\n",
            "1/1 [==============================] - 0s 19ms/step - loss: 0.6660 - accuracy: 0.8000\n",
            "1/1 [==============================] - 0s 18ms/step - loss: 0.6780 - accuracy: 0.8000\n",
            "1/1 [==============================] - 0s 18ms/step - loss: 0.6852 - accuracy: 0.8000\n",
            "1/1 [==============================] - 0s 18ms/step - loss: 0.6943 - accuracy: 0.8000\n",
            "1/1 [==============================] - 0s 18ms/step - loss: 0.7149 - accuracy: 0.8000\n",
            "1/1 [==============================] - 0s 19ms/step - loss: 0.7490 - accuracy: 0.8000\n",
            "1/1 [==============================] - 0s 18ms/step - loss: 0.9605 - accuracy: 0.8000\n",
            "1/1 [==============================] - 0s 18ms/step - loss: 1.2489 - accuracy: 0.7667\n",
            "Category of interest:  Manmade\n",
            "(150, 224, 224, 3) (30, 224, 224, 3)\n",
            "WARNING:tensorflow:Compiled the loaded model, but the compiled metrics have yet to be built. `model.compile_metrics` will be empty until you train or evaluate the model.\n",
            "WARNING:tensorflow:No training configuration found in the save file, so the model was *not* compiled. Compile it manually.\n",
            "1/1 [==============================] - 0s 204ms/step - loss: 0.2579 - accuracy: 0.8667\n",
            "1/1 [==============================] - 0s 18ms/step - loss: 0.2378 - accuracy: 0.9000\n",
            "1/1 [==============================] - 0s 18ms/step - loss: 0.2317 - accuracy: 0.9000\n",
            "1/1 [==============================] - 0s 19ms/step - loss: 0.2298 - accuracy: 0.9000\n",
            "1/1 [==============================] - 0s 19ms/step - loss: 0.2325 - accuracy: 0.9000\n",
            "1/1 [==============================] - 0s 19ms/step - loss: 0.2340 - accuracy: 0.9000\n",
            "1/1 [==============================] - 0s 19ms/step - loss: 0.2355 - accuracy: 0.9000\n",
            "1/1 [==============================] - 0s 18ms/step - loss: 0.2374 - accuracy: 0.9000\n",
            "1/1 [==============================] - 0s 18ms/step - loss: 0.2363 - accuracy: 0.9000\n",
            "1/1 [==============================] - 0s 18ms/step - loss: 0.2330 - accuracy: 0.9000\n",
            "1/1 [==============================] - 0s 19ms/step - loss: 0.2280 - accuracy: 0.9000\n",
            "1/1 [==============================] - 0s 19ms/step - loss: 0.2432 - accuracy: 0.9000\n",
            "1/1 [==============================] - 0s 18ms/step - loss: 0.2982 - accuracy: 0.9000\n",
            "Category of interest:  Natural\n",
            "(150, 224, 224, 3) (30, 224, 224, 3)\n",
            "WARNING:tensorflow:Compiled the loaded model, but the compiled metrics have yet to be built. `model.compile_metrics` will be empty until you train or evaluate the model.\n",
            "WARNING:tensorflow:No training configuration found in the save file, so the model was *not* compiled. Compile it manually.\n",
            "1/1 [==============================] - 0s 215ms/step - loss: 0.9976 - accuracy: 0.5667\n",
            "1/1 [==============================] - 0s 17ms/step - loss: 1.1773 - accuracy: 0.5667\n",
            "1/1 [==============================] - 0s 19ms/step - loss: 1.2910 - accuracy: 0.5667\n",
            "1/1 [==============================] - 0s 18ms/step - loss: 1.3712 - accuracy: 0.5667\n",
            "1/1 [==============================] - 0s 18ms/step - loss: 1.4454 - accuracy: 0.5667\n",
            "1/1 [==============================] - 0s 19ms/step - loss: 1.4905 - accuracy: 0.5667\n",
            "1/1 [==============================] - 0s 18ms/step - loss: 1.5249 - accuracy: 0.5667\n",
            "1/1 [==============================] - 0s 19ms/step - loss: 1.5689 - accuracy: 0.5667\n",
            "1/1 [==============================] - 0s 17ms/step - loss: 1.5925 - accuracy: 0.5667\n",
            "1/1 [==============================] - 0s 18ms/step - loss: 1.6071 - accuracy: 0.5667\n",
            "1/1 [==============================] - 0s 19ms/step - loss: 1.7101 - accuracy: 0.5667\n",
            "1/1 [==============================] - 0s 19ms/step - loss: 2.0541 - accuracy: 0.5333\n",
            "1/1 [==============================] - 0s 18ms/step - loss: 2.2531 - accuracy: 0.5333\n",
            "Category of interest:  Male\n",
            "(150, 224, 224, 3) (30, 224, 224, 3)\n",
            "WARNING:tensorflow:Compiled the loaded model, but the compiled metrics have yet to be built. `model.compile_metrics` will be empty until you train or evaluate the model.\n",
            "WARNING:tensorflow:No training configuration found in the save file, so the model was *not* compiled. Compile it manually.\n",
            "1/1 [==============================] - 0s 203ms/step - loss: 1.1810 - accuracy: 0.6333\n",
            "1/1 [==============================] - 0s 17ms/step - loss: 1.0363 - accuracy: 0.6667\n",
            "1/1 [==============================] - 0s 18ms/step - loss: 1.0133 - accuracy: 0.6667\n",
            "1/1 [==============================] - 0s 19ms/step - loss: 0.9976 - accuracy: 0.6667\n",
            "1/1 [==============================] - 0s 20ms/step - loss: 0.9926 - accuracy: 0.6667\n",
            "1/1 [==============================] - 0s 19ms/step - loss: 0.9790 - accuracy: 0.6667\n",
            "1/1 [==============================] - 0s 18ms/step - loss: 0.9771 - accuracy: 0.6667\n",
            "1/1 [==============================] - 0s 19ms/step - loss: 0.9694 - accuracy: 0.6667\n",
            "1/1 [==============================] - 0s 19ms/step - loss: 0.9795 - accuracy: 0.7000\n",
            "1/1 [==============================] - 0s 20ms/step - loss: 1.0032 - accuracy: 0.6667\n",
            "1/1 [==============================] - 0s 18ms/step - loss: 1.0424 - accuracy: 0.7000\n",
            "1/1 [==============================] - 0s 18ms/step - loss: 1.3219 - accuracy: 0.7000\n",
            "1/1 [==============================] - 0s 20ms/step - loss: 1.7454 - accuracy: 0.6667\n",
            "Category of interest:  Female\n",
            "(150, 224, 224, 3) (30, 224, 224, 3)\n",
            "WARNING:tensorflow:Compiled the loaded model, but the compiled metrics have yet to be built. `model.compile_metrics` will be empty until you train or evaluate the model.\n",
            "WARNING:tensorflow:No training configuration found in the save file, so the model was *not* compiled. Compile it manually.\n",
            "1/1 [==============================] - 0s 208ms/step - loss: 0.6244 - accuracy: 0.8000\n",
            "1/1 [==============================] - 0s 18ms/step - loss: 0.5614 - accuracy: 0.8000\n",
            "1/1 [==============================] - 0s 17ms/step - loss: 0.5565 - accuracy: 0.8000\n",
            "1/1 [==============================] - 0s 18ms/step - loss: 0.5391 - accuracy: 0.8333\n",
            "1/1 [==============================] - 0s 18ms/step - loss: 0.5420 - accuracy: 0.8333\n",
            "1/1 [==============================] - 0s 18ms/step - loss: 0.5504 - accuracy: 0.8333\n",
            "1/1 [==============================] - 0s 19ms/step - loss: 0.5663 - accuracy: 0.8333\n",
            "1/1 [==============================] - 0s 19ms/step - loss: 0.5790 - accuracy: 0.8333\n",
            "1/1 [==============================] - 0s 18ms/step - loss: 0.5908 - accuracy: 0.8333\n",
            "1/1 [==============================] - 0s 19ms/step - loss: 0.6100 - accuracy: 0.8333\n",
            "1/1 [==============================] - 0s 17ms/step - loss: 0.6359 - accuracy: 0.8333\n",
            "1/1 [==============================] - 0s 18ms/step - loss: 0.9237 - accuracy: 0.8000\n",
            "1/1 [==============================] - 0s 18ms/step - loss: 1.4331 - accuracy: 0.8000\n",
            "Category of interest:  Manmade\n",
            "(150, 224, 224, 3) (30, 224, 224, 3)\n",
            "WARNING:tensorflow:Compiled the loaded model, but the compiled metrics have yet to be built. `model.compile_metrics` will be empty until you train or evaluate the model.\n",
            "WARNING:tensorflow:No training configuration found in the save file, so the model was *not* compiled. Compile it manually.\n",
            "1/1 [==============================] - 0s 208ms/step - loss: 0.4509 - accuracy: 0.8667\n",
            "1/1 [==============================] - 0s 19ms/step - loss: 0.4137 - accuracy: 0.8667\n",
            "1/1 [==============================] - 0s 19ms/step - loss: 0.3969 - accuracy: 0.8667\n",
            "1/1 [==============================] - 0s 17ms/step - loss: 0.3954 - accuracy: 0.8667\n",
            "1/1 [==============================] - 0s 19ms/step - loss: 0.3991 - accuracy: 0.8667\n",
            "1/1 [==============================] - 0s 18ms/step - loss: 0.4011 - accuracy: 0.8667\n",
            "1/1 [==============================] - 0s 18ms/step - loss: 0.4009 - accuracy: 0.8667\n",
            "1/1 [==============================] - 0s 18ms/step - loss: 0.3991 - accuracy: 0.8667\n",
            "1/1 [==============================] - 0s 18ms/step - loss: 0.3972 - accuracy: 0.8667\n",
            "1/1 [==============================] - 0s 18ms/step - loss: 0.3892 - accuracy: 0.8667\n",
            "1/1 [==============================] - 0s 18ms/step - loss: 0.3868 - accuracy: 0.8667\n",
            "1/1 [==============================] - 0s 18ms/step - loss: 0.4083 - accuracy: 0.8667\n",
            "1/1 [==============================] - 0s 18ms/step - loss: 0.5989 - accuracy: 0.8667\n",
            "Category of interest:  Natural\n",
            "(150, 224, 224, 3) (30, 224, 224, 3)\n",
            "WARNING:tensorflow:Compiled the loaded model, but the compiled metrics have yet to be built. `model.compile_metrics` will be empty until you train or evaluate the model.\n",
            "WARNING:tensorflow:No training configuration found in the save file, so the model was *not* compiled. Compile it manually.\n",
            "1/1 [==============================] - 0s 204ms/step - loss: 1.1855 - accuracy: 0.6000\n",
            "1/1 [==============================] - 0s 18ms/step - loss: 1.3475 - accuracy: 0.5667\n",
            "1/1 [==============================] - 0s 19ms/step - loss: 1.4539 - accuracy: 0.5667\n",
            "1/1 [==============================] - 0s 19ms/step - loss: 1.5488 - accuracy: 0.5667\n",
            "1/1 [==============================] - 0s 19ms/step - loss: 1.6151 - accuracy: 0.5667\n",
            "1/1 [==============================] - 0s 20ms/step - loss: 1.6877 - accuracy: 0.5667\n",
            "1/1 [==============================] - 0s 18ms/step - loss: 1.7516 - accuracy: 0.5667\n",
            "1/1 [==============================] - 0s 18ms/step - loss: 1.7900 - accuracy: 0.5667\n",
            "1/1 [==============================] - 0s 19ms/step - loss: 1.8238 - accuracy: 0.5667\n",
            "1/1 [==============================] - 0s 21ms/step - loss: 1.8615 - accuracy: 0.5667\n",
            "1/1 [==============================] - 0s 18ms/step - loss: 2.0069 - accuracy: 0.5667\n",
            "1/1 [==============================] - 0s 18ms/step - loss: 2.4027 - accuracy: 0.6000\n",
            "1/1 [==============================] - 0s 17ms/step - loss: 3.0164 - accuracy: 0.5333\n",
            "Category of interest:  Male\n",
            "(150, 224, 224, 3) (30, 224, 224, 3)\n",
            "WARNING:tensorflow:Compiled the loaded model, but the compiled metrics have yet to be built. `model.compile_metrics` will be empty until you train or evaluate the model.\n",
            "WARNING:tensorflow:No training configuration found in the save file, so the model was *not* compiled. Compile it manually.\n",
            "1/1 [==============================] - 0s 215ms/step - loss: 0.9504 - accuracy: 0.7000\n",
            "1/1 [==============================] - 0s 18ms/step - loss: 0.8828 - accuracy: 0.7000\n",
            "1/1 [==============================] - 0s 18ms/step - loss: 0.8569 - accuracy: 0.7333\n",
            "1/1 [==============================] - 0s 17ms/step - loss: 0.8374 - accuracy: 0.7333\n",
            "1/1 [==============================] - 0s 18ms/step - loss: 0.8223 - accuracy: 0.7333\n",
            "1/1 [==============================] - 0s 19ms/step - loss: 0.8053 - accuracy: 0.7333\n",
            "1/1 [==============================] - 0s 20ms/step - loss: 0.8061 - accuracy: 0.7333\n",
            "1/1 [==============================] - 0s 18ms/step - loss: 0.7966 - accuracy: 0.7333\n",
            "1/1 [==============================] - 0s 18ms/step - loss: 0.7923 - accuracy: 0.7333\n",
            "1/1 [==============================] - 0s 18ms/step - loss: 0.8003 - accuracy: 0.7333\n",
            "1/1 [==============================] - 0s 18ms/step - loss: 0.8607 - accuracy: 0.7667\n",
            "1/1 [==============================] - 0s 18ms/step - loss: 1.2777 - accuracy: 0.7333\n",
            "1/1 [==============================] - 0s 17ms/step - loss: 1.4080 - accuracy: 0.7667\n",
            "Category of interest:  Female\n",
            "(150, 224, 224, 3) (30, 224, 224, 3)\n",
            "WARNING:tensorflow:Compiled the loaded model, but the compiled metrics have yet to be built. `model.compile_metrics` will be empty until you train or evaluate the model.\n",
            "WARNING:tensorflow:No training configuration found in the save file, so the model was *not* compiled. Compile it manually.\n",
            "1/1 [==============================] - 0s 212ms/step - loss: 0.6685 - accuracy: 0.8000\n",
            "1/1 [==============================] - 0s 22ms/step - loss: 0.6307 - accuracy: 0.8000\n",
            "1/1 [==============================] - 0s 18ms/step - loss: 0.6080 - accuracy: 0.8333\n",
            "1/1 [==============================] - 0s 19ms/step - loss: 0.5857 - accuracy: 0.8333\n",
            "1/1 [==============================] - 0s 18ms/step - loss: 0.5895 - accuracy: 0.8000\n",
            "1/1 [==============================] - 0s 18ms/step - loss: 0.5853 - accuracy: 0.8333\n",
            "1/1 [==============================] - 0s 17ms/step - loss: 0.5942 - accuracy: 0.8333\n",
            "1/1 [==============================] - 0s 18ms/step - loss: 0.6006 - accuracy: 0.8333\n",
            "1/1 [==============================] - 0s 18ms/step - loss: 0.6130 - accuracy: 0.8333\n",
            "1/1 [==============================] - 0s 18ms/step - loss: 0.6289 - accuracy: 0.8333\n",
            "1/1 [==============================] - 0s 19ms/step - loss: 0.6774 - accuracy: 0.8333\n",
            "1/1 [==============================] - 0s 19ms/step - loss: 1.0681 - accuracy: 0.8000\n",
            "1/1 [==============================] - 0s 18ms/step - loss: 1.6566 - accuracy: 0.8000\n",
            "Category of interest:  Manmade\n",
            "(150, 224, 224, 3) (30, 224, 224, 3)\n",
            "WARNING:tensorflow:Compiled the loaded model, but the compiled metrics have yet to be built. `model.compile_metrics` will be empty until you train or evaluate the model.\n",
            "WARNING:tensorflow:No training configuration found in the save file, so the model was *not* compiled. Compile it manually.\n",
            "1/1 [==============================] - 0s 204ms/step - loss: 0.5410 - accuracy: 0.8000\n",
            "1/1 [==============================] - 0s 18ms/step - loss: 0.4735 - accuracy: 0.8667\n",
            "1/1 [==============================] - 0s 18ms/step - loss: 0.4560 - accuracy: 0.8667\n",
            "1/1 [==============================] - 0s 18ms/step - loss: 0.4565 - accuracy: 0.8667\n",
            "1/1 [==============================] - 0s 18ms/step - loss: 0.4512 - accuracy: 0.8667\n",
            "1/1 [==============================] - 0s 19ms/step - loss: 0.4441 - accuracy: 0.8667\n",
            "1/1 [==============================] - 0s 17ms/step - loss: 0.4407 - accuracy: 0.8667\n",
            "1/1 [==============================] - 0s 17ms/step - loss: 0.4367 - accuracy: 0.8667\n",
            "1/1 [==============================] - 0s 18ms/step - loss: 0.4289 - accuracy: 0.8667\n",
            "1/1 [==============================] - 0s 17ms/step - loss: 0.4194 - accuracy: 0.8667\n",
            "1/1 [==============================] - 0s 18ms/step - loss: 0.4147 - accuracy: 0.8667\n",
            "1/1 [==============================] - 0s 18ms/step - loss: 0.5223 - accuracy: 0.8667\n",
            "1/1 [==============================] - 0s 18ms/step - loss: 0.7679 - accuracy: 0.8667\n",
            "Category of interest:  Natural\n",
            "(150, 224, 224, 3) (30, 224, 224, 3)\n",
            "WARNING:tensorflow:Compiled the loaded model, but the compiled metrics have yet to be built. `model.compile_metrics` will be empty until you train or evaluate the model.\n",
            "WARNING:tensorflow:No training configuration found in the save file, so the model was *not* compiled. Compile it manually.\n",
            "1/1 [==============================] - 0s 209ms/step - loss: 1.1923 - accuracy: 0.5667\n",
            "1/1 [==============================] - 0s 17ms/step - loss: 1.3201 - accuracy: 0.5667\n",
            "1/1 [==============================] - 0s 18ms/step - loss: 1.3084 - accuracy: 0.5667\n",
            "1/1 [==============================] - 0s 19ms/step - loss: 1.3393 - accuracy: 0.5667\n",
            "1/1 [==============================] - 0s 18ms/step - loss: 1.3714 - accuracy: 0.5667\n",
            "1/1 [==============================] - 0s 18ms/step - loss: 1.3925 - accuracy: 0.5667\n",
            "1/1 [==============================] - 0s 19ms/step - loss: 1.4102 - accuracy: 0.5667\n",
            "1/1 [==============================] - 0s 18ms/step - loss: 1.4420 - accuracy: 0.5667\n",
            "1/1 [==============================] - 0s 19ms/step - loss: 1.4624 - accuracy: 0.5667\n",
            "1/1 [==============================] - 0s 18ms/step - loss: 1.4817 - accuracy: 0.5667\n",
            "1/1 [==============================] - 0s 19ms/step - loss: 1.6360 - accuracy: 0.5333\n",
            "1/1 [==============================] - 0s 19ms/step - loss: 2.0278 - accuracy: 0.5667\n",
            "1/1 [==============================] - 0s 19ms/step - loss: 3.1487 - accuracy: 0.5667\n",
            "Category of interest:  Male\n",
            "(150, 224, 224, 3) (30, 224, 224, 3)\n",
            "WARNING:tensorflow:Compiled the loaded model, but the compiled metrics have yet to be built. `model.compile_metrics` will be empty until you train or evaluate the model.\n",
            "WARNING:tensorflow:No training configuration found in the save file, so the model was *not* compiled. Compile it manually.\n",
            "1/1 [==============================] - 0s 220ms/step - loss: 1.5536 - accuracy: 0.6667\n",
            "1/1 [==============================] - 0s 18ms/step - loss: 1.4537 - accuracy: 0.6667\n",
            "1/1 [==============================] - 0s 18ms/step - loss: 1.4123 - accuracy: 0.6667\n",
            "1/1 [==============================] - 0s 18ms/step - loss: 1.3672 - accuracy: 0.6667\n",
            "1/1 [==============================] - 0s 18ms/step - loss: 1.3276 - accuracy: 0.6667\n",
            "1/1 [==============================] - 0s 23ms/step - loss: 1.2959 - accuracy: 0.6667\n",
            "1/1 [==============================] - 0s 17ms/step - loss: 1.2726 - accuracy: 0.6667\n",
            "1/1 [==============================] - 0s 19ms/step - loss: 1.2597 - accuracy: 0.6667\n",
            "1/1 [==============================] - 0s 19ms/step - loss: 1.2587 - accuracy: 0.6667\n",
            "1/1 [==============================] - 0s 18ms/step - loss: 1.2628 - accuracy: 0.6667\n",
            "1/1 [==============================] - 0s 20ms/step - loss: 1.3572 - accuracy: 0.7000\n",
            "1/1 [==============================] - 0s 18ms/step - loss: 2.0295 - accuracy: 0.6667\n",
            "1/1 [==============================] - 0s 18ms/step - loss: 3.7020 - accuracy: 0.6000\n",
            "Category of interest:  Female\n",
            "(150, 224, 224, 3) (30, 224, 224, 3)\n",
            "WARNING:tensorflow:Compiled the loaded model, but the compiled metrics have yet to be built. `model.compile_metrics` will be empty until you train or evaluate the model.\n",
            "WARNING:tensorflow:No training configuration found in the save file, so the model was *not* compiled. Compile it manually.\n",
            "1/1 [==============================] - 0s 203ms/step - loss: 0.6711 - accuracy: 0.8000\n",
            "1/1 [==============================] - 0s 18ms/step - loss: 0.6772 - accuracy: 0.8000\n",
            "1/1 [==============================] - 0s 19ms/step - loss: 0.6609 - accuracy: 0.8000\n",
            "1/1 [==============================] - 0s 18ms/step - loss: 0.6261 - accuracy: 0.7667\n",
            "1/1 [==============================] - 0s 18ms/step - loss: 0.6212 - accuracy: 0.7667\n",
            "1/1 [==============================] - 0s 18ms/step - loss: 0.6114 - accuracy: 0.8000\n",
            "1/1 [==============================] - 0s 18ms/step - loss: 0.6058 - accuracy: 0.8000\n",
            "1/1 [==============================] - 0s 18ms/step - loss: 0.6064 - accuracy: 0.8000\n",
            "1/1 [==============================] - 0s 18ms/step - loss: 0.6110 - accuracy: 0.8000\n",
            "1/1 [==============================] - 0s 19ms/step - loss: 0.6281 - accuracy: 0.8000\n",
            "1/1 [==============================] - 0s 19ms/step - loss: 0.6923 - accuracy: 0.8000\n",
            "1/1 [==============================] - 0s 19ms/step - loss: 1.1856 - accuracy: 0.7667\n",
            "1/1 [==============================] - 0s 18ms/step - loss: 1.6267 - accuracy: 0.8000\n",
            "Category of interest:  Manmade\n",
            "(150, 224, 224, 3) (30, 224, 224, 3)\n",
            "WARNING:tensorflow:Compiled the loaded model, but the compiled metrics have yet to be built. `model.compile_metrics` will be empty until you train or evaluate the model.\n",
            "WARNING:tensorflow:No training configuration found in the save file, so the model was *not* compiled. Compile it manually.\n",
            "1/1 [==============================] - 0s 202ms/step - loss: 0.5144 - accuracy: 0.8667\n",
            "1/1 [==============================] - 0s 18ms/step - loss: 0.4571 - accuracy: 0.8333\n",
            "1/1 [==============================] - 0s 19ms/step - loss: 0.4414 - accuracy: 0.8667\n",
            "1/1 [==============================] - 0s 19ms/step - loss: 0.4491 - accuracy: 0.8667\n",
            "1/1 [==============================] - 0s 18ms/step - loss: 0.4383 - accuracy: 0.8667\n",
            "1/1 [==============================] - 0s 18ms/step - loss: 0.4312 - accuracy: 0.8667\n",
            "1/1 [==============================] - 0s 18ms/step - loss: 0.4250 - accuracy: 0.8667\n",
            "1/1 [==============================] - 0s 17ms/step - loss: 0.4187 - accuracy: 0.8667\n",
            "1/1 [==============================] - 0s 19ms/step - loss: 0.4099 - accuracy: 0.8667\n",
            "1/1 [==============================] - 0s 18ms/step - loss: 0.3937 - accuracy: 0.8667\n",
            "1/1 [==============================] - 0s 18ms/step - loss: 0.3936 - accuracy: 0.8667\n",
            "1/1 [==============================] - 0s 18ms/step - loss: 0.4982 - accuracy: 0.8667\n",
            "1/1 [==============================] - 0s 17ms/step - loss: 0.7325 - accuracy: 0.8667\n",
            "Category of interest:  Natural\n",
            "(150, 224, 224, 3) (30, 224, 224, 3)\n",
            "WARNING:tensorflow:Compiled the loaded model, but the compiled metrics have yet to be built. `model.compile_metrics` will be empty until you train or evaluate the model.\n",
            "WARNING:tensorflow:No training configuration found in the save file, so the model was *not* compiled. Compile it manually.\n",
            "1/1 [==============================] - 0s 210ms/step - loss: 1.3303 - accuracy: 0.6333\n",
            "1/1 [==============================] - 0s 17ms/step - loss: 1.4574 - accuracy: 0.6000\n",
            "1/1 [==============================] - 0s 18ms/step - loss: 1.4730 - accuracy: 0.6000\n",
            "1/1 [==============================] - 0s 24ms/step - loss: 1.5145 - accuracy: 0.6000\n",
            "1/1 [==============================] - 0s 17ms/step - loss: 1.5229 - accuracy: 0.6333\n",
            "1/1 [==============================] - 0s 18ms/step - loss: 1.5377 - accuracy: 0.6333\n",
            "1/1 [==============================] - 0s 20ms/step - loss: 1.5458 - accuracy: 0.6333\n",
            "1/1 [==============================] - 0s 20ms/step - loss: 1.5649 - accuracy: 0.6333\n",
            "1/1 [==============================] - 0s 22ms/step - loss: 1.5795 - accuracy: 0.6333\n",
            "1/1 [==============================] - 0s 19ms/step - loss: 1.6040 - accuracy: 0.6333\n",
            "1/1 [==============================] - 0s 21ms/step - loss: 1.8051 - accuracy: 0.6000\n",
            "1/1 [==============================] - 0s 17ms/step - loss: 2.1989 - accuracy: 0.6333\n",
            "1/1 [==============================] - 0s 18ms/step - loss: 2.6405 - accuracy: 0.6000\n",
            "Category of interest:  Male\n",
            "(150, 224, 224, 3) (30, 224, 224, 3)\n",
            "WARNING:tensorflow:Compiled the loaded model, but the compiled metrics have yet to be built. `model.compile_metrics` will be empty until you train or evaluate the model.\n",
            "WARNING:tensorflow:No training configuration found in the save file, so the model was *not* compiled. Compile it manually.\n",
            "1/1 [==============================] - 0s 213ms/step - loss: 1.2182 - accuracy: 0.7000\n",
            "1/1 [==============================] - 0s 19ms/step - loss: 1.2235 - accuracy: 0.7000\n",
            "1/1 [==============================] - 0s 18ms/step - loss: 1.1784 - accuracy: 0.7000\n",
            "1/1 [==============================] - 0s 18ms/step - loss: 1.1579 - accuracy: 0.6667\n",
            "1/1 [==============================] - 0s 18ms/step - loss: 1.1462 - accuracy: 0.6667\n",
            "1/1 [==============================] - 0s 18ms/step - loss: 1.1314 - accuracy: 0.6667\n",
            "1/1 [==============================] - 0s 18ms/step - loss: 1.1057 - accuracy: 0.7000\n",
            "1/1 [==============================] - 0s 19ms/step - loss: 1.0973 - accuracy: 0.7000\n",
            "1/1 [==============================] - 0s 17ms/step - loss: 1.0987 - accuracy: 0.7000\n",
            "1/1 [==============================] - 0s 18ms/step - loss: 1.1135 - accuracy: 0.7000\n",
            "1/1 [==============================] - 0s 17ms/step - loss: 1.1915 - accuracy: 0.7000\n",
            "1/1 [==============================] - 0s 22ms/step - loss: 1.9348 - accuracy: 0.6667\n",
            "1/1 [==============================] - 0s 18ms/step - loss: 3.6894 - accuracy: 0.7000\n",
            "Category of interest:  Female\n",
            "(150, 224, 224, 3) (30, 224, 224, 3)\n",
            "WARNING:tensorflow:Compiled the loaded model, but the compiled metrics have yet to be built. `model.compile_metrics` will be empty until you train or evaluate the model.\n",
            "WARNING:tensorflow:No training configuration found in the save file, so the model was *not* compiled. Compile it manually.\n",
            "1/1 [==============================] - 0s 210ms/step - loss: 0.8436 - accuracy: 0.7667\n",
            "1/1 [==============================] - 0s 19ms/step - loss: 0.7566 - accuracy: 0.8000\n",
            "1/1 [==============================] - 0s 20ms/step - loss: 0.7217 - accuracy: 0.8000\n",
            "1/1 [==============================] - 0s 19ms/step - loss: 0.6831 - accuracy: 0.8000\n",
            "1/1 [==============================] - 0s 18ms/step - loss: 0.6671 - accuracy: 0.8000\n",
            "1/1 [==============================] - 0s 18ms/step - loss: 0.6561 - accuracy: 0.8000\n",
            "1/1 [==============================] - 0s 18ms/step - loss: 0.6505 - accuracy: 0.8000\n",
            "1/1 [==============================] - 0s 18ms/step - loss: 0.6472 - accuracy: 0.8000\n",
            "1/1 [==============================] - 0s 18ms/step - loss: 0.6532 - accuracy: 0.8000\n",
            "1/1 [==============================] - 0s 18ms/step - loss: 0.6636 - accuracy: 0.8000\n",
            "1/1 [==============================] - 0s 19ms/step - loss: 0.7316 - accuracy: 0.8000\n",
            "1/1 [==============================] - 0s 18ms/step - loss: 1.4769 - accuracy: 0.8000\n",
            "1/1 [==============================] - 0s 19ms/step - loss: 7.9682 - accuracy: 0.6667\n",
            "Category of interest:  Manmade\n",
            "(150, 224, 224, 3) (30, 224, 224, 3)\n",
            "WARNING:tensorflow:Compiled the loaded model, but the compiled metrics have yet to be built. `model.compile_metrics` will be empty until you train or evaluate the model.\n",
            "WARNING:tensorflow:No training configuration found in the save file, so the model was *not* compiled. Compile it manually.\n",
            "1/1 [==============================] - 0s 210ms/step - loss: 0.5587 - accuracy: 0.8667\n",
            "1/1 [==============================] - 0s 18ms/step - loss: 0.4837 - accuracy: 0.8667\n",
            "1/1 [==============================] - 0s 18ms/step - loss: 0.4910 - accuracy: 0.8667\n",
            "1/1 [==============================] - 0s 19ms/step - loss: 0.4994 - accuracy: 0.8667\n",
            "1/1 [==============================] - 0s 18ms/step - loss: 0.4973 - accuracy: 0.8667\n",
            "1/1 [==============================] - 0s 18ms/step - loss: 0.4960 - accuracy: 0.8667\n",
            "1/1 [==============================] - 0s 18ms/step - loss: 0.4943 - accuracy: 0.8667\n",
            "1/1 [==============================] - 0s 18ms/step - loss: 0.4901 - accuracy: 0.8667\n",
            "1/1 [==============================] - 0s 17ms/step - loss: 0.4848 - accuracy: 0.8667\n",
            "1/1 [==============================] - 0s 18ms/step - loss: 0.4740 - accuracy: 0.8333\n",
            "1/1 [==============================] - 0s 17ms/step - loss: 0.4757 - accuracy: 0.8333\n",
            "1/1 [==============================] - 0s 19ms/step - loss: 0.5424 - accuracy: 0.8667\n",
            "1/1 [==============================] - 0s 21ms/step - loss: 0.8268 - accuracy: 0.9000\n",
            "Category of interest:  Natural\n",
            "(150, 224, 224, 3) (30, 224, 224, 3)\n",
            "WARNING:tensorflow:Compiled the loaded model, but the compiled metrics have yet to be built. `model.compile_metrics` will be empty until you train or evaluate the model.\n",
            "WARNING:tensorflow:No training configuration found in the save file, so the model was *not* compiled. Compile it manually.\n",
            "1/1 [==============================] - 0s 202ms/step - loss: 1.8932 - accuracy: 0.5333\n",
            "1/1 [==============================] - 0s 19ms/step - loss: 2.2680 - accuracy: 0.5333\n",
            "1/1 [==============================] - 0s 18ms/step - loss: 2.2611 - accuracy: 0.5333\n",
            "1/1 [==============================] - 0s 18ms/step - loss: 2.3011 - accuracy: 0.5333\n",
            "1/1 [==============================] - 0s 19ms/step - loss: 2.3059 - accuracy: 0.5667\n",
            "1/1 [==============================] - 0s 18ms/step - loss: 2.3010 - accuracy: 0.5667\n",
            "1/1 [==============================] - 0s 18ms/step - loss: 2.2981 - accuracy: 0.5667\n",
            "1/1 [==============================] - 0s 17ms/step - loss: 2.2882 - accuracy: 0.5667\n",
            "1/1 [==============================] - 0s 21ms/step - loss: 2.2765 - accuracy: 0.5667\n",
            "1/1 [==============================] - 0s 19ms/step - loss: 2.2750 - accuracy: 0.5667\n",
            "1/1 [==============================] - 0s 19ms/step - loss: 2.5573 - accuracy: 0.5333\n",
            "1/1 [==============================] - 0s 18ms/step - loss: 3.0593 - accuracy: 0.5667\n",
            "1/1 [==============================] - 0s 18ms/step - loss: 16.9235 - accuracy: 0.5333\n",
            "Category of interest:  Male\n",
            "(150, 224, 224, 3) (30, 224, 224, 3)\n",
            "WARNING:tensorflow:Compiled the loaded model, but the compiled metrics have yet to be built. `model.compile_metrics` will be empty until you train or evaluate the model.\n",
            "WARNING:tensorflow:No training configuration found in the save file, so the model was *not* compiled. Compile it manually.\n",
            "1/1 [==============================] - 0s 214ms/step - loss: 1.4877 - accuracy: 0.6667\n",
            "1/1 [==============================] - 0s 18ms/step - loss: 1.4898 - accuracy: 0.6667\n",
            "1/1 [==============================] - 0s 17ms/step - loss: 1.4245 - accuracy: 0.6667\n",
            "1/1 [==============================] - 0s 18ms/step - loss: 1.4146 - accuracy: 0.6667\n",
            "1/1 [==============================] - 0s 18ms/step - loss: 1.3870 - accuracy: 0.6667\n",
            "1/1 [==============================] - 0s 18ms/step - loss: 1.3617 - accuracy: 0.6667\n",
            "1/1 [==============================] - 0s 18ms/step - loss: 1.3435 - accuracy: 0.6667\n",
            "1/1 [==============================] - 0s 19ms/step - loss: 1.3225 - accuracy: 0.6667\n",
            "1/1 [==============================] - 0s 18ms/step - loss: 1.3127 - accuracy: 0.6667\n",
            "1/1 [==============================] - 0s 18ms/step - loss: 1.3157 - accuracy: 0.6667\n",
            "1/1 [==============================] - 0s 18ms/step - loss: 1.4130 - accuracy: 0.6667\n",
            "1/1 [==============================] - 0s 18ms/step - loss: 2.0347 - accuracy: 0.6667\n",
            "1/1 [==============================] - 0s 18ms/step - loss: 1.4698 - accuracy: 0.8333\n",
            "Category of interest:  Female\n",
            "(150, 224, 224, 3) (30, 224, 224, 3)\n",
            "WARNING:tensorflow:Compiled the loaded model, but the compiled metrics have yet to be built. `model.compile_metrics` will be empty until you train or evaluate the model.\n",
            "WARNING:tensorflow:No training configuration found in the save file, so the model was *not* compiled. Compile it manually.\n",
            "1/1 [==============================] - 0s 213ms/step - loss: 0.8564 - accuracy: 0.8000\n",
            "1/1 [==============================] - 0s 18ms/step - loss: 0.8363 - accuracy: 0.8000\n",
            "1/1 [==============================] - 0s 19ms/step - loss: 0.7990 - accuracy: 0.8333\n",
            "1/1 [==============================] - 0s 20ms/step - loss: 0.7621 - accuracy: 0.8000\n",
            "1/1 [==============================] - 0s 19ms/step - loss: 0.7474 - accuracy: 0.8000\n",
            "1/1 [==============================] - 0s 18ms/step - loss: 0.7313 - accuracy: 0.8000\n",
            "1/1 [==============================] - 0s 18ms/step - loss: 0.7224 - accuracy: 0.8000\n",
            "1/1 [==============================] - 0s 18ms/step - loss: 0.7128 - accuracy: 0.8000\n",
            "1/1 [==============================] - 0s 18ms/step - loss: 0.7175 - accuracy: 0.8000\n",
            "1/1 [==============================] - 0s 19ms/step - loss: 0.7468 - accuracy: 0.8000\n",
            "1/1 [==============================] - 0s 19ms/step - loss: 0.8552 - accuracy: 0.8333\n",
            "1/1 [==============================] - 0s 17ms/step - loss: 1.7594 - accuracy: 0.7667\n",
            "1/1 [==============================] - 0s 18ms/step - loss: 1.4399 - accuracy: 0.8667\n",
            "Category of interest:  Manmade\n",
            "(150, 224, 224, 3) (30, 224, 224, 3)\n",
            "WARNING:tensorflow:Compiled the loaded model, but the compiled metrics have yet to be built. `model.compile_metrics` will be empty until you train or evaluate the model.\n",
            "WARNING:tensorflow:No training configuration found in the save file, so the model was *not* compiled. Compile it manually.\n",
            "1/1 [==============================] - 0s 203ms/step - loss: 1.1105 - accuracy: 0.7667\n",
            "1/1 [==============================] - 0s 19ms/step - loss: 1.0174 - accuracy: 0.8000\n",
            "1/1 [==============================] - 0s 18ms/step - loss: 1.0070 - accuracy: 0.8000\n",
            "1/1 [==============================] - 0s 21ms/step - loss: 1.0139 - accuracy: 0.8000\n",
            "1/1 [==============================] - 0s 22ms/step - loss: 1.0031 - accuracy: 0.8000\n",
            "1/1 [==============================] - 0s 18ms/step - loss: 0.9922 - accuracy: 0.8000\n",
            "1/1 [==============================] - 0s 18ms/step - loss: 0.9834 - accuracy: 0.8000\n",
            "1/1 [==============================] - 0s 16ms/step - loss: 0.9731 - accuracy: 0.8000\n",
            "1/1 [==============================] - 0s 19ms/step - loss: 0.9611 - accuracy: 0.8000\n",
            "1/1 [==============================] - 0s 19ms/step - loss: 0.9407 - accuracy: 0.8000\n",
            "1/1 [==============================] - 0s 18ms/step - loss: 0.9352 - accuracy: 0.8000\n",
            "1/1 [==============================] - 0s 18ms/step - loss: 1.1238 - accuracy: 0.8000\n",
            "1/1 [==============================] - 0s 18ms/step - loss: 1.6650 - accuracy: 0.8000\n",
            "Category of interest:  Natural\n",
            "(150, 224, 224, 3) (30, 224, 224, 3)\n",
            "WARNING:tensorflow:Compiled the loaded model, but the compiled metrics have yet to be built. `model.compile_metrics` will be empty until you train or evaluate the model.\n",
            "WARNING:tensorflow:No training configuration found in the save file, so the model was *not* compiled. Compile it manually.\n",
            "1/1 [==============================] - 0s 207ms/step - loss: 1.7161 - accuracy: 0.6000\n",
            "1/1 [==============================] - 0s 18ms/step - loss: 2.1351 - accuracy: 0.5667\n",
            "1/1 [==============================] - 0s 20ms/step - loss: 2.1525 - accuracy: 0.5667\n",
            "1/1 [==============================] - 0s 19ms/step - loss: 2.2000 - accuracy: 0.5667\n",
            "1/1 [==============================] - 0s 23ms/step - loss: 2.2058 - accuracy: 0.5667\n",
            "1/1 [==============================] - 0s 18ms/step - loss: 2.2084 - accuracy: 0.5667\n",
            "1/1 [==============================] - 0s 18ms/step - loss: 2.2147 - accuracy: 0.5667\n",
            "1/1 [==============================] - 0s 19ms/step - loss: 2.2258 - accuracy: 0.5667\n",
            "1/1 [==============================] - 0s 18ms/step - loss: 2.2292 - accuracy: 0.5667\n",
            "1/1 [==============================] - 0s 18ms/step - loss: 2.2322 - accuracy: 0.5667\n",
            "1/1 [==============================] - 0s 18ms/step - loss: 2.5222 - accuracy: 0.5667\n",
            "1/1 [==============================] - 0s 19ms/step - loss: 3.3041 - accuracy: 0.6000\n",
            "1/1 [==============================] - 0s 18ms/step - loss: 18.9865 - accuracy: 0.5000\n",
            "Category of interest:  Male\n",
            "(150, 224, 224, 3) (30, 224, 224, 3)\n",
            "WARNING:tensorflow:Compiled the loaded model, but the compiled metrics have yet to be built. `model.compile_metrics` will be empty until you train or evaluate the model.\n",
            "WARNING:tensorflow:No training configuration found in the save file, so the model was *not* compiled. Compile it manually.\n",
            "1/1 [==============================] - 0s 212ms/step - loss: 1.3804 - accuracy: 0.7000\n",
            "1/1 [==============================] - 0s 18ms/step - loss: 1.3275 - accuracy: 0.7333\n",
            "1/1 [==============================] - 0s 19ms/step - loss: 1.2953 - accuracy: 0.7333\n",
            "1/1 [==============================] - 0s 18ms/step - loss: 1.2824 - accuracy: 0.7000\n",
            "1/1 [==============================] - 0s 18ms/step - loss: 1.2675 - accuracy: 0.7000\n",
            "1/1 [==============================] - 0s 18ms/step - loss: 1.2524 - accuracy: 0.7000\n",
            "1/1 [==============================] - 0s 18ms/step - loss: 1.2435 - accuracy: 0.7000\n",
            "1/1 [==============================] - 0s 19ms/step - loss: 1.2356 - accuracy: 0.7000\n",
            "1/1 [==============================] - 0s 19ms/step - loss: 1.2314 - accuracy: 0.7000\n",
            "1/1 [==============================] - 0s 18ms/step - loss: 1.2513 - accuracy: 0.7000\n",
            "1/1 [==============================] - 0s 18ms/step - loss: 1.3928 - accuracy: 0.7000\n",
            "1/1 [==============================] - 0s 18ms/step - loss: 2.1707 - accuracy: 0.7000\n",
            "1/1 [==============================] - 0s 18ms/step - loss: 4.5295 - accuracy: 0.7000\n",
            "Category of interest:  Female\n",
            "(150, 224, 224, 3) (30, 224, 224, 3)\n",
            "WARNING:tensorflow:Compiled the loaded model, but the compiled metrics have yet to be built. `model.compile_metrics` will be empty until you train or evaluate the model.\n",
            "WARNING:tensorflow:No training configuration found in the save file, so the model was *not* compiled. Compile it manually.\n",
            "1/1 [==============================] - 0s 205ms/step - loss: 0.9514 - accuracy: 0.8000\n",
            "1/1 [==============================] - 0s 20ms/step - loss: 0.8483 - accuracy: 0.8333\n",
            "1/1 [==============================] - 0s 18ms/step - loss: 0.7904 - accuracy: 0.8333\n",
            "1/1 [==============================] - 0s 19ms/step - loss: 0.7409 - accuracy: 0.8333\n",
            "1/1 [==============================] - 0s 18ms/step - loss: 0.7168 - accuracy: 0.8333\n",
            "1/1 [==============================] - 0s 18ms/step - loss: 0.6988 - accuracy: 0.8333\n",
            "1/1 [==============================] - 0s 19ms/step - loss: 0.6885 - accuracy: 0.8333\n",
            "1/1 [==============================] - 0s 19ms/step - loss: 0.6751 - accuracy: 0.8667\n",
            "1/1 [==============================] - 0s 19ms/step - loss: 0.6753 - accuracy: 0.8667\n",
            "1/1 [==============================] - 0s 19ms/step - loss: 0.6979 - accuracy: 0.8667\n",
            "1/1 [==============================] - 0s 18ms/step - loss: 0.7780 - accuracy: 0.8333\n",
            "1/1 [==============================] - 0s 18ms/step - loss: 1.5868 - accuracy: 0.8000\n",
            "1/1 [==============================] - 0s 19ms/step - loss: 3.1406 - accuracy: 0.8333\n",
            "Category of interest:  Manmade\n",
            "(150, 224, 224, 3) (30, 224, 224, 3)\n",
            "WARNING:tensorflow:Compiled the loaded model, but the compiled metrics have yet to be built. `model.compile_metrics` will be empty until you train or evaluate the model.\n",
            "WARNING:tensorflow:No training configuration found in the save file, so the model was *not* compiled. Compile it manually.\n",
            "1/1 [==============================] - 0s 214ms/step - loss: 1.0418 - accuracy: 0.7667\n",
            "1/1 [==============================] - 0s 18ms/step - loss: 0.8385 - accuracy: 0.8333\n",
            "1/1 [==============================] - 0s 18ms/step - loss: 0.8209 - accuracy: 0.8667\n",
            "1/1 [==============================] - 0s 19ms/step - loss: 0.8124 - accuracy: 0.8667\n",
            "1/1 [==============================] - 0s 18ms/step - loss: 0.8067 - accuracy: 0.8667\n",
            "1/1 [==============================] - 0s 18ms/step - loss: 0.7997 - accuracy: 0.8667\n",
            "1/1 [==============================] - 0s 19ms/step - loss: 0.7915 - accuracy: 0.8667\n",
            "1/1 [==============================] - 0s 20ms/step - loss: 0.7814 - accuracy: 0.8333\n",
            "1/1 [==============================] - 0s 18ms/step - loss: 0.7671 - accuracy: 0.8333\n",
            "1/1 [==============================] - 0s 19ms/step - loss: 0.7371 - accuracy: 0.8333\n",
            "1/1 [==============================] - 0s 19ms/step - loss: 0.7249 - accuracy: 0.8667\n",
            "1/1 [==============================] - 0s 20ms/step - loss: 1.0121 - accuracy: 0.8667\n",
            "1/1 [==============================] - 0s 18ms/step - loss: 2.3472 - accuracy: 0.8667\n",
            "Category of interest:  Natural\n",
            "(150, 224, 224, 3) (30, 224, 224, 3)\n",
            "WARNING:tensorflow:Compiled the loaded model, but the compiled metrics have yet to be built. `model.compile_metrics` will be empty until you train or evaluate the model.\n",
            "WARNING:tensorflow:No training configuration found in the save file, so the model was *not* compiled. Compile it manually.\n",
            "1/1 [==============================] - 0s 203ms/step - loss: 1.8961 - accuracy: 0.5667\n",
            "1/1 [==============================] - 0s 20ms/step - loss: 2.0896 - accuracy: 0.5667\n",
            "1/1 [==============================] - 0s 18ms/step - loss: 2.1204 - accuracy: 0.5667\n",
            "1/1 [==============================] - 0s 19ms/step - loss: 2.1924 - accuracy: 0.5667\n",
            "1/1 [==============================] - 0s 18ms/step - loss: 2.1850 - accuracy: 0.5667\n",
            "1/1 [==============================] - 0s 18ms/step - loss: 2.1726 - accuracy: 0.6000\n",
            "1/1 [==============================] - 0s 18ms/step - loss: 2.1672 - accuracy: 0.6000\n",
            "1/1 [==============================] - 0s 19ms/step - loss: 2.1665 - accuracy: 0.6000\n",
            "1/1 [==============================] - 0s 18ms/step - loss: 2.1552 - accuracy: 0.6000\n",
            "1/1 [==============================] - 0s 18ms/step - loss: 2.1623 - accuracy: 0.6000\n",
            "1/1 [==============================] - 0s 18ms/step - loss: 2.3998 - accuracy: 0.6000\n",
            "1/1 [==============================] - 0s 18ms/step - loss: 2.8772 - accuracy: 0.6000\n",
            "1/1 [==============================] - 0s 18ms/step - loss: 4.5471 - accuracy: 0.6333\n",
            "Category of interest:  Male\n",
            "(150, 224, 224, 3) (30, 224, 224, 3)\n",
            "WARNING:tensorflow:Compiled the loaded model, but the compiled metrics have yet to be built. `model.compile_metrics` will be empty until you train or evaluate the model.\n",
            "WARNING:tensorflow:No training configuration found in the save file, so the model was *not* compiled. Compile it manually.\n",
            "1/1 [==============================] - 0s 200ms/step - loss: 1.9878 - accuracy: 0.6000\n",
            "1/1 [==============================] - 0s 19ms/step - loss: 2.0342 - accuracy: 0.6333\n",
            "1/1 [==============================] - 0s 18ms/step - loss: 1.9998 - accuracy: 0.6333\n",
            "1/1 [==============================] - 0s 19ms/step - loss: 1.9726 - accuracy: 0.6333\n",
            "1/1 [==============================] - 0s 18ms/step - loss: 1.9465 - accuracy: 0.6333\n",
            "1/1 [==============================] - 0s 19ms/step - loss: 1.9222 - accuracy: 0.6333\n",
            "1/1 [==============================] - 0s 17ms/step - loss: 1.8941 - accuracy: 0.6333\n",
            "1/1 [==============================] - 0s 19ms/step - loss: 1.8850 - accuracy: 0.6333\n",
            "1/1 [==============================] - 0s 19ms/step - loss: 1.8804 - accuracy: 0.6333\n",
            "1/1 [==============================] - 0s 18ms/step - loss: 1.8806 - accuracy: 0.6333\n",
            "1/1 [==============================] - 0s 18ms/step - loss: 2.0176 - accuracy: 0.6333\n",
            "1/1 [==============================] - 0s 19ms/step - loss: 3.3073 - accuracy: 0.6667\n",
            "1/1 [==============================] - 0s 18ms/step - loss: 2.4518 - accuracy: 0.7000\n",
            "Category of interest:  Female\n",
            "(150, 224, 224, 3) (30, 224, 224, 3)\n",
            "WARNING:tensorflow:Compiled the loaded model, but the compiled metrics have yet to be built. `model.compile_metrics` will be empty until you train or evaluate the model.\n",
            "WARNING:tensorflow:No training configuration found in the save file, so the model was *not* compiled. Compile it manually.\n",
            "1/1 [==============================] - 0s 205ms/step - loss: 0.5225 - accuracy: 0.8000\n",
            "1/1 [==============================] - 0s 19ms/step - loss: 0.4375 - accuracy: 0.8333\n",
            "1/1 [==============================] - 0s 18ms/step - loss: 0.4226 - accuracy: 0.8667\n",
            "1/1 [==============================] - 0s 18ms/step - loss: 0.3972 - accuracy: 0.8667\n",
            "1/1 [==============================] - 0s 17ms/step - loss: 0.3934 - accuracy: 0.8333\n",
            "1/1 [==============================] - 0s 18ms/step - loss: 0.3916 - accuracy: 0.8667\n",
            "1/1 [==============================] - 0s 17ms/step - loss: 0.3876 - accuracy: 0.8667\n",
            "1/1 [==============================] - 0s 18ms/step - loss: 0.3853 - accuracy: 0.8667\n",
            "1/1 [==============================] - 0s 18ms/step - loss: 0.3863 - accuracy: 0.8667\n",
            "1/1 [==============================] - 0s 18ms/step - loss: 0.3947 - accuracy: 0.8667\n",
            "1/1 [==============================] - 0s 18ms/step - loss: 0.4560 - accuracy: 0.8667\n",
            "1/1 [==============================] - 0s 20ms/step - loss: 1.0016 - accuracy: 0.8000\n",
            "1/1 [==============================] - 0s 18ms/step - loss: 7.0768 - accuracy: 0.7667\n",
            "Category of interest:  Manmade\n",
            "(150, 224, 224, 3) (30, 224, 224, 3)\n",
            "WARNING:tensorflow:Compiled the loaded model, but the compiled metrics have yet to be built. `model.compile_metrics` will be empty until you train or evaluate the model.\n",
            "WARNING:tensorflow:No training configuration found in the save file, so the model was *not* compiled. Compile it manually.\n",
            "1/1 [==============================] - 0s 200ms/step - loss: 0.8354 - accuracy: 0.8667\n",
            "1/1 [==============================] - 0s 18ms/step - loss: 0.8413 - accuracy: 0.9000\n",
            "1/1 [==============================] - 0s 18ms/step - loss: 0.8529 - accuracy: 0.9000\n",
            "1/1 [==============================] - 0s 17ms/step - loss: 0.8745 - accuracy: 0.9000\n",
            "1/1 [==============================] - 0s 19ms/step - loss: 0.8829 - accuracy: 0.9000\n",
            "1/1 [==============================] - 0s 17ms/step - loss: 0.8841 - accuracy: 0.9000\n",
            "1/1 [==============================] - 0s 18ms/step - loss: 0.8806 - accuracy: 0.9000\n",
            "1/1 [==============================] - 0s 20ms/step - loss: 0.8713 - accuracy: 0.9000\n",
            "1/1 [==============================] - 0s 17ms/step - loss: 0.8594 - accuracy: 0.9000\n",
            "1/1 [==============================] - 0s 19ms/step - loss: 0.8350 - accuracy: 0.9000\n",
            "1/1 [==============================] - 0s 18ms/step - loss: 0.8813 - accuracy: 0.9000\n",
            "1/1 [==============================] - 0s 19ms/step - loss: 1.1868 - accuracy: 0.9000\n",
            "1/1 [==============================] - 0s 18ms/step - loss: 1.7251 - accuracy: 0.8667\n",
            "Category of interest:  Natural\n",
            "(150, 224, 224, 3) (30, 224, 224, 3)\n",
            "WARNING:tensorflow:Compiled the loaded model, but the compiled metrics have yet to be built. `model.compile_metrics` will be empty until you train or evaluate the model.\n",
            "WARNING:tensorflow:No training configuration found in the save file, so the model was *not* compiled. Compile it manually.\n",
            "1/1 [==============================] - 0s 204ms/step - loss: 2.7198 - accuracy: 0.5333\n",
            "1/1 [==============================] - 0s 19ms/step - loss: 3.0824 - accuracy: 0.5333\n",
            "1/1 [==============================] - 0s 19ms/step - loss: 3.0930 - accuracy: 0.5333\n",
            "1/1 [==============================] - 0s 19ms/step - loss: 3.1412 - accuracy: 0.5333\n",
            "1/1 [==============================] - 0s 18ms/step - loss: 3.1521 - accuracy: 0.5333\n",
            "1/1 [==============================] - 0s 17ms/step - loss: 3.1339 - accuracy: 0.5333\n",
            "1/1 [==============================] - 0s 19ms/step - loss: 3.1134 - accuracy: 0.5333\n",
            "1/1 [==============================] - 0s 18ms/step - loss: 3.1087 - accuracy: 0.5333\n",
            "1/1 [==============================] - 0s 17ms/step - loss: 3.0955 - accuracy: 0.5333\n",
            "1/1 [==============================] - 0s 18ms/step - loss: 3.0953 - accuracy: 0.5333\n",
            "1/1 [==============================] - 0s 17ms/step - loss: 3.5214 - accuracy: 0.5333\n",
            "1/1 [==============================] - 0s 20ms/step - loss: 4.4527 - accuracy: 0.5333\n",
            "1/1 [==============================] - 0s 18ms/step - loss: 4.6066 - accuracy: 0.5333\n",
            "Category of interest:  Male\n",
            "(150, 224, 224, 3) (30, 224, 224, 3)\n",
            "WARNING:tensorflow:Compiled the loaded model, but the compiled metrics have yet to be built. `model.compile_metrics` will be empty until you train or evaluate the model.\n",
            "WARNING:tensorflow:No training configuration found in the save file, so the model was *not* compiled. Compile it manually.\n",
            "1/1 [==============================] - 0s 219ms/step - loss: 1.9768 - accuracy: 0.6667\n",
            "1/1 [==============================] - 0s 21ms/step - loss: 1.8593 - accuracy: 0.6667\n",
            "1/1 [==============================] - 0s 18ms/step - loss: 1.8014 - accuracy: 0.6667\n",
            "1/1 [==============================] - 0s 18ms/step - loss: 1.8014 - accuracy: 0.7000\n",
            "1/1 [==============================] - 0s 18ms/step - loss: 1.7635 - accuracy: 0.7000\n",
            "1/1 [==============================] - 0s 18ms/step - loss: 1.7485 - accuracy: 0.7000\n",
            "1/1 [==============================] - 0s 18ms/step - loss: 1.7333 - accuracy: 0.7000\n",
            "1/1 [==============================] - 0s 18ms/step - loss: 1.7121 - accuracy: 0.7000\n",
            "1/1 [==============================] - 0s 17ms/step - loss: 1.7250 - accuracy: 0.7000\n",
            "1/1 [==============================] - 0s 17ms/step - loss: 1.7390 - accuracy: 0.7000\n",
            "1/1 [==============================] - 0s 19ms/step - loss: 1.8939 - accuracy: 0.7000\n",
            "1/1 [==============================] - 0s 18ms/step - loss: 3.2577 - accuracy: 0.6667\n",
            "1/1 [==============================] - 0s 19ms/step - loss: 1.7836 - accuracy: 0.8000\n",
            "Category of interest:  Female\n",
            "(150, 224, 224, 3) (30, 224, 224, 3)\n",
            "WARNING:tensorflow:Compiled the loaded model, but the compiled metrics have yet to be built. `model.compile_metrics` will be empty until you train or evaluate the model.\n",
            "WARNING:tensorflow:No training configuration found in the save file, so the model was *not* compiled. Compile it manually.\n",
            "1/1 [==============================] - 0s 212ms/step - loss: 1.2122 - accuracy: 0.8000\n",
            "1/1 [==============================] - 0s 18ms/step - loss: 1.1050 - accuracy: 0.7667\n",
            "1/1 [==============================] - 0s 18ms/step - loss: 1.0536 - accuracy: 0.7667\n",
            "1/1 [==============================] - 0s 18ms/step - loss: 0.9891 - accuracy: 0.7667\n",
            "1/1 [==============================] - 0s 18ms/step - loss: 0.9707 - accuracy: 0.8000\n",
            "1/1 [==============================] - 0s 19ms/step - loss: 0.9582 - accuracy: 0.8000\n",
            "1/1 [==============================] - 0s 18ms/step - loss: 0.9444 - accuracy: 0.8000\n",
            "1/1 [==============================] - 0s 22ms/step - loss: 0.9394 - accuracy: 0.8000\n",
            "1/1 [==============================] - 0s 18ms/step - loss: 0.9425 - accuracy: 0.8000\n",
            "1/1 [==============================] - 0s 19ms/step - loss: 0.9719 - accuracy: 0.8000\n",
            "1/1 [==============================] - 0s 19ms/step - loss: 1.1929 - accuracy: 0.7667\n",
            "1/1 [==============================] - 0s 18ms/step - loss: 2.6868 - accuracy: 0.7667\n",
            "1/1 [==============================] - 0s 18ms/step - loss: 4.4034 - accuracy: 0.8333\n",
            "Category of interest:  Manmade\n",
            "(150, 224, 224, 3) (30, 224, 224, 3)\n",
            "WARNING:tensorflow:Compiled the loaded model, but the compiled metrics have yet to be built. `model.compile_metrics` will be empty until you train or evaluate the model.\n",
            "WARNING:tensorflow:No training configuration found in the save file, so the model was *not* compiled. Compile it manually.\n",
            "1/1 [==============================] - 0s 203ms/step - loss: 1.3161 - accuracy: 0.7333\n",
            "1/1 [==============================] - 0s 18ms/step - loss: 1.0928 - accuracy: 0.7667\n",
            "1/1 [==============================] - 0s 18ms/step - loss: 1.0951 - accuracy: 0.8000\n",
            "1/1 [==============================] - 0s 18ms/step - loss: 1.1081 - accuracy: 0.7667\n",
            "1/1 [==============================] - 0s 19ms/step - loss: 1.0997 - accuracy: 0.8000\n",
            "1/1 [==============================] - 0s 17ms/step - loss: 1.0910 - accuracy: 0.8000\n",
            "1/1 [==============================] - 0s 18ms/step - loss: 1.0868 - accuracy: 0.7667\n",
            "1/1 [==============================] - 0s 18ms/step - loss: 1.0755 - accuracy: 0.8000\n",
            "1/1 [==============================] - 0s 18ms/step - loss: 1.0635 - accuracy: 0.8333\n",
            "1/1 [==============================] - 0s 17ms/step - loss: 1.0585 - accuracy: 0.8333\n",
            "1/1 [==============================] - 0s 18ms/step - loss: 1.2100 - accuracy: 0.8333\n",
            "1/1 [==============================] - 0s 18ms/step - loss: 1.8165 - accuracy: 0.8333\n",
            "1/1 [==============================] - 0s 19ms/step - loss: 0.7742 - accuracy: 0.9000\n",
            "Category of interest:  Natural\n",
            "(150, 224, 224, 3) (30, 224, 224, 3)\n",
            "WARNING:tensorflow:Compiled the loaded model, but the compiled metrics have yet to be built. `model.compile_metrics` will be empty until you train or evaluate the model.\n",
            "WARNING:tensorflow:No training configuration found in the save file, so the model was *not* compiled. Compile it manually.\n",
            "1/1 [==============================] - 1s 749ms/step - loss: 1.9117 - accuracy: 0.6333\n",
            "1/1 [==============================] - 0s 18ms/step - loss: 2.4981 - accuracy: 0.6333\n",
            "1/1 [==============================] - 0s 19ms/step - loss: 2.5383 - accuracy: 0.6333\n",
            "1/1 [==============================] - 0s 18ms/step - loss: 2.5826 - accuracy: 0.6333\n",
            "1/1 [==============================] - 0s 18ms/step - loss: 2.5671 - accuracy: 0.6333\n",
            "1/1 [==============================] - 0s 19ms/step - loss: 2.5456 - accuracy: 0.6333\n",
            "1/1 [==============================] - 0s 17ms/step - loss: 2.5272 - accuracy: 0.6333\n",
            "1/1 [==============================] - 0s 19ms/step - loss: 2.5169 - accuracy: 0.6333\n",
            "1/1 [==============================] - 0s 18ms/step - loss: 2.4983 - accuracy: 0.6333\n",
            "1/1 [==============================] - 0s 18ms/step - loss: 2.5022 - accuracy: 0.6333\n",
            "1/1 [==============================] - 0s 17ms/step - loss: 2.8545 - accuracy: 0.6333\n",
            "1/1 [==============================] - 0s 17ms/step - loss: 3.1834 - accuracy: 0.6333\n",
            "1/1 [==============================] - 0s 17ms/step - loss: 11.9760 - accuracy: 0.6000\n"
          ],
          "name": "stdout"
        }
      ]
    },
    {
      "cell_type": "code",
      "metadata": {
        "id": "_D_xfrLyptgA"
      },
      "source": [
        "grand_acc = np.array(grand_acc)\n",
        "grand_acc.reshape([1,6,13])\n",
        "np.save('tun_accuracy_new' + str(atstrng),grand_acc)"
      ],
      "execution_count": null,
      "outputs": []
    },
    {
      "cell_type": "code",
      "metadata": {
        "id": "8aeOcsA8jVFs",
        "colab": {
          "base_uri": "https://localhost:8080/",
          "height": 362
        },
        "outputId": "a17980f3-275d-47eb-c4e6-6b2e3eafb242"
      },
      "source": [
        "import seaborn as sns\n",
        "sns.set(style=\"white\",rc={\"lines.linewidth\": 0.7})\n",
        "plt.figure(figsize = (15,5))\n",
        "ax = sns.pointplot(data = grand_acc, color = 'mediumseagreen',\n",
        "                   errorwidth = 0.1 , capsize = 0.2)\n",
        "ax.set_xlabel('Layer',size = 20)\n",
        "ax.set_xticklabels(np.arange(1,14))\n",
        "ax.set_ylabel('Avg. acc.',size = 20)\n"
      ],
      "execution_count": null,
      "outputs": [
        {
          "output_type": "execute_result",
          "data": {
            "text/plain": [
              "Text(0, 0.5, 'Avg. acc.')"
            ]
          },
          "metadata": {
            "tags": []
          },
          "execution_count": 20
        },
        {
          "output_type": "display_data",
          "data": {
            "image/png": "[encoded data removed]",
            "text/plain": [
              "<Figure size 1080x360 with 1 Axes>"
            ]
          },
          "metadata": {
            "tags": []
          }
        }
      ]
    },
    {
      "cell_type": "markdown",
      "metadata": {
        "id": "wY8oDGHaSuqf"
      },
      "source": [
        "### Regular Accuracy\n",
        "Calculate the regular accuracy so that they can be contrasted against when attention is applied."
      ]
    },
    {
      "cell_type": "code",
      "metadata": {
        "id": "vLuKzW56SuEZ",
        "colab": {
          "base_uri": "https://localhost:8080/"
        },
        "outputId": "2f26e7bb-7352-46c3-9992-442d758e7a54"
      },
      "source": [
        "# Reinitialising the models for calculating regular accuracy\n",
        "model = VGG16(weights='imagenet',\n",
        "                        include_top=False,input_shape = [224,224,3])\n",
        "          \n",
        "top_model = Sequential()\n",
        "top_model.add(Flatten(input_shape=features_train.shape[1:])) \n",
        "top_model.add(Dense(4096, activation='relu',name = 'top_dense1')) \n",
        "top_model.add(Dense(2, activation='sigmoid',name = 'predictions'))\n",
        "top_model.compile(optimizer= Adam(lr=1e-5),\n",
        "            loss='categorical_crossentropy',\n",
        "            metrics=['accuracy'])\n",
        "    \n",
        "categories = ['Male','Female','Manmade','Natural','Powered','Nonpowered']\n",
        "acc = [0]*6\n",
        "for cat in range(ncats):\n",
        "  tf.keras.backend.clear_session()\n",
        "\n",
        "  print('Category of interest: ', categories[cat])\n",
        "  train_it = np.concatenate((reg_train[cat],reg_train[cat + 4]))\n",
        "  test_it = np.concatenate((data_test[cat],data_test[cat + 4]))\n",
        "  print(train_it.shape,test_it.shape)\n",
        "\n",
        "\n",
        "  #plot_model(model,show_shapes=True,expand_nested=True)\n",
        "  #model.save_weights('vgg_w',save_format='h5')\n",
        "\n",
        "  features_train = model.predict(train_it) \n",
        "\n",
        "  features_test = model.predict(test_it) \n",
        "\n",
        "\n",
        "  epochs = 30\n",
        "  #train_data = np.load('features_train.npy')\n",
        "  ntrain = 80\n",
        "  train_data = features_train\n",
        "  train_labels = to_categorical([0] * ntrain + [1]*ntrain)\n",
        "\n",
        "\n",
        "  #test_data = np.load('features_test.npy')\n",
        "  ntest = 40\n",
        "  test_data = features_test\n",
        "  test_labels = to_categorical([0] * ntest + [1]*ntest)\n",
        "\n",
        "\n",
        "\n",
        "  es = EarlyStopping(monitor='loss', mode='min', verbose=1)\n",
        "\n",
        "  history = top_model.fit(x = train_data,  y = train_labels,\n",
        "            epochs=epochs,\n",
        "            batch_size=64,\n",
        "            verbose = 0, callbacks = [es])\n",
        "\n",
        "  out = top_model.evaluate(test_data, test_labels)\n",
        "  print(out)\n",
        "  acc[cat] = out[1]\n",
        "  #print('rounded test labels',pred)\n",
        "np.mean(acc)"
      ],
      "execution_count": null,
      "outputs": [
        {
          "output_type": "stream",
          "text": [
            "Category of interest:  Male\n",
            "(160, 224, 224, 3) (80, 224, 224, 3)\n",
            "3/3 [==============================] - 0s 4ms/step - loss: 0.6440 - accuracy: 0.7500\n",
            "[0.6439995765686035, 0.75]\n",
            "Category of interest:  Female\n",
            "(160, 224, 224, 3) (80, 224, 224, 3)\n",
            "3/3 [==============================] - 0s 4ms/step - loss: 0.8515 - accuracy: 0.7000\n",
            "[0.8515356779098511, 0.699999988079071]\n",
            "Category of interest:  Manmade\n",
            "(160, 224, 224, 3) (80, 224, 224, 3)\n",
            "Epoch 00005: early stopping\n",
            "3/3 [==============================] - 0s 4ms/step - loss: 1.0024 - accuracy: 0.6875\n",
            "[1.0023987293243408, 0.6875]\n",
            "Category of interest:  Natural\n",
            "(160, 224, 224, 3) (80, 224, 224, 3)\n",
            "Epoch 00003: early stopping\n",
            "3/3 [==============================] - 0s 4ms/step - loss: 2.0552 - accuracy: 0.5750\n",
            "[2.0551769733428955, 0.574999988079071]\n"
          ],
          "name": "stdout"
        },
        {
          "output_type": "execute_result",
          "data": {
            "text/plain": [
              "0.45208332935969037"
            ]
          },
          "metadata": {
            "tags": []
          },
          "execution_count": 54
        }
      ]
    },
    {
      "cell_type": "markdown",
      "metadata": {
        "id": "yOOHYrOnLHRk"
      },
      "source": [
        "# Calculation for control condition"
      ]
    },
    {
      "cell_type": "code",
      "metadata": {
        "id": "bGj72j787vQd",
        "colab": {
          "base_uri": "https://localhost:8080/",
          "height": 427
        },
        "outputId": "bb16f93c-c5e4-4b27-ec6c-aaaab26aae7a"
      },
      "source": [
        "plt_data = np.array((3,3,0,0.8))\n",
        "fig = plt.figure(figsize = (8,4))\n",
        "plt.bar(x = ['Male','Female','Manmade','Natural'],\n",
        "        height = plt_data.T,\n",
        "        color = 'mediumseagreen')\n",
        "plt.title('Control Condition')\n",
        "plt.ylabel('Increase in performance (%)')\n",
        "plt.xlabel('Category')\n"
      ],
      "execution_count": null,
      "outputs": [
        {
          "output_type": "execute_result",
          "data": {
            "text/plain": [
              "Text(0.5, 0, 'Category')"
            ]
          },
          "metadata": {
            "tags": []
          },
          "execution_count": 75
        },
        {
          "output_type": "display_data",
          "data": {
            "image/png": "[encoded data removed]",
            "text/plain": [
              "<Figure size 800x400 with 1 Axes>"
            ]
          },
          "metadata": {
            "tags": []
          }
        }
      ]
    },
    {
      "cell_type": "markdown",
      "metadata": {
        "id": "qrX-2ukIQ1wV"
      },
      "source": [
        "# Plots"
      ]
    },
    {
      "cell_type": "markdown",
      "metadata": {
        "id": "d-Pl1kB3Q3vO"
      },
      "source": [
        "### Layer wise plot\n",
        "This code generates the plot for performance increase as a function of attention applied at each layer separately."
      ]
    },
    {
      "cell_type": "code",
      "metadata": {
        "id": "vTMr8HqKU6gb"
      },
      "source": [
        "acc = [0.69,0.72,0.85,0.58]\n",
        "import numpy as np\n",
        "import matplotlib.pyplot as plt\n",
        "\n",
        "x = np.load('tun_accuracy_multi0.0.npy')\n",
        "x = np.expand_dims(x,0)\n",
        "\n",
        "for i in np.arange(0.5,10,0.5):\n",
        "  temp = np.load('tun_accuracy_multi' + str(i) + '.npy')\n",
        "  temp = np.expand_dims(temp,0)\n",
        "  x = np.vstack((x,temp))\n",
        "\n",
        "\n",
        "\n",
        "x = np.amax(x,0)\n",
        "\n",
        "plt_data = np.zeros((ncats,1))\n",
        "for i in range(ncats):\n",
        "  for j in range(13):\n",
        "    plt_data[i,j] = x[i,j] - acc[i]\n",
        "\n",
        "\n",
        "import seaborn as sns\n",
        "sns.set(style=\"white\",rc={\"lines.linewidth\": 1})\n",
        "plt.figure(figsize = (15,12))\n",
        "ax = sns.pointplot(data = plt_data*100, color = 'mediumseagreen',\n",
        "                   errorwidth = 0.1 , capsize = 0.2)\n",
        "                   \n",
        "ax.set_xlabel('Layer',size = 20)\n",
        "ax.set_xticklabels(np.arange(1,14),size = 20)\n",
        "plt.yticks(fontsize = 20)\n",
        "plt.ylim(0,30)\n",
        "plt.title('Attention by tuning curve, bias stng: 0 - 10.5',size = 15)\n",
        "ax.set_ylabel('Performance Increase (%)',size = 20)"
      ],
      "execution_count": null,
      "outputs": []
    },
    {
      "cell_type": "code",
      "metadata": {
        "id": "6xvHyvKjmefC"
      },
      "source": [
        "# NOT REQUIRED FOR NOW\n",
        "#grad_acc = plt_data\n",
        "#tun_acc = plt_data\n",
        "\n",
        "from scipy import stats\n",
        "pval = np.zeros(13)\n",
        "\n",
        "for i in range(13):\n",
        "  _,pval[i] = stats.ttest_ind(tun_acc[:,i],grad_acc[:,i],equal_var=False)\n",
        "\n",
        "pval"
      ],
      "execution_count": null,
      "outputs": []
    },
    {
      "cell_type": "markdown",
      "metadata": {
        "id": "9C8vZVeCQ9Dj"
      },
      "source": [
        "### Category wise plot\n",
        "This code generates the plot for performance increase as a function of category and attention applied at each layer separately."
      ]
    },
    {
      "cell_type": "code",
      "metadata": {
        "id": "HVAZyDCmQ7sE",
        "colab": {
          "base_uri": "https://localhost:8080/",
          "height": 903
        },
        "outputId": "9c35567e-c165-42fe-c796-3ff140b9b024"
      },
      "source": [
        "acc = [0.75,0.72,0.68,0.58]\n",
        "\n",
        "gacc = np.load('tun_accuracy_multi0.0.npy')\n",
        "gacc = np.expand_dims(gacc,0)\n",
        "\n",
        "for i in np.arange(0.5,10,0.5):\n",
        "  temp = np.load('tun_accuracy_multi' + str(i) + '.npy')\n",
        "  temp = np.expand_dims(temp,0)\n",
        "  gacc = np.vstack((gacc,temp))\n",
        "strngs = np.arange(0.5,5,1)\n",
        "'''\n",
        "for i in np.arange(1,11,1):\n",
        "  temp = np.load('tun_accuracy_add' + str(i) + '.npy')\n",
        "  temp = np.expand_dims(temp,0)\n",
        "  gacc = np.vstack((gacc,temp))\n",
        "strngs = np.concatenate((strngs,np.arange(1,6,1)))'''\n",
        "y = np.amax(gacc,0).T\n",
        "\n",
        "\n",
        "plt_data = np.zeros((13,4))\n",
        "for i in range(13):\n",
        "  for j in range(4):\n",
        "    plt_data[i,j] = y[i,j] - acc[j]\n",
        "\n",
        "\n",
        "import seaborn as sns\n",
        "sns.set(style=\"white\",rc={\"lines.linewidth\": 1})\n",
        "layer = 0\n",
        "f,axes = plt.subplots(2,2,figsize=(15,15))\n",
        "f.add_subplot(111, frameon=False)\n",
        "# hide tick and tick label of the big axis\n",
        "plt.tick_params(labelcolor='none', top=False, bottom=False, left=False, right=False)\n",
        "plt.xlabel(\"Layer\",size = 15)\n",
        "plt.ylabel(\"Performance Increase (%)\",size = 15)\n",
        "for x in range(2):\n",
        "  for y in range(2):\n",
        "    axes[x,y].bar(x = np.arange(0,13),height = plt_data[:,layer]*100,color = 'mediumseagreen')\n",
        "    axes[x,y].set_xticklabels(np.arange(1,14),size = 15)\n",
        "    axes[x,y].set_xticks(np.arange(0,14))\n",
        "    axes[x,y].set_title(categories[layer],size = 15)\n",
        "    axes[x,y].set_ylim(-2,35)\n",
        "    axes[x,y].set_xlim(-1,13)\n",
        "    axes[x,y].hlines(y = 0,xmin= -1,xmax = 13)\n",
        "    layer+=1\n",
        "  "
      ],
      "execution_count": null,
      "outputs": [
        {
          "output_type": "display_data",
          "data": {
            "image/png": "[encoded data removed]",
            "text/plain": [
              "<Figure size 1080x1080 with 5 Axes>"
            ]
          },
          "metadata": {
            "tags": []
          }
        }
      ]
    }
  ]
}
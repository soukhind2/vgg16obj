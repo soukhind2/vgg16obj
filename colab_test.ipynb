{
  "nbformat": 4,
  "nbformat_minor": 0,
  "metadata": {
    "colab": {
      "name": "Untitled",
      "provenance": [],
      "collapsed_sections": [],
      "include_colab_link": true
    },
    "kernelspec": {
      "name": "python3",
      "display_name": "Python 3"
    },
    "accelerator": "GPU"
  },
  "cells": [
    {
      "cell_type": "markdown",
      "metadata": {
        "id": "view-in-github",
        "colab_type": "text"
      },
      "source": [
        "<a href=\"https://colab.research.google.com/github/soukhind2/vgg16obj/blob/objsubclass/colab_test.ipynb\" target=\"_parent\"><img src=\"https://colab.research.google.com/assets/colab-badge.svg\" alt=\"Open In Colab\"/></a>"
      ]
    },
    {
      "cell_type": "code",
      "metadata": {
        "id": "iu-7CWZXXgjK",
        "colab_type": "code",
        "colab": {
          "base_uri": "https://localhost:8080/",
          "height": 35
        },
        "outputId": "329a6c54-0f8f-4f8d-b660-d0d729a260fc"
      },
      "source": [
        "from google.colab import drive\n",
        "from pathlib import Path\n",
        "import sys\n",
        "drive.mount(\"/content/drive\", force_remount=True)"
      ],
      "execution_count": 1,
      "outputs": [
        {
          "output_type": "stream",
          "text": [
            "Mounted at /content/drive\n"
          ],
          "name": "stdout"
        }
      ]
    },
    {
      "cell_type": "code",
      "metadata": {
        "id": "VLV7d2XHrXBJ",
        "colab_type": "code",
        "colab": {
          "base_uri": "https://localhost:8080/",
          "height": 121
        },
        "outputId": "d872dc37-15cb-4500-b0f1-510fb45b8ddb"
      },
      "source": [
        "!rm -rf vgg16obj\n",
        "!git clone https://github.com/soukhind2/vgg16obj\n"
      ],
      "execution_count": 2,
      "outputs": [
        {
          "output_type": "stream",
          "text": [
            "Cloning into 'vgg16obj'...\n",
            "remote: Enumerating objects: 65, done.\u001b[K\n",
            "remote: Counting objects: 100% (65/65), done.\u001b[K\n",
            "remote: Compressing objects: 100% (48/48), done.\u001b[K\n",
            "remote: Total 65 (delta 28), reused 39 (delta 16), pack-reused 0\u001b[K\n",
            "Unpacking objects: 100% (65/65), done.\n"
          ],
          "name": "stdout"
        }
      ]
    },
    {
      "cell_type": "code",
      "metadata": {
        "id": "td2UQV3AzMc2",
        "colab_type": "code",
        "colab": {}
      },
      "source": [
        "#!unzip -q /content/drive/My\\ Drive/obj/data\n",
        "#!unzip -q /content/drive/My\\ Drive/obj/test2\n",
        "#!unzip -q /content/drive/My\\ Drive/obj/sean_test\n",
        "!unzip -q /content/drive/My\\ Drive/obj/data_6class"
      ],
      "execution_count": 3,
      "outputs": []
    },
    {
      "cell_type": "code",
      "metadata": {
        "id": "5qZWiNy0sNs6",
        "colab_type": "code",
        "colab": {}
      },
      "source": [
        "import numpy as np\n",
        "import pandas as pd\n",
        "import os\n",
        "import time\n",
        "import math\n",
        "import matplotlib.pyplot as plt\n",
        "\n",
        "\n",
        "from keras.applications.vgg16 import VGG16,preprocess_input\n",
        "from keras.preprocessing.image import ImageDataGenerator,load_img, img_to_array\n",
        "from keras.layers import Flatten,Dense,Dropout\n",
        "from keras.models import Sequential\n",
        "from keras.utils.np_utils import to_categorical\n",
        "from keras.optimizers import Adam\n",
        "from keras.callbacks import EarlyStopping\n",
        "from keras.utils.vis_utils import plot_model\n",
        "\n",
        "from sklearn import metrics\n",
        "from sklearn.metrics import confusion_matrix\n",
        "import itertools\n",
        "\n",
        "\n",
        "\n"
      ],
      "execution_count": 14,
      "outputs": []
    },
    {
      "cell_type": "code",
      "metadata": {
        "id": "Qp5zD-detSd5",
        "colab_type": "code",
        "colab": {
          "base_uri": "https://localhost:8080/",
          "height": 35
        },
        "outputId": "00b44eac-5b82-47fa-9ba5-6201068ec583"
      },
      "source": [
        "def convertimgs(path,data) :\n",
        "    for dirName, subdir, files in os.walk(path):\n",
        "        for filename in sorted(files):\n",
        "            if filename == '.DS_Store':\n",
        "                continue\n",
        "            ds = load_img(path +'/' + filename,target_size = (224,224))\n",
        "            im = img_to_array(ds)\n",
        "            #im = im.reshape((1, im.shape[0], im.shape[1], im.shape[2]))\n",
        "            im = preprocess_input(im)\n",
        "            data.append(im) \n",
        "    return data\n",
        "\n",
        "\n",
        "train_it = []\n",
        "train_it = convertimgs('/content/data_6class/train/faces/Male',train_it)\n",
        "train_it = convertimgs('/content/data_6class/train/faces/Female/',train_it)\n",
        "train_it = convertimgs('/content/data_6class/train/scenes/Manmade/',train_it)\n",
        "train_it = convertimgs('/content/data_6class/train/scenes/Natural/',train_it)\n",
        "train_it = convertimgs('/content/data_6class/train/objects/Powered',train_it)\n",
        "train_it = convertimgs('/content/data_6class/train/objects/Nonpowered',train_it)\n",
        "train_it = np.array(train_it)\n",
        "\n",
        "val_it = []\n",
        "val_it = convertimgs('/content/data_6class/val/faces/Male/',val_it)\n",
        "val_it = convertimgs('/content/data_6class/val/faces/Female/',val_it)\n",
        "val_it = convertimgs('/content/data_6class/val/scenes/Manmade/',val_it)\n",
        "val_it = convertimgs('/content/data_6class/val/scenes/Natural/',val_it)\n",
        "val_it = convertimgs('/content/data_6class/val/objects/Powered',val_it)\n",
        "val_it = convertimgs('/content/data_6class/val/objects/Nonpowered',val_it)\n",
        "val_it = np.array(val_it)\n",
        "\n",
        "test_it = []\n",
        "test_it = convertimgs('/content/data_6class/test/faces/Male/',test_it)\n",
        "test_it = convertimgs('/content/data_6class/test/faces/Female/',test_it)\n",
        "test_it = convertimgs('/content/data_6class/test/scenes/Manmade/',test_it)\n",
        "test_it = convertimgs('/content/data_6class/test/scenes/Natural/',test_it)\n",
        "test_it = convertimgs('/content/data_6class/test/objects/Powered',test_it)\n",
        "test_it = convertimgs('/content/data_6class/test/objects/Nonowered',test_it)\n",
        "test_it = np.array(test_it)\n",
        "\n",
        "print(train_it.shape,val_it.shape,test_it.shape)\n"
      ],
      "execution_count": 5,
      "outputs": [
        {
          "output_type": "stream",
          "text": [
            "(1554, 224, 224, 3) (150, 224, 224, 3) (162, 224, 224, 3)\n"
          ],
          "name": "stdout"
        }
      ]
    },
    {
      "cell_type": "code",
      "metadata": {
        "id": "zGtHkNcGsH1G",
        "colab_type": "code",
        "colab": {
          "base_uri": "https://localhost:8080/",
          "height": 72
        },
        "outputId": "bcb40db9-9343-432f-ed71-7252b7599432"
      },
      "source": [
        "model = VGG16(weights='imagenet',\n",
        "              include_top=False,input_shape = [244,244,3])\n",
        "#plot_model(model,show_shapes=True,expand_nested=True)"
      ],
      "execution_count": 6,
      "outputs": [
        {
          "output_type": "stream",
          "text": [
            "Downloading data from https://storage.googleapis.com/tensorflow/keras-applications/vgg16/vgg16_weights_tf_dim_ordering_tf_kernels_notop.h5\n",
            "58892288/58889256 [==============================] - 1s 0us/step\n"
          ],
          "name": "stdout"
        }
      ]
    },
    {
      "cell_type": "code",
      "metadata": {
        "id": "d7cwENbHu5Fa",
        "colab_type": "code",
        "colab": {
          "base_uri": "https://localhost:8080/",
          "height": 69
        },
        "outputId": "5818685c-f317-4197-e360-f81956eefc75"
      },
      "source": [
        "start = time.time()\n",
        "features_train = model.predict(train_it) \n",
        "print(f'Train Time: {time.time() - start}')\n",
        "\n",
        "start = time.time()\n",
        "features_val = model.predict(val_it) \n",
        "print(f'Val Time: {time.time() - start}')\n",
        "\n",
        "start = time.time()\n",
        "features_test = model.predict(test_it) \n",
        "print(f'Test Time: {time.time() - start}')\n",
        "\n",
        "     \n",
        "#np.save('features_train' , features_train)\n",
        "#np.save('features_val', features_val)\n",
        "#np.save('features_test', features_test)"
      ],
      "execution_count": 13,
      "outputs": [
        {
          "output_type": "stream",
          "text": [
            "Train Time: 11.31544542312622\n",
            "Val Time: 1.1724224090576172\n",
            "Test Time: 1.2221639156341553\n"
          ],
          "name": "stdout"
        }
      ]
    },
    {
      "cell_type": "code",
      "metadata": {
        "id": "ZHfsT4F00M5o",
        "colab_type": "code",
        "colab": {}
      },
      "source": [
        "epochs = 30\n",
        "\n",
        "#train_data = np.load('features_train.npy')\n",
        "train_data = features_train\n",
        "#train_labels = [0] * 250 + [1]*250 + [2] * 250 + [3] * 250 + [4] * 275 + [5] * 279\n",
        "#train_labels = [0] * 250 + [1]*250 + [0] * 250 + [1] * 250 + [0] * 275 + [1] * 279\n",
        "train_labels = [0] * 250 + [0]*250 + [1] * 250 + [1] * 250 + [2] * 275 + [2] * 279\n",
        "train_labels = to_categorical(train_labels, 3)\n",
        "\n",
        "\n",
        "#val_data = np.load('features_val.npy')\n",
        "val_data = features_val\n",
        "#val_labels = [0] * 25 + [1]*25 + [2] * 25 + [3] * 25 + [4] * 25 + [5] * 25\n",
        "#val_labels = [0] * 25 + [1]*25 + [0] * 25 + [1] * 25 + [0] * 25 + [1] * 25\n",
        "val_labels = [0] * 25 + [0]*25 + [1] * 25 + [1] * 25 + [2] * 25 + [2] * 25\n",
        "val_labels = to_categorical(val_labels, 3)\n",
        "\n",
        "#test_data = np.load('features_test.npy')\n",
        "test_data = features_test\n",
        "#test_labels = [0] * 50 + [1] * 50 + [2] * 50\n",
        "#test_labels = [0] * 61 + [1] * 40 + [2] * 61\n",
        "#test_labels = [0] * 31 + [1]*30 + [2] * 19 + [3] * 21 + [4] * 31 + [5] * 30\n",
        "#test_labels = [0] * 31 + [1]*30 + [0] * 19 + [1] * 21 + [0] * 31 + [1] * 30\n",
        "test_labels = [0] * 31 + [0]*30 + [1] * 19 + [1] * 21 + [2] * 31 + [2] * 30\n",
        "test_labels = to_categorical(test_labels, 3)\n"
      ],
      "execution_count": 25,
      "outputs": []
    },
    {
      "cell_type": "code",
      "metadata": {
        "id": "3esqqcvakaON",
        "colab_type": "code",
        "colab": {}
      },
      "source": [
        "from tensorflow import keras\n",
        "from tensorflow.keras import layers\n",
        "\n",
        "input = keras.Input(shape= train_data.shape[1:])\n",
        "x = layers.Flatten()(input)\n",
        "x = layers.Dense(4096, activation=\"relu\")(x)\n",
        "\n",
        "#branch1\n",
        "b1 = layers.Dense(1024, activation=\"relu\")(x)\n",
        "o1 = layers.Dense(2,activation=\"softmax\")(b1)\n",
        "\n",
        "#branch2\n",
        "b2 = layers.Dense(1024, activation=\"relu\")(x)\n",
        "o2 = layers.Dense(3,activation=\"softmax\")(b2)\n",
        "\n",
        "\n",
        "#outputs = layers.Dense(6,activation=\"softmax\")(x)\n",
        "model1 = keras.Model(inputs=input, outputs=o1)\n",
        "model2 = keras.Model(inputs=input, outputs=o2)\n",
        "\n"
      ],
      "execution_count": 26,
      "outputs": []
    },
    {
      "cell_type": "code",
      "metadata": {
        "id": "nk6H0t-yDfQA",
        "colab_type": "code",
        "colab": {
          "base_uri": "https://localhost:8080/",
          "height": 245
        },
        "outputId": "97a1552d-6439-4e8d-8992-bde3e3023a43"
      },
      "source": [
        "'''\n",
        "model = Sequential()\n",
        "\n",
        "model.add(Flatten(input_shape=train_data.shape[1:])) \n",
        "model.add(Dense(4096, activation='relu')) \n",
        "##model.add(Dropout(0.5)) \n",
        "model.add(Dense(6, activation='softmax'))\n",
        "model.summary()\n",
        "'''\n",
        "\n",
        "\n",
        "\n",
        "model2.compile(optimizer= Adam(lr=1e-5),\n",
        "              loss='binary_crossentropy',\n",
        "              metrics=['accuracy'])\n",
        "es = EarlyStopping(monitor='val_loss', mode='min', verbose=1)\n",
        "\n",
        "history = model2.fit(train_data, train_labels,\n",
        "          epochs=epochs,\n",
        "          batch_size=64,\n",
        "          validation_data=(val_data, val_labels),\n",
        "          verbose = 1, callbacks = [es])\n",
        "#model.save_weights('top_weights',overwrite = True)\n",
        "\n"
      ],
      "execution_count": 27,
      "outputs": [
        {
          "output_type": "stream",
          "text": [
            "Epoch 1/30\n",
            " 2/25 [=>............................] - ETA: 0s - loss: 3.2694 - accuracy: 0.3594WARNING:tensorflow:Callbacks method `on_train_batch_end` is slow compared to the batch time (batch time: 0.0177s vs `on_train_batch_end` time: 0.0411s). Check your callbacks.\n",
            "25/25 [==============================] - 1s 54ms/step - loss: 0.4309 - accuracy: 0.8970 - val_loss: 0.0684 - val_accuracy: 0.9933\n",
            "Epoch 2/30\n",
            "25/25 [==============================] - 1s 45ms/step - loss: 0.0132 - accuracy: 0.9987 - val_loss: 0.0630 - val_accuracy: 0.9933\n",
            "Epoch 3/30\n",
            "25/25 [==============================] - 1s 45ms/step - loss: 0.0066 - accuracy: 0.9994 - val_loss: 0.0618 - val_accuracy: 0.9933\n",
            "Epoch 4/30\n",
            "25/25 [==============================] - 1s 45ms/step - loss: 0.0066 - accuracy: 0.9994 - val_loss: 0.0618 - val_accuracy: 0.9933\n",
            "Epoch 5/30\n",
            "25/25 [==============================] - 1s 45ms/step - loss: 0.0066 - accuracy: 0.9994 - val_loss: 0.0618 - val_accuracy: 0.9933\n",
            "Epoch 00005: early stopping\n"
          ],
          "name": "stdout"
        }
      ]
    },
    {
      "cell_type": "code",
      "metadata": {
        "id": "QjFIXdIl1TdV",
        "colab_type": "code",
        "colab": {
          "base_uri": "https://localhost:8080/",
          "height": 52
        },
        "outputId": "7b9314dc-4a61-4986-f151-6affdbdff14d"
      },
      "source": [
        "out = model2.evaluate(test_data,test_labels)\n",
        "print(out)\n",
        "\n",
        "pred = np.round(model2.predict(test_data),0)\n",
        "#print('rounded test labels',pred)"
      ],
      "execution_count": 29,
      "outputs": [
        {
          "output_type": "stream",
          "text": [
            "6/6 [==============================] - 0s 11ms/step - loss: 1.3532e-05 - accuracy: 1.0000\n",
            "[1.3531681361200754e-05, 1.0]\n"
          ],
          "name": "stdout"
        }
      ]
    },
    {
      "cell_type": "code",
      "metadata": {
        "id": "C-26YbSl2vKm",
        "colab_type": "code",
        "colab": {
          "base_uri": "https://localhost:8080/",
          "height": 338
        },
        "outputId": "dcf0723e-fef6-4199-ce21-f57eb27648b0"
      },
      "source": [
        "classes = ['Male','Female','Manmade','Natural','Powered','Nonpowered']\n",
        "metric = metrics.classification_report(test_labels,pred,target_names = classes)\n",
        "print(metric)\n"
      ],
      "execution_count": 30,
      "outputs": [
        {
          "output_type": "error",
          "ename": "ValueError",
          "evalue": "ignored",
          "traceback": [
            "\u001b[0;31m---------------------------------------------------------------------------\u001b[0m",
            "\u001b[0;31mValueError\u001b[0m                                Traceback (most recent call last)",
            "\u001b[0;32m<ipython-input-30-239234410afa>\u001b[0m in \u001b[0;36m<module>\u001b[0;34m()\u001b[0m\n\u001b[1;32m      1\u001b[0m \u001b[0mclasses\u001b[0m \u001b[0;34m=\u001b[0m \u001b[0;34m[\u001b[0m\u001b[0;34m'Male'\u001b[0m\u001b[0;34m,\u001b[0m\u001b[0;34m'Female'\u001b[0m\u001b[0;34m,\u001b[0m\u001b[0;34m'Manmade'\u001b[0m\u001b[0;34m,\u001b[0m\u001b[0;34m'Natural'\u001b[0m\u001b[0;34m,\u001b[0m\u001b[0;34m'Powered'\u001b[0m\u001b[0;34m,\u001b[0m\u001b[0;34m'Nonpowered'\u001b[0m\u001b[0;34m]\u001b[0m\u001b[0;34m\u001b[0m\u001b[0;34m\u001b[0m\u001b[0m\n\u001b[0;32m----> 2\u001b[0;31m \u001b[0mmetric\u001b[0m \u001b[0;34m=\u001b[0m \u001b[0mmetrics\u001b[0m\u001b[0;34m.\u001b[0m\u001b[0mclassification_report\u001b[0m\u001b[0;34m(\u001b[0m\u001b[0mtest_labels\u001b[0m\u001b[0;34m,\u001b[0m\u001b[0mpred\u001b[0m\u001b[0;34m,\u001b[0m\u001b[0mtarget_names\u001b[0m \u001b[0;34m=\u001b[0m \u001b[0mclasses\u001b[0m\u001b[0;34m)\u001b[0m\u001b[0;34m\u001b[0m\u001b[0;34m\u001b[0m\u001b[0m\n\u001b[0m\u001b[1;32m      3\u001b[0m \u001b[0mprint\u001b[0m\u001b[0;34m(\u001b[0m\u001b[0mmetric\u001b[0m\u001b[0;34m)\u001b[0m\u001b[0;34m\u001b[0m\u001b[0;34m\u001b[0m\u001b[0m\n",
            "\u001b[0;32m/usr/local/lib/python3.6/dist-packages/sklearn/metrics/_classification.py\u001b[0m in \u001b[0;36mclassification_report\u001b[0;34m(y_true, y_pred, labels, target_names, sample_weight, digits, output_dict, zero_division)\u001b[0m\n\u001b[1;32m   1993\u001b[0m                 \u001b[0;34m\"Number of classes, {0}, does not match size of \"\u001b[0m\u001b[0;34m\u001b[0m\u001b[0;34m\u001b[0m\u001b[0m\n\u001b[1;32m   1994\u001b[0m                 \u001b[0;34m\"target_names, {1}. Try specifying the labels \"\u001b[0m\u001b[0;34m\u001b[0m\u001b[0;34m\u001b[0m\u001b[0m\n\u001b[0;32m-> 1995\u001b[0;31m                 \u001b[0;34m\"parameter\"\u001b[0m\u001b[0;34m.\u001b[0m\u001b[0mformat\u001b[0m\u001b[0;34m(\u001b[0m\u001b[0mlen\u001b[0m\u001b[0;34m(\u001b[0m\u001b[0mlabels\u001b[0m\u001b[0;34m)\u001b[0m\u001b[0;34m,\u001b[0m \u001b[0mlen\u001b[0m\u001b[0;34m(\u001b[0m\u001b[0mtarget_names\u001b[0m\u001b[0;34m)\u001b[0m\u001b[0;34m)\u001b[0m\u001b[0;34m\u001b[0m\u001b[0;34m\u001b[0m\u001b[0m\n\u001b[0m\u001b[1;32m   1996\u001b[0m             )\n\u001b[1;32m   1997\u001b[0m     \u001b[0;32mif\u001b[0m \u001b[0mtarget_names\u001b[0m \u001b[0;32mis\u001b[0m \u001b[0;32mNone\u001b[0m\u001b[0;34m:\u001b[0m\u001b[0;34m\u001b[0m\u001b[0;34m\u001b[0m\u001b[0m\n",
            "\u001b[0;31mValueError\u001b[0m: Number of classes, 3, does not match size of target_names, 6. Try specifying the labels parameter"
          ]
        }
      ]
    },
    {
      "cell_type": "code",
      "metadata": {
        "id": "nJwqoDLrgxrQ",
        "colab_type": "code",
        "colab": {
          "base_uri": "https://localhost:8080/",
          "height": 885
        },
        "outputId": "f48afb34-f223-43d6-a7af-9e6d7a059516"
      },
      "source": [
        "from vgg16obj.tools import plot_tools as pt\n",
        "pt.plot_metrics(history)\n",
        "\n",
        "categorical_test_labels = pd.DataFrame(test_labels).idxmax(axis=1)\n",
        "categorical_preds = pd.DataFrame(pred).idxmax(axis=1)\n",
        "cm = confusion_matrix(categorical_test_labels, categorical_preds)\n",
        "\n",
        "pt.plot_confusion_matrix(cm,classes,normalize = False)"
      ],
      "execution_count": 31,
      "outputs": [
        {
          "output_type": "display_data",
          "data": {
            "image/png": "[encoded data removed]",
            "text/plain": [
              "<Figure size 432x288 with 1 Axes>"
            ]
          },
          "metadata": {
            "tags": [],
            "needs_background": "light"
          }
        },
        {
          "output_type": "display_data",
          "data": {
            "image/png": "[encoded data removed]",
            "text/plain": [
              "<Figure size 432x288 with 1 Axes>"
            ]
          },
          "metadata": {
            "tags": [],
            "needs_background": "light"
          }
        },
        {
          "output_type": "stream",
          "text": [
            "Confusion matrix, without normalization\n"
          ],
          "name": "stdout"
        },
        {
          "output_type": "display_data",
          "data": {
            "image/png": "[encoded data removed]",
            "text/plain": [
              "<Figure size 432x288 with 2 Axes>"
            ]
          },
          "metadata": {
            "tags": [],
            "needs_background": "light"
          }
        }
      ]
    },
    {
      "cell_type": "code",
      "metadata": {
        "id": "WDW4Rji4tx73",
        "colab_type": "code",
        "colab": {
          "base_uri": "https://localhost:8080/",
          "height": 422
        },
        "outputId": "50847b8f-531d-4b01-91b0-72aceb57c7d6"
      },
      "source": [
        "plot_model(model,show_shapes=True,expand_nested=True)"
      ],
      "execution_count": 22,
      "outputs": [
        {
          "output_type": "execute_result",
          "data": {
            "image/png": "[encoded data removed]",
            "text/plain": [
              "<IPython.core.display.Image object>"
            ]
          },
          "metadata": {
            "tags": []
          },
          "execution_count": 22
        }
      ]
    }
  ]
}
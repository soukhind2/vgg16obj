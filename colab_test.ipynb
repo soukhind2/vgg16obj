{
  "nbformat": 4,
  "nbformat_minor": 0,
  "metadata": {
    "colab": {
      "name": "Untitled",
      "provenance": [],
      "collapsed_sections": [],
      "include_colab_link": true
    },
    "kernelspec": {
      "name": "python3",
      "display_name": "Python 3"
    },
    "accelerator": "GPU"
  },
  "cells": [
    {
      "cell_type": "markdown",
      "metadata": {
        "id": "view-in-github",
        "colab_type": "text"
      },
      "source": [
        "<a href=\"https://colab.research.google.com/github/soukhind2/vgg16obj/blob/master/colab_test.ipynb\" target=\"_parent\"><img src=\"https://colab.research.google.com/assets/colab-badge.svg\" alt=\"Open In Colab\"/></a>"
      ]
    },
    {
      "cell_type": "code",
      "metadata": {
        "id": "iu-7CWZXXgjK",
        "colab_type": "code",
        "colab": {
          "base_uri": "https://localhost:8080/",
          "height": 35
        },
        "outputId": "92dc2e1a-2cd5-4d5a-d813-ec30a2b58e24"
      },
      "source": [
        "from google.colab import drive\n",
        "from pathlib import Path\n",
        "import sys\n",
        "drive.mount(\"/content/drive\", force_remount=True)"
      ],
      "execution_count": 1,
      "outputs": [
        {
          "output_type": "stream",
          "text": [
            "Mounted at /content/drive\n"
          ],
          "name": "stdout"
        }
      ]
    },
    {
      "cell_type": "code",
      "metadata": {
        "id": "VLV7d2XHrXBJ",
        "colab_type": "code",
        "colab": {
          "base_uri": "https://localhost:8080/",
          "height": 121
        },
        "outputId": "65e0e3c7-3a35-4963-a505-d5f85b9c3d4b"
      },
      "source": [
        "!rm -rf vgg16obj\n",
        "!git clone https://github.com/soukhind2/vgg16obj\n"
      ],
      "execution_count": 2,
      "outputs": [
        {
          "output_type": "stream",
          "text": [
            "Cloning into 'vgg16obj'...\n",
            "remote: Enumerating objects: 54, done.\u001b[K\n",
            "remote: Counting objects: 100% (54/54), done.\u001b[K\n",
            "remote: Compressing objects: 100% (37/37), done.\u001b[K\n",
            "remote: Total 54 (delta 24), reused 36 (delta 16), pack-reused 0\u001b[K\n",
            "Unpacking objects: 100% (54/54), done.\n"
          ],
          "name": "stdout"
        }
      ]
    },
    {
      "cell_type": "code",
      "metadata": {
        "id": "td2UQV3AzMc2",
        "colab_type": "code",
        "colab": {
          "base_uri": "https://localhost:8080/",
          "height": 35
        },
        "outputId": "afb9e421-d771-432e-fcf6-9cfaf21f3b1d"
      },
      "source": [
        "#!unzip -q /content/drive/My\\ Drive/obj/data\n",
        "#!unzip -q /content/drive/My\\ Drive/obj/test2\n",
        "!unzip -q /content/drive/My\\ Drive/obj/sean_test"
      ],
      "execution_count": 26,
      "outputs": [
        {
          "output_type": "stream",
          "text": [
            "replace Photos/.DS_Store? [y]es, [n]o, [A]ll, [N]one, [r]ename: A\n"
          ],
          "name": "stdout"
        }
      ]
    },
    {
      "cell_type": "code",
      "metadata": {
        "id": "5qZWiNy0sNs6",
        "colab_type": "code",
        "colab": {}
      },
      "source": [
        "import numpy as np\n",
        "import pandas as pd\n",
        "import os\n",
        "import time\n",
        "import math\n",
        "import matplotlib.pyplot as plt\n",
        "\n",
        "\n",
        "from keras.applications.vgg16 import VGG16,preprocess_input\n",
        "from keras.preprocessing.image import ImageDataGenerator,load_img, img_to_array\n",
        "from keras.layers import Flatten,Dense,Dropout\n",
        "from keras.models import Sequential\n",
        "from keras.utils.np_utils import to_categorical\n",
        "from keras.optimizers import Adam\n",
        "from keras.callbacks import EarlyStopping\n",
        "from keras.utils.vis_utils import plot_model\n",
        "\n",
        "from sklearn import metrics\n",
        "from sklearn.metrics import confusion_matrix\n",
        "import itertools\n",
        "\n",
        "\n",
        "\n"
      ],
      "execution_count": 4,
      "outputs": []
    },
    {
      "cell_type": "code",
      "metadata": {
        "id": "Qp5zD-detSd5",
        "colab_type": "code",
        "colab": {
          "base_uri": "https://localhost:8080/",
          "height": 35
        },
        "outputId": "fe41de06-92ee-44ff-ed0c-9351a843d042"
      },
      "source": [
        "def convertimgs(path,data) :\n",
        "    for dirName, subdir, files in os.walk(path):\n",
        "        for filename in sorted(files):\n",
        "            if filename == '.DS_Store':\n",
        "                continue\n",
        "            ds = load_img(path +'/' + filename,target_size = (224,224))\n",
        "            im = img_to_array(ds)\n",
        "            #im = im.reshape((1, im.shape[0], im.shape[1], im.shape[2]))\n",
        "            im = preprocess_input(im)\n",
        "            data.append(im) \n",
        "    return data\n",
        "\n",
        "\n",
        "train_it = []\n",
        "train_it = convertimgs('/content/data/train/faces/',train_it)\n",
        "train_it = convertimgs('/content/data/train/scenes/',train_it)\n",
        "train_it = convertimgs('/content/data/train/objects/',train_it)\n",
        "train_it = np.array(train_it)\n",
        "\n",
        "val_it = []\n",
        "val_it = convertimgs('/content/data/val/faces',val_it)\n",
        "val_it = convertimgs('/content/data/val/scenes',val_it)\n",
        "val_it = convertimgs('/content/data/val/objects',val_it)\n",
        "val_it = np.array(val_it)\n",
        "\n",
        "test_it = []\n",
        "test_it = convertimgs('/content/sean_test/face',test_it)\n",
        "test_it = convertimgs('/content/sean_test/scene',test_it)\n",
        "test_it = convertimgs('/content/sean_test/tool',test_it)\n",
        "test_it = np.array(test_it)\n",
        "\n",
        "print(train_it.shape,val_it.shape,test_it.shape)\n"
      ],
      "execution_count": 31,
      "outputs": [
        {
          "output_type": "stream",
          "text": [
            "(1500, 224, 224, 3) (150, 224, 224, 3) (162, 224, 224, 3)\n"
          ],
          "name": "stdout"
        }
      ]
    },
    {
      "cell_type": "code",
      "metadata": {
        "id": "zGtHkNcGsH1G",
        "colab_type": "code",
        "colab": {}
      },
      "source": [
        "model = VGG16(weights='imagenet',\n",
        "              include_top=False,input_shape = [244,244,3])\n",
        "#plot_model(model,show_shapes=True,expand_nested=True)"
      ],
      "execution_count": 32,
      "outputs": []
    },
    {
      "cell_type": "code",
      "metadata": {
        "id": "d7cwENbHu5Fa",
        "colab_type": "code",
        "colab": {
          "base_uri": "https://localhost:8080/",
          "height": 106
        },
        "outputId": "b4b71415-68e9-4714-9076-ccf7adcc4bff"
      },
      "source": [
        "start = time.time()\n",
        "features_train = model.predict(train_it) \n",
        "print(f'Train Time: {time.time() - start}')\n",
        "\n",
        "start = time.time()\n",
        "features_val = model.predict(val_it) \n",
        "print(f'Val Time: {time.time() - start}')\n",
        "\n",
        "start = time.time()\n",
        "features_test = model.predict(test_it) \n",
        "print(f'Test Time: {time.time() - start}')\n",
        "\n",
        "     \n",
        "#np.save('features_train' , features_train)\n",
        "#np.save('features_val', features_val)\n",
        "#np.save('features_test', features_test)"
      ],
      "execution_count": 33,
      "outputs": [
        {
          "output_type": "stream",
          "text": [
            "WARNING:tensorflow:Model was constructed with shape (None, 244, 244, 3) for input Tensor(\"input_5:0\", shape=(None, 244, 244, 3), dtype=float32), but it was called on an input with incompatible shape (None, 224, 224, 3).\n",
            "Train Time: 5.827252626419067\n",
            "Val Time: 0.610875129699707\n",
            "Test Time: 0.6514739990234375\n"
          ],
          "name": "stdout"
        }
      ]
    },
    {
      "cell_type": "code",
      "metadata": {
        "id": "ZHfsT4F00M5o",
        "colab_type": "code",
        "colab": {
          "base_uri": "https://localhost:8080/",
          "height": 141
        },
        "outputId": "7dadada8-2473-43b1-f567-cf763e5e5d14"
      },
      "source": [
        "epochs = 30\n",
        "\n",
        "#train_data = np.load('features_train.npy')\n",
        "train_data = features_train\n",
        "train_labels = [0] * 500 + [1]*500 + [2] * 500\n",
        "train_labels = to_categorical(train_labels, 3)\n",
        "\n",
        "\n",
        "#val_data = np.load('features_val.npy')\n",
        "val_data = features_val\n",
        "val_labels = [0] * 50 + [1] * 50 + [2] * 50\n",
        "val_labels = to_categorical(val_labels, 3)\n",
        "\n",
        "#test_data = np.load('features_test.npy')\n",
        "test_data = features_test\n",
        "#test_labels = [0] * 50 + [1] * 50 + [2] * 50\n",
        "test_labels = [0] * 61 + [1] * 40 + [2] * 61\n",
        "test_labels = to_categorical(test_labels, 3)\n",
        "\n",
        "\n",
        "model = Sequential()\n",
        "\n",
        "model.add(Flatten(input_shape=train_data.shape[1:])) \n",
        "model.add(Dense(4096, activation='relu')) \n",
        "##model.add(Dropout(0.5)) \n",
        "#model.add(Dense(1024, activation='relu')) \n",
        "model.add(Dense(3, activation='softmax'))\n",
        "\n",
        "model.compile(optimizer= Adam(lr=1e-5),\n",
        "              loss='binary_crossentropy',\n",
        "              metrics=['accuracy'])\n",
        "es = EarlyStopping(monitor='val_loss', mode='min', verbose=1)\n",
        "\n",
        "history = model.fit(train_data, train_labels,\n",
        "          epochs=epochs,\n",
        "          batch_size=64,\n",
        "          validation_data=(val_data, val_labels),\n",
        "          verbose = 1, callbacks = [es])\n",
        "model.save_weights('top_weights',overwrite = True)\n"
      ],
      "execution_count": 34,
      "outputs": [
        {
          "output_type": "stream",
          "text": [
            "Epoch 1/30\n",
            " 1/24 [>.............................] - ETA: 0s - loss: 4.0773 - accuracy: 0.2500WARNING:tensorflow:Callbacks method `on_train_batch_end` is slow compared to the batch time (batch time: 0.0108s vs `on_train_batch_end` time: 0.0210s). Check your callbacks.\n",
            "24/24 [==============================] - 1s 32ms/step - loss: 0.5487 - accuracy: 0.8873 - val_loss: 0.0164 - val_accuracy: 0.9933\n",
            "Epoch 2/30\n",
            "24/24 [==============================] - 1s 26ms/step - loss: 0.0121 - accuracy: 0.9967 - val_loss: 0.0167 - val_accuracy: 0.9933\n",
            "Epoch 00002: early stopping\n"
          ],
          "name": "stdout"
        }
      ]
    },
    {
      "cell_type": "code",
      "metadata": {
        "id": "QjFIXdIl1TdV",
        "colab_type": "code",
        "colab": {
          "base_uri": "https://localhost:8080/",
          "height": 52
        },
        "outputId": "dfb8312c-93b2-432e-b09f-fadc7b720e2e"
      },
      "source": [
        "out = model.evaluate(test_data,test_labels)\n",
        "print(out)\n",
        "\n",
        "pred = np.round(model.predict(test_data),0)\n",
        "#print('rounded test labels',pred)"
      ],
      "execution_count": 35,
      "outputs": [
        {
          "output_type": "stream",
          "text": [
            "6/6 [==============================] - 0s 4ms/step - loss: 0.0039 - accuracy: 0.9938\n",
            "[0.003868988947942853, 0.9938271641731262]\n"
          ],
          "name": "stdout"
        }
      ]
    },
    {
      "cell_type": "code",
      "metadata": {
        "id": "C-26YbSl2vKm",
        "colab_type": "code",
        "colab": {
          "base_uri": "https://localhost:8080/",
          "height": 207
        },
        "outputId": "3848bed2-82f0-4f89-e424-ce996506a6eb"
      },
      "source": [
        "classes = ['faces','object','scene']\n",
        "metric = metrics.classification_report(test_labels,pred,target_names = classes)\n",
        "print(metric)\n"
      ],
      "execution_count": 36,
      "outputs": [
        {
          "output_type": "stream",
          "text": [
            "              precision    recall  f1-score   support\n",
            "\n",
            "       faces       1.00      1.00      1.00        61\n",
            "      object       0.98      1.00      0.99        40\n",
            "       scene       1.00      0.98      0.99        61\n",
            "\n",
            "   micro avg       0.99      0.99      0.99       162\n",
            "   macro avg       0.99      0.99      0.99       162\n",
            "weighted avg       0.99      0.99      0.99       162\n",
            " samples avg       0.99      0.99      0.99       162\n",
            "\n"
          ],
          "name": "stdout"
        }
      ]
    },
    {
      "cell_type": "code",
      "metadata": {
        "id": "nJwqoDLrgxrQ",
        "colab_type": "code",
        "colab": {
          "base_uri": "https://localhost:8080/",
          "height": 328
        },
        "outputId": "40a8f83b-9220-45e7-9b2a-430f7868e0a6"
      },
      "source": [
        "from vgg16obj.tools import plot_tools as pt\n",
        "#pt.plot_metrics(history)\n",
        "\n",
        "categorical_test_labels = pd.DataFrame(test_labels).idxmax(axis=1)\n",
        "categorical_preds = pd.DataFrame(pred).idxmax(axis=1)\n",
        "cm = confusion_matrix(categorical_test_labels, categorical_preds)\n",
        "\n",
        "pt.plot_confusion_matrix(cm,classes,normalize = False)"
      ],
      "execution_count": 37,
      "outputs": [
        {
          "output_type": "stream",
          "text": [
            "Confusion matrix, without normalization\n"
          ],
          "name": "stdout"
        },
        {
          "output_type": "display_data",
          "data": {
            "image/png": "[encoded data removed]",
            "text/plain": [
              "<Figure size 432x288 with 2 Axes>"
            ]
          },
          "metadata": {
            "tags": [],
            "needs_background": "light"
          }
        }
      ]
    },
    {
      "cell_type": "code",
      "metadata": {
        "id": "WDW4Rji4tx73",
        "colab_type": "code",
        "colab": {
          "base_uri": "https://localhost:8080/",
          "height": 422
        },
        "outputId": "6aaf94f7-3d75-4a59-8d24-e7a3031d4df0"
      },
      "source": [
        "plot_model(model,show_shapes=True,expand_nested=True)"
      ],
      "execution_count": 38,
      "outputs": [
        {
          "output_type": "execute_result",
          "data": {
            "image/png": "[encoded data removed]",
            "text/plain": [
              "<IPython.core.display.Image object>"
            ]
          },
          "metadata": {
            "tags": []
          },
          "execution_count": 38
        }
      ]
    }
  ]
}
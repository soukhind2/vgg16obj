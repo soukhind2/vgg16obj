{
  "nbformat": 4,
  "nbformat_minor": 0,
  "metadata": {
    "colab": {
      "name": "Untitled",
      "provenance": [],
      "collapsed_sections": [],
      "include_colab_link": true
    },
    "kernelspec": {
      "name": "python3",
      "display_name": "Python 3"
    },
    "accelerator": "GPU"
  },
  "cells": [
    {
      "cell_type": "markdown",
      "metadata": {
        "id": "view-in-github",
        "colab_type": "text"
      },
      "source": [
        "<a href=\"https://colab.research.google.com/github/soukhind2/vgg16obj/blob/master/colab_test.ipynb\" target=\"_parent\"><img src=\"https://colab.research.google.com/assets/colab-badge.svg\" alt=\"Open In Colab\"/></a>"
      ]
    },
    {
      "cell_type": "code",
      "metadata": {
        "id": "iu-7CWZXXgjK",
        "colab_type": "code",
        "colab": {
          "base_uri": "https://localhost:8080/",
          "height": 35
        },
        "outputId": "4bc31386-ce18-49e6-a8fa-77b3db692b49"
      },
      "source": [
        "from google.colab import drive\n",
        "from pathlib import Path\n",
        "import sys\n",
        "drive.mount(\"/content/drive\", force_remount=True)"
      ],
      "execution_count": 130,
      "outputs": [
        {
          "output_type": "stream",
          "text": [
            "Mounted at /content/drive\n"
          ],
          "name": "stdout"
        }
      ]
    },
    {
      "cell_type": "code",
      "metadata": {
        "id": "VLV7d2XHrXBJ",
        "colab_type": "code",
        "colab": {
          "base_uri": "https://localhost:8080/",
          "height": 121
        },
        "outputId": "330cebdc-5ed6-4d99-ac0a-7d9efccae978"
      },
      "source": [
        "!rm -rf vgg16obj\n",
        "!git clone https://github.com/soukhind2/vgg16obj\n"
      ],
      "execution_count": 138,
      "outputs": [
        {
          "output_type": "stream",
          "text": [
            "Cloning into 'vgg16obj'...\n",
            "remote: Enumerating objects: 48, done.\u001b[K\n",
            "remote: Counting objects: 100% (48/48), done.\u001b[K\n",
            "remote: Compressing objects: 100% (31/31), done.\u001b[K\n",
            "remote: Total 48 (delta 22), reused 37 (delta 16), pack-reused 0\u001b[K\n",
            "Unpacking objects: 100% (48/48), done.\n"
          ],
          "name": "stdout"
        }
      ]
    },
    {
      "cell_type": "code",
      "metadata": {
        "id": "td2UQV3AzMc2",
        "colab_type": "code",
        "colab": {
          "base_uri": "https://localhost:8080/",
          "height": 104
        },
        "outputId": "2c88feba-b83d-4c80-d9f7-35d224e747ec"
      },
      "source": [
        "!unzip -q /content/drive/My\\ Drive/obj/data\n",
        "!unzip -q /content/drive/My\\ Drive/obj/test2"
      ],
      "execution_count": 139,
      "outputs": [
        {
          "output_type": "stream",
          "text": [
            "replace data/.DS_Store? [y]es, [n]o, [A]ll, [N]one, [r]ename: y\n",
            "replace __MACOSX/data/._.DS_Store? [y]es, [n]o, [A]ll, [N]one, [r]ename: A\n",
            "A\n",
            "A\n",
            "replace test2/scenes/bath26.jpg? [y]es, [n]o, [A]ll, [N]one, [r]ename: "
          ],
          "name": "stdout"
        }
      ]
    },
    {
      "cell_type": "code",
      "metadata": {
        "id": "5qZWiNy0sNs6",
        "colab_type": "code",
        "colab": {}
      },
      "source": [
        "import numpy as np\n",
        "import pandas as pd\n",
        "import os\n",
        "import time\n",
        "import math\n",
        "import matplotlib.pyplot as plt\n",
        "\n",
        "\n",
        "from keras.applications.vgg16 import VGG16,preprocess_input\n",
        "from keras.preprocessing.image import ImageDataGenerator,load_img, img_to_array\n",
        "from keras.layers import Flatten,Dense,Dropout\n",
        "from keras.models import Sequential\n",
        "from keras.utils.np_utils import to_categorical\n",
        "from keras.optimizers import Adam\n",
        "from keras.callbacks import EarlyStopping\n",
        "from keras.utils.vis_utils import plot_model\n",
        "\n",
        "from sklearn import metrics\n",
        "from sklearn.metrics import confusion_matrix\n",
        "import itertools\n",
        "\n",
        "\n",
        "\n"
      ],
      "execution_count": 140,
      "outputs": []
    },
    {
      "cell_type": "code",
      "metadata": {
        "id": "Qp5zD-detSd5",
        "colab_type": "code",
        "colab": {
          "base_uri": "https://localhost:8080/",
          "height": 35
        },
        "outputId": "527f037e-9abc-4ce3-d656-0db7d74f743d"
      },
      "source": [
        "def convertimgs(path,data) :\n",
        "    for dirName, subdir, files in os.walk(path):\n",
        "        for filename in sorted(files):\n",
        "            if filename == '.DS_Store':\n",
        "                continue\n",
        "            ds = load_img(path +'/' + filename,target_size = (224,224))\n",
        "            im = img_to_array(ds)\n",
        "            #im = im.reshape((1, im.shape[0], im.shape[1], im.shape[2]))\n",
        "            im = preprocess_input(im)\n",
        "            data.append(im) \n",
        "    return data\n",
        "\n",
        "\n",
        "train_it = []\n",
        "train_it = convertimgs('/content/data/train/faces/',train_it)\n",
        "train_it = convertimgs('/content/data/train/scenes/',train_it)\n",
        "train_it = convertimgs('/content/data/train/objects/',train_it)\n",
        "\n",
        "val_it = []\n",
        "val_it = convertimgs('/content/data/val/faces',val_it)\n",
        "val_it = convertimgs('/content/data/val/scenes',val_it)\n",
        "val_it = convertimgs('/content/data/val/objects',val_it)\n",
        "\n",
        "test_it = []\n",
        "test_it = convertimgs('/content/data/test/faces',test_it)\n",
        "test_it = convertimgs('/content/data/test/scenes',test_it)\n",
        "test_it = convertimgs('/content/data/test/objects',test_it)\n",
        "\n",
        "train_it = np.array(train_it)\n",
        "val_it = np.array(val_it)\n",
        "test_it = np.array(test_it)\n",
        "print(train_it.shape,val_it.shape,test_it.shape)\n"
      ],
      "execution_count": 114,
      "outputs": [
        {
          "output_type": "stream",
          "text": [
            "(1500, 224, 224, 3) (150, 224, 224, 3) (150, 224, 224, 3)\n"
          ],
          "name": "stdout"
        }
      ]
    },
    {
      "cell_type": "code",
      "metadata": {
        "id": "zGtHkNcGsH1G",
        "colab_type": "code",
        "colab": {}
      },
      "source": [
        "model = VGG16(weights='imagenet',\n",
        "              include_top=False)"
      ],
      "execution_count": 118,
      "outputs": []
    },
    {
      "cell_type": "code",
      "metadata": {
        "id": "d7cwENbHu5Fa",
        "colab_type": "code",
        "colab": {
          "base_uri": "https://localhost:8080/",
          "height": 69
        },
        "outputId": "517aa709-ae9e-4f13-dc62-1cda04cdbc8e"
      },
      "source": [
        "start = time.time()\n",
        "features_train = model.predict(train_it) \n",
        "print(f'Train Time: {time.time() - start}')\n",
        "\n",
        "start = time.time()\n",
        "features_val = model.predict(val_it) \n",
        "print(f'Val Time: {time.time() - start}')\n",
        "\n",
        "start = time.time()\n",
        "features_test = model.predict(test_it) \n",
        "print(f'Test Time: {time.time() - start}')\n",
        "\n",
        "     \n",
        "#np.save('features_train' , features_train)\n",
        "#np.save('features_val', features_val)\n",
        "#np.save('features_test', features_test)"
      ],
      "execution_count": 119,
      "outputs": [
        {
          "output_type": "stream",
          "text": [
            "Train Time: 5.703347682952881\n",
            "Val Time: 0.5957095623016357\n",
            "Test Time: 0.602039098739624\n"
          ],
          "name": "stdout"
        }
      ]
    },
    {
      "cell_type": "code",
      "metadata": {
        "id": "ZHfsT4F00M5o",
        "colab_type": "code",
        "colab": {
          "base_uri": "https://localhost:8080/",
          "height": 175
        },
        "outputId": "90b37051-a164-4558-ede1-195171dfe9d8"
      },
      "source": [
        "epochs = 30\n",
        "\n",
        "#train_data = np.load('features_train.npy')\n",
        "train_data = features_train\n",
        "train_labels = [0] * 500 + [1]*500 + [2] * 500\n",
        "train_labels = to_categorical(train_labels, 3)\n",
        "\n",
        "\n",
        "#val_data = np.load('features_val.npy')\n",
        "val_data = features_val\n",
        "val_labels = [0] * 50 + [1] * 50 + [2] * 50\n",
        "val_labels = to_categorical(val_labels, 3)\n",
        "\n",
        "#test_data = np.load('features_test.npy')\n",
        "test_data = features_test\n",
        "test_labels = [0] * 50 + [1] * 50 + [2] * 50\n",
        "test_labels = to_categorical(test_labels, 3)\n",
        "\n",
        "\n",
        "model = Sequential()\n",
        "\n",
        "model.add(Flatten(input_shape=train_data.shape[1:])) \n",
        "model.add(Dense(4096, activation='relu')) \n",
        "##model.add(Dropout(0.5)) \n",
        "#model.add(Dense(1024, activation='relu')) \n",
        "model.add(Dense(3, activation='softmax'))\n",
        "\n",
        "model.compile(optimizer= Adam(lr=1e-5),\n",
        "              loss='binary_crossentropy',\n",
        "              metrics=['accuracy'])\n",
        "es = EarlyStopping(monitor='val_loss', mode='min', verbose=1)\n",
        "\n",
        "history = model.fit(train_data, train_labels,\n",
        "          epochs=epochs,\n",
        "          batch_size=64,\n",
        "          validation_data=(val_data, val_labels),\n",
        "          verbose = 1, callbacks = [es])\n",
        "model.save_weights('top_weights',overwrite = True)\n"
      ],
      "execution_count": 120,
      "outputs": [
        {
          "output_type": "stream",
          "text": [
            "Epoch 1/30\n",
            " 1/24 [>.............................] - ETA: 0s - loss: 2.8972 - accuracy: 0.4062WARNING:tensorflow:Callbacks method `on_train_batch_end` is slow compared to the batch time (batch time: 0.0112s vs `on_train_batch_end` time: 0.0214s). Check your callbacks.\n",
            "24/24 [==============================] - 1s 31ms/step - loss: 0.3729 - accuracy: 0.9233 - val_loss: 0.0636 - val_accuracy: 0.9867\n",
            "Epoch 2/30\n",
            "24/24 [==============================] - 1s 26ms/step - loss: 0.0119 - accuracy: 0.9980 - val_loss: 0.0123 - val_accuracy: 0.9933\n",
            "Epoch 3/30\n",
            "24/24 [==============================] - 1s 25ms/step - loss: 0.0068 - accuracy: 0.9993 - val_loss: 0.0636 - val_accuracy: 0.9867\n",
            "Epoch 00003: early stopping\n"
          ],
          "name": "stdout"
        }
      ]
    },
    {
      "cell_type": "code",
      "metadata": {
        "id": "QjFIXdIl1TdV",
        "colab_type": "code",
        "colab": {
          "base_uri": "https://localhost:8080/",
          "height": 72
        },
        "outputId": "97a49e38-2fda-4bcf-dfd3-41703b91a9a1"
      },
      "source": [
        "out = model.evaluate(test_data,test_labels)\n",
        "print(out)\n",
        "\n",
        "pred = np.round(model.predict(test_data),0)\n",
        "#print('rounded test labels',pred)"
      ],
      "execution_count": 121,
      "outputs": [
        {
          "output_type": "stream",
          "text": [
            "5/5 [==============================] - 0s 5ms/step - loss: 0.1234 - accuracy: 0.9867\n",
            "[0.12342735379934311, 0.9866666793823242]\n"
          ],
          "name": "stdout"
        }
      ]
    },
    {
      "cell_type": "code",
      "metadata": {
        "id": "C-26YbSl2vKm",
        "colab_type": "code",
        "colab": {
          "base_uri": "https://localhost:8080/",
          "height": 207
        },
        "outputId": "22beda78-cab7-497c-faf1-399b010761be"
      },
      "source": [
        "classes = ['faces','object','scene']\n",
        "metric = metrics.classification_report(test_labels,pred,target_names = classes)\n",
        "print(metric)\n"
      ],
      "execution_count": 122,
      "outputs": [
        {
          "output_type": "stream",
          "text": [
            "              precision    recall  f1-score   support\n",
            "\n",
            "       faces       1.00      1.00      1.00        50\n",
            "      object       0.96      1.00      0.98        50\n",
            "       scene       1.00      0.96      0.98        50\n",
            "\n",
            "   micro avg       0.99      0.99      0.99       150\n",
            "   macro avg       0.99      0.99      0.99       150\n",
            "weighted avg       0.99      0.99      0.99       150\n",
            " samples avg       0.99      0.99      0.99       150\n",
            "\n"
          ],
          "name": "stdout"
        }
      ]
    },
    {
      "cell_type": "code",
      "metadata": {
        "id": "nJwqoDLrgxrQ",
        "colab_type": "code",
        "colab": {
          "base_uri": "https://localhost:8080/",
          "height": 885
        },
        "outputId": "57ac499d-9957-4d7a-ad1f-2a4d70cc4856"
      },
      "source": [
        "from vgg16obj.tools import plot_tools as pt\n",
        "\n",
        "pt.plot_metrics(history)\n",
        "\n",
        "categorical_test_labels = pd.DataFrame(test_labels).idxmax(axis=1)\n",
        "categorical_preds = pd.DataFrame(pred).idxmax(axis=1)\n",
        "cm = confusion_matrix(categorical_test_labels, categorical_preds)\n",
        "\n",
        "pt.plot_confusion_matrix(cm,classes,normalize = False)"
      ],
      "execution_count": 144,
      "outputs": [
        {
          "output_type": "display_data",
          "data": {
            "image/png": "[encoded data removed]",
            "text/plain": [
              "<Figure size 432x288 with 1 Axes>"
            ]
          },
          "metadata": {
            "tags": [],
            "needs_background": "light"
          }
        },
        {
          "output_type": "display_data",
          "data": {
            "image/png": "[encoded data removed]",
            "text/plain": [
              "<Figure size 432x288 with 1 Axes>"
            ]
          },
          "metadata": {
            "tags": [],
            "needs_background": "light"
          }
        },
        {
          "output_type": "stream",
          "text": [
            "Confusion matrix, without normalization\n"
          ],
          "name": "stdout"
        },
        {
          "output_type": "display_data",
          "data": {
            "image/png": "[encoded data removed]",
            "text/plain": [
              "<Figure size 432x288 with 2 Axes>"
            ]
          },
          "metadata": {
            "tags": [],
            "needs_background": "light"
          }
        }
      ]
    },
    {
      "cell_type": "code",
      "metadata": {
        "id": "WDW4Rji4tx73",
        "colab_type": "code",
        "colab": {}
      },
      "source": [
        ""
      ],
      "execution_count": null,
      "outputs": []
    }
  ]
}
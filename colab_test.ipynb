{
  "nbformat": 4,
  "nbformat_minor": 0,
  "metadata": {
    "colab": {
      "name": "Untitled",
      "provenance": [],
      "collapsed_sections": [],
      "mount_file_id": "1SLo9l2qfs_ggdG6cdq3zcBW88cHkCyiQ",
      "authorship_tag": "ABX9TyMT9SAOr7MdmrxKsAbl67gS",
      "include_colab_link": true
    },
    "kernelspec": {
      "name": "python3",
      "display_name": "Python 3"
    },
    "accelerator": "GPU"
  },
  "cells": [
    {
      "cell_type": "markdown",
      "metadata": {
        "id": "view-in-github",
        "colab_type": "text"
      },
      "source": [
        "<a href=\"https://colab.research.google.com/github/soukhind2/vgg16obj/blob/master/colab_test.ipynb\" target=\"_parent\"><img src=\"https://colab.research.google.com/assets/colab-badge.svg\" alt=\"Open In Colab\"/></a>"
      ]
    },
    {
      "cell_type": "code",
      "metadata": {
        "id": "iu-7CWZXXgjK",
        "colab_type": "code",
        "colab": {
          "base_uri": "https://localhost:8080/",
          "height": 124
        },
        "outputId": "4c615ead-921d-4f41-95c0-83c3a250de36"
      },
      "source": [
        "from google.colab import drive\n",
        "from pathlib import Path\n",
        "drive.mount(\"/content/drive\", force_remount=True)"
      ],
      "execution_count": 9,
      "outputs": [
        {
          "output_type": "stream",
          "text": [
            "Go to this URL in a browser: https://accounts.google.com/o/oauth2/auth?client_id=947318989803-6bn6qk8qdgf4n4g3pfee6491hc0brc4i.apps.googleusercontent.com&redirect_uri=urn%3aietf%3awg%3aoauth%3a2.0%3aoob&scope=email%20https%3a%2f%2fwww.googleapis.com%2fauth%2fdocs.test%20https%3a%2f%2fwww.googleapis.com%2fauth%2fdrive%20https%3a%2f%2fwww.googleapis.com%2fauth%2fdrive.photos.readonly%20https%3a%2f%2fwww.googleapis.com%2fauth%2fpeopleapi.readonly&response_type=code\n",
            "\n",
            "Enter your authorization code:\n",
            "4/3wFcninyavA4mwIglX8U_uTE0HHlH5c7Os99o-5iAovMgJpFraS7eW0\n",
            "Mounted at /content/drive\n"
          ],
          "name": "stdout"
        }
      ]
    },
    {
      "cell_type": "code",
      "metadata": {
        "id": "VLV7d2XHrXBJ",
        "colab_type": "code",
        "colab": {}
      },
      "source": [
        "!git clone https://github.com/soukhind2/vgg16obj\n"
      ],
      "execution_count": null,
      "outputs": []
    },
    {
      "cell_type": "code",
      "metadata": {
        "id": "td2UQV3AzMc2",
        "colab_type": "code",
        "colab": {
          "base_uri": "https://localhost:8080/",
          "height": 35
        },
        "outputId": "a93fb7fe-cfe9-4b71-ccd2-d8ad578bb700"
      },
      "source": [
        "!unzip -q drive/My Drive/obj/data.zip"
      ],
      "execution_count": null,
      "outputs": [
        {
          "output_type": "stream",
          "text": [
            "unzip:  cannot find or open drive/My, drive/My.zip or drive/My.ZIP.\n"
          ],
          "name": "stdout"
        }
      ]
    },
    {
      "cell_type": "code",
      "metadata": {
        "id": "5qZWiNy0sNs6",
        "colab_type": "code",
        "colab": {}
      },
      "source": [
        "import numpy as np\n",
        "import pandas as pd\n",
        "import os\n",
        "import time\n",
        "import math\n",
        "import matplotlib.pyplot as plt\n",
        "\n",
        "\n",
        "from keras.applications.vgg16 import VGG16,preprocess_input\n",
        "from keras.preprocessing.image import ImageDataGenerator,load_img, img_to_array\n",
        "from keras.layers import Flatten,Dense,Dropout\n",
        "from keras.models import Sequential\n",
        "from keras.utils.np_utils import to_categorical\n",
        "from keras.optimizers import Adam\n",
        "from keras.callbacks import EarlyStopping\n",
        "\n",
        "from sklearn import metrics\n",
        "from sklearn.metrics import confusion_matrix\n",
        "import itertools\n",
        "\n",
        "\n",
        "\n"
      ],
      "execution_count": null,
      "outputs": []
    },
    {
      "cell_type": "code",
      "metadata": {
        "id": "Hpzp64D8sgsn",
        "colab_type": "code",
        "colab": {}
      },
      "source": [
        "model = VGG16(weights='imagenet',\n",
        "              include_top=False)"
      ],
      "execution_count": null,
      "outputs": []
    },
    {
      "cell_type": "code",
      "metadata": {
        "id": "2l6F6q74uumV",
        "colab_type": "code",
        "colab": {}
      },
      "source": [
        "model.summary()"
      ],
      "execution_count": null,
      "outputs": []
    },
    {
      "cell_type": "code",
      "metadata": {
        "id": "Qp5zD-detSd5",
        "colab_type": "code",
        "colab": {
          "base_uri": "https://localhost:8080/",
          "height": 35
        },
        "outputId": "e891e9e5-d3d6-4d11-9733-eb6fb1244c04"
      },
      "source": [
        "def convertimgs(path,data) :\n",
        "    for dirName, subdir, files in os.walk(path):\n",
        "        for filename in sorted(files):\n",
        "            if filename == '.DS_Store':\n",
        "                continue\n",
        "            ds = load_img(path +'/' + filename,target_size = (224,224))\n",
        "            im = img_to_array(ds)\n",
        "            #im = im.reshape((1, im.shape[0], im.shape[1], im.shape[2]))\n",
        "            im = preprocess_input(im)\n",
        "            data.append(im) \n",
        "    return data\n",
        "\n",
        "\n",
        "train_it = []\n",
        "train_it = convertimgs('/content/data/train/faces/',train_it)\n",
        "train_it = convertimgs('/content/data/train/scenes/',train_it)\n",
        "train_it = convertimgs('/content/data/train/objects/',train_it)\n",
        "\n",
        "val_it = []\n",
        "val_it = convertimgs('/content/data/val/faces',val_it)\n",
        "val_it = convertimgs('/content/data/val/scenes',val_it)\n",
        "val_it = convertimgs('/content/data/val/objects',val_it)\n",
        "\n",
        "test_it = []\n",
        "test_it = convertimgs('/content/data/test/faces',test_it)\n",
        "test_it = convertimgs('/content/data/test/scenes',test_it)\n",
        "test_it = convertimgs('/content/data/test/objects',test_it)\n",
        "\n",
        "train_it = np.array(train_it)\n",
        "val_it = np.array(val_it)\n",
        "test_it = np.array(test_it)\n",
        "print(train_it.shape,val_it.shape,test_it.shape)\n"
      ],
      "execution_count": null,
      "outputs": [
        {
          "output_type": "stream",
          "text": [
            "(1500, 224, 224, 3) (150, 224, 224, 3) (150, 224, 224, 3)\n"
          ],
          "name": "stdout"
        }
      ]
    },
    {
      "cell_type": "code",
      "metadata": {
        "id": "d7cwENbHu5Fa",
        "colab_type": "code",
        "colab": {
          "base_uri": "https://localhost:8080/",
          "height": 69
        },
        "outputId": "a9da2f1a-064f-4cd3-d96b-528e1b611944"
      },
      "source": [
        "start = time.time()\n",
        "features_train = model.predict(train_it) \n",
        "print(f'Train Time: {time.time() - start}')\n",
        "\n",
        "start = time.time()\n",
        "features_val = model.predict(val_it) \n",
        "print(f'Val Time: {time.time() - start}')\n",
        "\n",
        "start = time.time()\n",
        "features_test = model.predict(test_it) \n",
        "print(f'Test Time: {time.time() - start}')\n",
        "\n",
        "     \n",
        "np.save('features_train' , features_train)\n",
        "np.save('features_val', features_val)\n",
        "np.save('features_test', features_test)"
      ],
      "execution_count": null,
      "outputs": [
        {
          "output_type": "stream",
          "text": [
            "Train Time: 6.045823812484741\n",
            "Val Time: 0.6490285396575928\n",
            "Test Time: 0.669083833694458\n"
          ],
          "name": "stdout"
        }
      ]
    },
    {
      "cell_type": "code",
      "metadata": {
        "id": "ZHfsT4F00M5o",
        "colab_type": "code",
        "colab": {
          "base_uri": "https://localhost:8080/",
          "height": 141
        },
        "outputId": "84621c8f-20ca-4b3e-cca0-cc4ef4b1b7c3"
      },
      "source": [
        "epochs = 30\n",
        "\n",
        "train_data = np.load('features_train.npy')\n",
        "#train_data = features_train\n",
        "train_labels = [0] * 500 + [1]*500 + [2] * 500\n",
        "train_labels = to_categorical(train_labels, 3)\n",
        "\n",
        "\n",
        "val_data = np.load('features_val.npy')\n",
        "#val_data = features_val\n",
        "val_labels = [0] * 50 + [1] * 50 + [2] * 50\n",
        "val_labels = to_categorical(val_labels, 3)\n",
        "\n",
        "test_data = np.load('features_test.npy')\n",
        "#test_data = features_test\n",
        "test_labels = [0] * 50 + [1] * 50 + [2] * 50\n",
        "test_labels = to_categorical(test_labels, 3)\n",
        "\n",
        "\n",
        "model = Sequential()\n",
        "\n",
        "model.add(Flatten(input_shape=train_data.shape[1:])) \n",
        "model.add(Dense(4096, activation='relu')) \n",
        "##model.add(Dropout(0.5)) \n",
        "#model.add(Dense(1024, activation='relu')) \n",
        "model.add(Dense(3, activation='softmax'))\n",
        "\n",
        "model.compile(optimizer= Adam(lr=1e-5),\n",
        "              loss='binary_crossentropy',\n",
        "              metrics=['accuracy'])\n",
        "es = EarlyStopping(monitor='val_loss', mode='min', verbose=1)\n",
        "\n",
        "history = model.fit(train_data, train_labels,\n",
        "          epochs=epochs,\n",
        "          batch_size=64,\n",
        "          validation_data=(val_data, val_labels),\n",
        "          verbose = 1, callbacks = [es])\n",
        "model.save_weights('top_weights',overwrite = True)\n"
      ],
      "execution_count": null,
      "outputs": [
        {
          "output_type": "stream",
          "text": [
            "Epoch 1/30\n",
            " 1/24 [>.............................] - ETA: 0s - loss: 3.8416 - accuracy: 0.3438WARNING:tensorflow:Callbacks method `on_train_batch_end` is slow compared to the batch time (batch time: 0.0085s vs `on_train_batch_end` time: 0.0211s). Check your callbacks.\n",
            "24/24 [==============================] - 1s 32ms/step - loss: 0.5225 - accuracy: 0.8953 - val_loss: 0.1883 - val_accuracy: 0.9800\n",
            "Epoch 2/30\n",
            "24/24 [==============================] - 1s 26ms/step - loss: 0.0097 - accuracy: 0.9980 - val_loss: 0.2004 - val_accuracy: 0.9800\n",
            "Epoch 00002: early stopping\n"
          ],
          "name": "stdout"
        }
      ]
    },
    {
      "cell_type": "code",
      "metadata": {
        "id": "QjFIXdIl1TdV",
        "colab_type": "code",
        "colab": {
          "base_uri": "https://localhost:8080/",
          "height": 52
        },
        "outputId": "f493c422-49e3-4ec5-b57c-bb8e0e54745b"
      },
      "source": [
        "out = model.evaluate(test_data,test_labels)\n",
        "print(out)\n",
        "\n",
        "pred = np.round(model.predict(test_data),0)\n",
        "#print('rounded test labels',pred)"
      ],
      "execution_count": null,
      "outputs": [
        {
          "output_type": "stream",
          "text": [
            "5/5 [==============================] - 0s 5ms/step - loss: 0.0755 - accuracy: 0.9867\n",
            "[0.07547084987163544, 0.9866666793823242]\n"
          ],
          "name": "stdout"
        }
      ]
    },
    {
      "cell_type": "code",
      "metadata": {
        "id": "C-26YbSl2vKm",
        "colab_type": "code",
        "colab": {
          "base_uri": "https://localhost:8080/",
          "height": 207
        },
        "outputId": "daa7543b-9d1f-451c-c00c-a0da692ede65"
      },
      "source": [
        "classes = ['faces','object','scene']\n",
        "metric = metrics.classification_report(test_labels,pred,target_names = classes)\n",
        "print(metric)\n"
      ],
      "execution_count": null,
      "outputs": [
        {
          "output_type": "stream",
          "text": [
            "              precision    recall  f1-score   support\n",
            "\n",
            "       faces       0.98      1.00      0.99        50\n",
            "      object       0.98      1.00      0.99        50\n",
            "       scene       1.00      0.96      0.98        50\n",
            "\n",
            "   micro avg       0.99      0.99      0.99       150\n",
            "   macro avg       0.99      0.99      0.99       150\n",
            "weighted avg       0.99      0.99      0.99       150\n",
            " samples avg       0.99      0.99      0.99       150\n",
            "\n"
          ],
          "name": "stdout"
        }
      ]
    },
    {
      "cell_type": "code",
      "metadata": {
        "id": "KgfdxoJCNPb5",
        "colab_type": "code",
        "colab": {
          "base_uri": "https://localhost:8080/",
          "height": 328
        },
        "outputId": "7915912a-ddba-485c-8122-bd8d33ec0774"
      },
      "source": [
        "#To get better visual of the confusion matrix:\n",
        "def plot_confusion_matrix(cm, classes,\n",
        "   normalize=False,\n",
        "   title='Confusion matrix',\n",
        "   cmap=plt.cm.Blues):\n",
        " \n",
        "#Add Normalization Option\n",
        " \n",
        "   if normalize:\n",
        "     cm = cm.astype('float') / cm.sum(axis=1)[:, np.newaxis]\n",
        "     print('Normalized confusion matrix')\n",
        "   else:\n",
        "     print('Confusion matrix, without normalization')\n",
        " \n",
        "# print(cm)\n",
        " \n",
        "   plt.imshow(cm, interpolation='nearest', cmap=cmap)\n",
        "   plt.title(title)\n",
        "   plt.colorbar()\n",
        "   tick_marks = np.arange(len(classes))\n",
        "   plt.xticks(tick_marks, classes, rotation=45)\n",
        "   plt.yticks(tick_marks, classes)\n",
        " \n",
        "   fmt = '.2f' if normalize else 'd'\n",
        "   thresh = cm.max() / 2.\n",
        "   for i, j in itertools.product(range(cm.shape[0]), range(cm.shape[1])):\n",
        "      plt.text(j, i, format(cm[i, j], fmt), horizontalalignment='center', color='white' if cm[i, j] > thresh else 'black')\n",
        " \n",
        "   plt.tight_layout()\n",
        "   plt.ylabel('True label')\n",
        "   plt.xlabel('Predicted label') \n",
        "                                       \n",
        "plot_confusion_matrix(confusion_matrix,classes,normalize = False)"
      ],
      "execution_count": null,
      "outputs": [
        {
          "output_type": "stream",
          "text": [
            "Confusion matrix, without normalization\n"
          ],
          "name": "stdout"
        },
        {
          "output_type": "display_data",
          "data": {
            "image/png": "[encoded data removed]",
            "text/plain": [
              "<Figure size 432x288 with 2 Axes>"
            ]
          },
          "metadata": {
            "tags": [],
            "needs_background": "light"
          }
        }
      ]
    }
  ]
}
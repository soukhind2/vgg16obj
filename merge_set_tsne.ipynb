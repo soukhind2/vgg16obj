{
  "nbformat": 4,
  "nbformat_minor": 0,
  "metadata": {
    "accelerator": "GPU",
    "colab": {
      "name": "merge_set_tsne.ipynb",
      "provenance": [],
      "toc_visible": true,
      "authorship_tag": "ABX9TyM2sqNDopaUE8wQngrpvxEd",
      "include_colab_link": true
    },
    "kernelspec": {
      "display_name": "Python 3",
      "name": "python3"
    }
  },
  "cells": [
    {
      "cell_type": "markdown",
      "metadata": {
        "id": "view-in-github",
        "colab_type": "text"
      },
      "source": [
        "<a href=\"https://colab.research.google.com/github/soukhind2/vgg16obj/blob/tuning_calc/merge_set_tsne.ipynb\" target=\"_parent\"><img src=\"https://colab.research.google.com/assets/colab-badge.svg\" alt=\"Open In Colab\"/></a>"
      ]
    },
    {
      "cell_type": "markdown",
      "metadata": {
        "id": "9uhBNXwh_w9B"
      },
      "source": [
        "# Preload"
      ]
    },
    {
      "cell_type": "markdown",
      "metadata": {
        "id": "TNH3vmYgxdao"
      },
      "source": [
        "Mount the google drive and load necessary packages"
      ]
    },
    {
      "cell_type": "code",
      "metadata": {
        "colab": {
          "base_uri": "https://localhost:8080/"
        },
        "id": "tWeNtkRpYWgy",
        "outputId": "bcd1dd10-34c6-413b-ec1d-8d1ffc512d45"
      },
      "source": [
        "from google.colab import drive\n",
        "\n",
        "from pathlib import Path\n",
        "import sys\n",
        "drive.mount(\"/content/drive\", force_remount=True)"
      ],
      "execution_count": null,
      "outputs": [
        {
          "output_type": "stream",
          "text": [
            "Mounted at /content/drive\n"
          ],
          "name": "stdout"
        }
      ]
    },
    {
      "cell_type": "code",
      "metadata": {
        "colab": {
          "base_uri": "https://localhost:8080/"
        },
        "id": "paH-Z9zPYk6t",
        "outputId": "1f2af407-279d-443e-93f2-e1c2199c0735"
      },
      "source": [
        "!rm -rf vgg16obj\n",
        "!git clone -b tuning_calc https://github.com/soukhind2/vgg16obj\n",
        "! pip install https://github.com/raghakot/keras-vis/archive/master.zip #keras vis"
      ],
      "execution_count": null,
      "outputs": [
        {
          "output_type": "stream",
          "text": [
            "Cloning into 'vgg16obj'...\n",
            "remote: Enumerating objects: 82, done.\u001b[K\n",
            "remote: Counting objects: 100% (82/82), done.\u001b[K\n",
            "remote: Compressing objects: 100% (73/73), done.\u001b[K\n",
            "remote: Total 389 (delta 36), reused 29 (delta 9), pack-reused 307\u001b[K\n",
            "Receiving objects: 100% (389/389), 8.77 MiB | 31.62 MiB/s, done.\n",
            "Resolving deltas: 100% (213/213), done.\n",
            "Collecting https://github.com/raghakot/keras-vis/archive/master.zip\n",
            "  Using cached https://github.com/raghakot/keras-vis/archive/master.zip\n",
            "Requirement already satisfied (use --upgrade to upgrade): keras-vis==0.5.0 from https://github.com/raghakot/keras-vis/archive/master.zip in /usr/local/lib/python3.6/dist-packages\n",
            "Requirement already satisfied: keras>=2.0 in /usr/local/lib/python3.6/dist-packages (from keras-vis==0.5.0) (2.4.3)\n",
            "Requirement already satisfied: six in /usr/local/lib/python3.6/dist-packages (from keras-vis==0.5.0) (1.15.0)\n",
            "Requirement already satisfied: scikit-image in /usr/local/lib/python3.6/dist-packages (from keras-vis==0.5.0) (0.16.2)\n",
            "Requirement already satisfied: matplotlib in /usr/local/lib/python3.6/dist-packages (from keras-vis==0.5.0) (3.2.2)\n",
            "Requirement already satisfied: h5py in /usr/local/lib/python3.6/dist-packages (from keras-vis==0.5.0) (2.10.0)\n",
            "Requirement already satisfied: pyyaml in /usr/local/lib/python3.6/dist-packages (from keras>=2.0->keras-vis==0.5.0) (3.13)\n",
            "Requirement already satisfied: scipy>=0.14 in /usr/local/lib/python3.6/dist-packages (from keras>=2.0->keras-vis==0.5.0) (1.4.1)\n",
            "Requirement already satisfied: numpy>=1.9.1 in /usr/local/lib/python3.6/dist-packages (from keras>=2.0->keras-vis==0.5.0) (1.19.5)\n",
            "Requirement already satisfied: imageio>=2.3.0 in /usr/local/lib/python3.6/dist-packages (from scikit-image->keras-vis==0.5.0) (2.4.1)\n",
            "Requirement already satisfied: pillow>=4.3.0 in /usr/local/lib/python3.6/dist-packages (from scikit-image->keras-vis==0.5.0) (7.0.0)\n",
            "Requirement already satisfied: PyWavelets>=0.4.0 in /usr/local/lib/python3.6/dist-packages (from scikit-image->keras-vis==0.5.0) (1.1.1)\n",
            "Requirement already satisfied: networkx>=2.0 in /usr/local/lib/python3.6/dist-packages (from scikit-image->keras-vis==0.5.0) (2.5)\n",
            "Requirement already satisfied: cycler>=0.10 in /usr/local/lib/python3.6/dist-packages (from matplotlib->keras-vis==0.5.0) (0.10.0)\n",
            "Requirement already satisfied: pyparsing!=2.0.4,!=2.1.2,!=2.1.6,>=2.0.1 in /usr/local/lib/python3.6/dist-packages (from matplotlib->keras-vis==0.5.0) (2.4.7)\n",
            "Requirement already satisfied: kiwisolver>=1.0.1 in /usr/local/lib/python3.6/dist-packages (from matplotlib->keras-vis==0.5.0) (1.3.1)\n",
            "Requirement already satisfied: python-dateutil>=2.1 in /usr/local/lib/python3.6/dist-packages (from matplotlib->keras-vis==0.5.0) (2.8.1)\n",
            "Requirement already satisfied: decorator>=4.3.0 in /usr/local/lib/python3.6/dist-packages (from networkx>=2.0->scikit-image->keras-vis==0.5.0) (4.4.2)\n",
            "Building wheels for collected packages: keras-vis\n",
            "  Building wheel for keras-vis (setup.py) ... \u001b[?25l\u001b[?25hdone\n",
            "  Created wheel for keras-vis: filename=keras_vis-0.5.0-py2.py3-none-any.whl size=30857 sha256=86402b4b68f037fd0528cf5d46a7b2d96b43ace8c18a8845880e38f35d547643\n",
            "  Stored in directory: /tmp/pip-ephem-wheel-cache-8sas_hbu/wheels/7e/91/e5/9fdb0f2f5fa5d9f402c6fbfaf015aadbe3dba024ede6532727\n",
            "Successfully built keras-vis\n"
          ],
          "name": "stdout"
        }
      ]
    },
    {
      "cell_type": "markdown",
      "metadata": {
        "id": "bVSWxf5qxoSv"
      },
      "source": [
        "Unpack the items"
      ]
    },
    {
      "cell_type": "code",
      "metadata": {
        "id": "TL5079ZkYpf5",
        "colab": {
          "base_uri": "https://localhost:8080/"
        },
        "outputId": "ffcc0b8e-7f47-43c3-a591-0cbb63814ec9"
      },
      "source": [
        "#!unzip -q /content/drive/My\\ Drive/obj/data\n",
        "#!unzip -q /content/drive/My\\ Drive/obj/test2\n",
        "#!unzip -q /content/drive/My\\ Drive/obj/sean_test\n",
        "!unzip -q /content/drive/My\\ Drive/obj/data_6class\n",
        "!unzip -q /content/drive/My\\ Drive/obj/merge\n"
      ],
      "execution_count": null,
      "outputs": [
        {
          "output_type": "stream",
          "text": [
            "replace data_6class/.DS_Store? [y]es, [n]o, [A]ll, [N]one, [r]ename: N\n",
            "replace __MACOSX/merge/._merge_reg? [y]es, [n]o, [A]ll, [N]one, [r]ename: N\n"
          ],
          "name": "stdout"
        }
      ]
    },
    {
      "cell_type": "markdown",
      "metadata": {
        "id": "Uxfdgi8hHv_1"
      },
      "source": [
        "# Load libraries\n",
        "Load the necessary libraries"
      ]
    },
    {
      "cell_type": "code",
      "metadata": {
        "id": "bmdIPynMYsJj"
      },
      "source": [
        "import numpy as np\n",
        "import pandas as pd\n",
        "import os\n",
        "import time\n",
        "import math\n",
        "import matplotlib.pyplot as plt\n",
        "import pickle\n",
        "import cv2\n",
        "import seaborn as sns\n",
        "import random\n",
        "\n",
        "\n",
        "from keras.applications.vgg16 import VGG16,preprocess_input\n",
        "from keras.preprocessing.image import ImageDataGenerator,load_img, img_to_array\n",
        "from keras.layers import Flatten,Dense,Dropout,Input,BatchNormalization\n",
        "from keras.models import Sequential,Model\n",
        "from keras.utils.np_utils import to_categorical\n",
        "from keras.optimizers import Adam\n",
        "from keras.callbacks import EarlyStopping\n",
        "from keras.utils.vis_utils import plot_model\n",
        "\n",
        "from sklearn import metrics\n",
        "from sklearn.manifold import TSNE\n",
        "from sklearn.metrics import confusion_matrix\n",
        "import itertools\n",
        "\n",
        "from vgg16obj.tools import tuning_calcs as tc\n",
        "from vgg16obj.tools import gradient_calcs as gc\n",
        "from vgg16obj.tools import stats as st\n",
        "from vgg16obj.tools import plot_tools as pt\n",
        "\n",
        "\n",
        "import tensorflow as tf\n",
        "from tensorflow import math"
      ],
      "execution_count": null,
      "outputs": []
    },
    {
      "cell_type": "markdown",
      "metadata": {
        "id": "K3AFr11WZBql"
      },
      "source": [
        "### Merged Images"
      ]
    },
    {
      "cell_type": "code",
      "metadata": {
        "id": "jWkKJ-FAY8Dq"
      },
      "source": [
        "def noisy(image):\n",
        "  row,col,ch= image.shape\n",
        "  mean = 0\n",
        "  var = 1\n",
        "  sigma = var**0.5\n",
        "  gauss = np.random.normal(mean,sigma,(row,col,ch))\n",
        "  gauss = gauss.reshape(row,col,ch)\n",
        "  noisy = image + gauss\n",
        "  return noisy\n",
        "\n",
        "def convertimgs(path,noise = False) :\n",
        "    data = []\n",
        "    for dirName, subdir, files in os.walk(path):\n",
        "        for filename in sorted(files):\n",
        "            if filename == '.DS_Store':\n",
        "                continue\n",
        "            ds = load_img(path +'/' + filename,target_size = (224,224))\n",
        "            im = img_to_array(ds)\n",
        "            im /= 255.\n",
        "            #im = im.reshape((1, im.shape[0], im.shape[1], im.shape[2]))\n",
        "            #im = preprocess_input(im)\n",
        "            if noise:\n",
        "              im = noisy(im)\n",
        "            data.append(im) \n",
        "    return data"
      ],
      "execution_count": null,
      "outputs": []
    },
    {
      "cell_type": "code",
      "metadata": {
        "colab": {
          "base_uri": "https://localhost:8080/"
        },
        "id": "P267h5kYZE_H",
        "outputId": "883291ad-6a44-472e-82a7-59b044ba1fb9"
      },
      "source": [
        "# Merged images load\n",
        "data_train = [[]  for i in range(12)]\n",
        "data_train[0] = convertimgs('/content/merge/merge_train/Correct/Male',noise = False)  #75\n",
        "data_train[1] = convertimgs('/content/merge/merge_train/Correct/Female/',noise = False) #75\n",
        "data_train[2] = convertimgs('/content/merge/merge_train/Correct/Manmade/',noise = False) #75\n",
        "data_train[3] = convertimgs('/content/merge/merge_train/Correct/Natural/',noise = False) #75\n",
        "data_train[4] = convertimgs('/content/merge/merge_train/Correct/Powered',noise = False) #75\n",
        "data_train[5] = convertimgs('/content/merge/merge_train/Correct/Nonpowered',noise = False) #75\n",
        "\n",
        "data_train[6] = convertimgs('/content/merge/merge_train/Incorrect/Male',noise = False) #75\n",
        "data_train[7] = convertimgs('/content/merge/merge_train/Incorrect/Female',noise = False) #75\n",
        "data_train[8] = convertimgs('/content/merge/merge_train/Incorrect/Manmade',noise = False) #75\n",
        "data_train[9] = convertimgs('/content/merge/merge_train/Incorrect/Natural',noise = False) #75\n",
        "data_train[10] = convertimgs('/content/merge/merge_train/Incorrect/Powered',noise = False) #75\n",
        "data_train[11] = convertimgs('/content/merge/merge_train/Incorrect/Nonpowered',noise = False) #75\n",
        "data_train = np.array(data_train)\n",
        " \n",
        "data_test = [[]  for i in range(12)]\n",
        "data_test[0] = convertimgs('/content/merge/merge_test/Correct/Male',noise = False)  #75\n",
        "data_test[1] = convertimgs('/content/merge/merge_test/Correct/Female/',noise = False) #75\n",
        "data_test[2] = convertimgs('/content/merge/merge_test/Correct/Manmade/',noise = False) #75\n",
        "data_test[3] = convertimgs('/content/merge/merge_test/Correct/Natural/',noise = False) #75\n",
        "data_test[4] = convertimgs('/content/merge/merge_test/Correct/Powered',noise = False) #75\n",
        "data_test[5] = convertimgs('/content/merge/merge_test/Correct/Nonpowered',noise = False) #75\n",
        "\n",
        "data_test[6] = convertimgs('/content/merge/merge_test/Incorrect/Male',noise = False) #75\n",
        "data_test[7] = convertimgs('/content/merge/merge_test/Incorrect/Female',noise = False) #75\n",
        "data_test[8] = convertimgs('/content/merge/merge_test/Incorrect/Manmade',noise = False) #75\n",
        "data_test[9] = convertimgs('/content/merge/merge_test/Incorrect/Natural',noise = False) #75\n",
        "data_test[10] = convertimgs('/content/merge/merge_test/Incorrect/Powered',noise = False) #75\n",
        "data_test[11] = convertimgs('/content/merge/merge_test/Incorrect/Nonpowered',noise = False) #75\n",
        "data_test = np.array(data_test)\n",
        "\n",
        "\n",
        "print(data_train.shape,data_test.shape)\n",
        "\n",
        "plt.imshow(data_train[0,1])\n",
        "plt.axis('off')\n",
        "\n",
        "# Regular Images load\n",
        "\n",
        "reg_train = [[]  for i in range(12)]\n",
        "reg_train[0] = convertimgs('/content/merge/merge_reg_train/Correct/Male',noise = False)  # 75\n",
        "reg_train[1] = convertimgs('/content/merge/merge_reg_train/Correct/Female',noise = False) # 75\n",
        "reg_train[2] = convertimgs('/content/merge/merge_reg_train/Correct/Manmade',noise = False) # 75\n",
        "reg_train[3] = convertimgs('/content/merge/merge_reg_train/Correct/Natural/',noise = False) # 75\n",
        "reg_train[4] = convertimgs('/content/merge/merge_reg_train/Correct/Powered',noise = False) # 75\n",
        "reg_train[5] = convertimgs('/content/merge/merge_reg_train/Correct/Nonpowered',noise = False) # 75\n",
        "\n",
        "reg_train[6] = convertimgs('/content/merge/merge_reg_train/Incorrect/Male',noise = False)  # 75\n",
        "reg_train[7] = convertimgs('/content/merge/merge_reg_train/Incorrect/Female',noise = False) # 75\n",
        "reg_train[8] = convertimgs('/content/merge/merge_reg_train/Incorrect/Manmade',noise = False) # 75\n",
        "reg_train[9] = convertimgs('/content/merge/merge_reg_train/Incorrect/Natural/',noise = False) # 75\n",
        "reg_train[10] = convertimgs('/content/merge/merge_reg_train/Incorrect/Powered',noise = False) # 75\n",
        "reg_train[11] = convertimgs('/content/merge/merge_reg_train/Incorrect/Nonpowered',noise = False) # 75\n",
        "reg_train = np.array(reg_train)\n",
        "\n",
        "\n",
        "reg_test = [[]  for i in range(12)]\n",
        "reg_test[0] = convertimgs('/content/merge/merge_reg_test/Correct/Male',noise = False)  #75\n",
        "reg_test[1] = convertimgs('/content/merge/merge_reg_test/Correct/Female/',noise = False) #75\n",
        "reg_test[2] = convertimgs('/content/merge/merge_reg_test/Correct/Manmade/',noise = False) #75\n",
        "reg_test[3] = convertimgs('/content/merge/merge_reg_test/Correct/Natural/',noise = False) #75\n",
        "reg_test[4] = convertimgs('/content/merge/merge_reg_test/Correct/Powered',noise = False) #75\n",
        "reg_test[5] = convertimgs('/content/merge/merge_reg_test/Correct/Nonpowered',noise = False) #75\n",
        "\n",
        "reg_test[6] = convertimgs('/content/merge/merge_reg_test/Incorrect/Male',noise = False) #75\n",
        "reg_test[7] = convertimgs('/content/merge/merge_reg_test/Incorrect/Female',noise = False) #75\n",
        "reg_test[8] = convertimgs('/content/merge/merge_reg_test/Incorrect/Manmade',noise = False) #75\n",
        "reg_test[9] = convertimgs('/content/merge/merge_reg_test/Incorrect/Natural',noise = False) #75\n",
        "reg_test[10] = convertimgs('/content/merge/merge_reg_test/Incorrect/Powered',noise = False) #75\n",
        "reg_test[11] = convertimgs('/content/merge/merge_reg_test/Incorrect/Nonpowered',noise = False) #75\n",
        "reg_test = np.array(reg_test)\n",
        "\n",
        "print(reg_train.shape,reg_test.shape)\n",
        "\n"
      ],
      "execution_count": null,
      "outputs": [
        {
          "output_type": "stream",
          "text": [
            "(12, 80, 224, 224, 3) (12, 40, 224, 224, 3)\n",
            "(12, 80, 224, 224, 3) (12, 40, 224, 224, 3)\n"
          ],
          "name": "stdout"
        },
        {
          "output_type": "display_data",
          "data": {
            "image/png": "[encoded data removed]",
            "text/plain": [
              "<Figure size 432x288 with 1 Axes>"
            ]
          },
          "metadata": {
            "tags": [],
            "needs_background": "light"
          }
        }
      ]
    },
    {
      "cell_type": "markdown",
      "metadata": {
        "id": "bRcNO6SiiCOd"
      },
      "source": [
        "# Tuning Value Calculation"
      ]
    },
    {
      "cell_type": "code",
      "metadata": {
        "id": "X3fPlYt_uupE"
      },
      "source": [
        "categories = ['Male','Female','Manmade','Natural','Powered','Nonpowered']\n",
        "calc_tun_activ = 0\n",
        "\n",
        "if calc_tun_activ:\n",
        "  for cat in range(6): \n",
        "\n",
        "    print('Category of interest: ', categories[cat])\n",
        "    train_it = reg_train[cat]\n",
        "\n",
        "    layer_names = [layer.name for layer in model.layers if 'conv' in layer.name]\n",
        "    layer_outputs = [layer.output for layer in model.layers if layer.name in layer_names]\n",
        "    activation_model = Model(inputs=model.input, outputs=layer_outputs)\n",
        "\n",
        "\n",
        "    start = time.time()\n",
        "    tun_activ = tc.calc_tun(train_it,activation_model,layer_names)\n",
        "    print(f'Elapsed: {time.time() - start}s')\n",
        "\n",
        "    with open('tuning_values_' + str(cat), 'wb') as fp:\n",
        "      pickle.dump(tun_activ, fp)\n",
        "\n"
      ],
      "execution_count": null,
      "outputs": []
    },
    {
      "cell_type": "markdown",
      "metadata": {
        "id": "KmnNRm50Q05-"
      },
      "source": [
        "### Load tuning activities"
      ]
    },
    {
      "cell_type": "code",
      "metadata": {
        "id": "if9i3JjziHTN",
        "colab": {
          "base_uri": "https://localhost:8080/"
        },
        "outputId": "cffbac67-be76-4946-faaf-56c145d9507d"
      },
      "source": [
        "tun_activ = []\n",
        "for interest in range(6): \n",
        "  with open ('/content/drive/My Drive/obj/tuning_values_' + str(interest), 'rb') as fp:\n",
        "      tun_activ.extend(pickle.load(fp))\n",
        "len(tun_activ)\n",
        "\n"
      ],
      "execution_count": null,
      "outputs": [
        {
          "output_type": "execute_result",
          "data": {
            "text/plain": [
              "240"
            ]
          },
          "metadata": {
            "tags": []
          },
          "execution_count": 8
        }
      ]
    },
    {
      "cell_type": "markdown",
      "metadata": {
        "id": "jJIu_3X-iLeP"
      },
      "source": [
        "### Calculation of tuning values for each map"
      ]
    },
    {
      "cell_type": "code",
      "metadata": {
        "id": "Y6C47jSjiJXP"
      },
      "source": [
        "ncats = 6\n",
        "# to fish out each category tun_activations\n",
        "labels = np.array([0] * 40 + [1] * 40 + [2] * 40 + [3] * 40 + [4] * 40 + [5] * 40)\n",
        "cat_tun = [[[] for j in range(len(tun_activ[0]))] for i in range(ncats)]\n",
        "\n",
        "avg_tun_activ = tc.calc_avg(tun_activ) #average tuning activity for each map\n",
        "std_tun_activ = tc.calc_std(tun_activ,avg_tun_activ) #std tuning activity for each map\n",
        "\n",
        "for i in range(ncats):\n",
        "  #Calculating average activity of each\n",
        "  #feature map in response to images of respective category, \n",
        "  #with the mean activity under all image categories subtracted from it\n",
        "  idx = list(np.where(labels == i))\n",
        "  cat_tun[i] = tc.calc_avg([tun_activ[i] for i in idx[0]])\n",
        "\n",
        "# Vector of tuning values for each obj cataegory\n",
        "fc = [[[0 for item in subl] for subl in cat_tun[0]] for i in range(ncats)]\n",
        "#fc has length of ncats x nlayers x no of maps in each layer\n",
        "for cat in range(ncats):\n",
        "  for layer in range(len(cat_tun[cat])):\n",
        "    for map in range(len(cat_tun[cat][layer])):\n",
        "      if std_tun_activ[layer][map] == 0:\n",
        "        continue\n",
        "      fc[cat][layer][map] = (cat_tun[cat][layer][map] - \n",
        "                                avg_tun_activ[layer][map])/std_tun_activ[layer][map]\n"
      ],
      "execution_count": null,
      "outputs": []
    },
    {
      "cell_type": "markdown",
      "metadata": {
        "id": "OiF5A5hzMSjT"
      },
      "source": [
        "### Tuning quality"
      ]
    },
    {
      "cell_type": "code",
      "metadata": {
        "id": "wOSl0b-UiRnH",
        "colab": {
          "base_uri": "https://localhost:8080/"
        },
        "outputId": "b9659c99-0dd0-450b-ee24-b7859f9dd34d"
      },
      "source": [
        "tun_quality = tc.calc_tun_quality(fc)\n",
        "sns.set(style=\"whitegrid\")\n",
        "ax = sns.boxplot(data = tun_quality,palette='cool')\n",
        "ax.set_xlabel('Layer')\n",
        "ax.set_xticklabels(np.arange(1,14))\n",
        "ax.set_ylabel('Tuning Quality')\n",
        "ax.set_ylim([0,50])"
      ],
      "execution_count": null,
      "outputs": [
        {
          "output_type": "execute_result",
          "data": {
            "text/plain": [
              "(0.0, 50.0)"
            ]
          },
          "metadata": {
            "tags": []
          },
          "execution_count": 10
        },
        {
          "output_type": "display_data",
          "data": {
            "image/png": "[encoded data removed]",
            "text/plain": [
              "<Figure size 432x288 with 1 Axes>"
            ]
          },
          "metadata": {
            "tags": []
          }
        }
      ]
    },
    {
      "cell_type": "code",
      "metadata": {
        "id": "fcxFzTBfK-PU",
        "colab": {
          "base_uri": "https://localhost:8080/"
        },
        "outputId": "078a9051-6a22-4bef-e284-f4610b0c7e2c"
      },
      "source": [
        "tun_q_face = [[0 for item in subl] for subl in fc[0]]\n",
        "for cat in range(2):\n",
        "  for layer in range(len(fc[cat])):\n",
        "    for map in range(len(fc[cat][layer])):\n",
        "      if tun_q_face[layer][map] < abs(fc[cat][layer][map]):\n",
        "        tun_q_face[layer][map] = abs(fc[cat][layer][map])\n",
        "\n",
        "sns.set(style=\"whitegrid\")\n",
        "ax = sns.boxplot(data = tun_q_face,palette='cool')\n",
        "ax.set_xlabel('Layer')\n",
        "ax.set_xticklabels(np.arange(1,14))\n",
        "ax.set_ylabel('Tuning Quality')\n",
        "ax.set_ylim([0,30])"
      ],
      "execution_count": null,
      "outputs": [
        {
          "output_type": "execute_result",
          "data": {
            "text/plain": [
              "(0.0, 30.0)"
            ]
          },
          "metadata": {
            "tags": []
          },
          "execution_count": 11
        },
        {
          "output_type": "display_data",
          "data": {
            "image/png": "[encoded data removed]",
            "text/plain": [
              "<Figure size 432x288 with 1 Axes>"
            ]
          },
          "metadata": {
            "tags": []
          }
        }
      ]
    },
    {
      "cell_type": "markdown",
      "metadata": {
        "id": "6QLK6addybWJ"
      },
      "source": [
        "# Model Architecture"
      ]
    },
    {
      "cell_type": "code",
      "metadata": {
        "colab": {
          "base_uri": "https://localhost:8080/"
        },
        "id": "Dsm9BSiwGctD",
        "outputId": "b536e126-86e6-44cf-c8b4-da4e10c49678"
      },
      "source": [
        "# Calling VGG16 without the top FC layers with weights loaded from imagenet \n",
        "model = VGG16(weights='imagenet',\n",
        "              include_top=False,input_shape = [224,224,3])\n",
        "#plot_model(model,show_shapes=True,expand_nested=True)\n",
        "#model.save_weights('vgg_w',save_format='h5')\n",
        "\n",
        "categories = ['Male','Female','Manmade','Natural','Powered','Nonpowered']\n",
        "interest = 0\n",
        "print('Category of interest: ', categories[interest])\n",
        "train_it = np.concatenate((reg_train[interest],reg_train[interest + 6]))\n",
        "test_it = np.concatenate((reg_test[interest],reg_test[interest + 6]))\n",
        "print(train_it.shape,test_it.shape)\n",
        "\n",
        "start = time.time()\n",
        "features_train = model.predict(train_it) \n",
        "print(f'Train Time: {time.time() - start}')\n",
        "\n",
        "start = time.time()\n",
        "features_test = model.predict(test_it) \n",
        "print(f'Test Time: {time.time() - start}')\n",
        "epochs = 30\n",
        "\n",
        "ntrain = 80\n",
        "train_labels = to_categorical([0] * ntrain + [1]*ntrain)\n",
        "\n",
        "\n",
        "ntest = 40\n",
        "test_labels = to_categorical([0] * ntest + [1]*ntest) \n",
        "\n",
        "losses = 'binary_crossentropy'\n",
        "\n",
        "# Initialize the top model with FC layers. These are the only ones to be trained\n",
        "top_model = Sequential()\n",
        "top_model.add(Flatten(input_shape=features_train.shape[1:])) \n",
        "top_model.add(Dense(4096, activation='relu',name = 'top_dense1')) \n",
        "top_model.add(Dense(2, activation='softmax',name = 'predictions'))\n",
        "\n",
        "top_model.compile(optimizer= Adam(lr=1e-5),\n",
        "              loss=losses,\n",
        "              metrics=['accuracy'])\n",
        "model.summary()\n",
        "\n",
        "es = EarlyStopping(monitor='loss', mode='min', verbose=1)\n"
      ],
      "execution_count": null,
      "outputs": [
        {
          "output_type": "stream",
          "text": [
            "Category of interest:  Male\n",
            "(160, 224, 224, 3) (80, 224, 224, 3)\n",
            "Train Time: 4.151860237121582\n",
            "Test Time: 1.084580421447754\n",
            "Model: \"vgg16\"\n",
            "_________________________________________________________________\n",
            "Layer (type)                 Output Shape              Param #   \n",
            "=================================================================\n",
            "input_1 (InputLayer)         [(None, 224, 224, 3)]     0         \n",
            "_________________________________________________________________\n",
            "block1_conv1 (Conv2D)        (None, 224, 224, 64)      1792      \n",
            "_________________________________________________________________\n",
            "block1_conv2 (Conv2D)        (None, 224, 224, 64)      36928     \n",
            "_________________________________________________________________\n",
            "block1_pool (MaxPooling2D)   (None, 112, 112, 64)      0         \n",
            "_________________________________________________________________\n",
            "block2_conv1 (Conv2D)        (None, 112, 112, 128)     73856     \n",
            "_________________________________________________________________\n",
            "block2_conv2 (Conv2D)        (None, 112, 112, 128)     147584    \n",
            "_________________________________________________________________\n",
            "block2_pool (MaxPooling2D)   (None, 56, 56, 128)       0         \n",
            "_________________________________________________________________\n",
            "block3_conv1 (Conv2D)        (None, 56, 56, 256)       295168    \n",
            "_________________________________________________________________\n",
            "block3_conv2 (Conv2D)        (None, 56, 56, 256)       590080    \n",
            "_________________________________________________________________\n",
            "block3_conv3 (Conv2D)        (None, 56, 56, 256)       590080    \n",
            "_________________________________________________________________\n",
            "block3_pool (MaxPooling2D)   (None, 28, 28, 256)       0         \n",
            "_________________________________________________________________\n",
            "block4_conv1 (Conv2D)        (None, 28, 28, 512)       1180160   \n",
            "_________________________________________________________________\n",
            "block4_conv2 (Conv2D)        (None, 28, 28, 512)       2359808   \n",
            "_________________________________________________________________\n",
            "block4_conv3 (Conv2D)        (None, 28, 28, 512)       2359808   \n",
            "_________________________________________________________________\n",
            "block4_pool (MaxPooling2D)   (None, 14, 14, 512)       0         \n",
            "_________________________________________________________________\n",
            "block5_conv1 (Conv2D)        (None, 14, 14, 512)       2359808   \n",
            "_________________________________________________________________\n",
            "block5_conv2 (Conv2D)        (None, 14, 14, 512)       2359808   \n",
            "_________________________________________________________________\n",
            "block5_conv3 (Conv2D)        (None, 14, 14, 512)       2359808   \n",
            "_________________________________________________________________\n",
            "block5_pool (MaxPooling2D)   (None, 7, 7, 512)         0         \n",
            "=================================================================\n",
            "Total params: 14,714,688\n",
            "Trainable params: 14,714,688\n",
            "Non-trainable params: 0\n",
            "_________________________________________________________________\n"
          ],
          "name": "stdout"
        }
      ]
    },
    {
      "cell_type": "markdown",
      "metadata": {
        "id": "9XawsxUG9pQi"
      },
      "source": [
        "# Attn"
      ]
    },
    {
      "cell_type": "code",
      "metadata": {
        "id": "RvQSgn3Q9z0P"
      },
      "source": [
        "#!/usr/bin/env python3\n",
        "# -*- coding: utf-8 -*-\n",
        "\"\"\"\n",
        "Created on Sat Oct 10 02:39:43 2020\n",
        "\n",
        "@author: soukhind\n",
        "\"\"\"\n",
        "import numpy as np\n",
        "import tensorflow as tf\n",
        "from tensorflow.keras.layers import Activation\n",
        "from tensorflow.keras.activations import relu\n",
        "from keras.utils.generic_utils import get_custom_objects\n",
        "from tensorflow.keras.callbacks import EarlyStopping\n",
        "from vis.utils import utils\n",
        "from tensorflow.python.ops import nn\n",
        "from tensorflow import math\n",
        "import time\n",
        "from sklearn.metrics import roc_curve,accuracy_score,precision_recall_curve,f1_score\n",
        "from sklearn.manifold import TSNE\n",
        "\n",
        "\n",
        "def gen_attnmap(modifier,mask,category,bi,atype):\n",
        "    \"\"\"\n",
        "    \n",
        "\n",
        "    Parameters\n",
        "    ----------\n",
        "    modifier : list\n",
        "        modifier to be used to implement attention.\n",
        "    mask : ndarray\n",
        "        binary vector to determine which layer to apply attention at. \n",
        "        include attention strength by multiplying to it\n",
        "    category : ndarray\n",
        "        cateogies .\n",
        "    bi : boolean \n",
        "        bidirectionality\n",
        "        True & False.\n",
        "    atype: int\n",
        "        1 = Multiplicative\n",
        "        2 = Additive\n",
        "    Returns\n",
        "    -------\n",
        "    tensor_attnmap : tensor\n",
        "        attention map.\n",
        "\n",
        "    \"\"\"\n",
        "    attnmap = []\n",
        "    #beta = calc_beta(avg_tun_activ)/10\n",
        "  \n",
        "    #conv1_1 & conv1_2\n",
        "    for layer in range(2):\n",
        "        mapval = np.float32(modifier[category][layer])\n",
        "        if bi == False:\n",
        "            mapval[mapval < 0] = 0\n",
        "        if atype == 1:\n",
        "          amap = np.ones((224,224,64),dtype='float32') + np.tile(mapval,[224,224,1])* mask[layer]\n",
        "        elif atype == 2:\n",
        "          amap = np.tile(mapval,[224,224,1])* mask[layer]\n",
        "        #amap[amap < 0] = 0\n",
        "        attnmap.append(amap)\n",
        "    \n",
        "    #conv2_1 & conv2_2\n",
        "    for layer in range(2,4):\n",
        "        mapval = np.float32(modifier[category][layer])\n",
        "        if bi == False:\n",
        "            mapval[mapval < 0] = 0\n",
        "        if atype == 1:\n",
        "          amap = np.ones((112,112,128),dtype='float32') + np.tile(mapval,[112,112,1])* mask[layer]\n",
        "        elif atype == 2:\n",
        "          amap = np.tile(mapval,[112,112,1])* mask[layer]\n",
        "        #amap[amap < 0] = 0\n",
        "        attnmap.append(amap)\n",
        "    \n",
        "    #conv3_1 - conv3_3\n",
        "    for layer in range(4,7):\n",
        "        mapval = np.float32(modifier[category][layer])\n",
        "        if bi == False:\n",
        "            mapval[mapval < 0] = 0\n",
        "        if atype == 1:\n",
        "          amap = np.ones((56,56,256),dtype='float32') + np.tile(mapval,[56,56,1])* mask[layer]\n",
        "        elif atype == 2:\n",
        "          amap = np.tile(mapval,[56,56,1])* mask[layer]\n",
        "        #amap[amap < 0] = 0\n",
        "        attnmap.append(amap)\n",
        "    \n",
        "    #conv4_1 - conv4_3\n",
        "    for layer in range(7,10):\n",
        "        mapval = np.float32(modifier[category][layer])\n",
        "        if bi == False:\n",
        "            mapval[mapval < 0] = 0\n",
        "        if atype == 1:\n",
        "          amap = np.ones((28,28,512),dtype='float32') + np.tile(mapval,[28,28,1])* mask[layer]\n",
        "        elif atype == 2:\n",
        "          amap = np.tile(mapval,[28,28,1])* mask[layer]\n",
        "        #amap[amap < 0] = 0\n",
        "        attnmap.append(amap)\n",
        "    \n",
        "    #conv5_1 - conv5_3\n",
        "    for layer in range(10,13):\n",
        "        mapval = np.float32(modifier[category][layer])\n",
        "        if bi == False:\n",
        "            mapval[mapval < 0] = 0\n",
        "        if atype ==1:\n",
        "          amap = np.ones((14,14,512),dtype='float32') + np.tile(mapval,[14,14,1])* mask[layer]\n",
        "        elif atype == 2:\n",
        "          amap = np.tile(mapval,[14,14,1])* mask[layer]\n",
        "        #amap[amap < 0] = 0\n",
        "        attnmap.append(amap)\n",
        "    \n",
        "    tensor_attnmap = []\n",
        "    for layer in range(len(attnmap)):\n",
        "      tensor_attnmap.append(tf.convert_to_tensor(attnmap[layer])) \n",
        "    \n",
        "    return tensor_attnmap\n",
        "\n",
        "def calc_tsne_plots(model,data,layer1,model_type):\n",
        "  \"\"\"\n",
        "\n",
        "    Parameters\n",
        "    ----------\n",
        "    model : Tensorflow Model\n",
        "        The model that is of interest\n",
        "        \n",
        "    data : ndarray\n",
        "        Testing data\n",
        "    layer1 : layer name whose activations are to be extracted\n",
        "        string\n",
        "    model_type : int\n",
        "        Type of model\n",
        "        0 = Base Model\n",
        "        1 = Top Model\n",
        "    Returns\n",
        "    -------\n",
        "    fig\n",
        "        Figure object\n",
        "\n",
        "    \"\"\"\n",
        "\n",
        "\n",
        "  out = model.get_layer(layer1).output\n",
        "  model_out = Model(model.input,out)\n",
        "  tsne = TSNE()\n",
        "\n",
        "  features = model_out.predict(data) \n",
        "\n",
        "  catunits = np.zeros((len(features),1000))\n",
        "  \n",
        "  if model_type == 0:\n",
        "    for image in range(len(features)):\n",
        "      x = np.ndarray.flatten(features[image])\n",
        "      catunits[image,:] = np.random.choice(x,1000)\n",
        "    reduced = tsne.fit_transform(catunits)\n",
        "  \n",
        "  else:\n",
        "    reduced = tsne.fit_transform(features)\n",
        "\n",
        "  reduced_transformed = reduced - np.min(reduced, axis=0)\n",
        "  reduced_transformed /= np.max(reduced_transformed, axis=0)\n",
        "  image_xindex_sorted = np.argsort(np.sum(reduced_transformed, axis=1))\n",
        "  fig = plt.figure(figsize = (10,10))\n",
        "  palette = sns.color_palette(\"bright\", 2)\n",
        "  ax = sns.scatterplot(x = reduced[:,0], y = reduced[:,1], \n",
        "                hue = [0] * ntest + [1]*ntest,\n",
        "                style = [0] * ntest + [1]*ntest,\n",
        "                markers = ['v','X'], s = 300,\n",
        "                  legend='full', palette=palette)\n",
        "  plt.axis( 'off')\n",
        "  return fig\n",
        "\n",
        "def avg_accuracy(data_train,train_labels,\n",
        "                 data_test,test_labels,\n",
        "                 modifier,\n",
        "                 model,top_model,idxpath,\n",
        "                 category,\n",
        "                 atstrng,\n",
        "                 bidir = True,\n",
        "                 atype = 1):\n",
        "    \"\"\"\n",
        "    \n",
        "\n",
        "    Parameters\n",
        "    ----------\n",
        "    data_train : ndarray\n",
        "        Training data.\n",
        "    train_labels : categorical\n",
        "        Training labels.\n",
        "    data_test : ndarray\n",
        "        Testing data.\n",
        "    test_labels : categorical\n",
        "        Testing labels.\n",
        "    category : int\n",
        "        Catrgory index\n",
        "    modifier : list\n",
        "        modifier to be used to implement attention.\n",
        "    model : keras model\n",
        "        base model.\n",
        "    top_model : keras model\n",
        "        top model.\n",
        "    idxpath : string\n",
        "        for internal use.\n",
        "    atstrng : float32\n",
        "        attention strength.\n",
        "    bidir : bool, optional\n",
        "        Bidirectionality. The default is True.\n",
        "    atype: int\n",
        "        1 = Multiplicative\n",
        "        2 = Additive\n",
        "    Returns\n",
        "    -------\n",
        "    t_acc\n",
        "        Accuracy for each category at each layer.\n",
        "\n",
        "    \"\"\"\n",
        "    categories = ['Male','Female','Manmade','Natural','Powered','Nonpowered']\n",
        "\n",
        "    epochs = 30    \n",
        "    n_layers = 13\n",
        "    t_acc = np.zeros(n_layers)\n",
        "    thr = np.zeros(n_layers)\n",
        "    for li in range(n_layers):\n",
        "        layermask = np.zeros(13)\n",
        "        layermask[li] = 1\n",
        "        tensor_attnmap = gen_attnmap(modifier,layermask*atstrng,category,bidir,atype)\n",
        "        \n",
        "        \n",
        "        def attnrelu(x,map = tensor_attnmap,atype = atype):\n",
        "            layeridx = np.load(idxpath)\n",
        "            if layeridx == 13:\n",
        "                layeridx = 0\n",
        "            if atype == 1:\n",
        "              x = nn.relu(x)\n",
        "              activations = math.multiply(x,map[layeridx])\n",
        "            if atype == 2:\n",
        "              activations = math.add(x,map[layeridx])\n",
        "              activations = nn.relu(activations)\n",
        "            layeridx += 1\n",
        "            np.save(idxpath,layeridx)\n",
        "            return activations\n",
        "    \n",
        "        get_custom_objects().update({'attnrelu': Activation(attnrelu)})\n",
        "    \n",
        "        for layer in model.layers:\n",
        "            if(hasattr(layer,'activation')):\n",
        "                layer.activation = attnrelu\n",
        "    \n",
        "        utils.apply_modifications(model)\n",
        "        model.compile()\n",
        "        \n",
        "        f_train = model.predict(data_train)     \n",
        "    \n",
        "        f_test = model.predict(data_test)\n",
        "\n",
        "        fig = calc_tsne_plots(model,data_test,\n",
        "                        layer1 = 'block5_conv3',\n",
        "                        model_type = 0\n",
        "                        )\n",
        "        fig.suptitle('Category: ' + categories[category] +\n",
        "                     ', layer ' + str(li + 1) +\n",
        "                     ', atstg ' + str(atstrng) + ', base_model', fontsize = 12)\n",
        "        fig.savefig('/content/tsne_iamgenet_plots/tsne_base_cat'+ str(category) +\n",
        "                    '_lyr' + str(li + 1) + '_astg' +  str(atstrng))\n",
        "        plt.close()\n",
        "        es = EarlyStopping(monitor='loss', mode='min', verbose=1)\n",
        "  \n",
        "        history = top_model.fit(x = f_train,  y = train_labels,\n",
        "                epochs=epochs,\n",
        "                batch_size=64,\n",
        "                verbose = 0, callbacks = [])\n",
        "        \n",
        "        fig = calc_tsne_plots(top_model,f_test,\n",
        "                        layer1 = 'top_dense2',\n",
        "                        model_type = 1\n",
        "                        )\n",
        "        fig.suptitle('Category: ' + categories[category] +\n",
        "                     ', layer ' + str(li + 1) +\n",
        "                     ', atstg ' + str(atstrng) + ', top_model', fontsize = 12)\n",
        "        fig.savefig('/content/tsne_iamgenet_plots/tsne_top_cat'+ str(category) +\n",
        "                    '_lyr' + str(li) + '_astg' +  str(atstrng))\n",
        "        plt.close()\n",
        "\n",
        "        out = top_model.evaluate(f_test, test_labels)\n",
        "        t_acc[li] = out[1]\n",
        "\n",
        "    return t_acc\n",
        "\n",
        "\n",
        "def calc_beta(avg_act):\n",
        "  beta = [0 for item in avg_act]\n",
        "  for layer in range(len(avg_act)):\n",
        "    for item in avg_act[layer]:\n",
        "      beta[layer] += np.mean(item)\n",
        "      beta = np.array(beta)\n",
        "  return beta"
      ],
      "execution_count": null,
      "outputs": []
    },
    {
      "cell_type": "code",
      "metadata": {
        "id": "M5hRP3Sj94MR"
      },
      "source": [
        "##@title Multiplicative and bidirectionality corrected\n",
        "if os.path.isfile('tsne_iamgenet_plots/'):\n",
        "  os.mkdir('tsne_iamgenet_plots/')\n",
        "from vgg16obj.tools import model_calcs as mc\n",
        "import gc\n",
        "layeridx = 0\n",
        "np.save('layeridx',layeridx)\n",
        "#atstrng = 10.5 #0,0.5,1,1.5,2,2.5,3,3.5,4,4.5,5,5.5,6,6.5,7,7.5,8,8.5,9,9.5,10\n",
        "for atstrng in np.arange(5,10,1): #Calling for different attn strengths\n",
        "  grand_acc = [[] for i in range(6)] \n",
        "  for cat in range(6): # Iterating over 6 categories\n",
        "    tf.keras.backend.clear_session()\n",
        "    print('Category of interest: ', categories[cat])\n",
        "    train_it = np.concatenate((reg_train[cat],reg_train[cat + 6])) # Training on regular data\n",
        "    test_it = np.concatenate((data_test[cat],data_test[cat + 6])) # Testing on merged data\n",
        "    print(train_it.shape,test_it.shape)\n",
        "    model = VGG16(weights= None,\n",
        "                        include_top=False,input_shape = [224,224,3])\n",
        "    \n",
        "    top_model = Sequential()\n",
        "    top_model.add(Flatten(input_shape=features_train.shape[1:])) \n",
        "    top_model.add(Dense(4096, activation='relu',name = 'top_dense1')) \n",
        "    top_model.add(Dense(4096, activation='relu',name = 'top_dense2')) \n",
        "    top_model.add(Dense(2, activation='sigmoid',name = 'predictions'))\n",
        "    top_model.compile(optimizer= Adam(lr=1e-5),\n",
        "                loss='binary_crossentropy',\n",
        "                metrics=['accuracy'])\n",
        "    \n",
        "    # Read avg_accuracy's definition to learn about the parameters\n",
        "    grand_acc[cat] = avg_accuracy(train_it,\n",
        "                              train_labels,\n",
        "                              test_it,\n",
        "                              test_labels,\n",
        "                              fc,\n",
        "                              model,\n",
        "                              top_model,\n",
        "                              '/content/layeridx.npy',\n",
        "                              cat,\n",
        "                              atstrng,\n",
        "                              bidir = True,\n",
        "                              atype = 1 )\n",
        "  grand_acc = np.array(grand_acc)\n",
        "  grand_acc.reshape([1,6,13])\n",
        "  # Use tun_accuracy_multi for multiplicative mode (atype = 1) and\n",
        "  # use tun_accuracy_bias for bias mode (atype = 2)\n",
        "  np.save('tun_accuracy_multi' + str(atstrng),grand_acc)\n",
        "\n"
      ],
      "execution_count": null,
      "outputs": []
    },
    {
      "cell_type": "markdown",
      "metadata": {
        "id": "wY8oDGHaSuqf"
      },
      "source": [
        "### Regular Accuracy\n",
        "Calculate the regular accuracy so that they can be contrasted against when attention is applied."
      ]
    },
    {
      "cell_type": "code",
      "metadata": {
        "id": "vLuKzW56SuEZ",
        "colab": {
          "base_uri": "https://localhost:8080/"
        },
        "outputId": "df8b43a4-c617-4c57-aae4-0edbfdbaf718"
      },
      "source": [
        "# Reinitialising the models for calculating regular accuracy\n",
        "model = VGG16(weights='imagenet',\n",
        "                        include_top=False,input_shape = [224,224,3])\n",
        "          \n",
        "top_model = Sequential()\n",
        "top_model.add(Flatten(input_shape=features_train.shape[1:])) \n",
        "top_model.add(Dense(4096, activation='relu',name = 'top_dense1')) \n",
        "top_model.add(Dense(2, activation='sigmoid',name = 'predictions'))\n",
        "top_model.compile(optimizer= Adam(lr=1e-5),\n",
        "            loss='categorical_crossentropy',\n",
        "            metrics=['accuracy'])\n",
        "    \n",
        "categories = ['Male','Female','Manmade','Natural','Powered','Nonpowered']\n",
        "acc = [0]*6\n",
        "for cat in range(6):\n",
        "  tf.keras.backend.clear_session()\n",
        "\n",
        "  print('Category of interest: ', categories[cat])\n",
        "  train_it = np.concatenate((reg_train[cat],reg_train[cat + 6]))\n",
        "  test_it = np.concatenate((data_test[cat],data_test[cat + 6]))\n",
        "  print(train_it.shape,test_it.shape)\n",
        "\n",
        "\n",
        "  #plot_model(model,show_shapes=True,expand_nested=True)\n",
        "  #model.save_weights('vgg_w',save_format='h5')\n",
        "\n",
        "  features_train = model.predict(train_it) \n",
        "\n",
        "  features_test = model.predict(test_it) \n",
        "\n",
        "\n",
        "  epochs = 30\n",
        "  #train_data = np.load('features_train.npy')\n",
        "  ntrain = 80\n",
        "  train_data = features_train\n",
        "  train_labels = to_categorical([0] * ntrain + [1]*ntrain)\n",
        "\n",
        "\n",
        "  #test_data = np.load('features_test.npy')\n",
        "  ntest = 40\n",
        "  test_data = features_test\n",
        "  test_labels = to_categorical([0] * ntest + [1]*ntest)\n",
        "\n",
        "\n",
        "\n",
        "  es = EarlyStopping(monitor='loss', mode='min', verbose=1)\n",
        "\n",
        "  history = top_model.fit(x = train_data,  y = train_labels,\n",
        "            epochs=epochs,\n",
        "            batch_size=64,\n",
        "            verbose = 0, callbacks = [es])\n",
        "\n",
        "  out = top_model.evaluate(test_data, test_labels)\n",
        "  print(out)\n",
        "  acc[cat] = out[1]\n",
        "  #print('rounded test labels',pred)\n",
        "np.mean(acc)"
      ],
      "execution_count": null,
      "outputs": [
        {
          "output_type": "stream",
          "text": [
            "Category of interest:  Male\n",
            "(160, 224, 224, 3) (80, 224, 224, 3)\n",
            "WARNING:tensorflow:5 out of the last 15 calls to <function Model.make_predict_function.<locals>.predict_function at 0x7ff6747908c8> triggered tf.function retracing. Tracing is expensive and the excessive number of tracings could be due to (1) creating @tf.function repeatedly in a loop, (2) passing tensors with different shapes, (3) passing Python objects instead of tensors. For (1), please define your @tf.function outside of the loop. For (2), @tf.function has experimental_relax_shapes=True option that relaxes argument shapes that can avoid unnecessary retracing. For (3), please refer to https://www.tensorflow.org/guide/function#controlling_retracing and https://www.tensorflow.org/api_docs/python/tf/function for  more details.\n",
            "3/3 [==============================] - 0s 5ms/step - loss: 0.6972 - accuracy: 0.7000\n",
            "[0.6971968412399292, 0.699999988079071]\n",
            "Category of interest:  Female\n",
            "(160, 224, 224, 3) (80, 224, 224, 3)\n",
            "3/3 [==============================] - 0s 5ms/step - loss: 0.8193 - accuracy: 0.7125\n",
            "[0.8192527890205383, 0.7124999761581421]\n",
            "Category of interest:  Manmade\n",
            "(160, 224, 224, 3) (80, 224, 224, 3)\n",
            "Epoch 00005: early stopping\n",
            "3/3 [==============================] - 0s 6ms/step - loss: 1.1501 - accuracy: 0.6375\n",
            "[1.1501230001449585, 0.637499988079071]\n",
            "Category of interest:  Natural\n",
            "(160, 224, 224, 3) (80, 224, 224, 3)\n",
            "Epoch 00003: early stopping\n",
            "3/3 [==============================] - 0s 5ms/step - loss: 2.0884 - accuracy: 0.5875\n",
            "[2.088399887084961, 0.5874999761581421]\n",
            "Category of interest:  Powered\n",
            "(160, 224, 224, 3) (80, 224, 224, 3)\n",
            "3/3 [==============================] - 0s 6ms/step - loss: 0.7062 - accuracy: 0.6625\n",
            "[0.7062070965766907, 0.6625000238418579]\n",
            "Category of interest:  Nonpowered\n",
            "(160, 224, 224, 3) (80, 224, 224, 3)\n",
            "3/3 [==============================] - 0s 5ms/step - loss: 0.8154 - accuracy: 0.6500\n",
            "[0.8153548240661621, 0.6499999761581421]\n"
          ],
          "name": "stdout"
        },
        {
          "output_type": "execute_result",
          "data": {
            "text/plain": [
              "0.6583333214124044"
            ]
          },
          "metadata": {
            "tags": []
          },
          "execution_count": 16
        }
      ]
    },
    {
      "cell_type": "code",
      "metadata": {
        "colab": {
          "base_uri": "https://localhost:8080/",
          "height": 770
        },
        "id": "YJNPvzZ7cCEQ",
        "outputId": "3fb64fe3-9d69-4487-ea24-2c96d26a4ec5"
      },
      "source": [
        "acc = [0.69,0.72,0.85,0.58,0.66,0.63]\n",
        "\n",
        "\n",
        "x = np.load('tun_accuracy_multi0.npy')\n",
        "x = np.expand_dims(x,0)\n",
        "\n",
        "for i in np.arange(1,10,1):\n",
        "  temp = np.load('tun_accuracy_multi' + str(i) + '.npy')\n",
        "  temp = np.expand_dims(temp,0)\n",
        "  x = np.vstack((x,temp))\n",
        "\n",
        "\n",
        "\n",
        "x = np.amax(x,0)\n",
        "\n",
        "plt_data = np.zeros((6,13))\n",
        "for i in range(6):\n",
        "  for j in range(13):\n",
        "    plt_data[i,j] = x[i,j] - acc[i]\n",
        "\n",
        "\n",
        "import seaborn as sns\n",
        "sns.set(style=\"white\",rc={\"lines.linewidth\": 1})\n",
        "plt.figure(figsize = (15,12))\n",
        "ax = sns.pointplot(data = plt_data*100, color = 'mediumseagreen',\n",
        "                   errorwidth = 0.1 , capsize = 0.2)\n",
        "                   \n",
        "ax.set_xlabel('Layer',size = 20)\n",
        "ax.set_xticklabels(np.arange(1,14),size = 20)\n",
        "plt.yticks(fontsize = 20)\n",
        "plt.ylim(0,30)\n",
        "plt.title('Attention by tuning curve, bias stng: 0 - 10.5',size = 15)\n",
        "ax.set_ylabel('Performance Increase (%)',size = 20)"
      ],
      "execution_count": null,
      "outputs": [
        {
          "output_type": "execute_result",
          "data": {
            "text/plain": [
              "Text(0, 0.5, 'Performance Increase (%)')"
            ]
          },
          "metadata": {
            "tags": []
          },
          "execution_count": 20
        },
        {
          "output_type": "display_data",
          "data": {
            "image/png": "[encoded data removed]",
            "text/plain": [
              "<Figure size 1080x864 with 1 Axes>"
            ]
          },
          "metadata": {
            "tags": []
          }
        }
      ]
    },
    {
      "cell_type": "code",
      "metadata": {
        "colab": {
          "base_uri": "https://localhost:8080/"
        },
        "id": "VGTVDiTjj53y",
        "outputId": "61bb201c-dce5-47de-eb77-0cbee8dcec98"
      },
      "source": [
        "x = np.load('tun_accuracy_multi0.npy')\n",
        "x = np.expand_dims(x,0)\n",
        "\n",
        "for i in np.arange(1,10,1):\n",
        "  temp = np.load('tun_accuracy_multi' + str(i) + '.npy')\n",
        "  temp = np.expand_dims(temp,0)\n",
        "  x = np.vstack((x,temp))\n",
        "\n",
        "x_0 = x[:,0,:]\n",
        "x_1 = x[:,1,:]\n",
        "x_2 = x[:,2,:]\n",
        "x_3 = x[:,3,:]\n",
        "x_4 = x[:,4,:]\n",
        "x_5 = x[:,5,:]\n",
        "\n",
        "print(np.unravel_index(x_0.argmax(),x_0.shape))\n",
        "print(np.unravel_index(x_1.argmax(),x_1.shape))\n",
        "print(np.unravel_index(x_2.argmax(),x_2.shape))\n",
        "print(np.unravel_index(x_3.argmax(),x_3.shape))\n",
        "print(np.unravel_index(x_4.argmax(),x_4.shape))\n",
        "print(np.unravel_index(x_5.argmax(),x_5.shape))\n",
        "x[1,0,0]"
      ],
      "execution_count": null,
      "outputs": [
        {
          "output_type": "stream",
          "text": [
            "(1, 0)\n",
            "(2, 4)\n",
            "(7, 6)\n",
            "(0, 9)\n",
            "(0, 5)\n",
            "(0, 6)\n"
          ],
          "name": "stdout"
        },
        {
          "output_type": "execute_result",
          "data": {
            "text/plain": [
              "0.8374999761581421"
            ]
          },
          "metadata": {
            "tags": []
          },
          "execution_count": 25
        }
      ]
    }
  ]
}
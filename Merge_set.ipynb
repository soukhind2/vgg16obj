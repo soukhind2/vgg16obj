{
  "nbformat": 4,
  "nbformat_minor": 0,
  "metadata": {
    "colab": {
      "name": "Merge_set.ipynb",
      "provenance": [],
      "collapsed_sections": [],
      "toc_visible": true,
      "authorship_tag": "ABX9TyOY3fljyCuTGMHRYQxScfgz",
      "include_colab_link": true
    },
    "kernelspec": {
      "name": "python3",
      "display_name": "Python 3"
    },
    "accelerator": "GPU"
  },
  "cells": [
    {
      "cell_type": "markdown",
      "metadata": {
        "id": "view-in-github",
        "colab_type": "text"
      },
      "source": [
        "<a href=\"https://colab.research.google.com/github/soukhind2/vgg16obj/blob/tuning_calc/Merge_set.ipynb\" target=\"_parent\"><img src=\"https://colab.research.google.com/assets/colab-badge.svg\" alt=\"Open In Colab\"/></a>"
      ]
    },
    {
      "cell_type": "markdown",
      "metadata": {
        "id": "9uhBNXwh_w9B"
      },
      "source": [
        "# Preload"
      ]
    },
    {
      "cell_type": "code",
      "metadata": {
        "id": "tWeNtkRpYWgy",
        "outputId": "41329a31-70d3-4a40-8750-60e325d884e0",
        "colab": {
          "base_uri": "https://localhost:8080/",
          "height": 34
        }
      },
      "source": [
        "from google.colab import drive\n",
        "from pathlib import Path\n",
        "import sys\n",
        "drive.mount(\"/content/drive\", force_remount=True)"
      ],
      "execution_count": 4,
      "outputs": [
        {
          "output_type": "stream",
          "text": [
            "Mounted at /content/drive\n"
          ],
          "name": "stdout"
        }
      ]
    },
    {
      "cell_type": "code",
      "metadata": {
        "id": "paH-Z9zPYk6t",
        "outputId": "c66ddfec-c289-489b-d7ff-3135371b64cb",
        "colab": {
          "base_uri": "https://localhost:8080/",
          "height": 646
        }
      },
      "source": [
        "!rm -rf vgg16obj\n",
        "!git clone -b tuning_calc https://github.com/soukhind2/vgg16obj\n",
        "! pip install https://github.com/raghakot/keras-vis/archive/master.zip #keras vis"
      ],
      "execution_count": 5,
      "outputs": [
        {
          "output_type": "stream",
          "text": [
            "Cloning into 'vgg16obj'...\n",
            "remote: Enumerating objects: 20, done.\u001b[K\n",
            "remote: Counting objects: 100% (20/20), done.\u001b[K\n",
            "remote: Compressing objects: 100% (18/18), done.\u001b[K\n",
            "remote: Total 327 (delta 4), reused 9 (delta 2), pack-reused 307\u001b[K\n",
            "Receiving objects: 100% (327/327), 5.44 MiB | 14.94 MiB/s, done.\n",
            "Resolving deltas: 100% (181/181), done.\n",
            "Collecting https://github.com/raghakot/keras-vis/archive/master.zip\n",
            "\u001b[?25l  Downloading https://github.com/raghakot/keras-vis/archive/master.zip\n",
            "\u001b[K     \\ 65.2MB 172.0MB/s\n",
            "\u001b[?25hRequirement already satisfied: keras>=2.0 in /usr/local/lib/python3.6/dist-packages (from keras-vis==0.5.0) (2.4.3)\n",
            "Requirement already satisfied: six in /usr/local/lib/python3.6/dist-packages (from keras-vis==0.5.0) (1.15.0)\n",
            "Requirement already satisfied: scikit-image in /usr/local/lib/python3.6/dist-packages (from keras-vis==0.5.0) (0.16.2)\n",
            "Requirement already satisfied: matplotlib in /usr/local/lib/python3.6/dist-packages (from keras-vis==0.5.0) (3.2.2)\n",
            "Requirement already satisfied: h5py in /usr/local/lib/python3.6/dist-packages (from keras-vis==0.5.0) (2.10.0)\n",
            "Requirement already satisfied: scipy>=0.14 in /usr/local/lib/python3.6/dist-packages (from keras>=2.0->keras-vis==0.5.0) (1.4.1)\n",
            "Requirement already satisfied: pyyaml in /usr/local/lib/python3.6/dist-packages (from keras>=2.0->keras-vis==0.5.0) (3.13)\n",
            "Requirement already satisfied: numpy>=1.9.1 in /usr/local/lib/python3.6/dist-packages (from keras>=2.0->keras-vis==0.5.0) (1.18.5)\n",
            "Requirement already satisfied: imageio>=2.3.0 in /usr/local/lib/python3.6/dist-packages (from scikit-image->keras-vis==0.5.0) (2.4.1)\n",
            "Requirement already satisfied: pillow>=4.3.0 in /usr/local/lib/python3.6/dist-packages (from scikit-image->keras-vis==0.5.0) (7.0.0)\n",
            "Requirement already satisfied: PyWavelets>=0.4.0 in /usr/local/lib/python3.6/dist-packages (from scikit-image->keras-vis==0.5.0) (1.1.1)\n",
            "Requirement already satisfied: networkx>=2.0 in /usr/local/lib/python3.6/dist-packages (from scikit-image->keras-vis==0.5.0) (2.5)\n",
            "Requirement already satisfied: cycler>=0.10 in /usr/local/lib/python3.6/dist-packages (from matplotlib->keras-vis==0.5.0) (0.10.0)\n",
            "Requirement already satisfied: pyparsing!=2.0.4,!=2.1.2,!=2.1.6,>=2.0.1 in /usr/local/lib/python3.6/dist-packages (from matplotlib->keras-vis==0.5.0) (2.4.7)\n",
            "Requirement already satisfied: python-dateutil>=2.1 in /usr/local/lib/python3.6/dist-packages (from matplotlib->keras-vis==0.5.0) (2.8.1)\n",
            "Requirement already satisfied: kiwisolver>=1.0.1 in /usr/local/lib/python3.6/dist-packages (from matplotlib->keras-vis==0.5.0) (1.2.0)\n",
            "Requirement already satisfied: decorator>=4.3.0 in /usr/local/lib/python3.6/dist-packages (from networkx>=2.0->scikit-image->keras-vis==0.5.0) (4.4.2)\n",
            "Building wheels for collected packages: keras-vis\n",
            "  Building wheel for keras-vis (setup.py) ... \u001b[?25l\u001b[?25hdone\n",
            "  Created wheel for keras-vis: filename=keras_vis-0.5.0-py2.py3-none-any.whl size=30856 sha256=3ce17e6bb8e01cb557073e69e672b04a2db6057fdbb7d7427e18423d90fb4f69\n",
            "  Stored in directory: /tmp/pip-ephem-wheel-cache-19sg09c0/wheels/7e/91/e5/9fdb0f2f5fa5d9f402c6fbfaf015aadbe3dba024ede6532727\n",
            "Successfully built keras-vis\n",
            "Installing collected packages: keras-vis\n",
            "  Found existing installation: keras-vis 0.4.1\n",
            "    Uninstalling keras-vis-0.4.1:\n",
            "      Successfully uninstalled keras-vis-0.4.1\n",
            "Successfully installed keras-vis-0.5.0\n"
          ],
          "name": "stdout"
        }
      ]
    },
    {
      "cell_type": "code",
      "metadata": {
        "id": "TL5079ZkYpf5"
      },
      "source": [
        "#!unzip -q /content/drive/My\\ Drive/obj/data\n",
        "#!unzip -q /content/drive/My\\ Drive/obj/test2\n",
        "#!unzip -q /content/drive/My\\ Drive/obj/sean_test\n",
        "#!unzip -q /content/drive/My\\ Drive/obj/data_6class\n",
        "!unzip -q /content/drive/My\\ Drive/obj/merge\n"
      ],
      "execution_count": 6,
      "outputs": []
    },
    {
      "cell_type": "markdown",
      "metadata": {
        "id": "Uxfdgi8hHv_1"
      },
      "source": [
        "# Snip"
      ]
    },
    {
      "cell_type": "code",
      "metadata": {
        "id": "bmdIPynMYsJj"
      },
      "source": [
        "import numpy as np\n",
        "import pandas as pd\n",
        "import os\n",
        "import time\n",
        "import math\n",
        "import matplotlib.pyplot as plt\n",
        "import pickle\n",
        "import cv2\n",
        "import seaborn as sns\n",
        "\n",
        "\n",
        "from keras.applications.vgg16 import VGG16,preprocess_input\n",
        "from keras.preprocessing.image import ImageDataGenerator,load_img, img_to_array\n",
        "from keras.layers import Flatten,Dense,Dropout,Input,BatchNormalization\n",
        "from keras.models import Sequential,Model\n",
        "from keras.utils.np_utils import to_categorical\n",
        "from keras.optimizers import Adam\n",
        "from keras.callbacks import EarlyStopping\n",
        "from keras.utils.vis_utils import plot_model\n",
        "\n",
        "from sklearn import metrics\n",
        "from sklearn.metrics import confusion_matrix\n",
        "import itertools\n",
        "\n",
        "from vgg16obj.tools import tuning_calcs as tc\n",
        "from vgg16obj.tools import gradient_calcs as gc\n",
        "from vgg16obj.tools import stats as st\n",
        "from vgg16obj.tools import plot_tools as pt\n",
        "\n",
        "\n",
        "import tensorflow as tf\n",
        "from tensorflow import math"
      ],
      "execution_count": 1,
      "outputs": []
    },
    {
      "cell_type": "markdown",
      "metadata": {
        "id": "vPKnbq8zZAEI"
      },
      "source": [
        "# Load Images"
      ]
    },
    {
      "cell_type": "markdown",
      "metadata": {
        "id": "K3AFr11WZBql"
      },
      "source": [
        "### Merged Images"
      ]
    },
    {
      "cell_type": "code",
      "metadata": {
        "id": "jWkKJ-FAY8Dq"
      },
      "source": [
        "def noisy(image):\n",
        "  row,col,ch= image.shape\n",
        "  mean = 0\n",
        "  var = 1\n",
        "  sigma = var**0.5\n",
        "  gauss = np.random.normal(mean,sigma,(row,col,ch))\n",
        "  gauss = gauss.reshape(row,col,ch)\n",
        "  noisy = image + gauss\n",
        "  return noisy\n",
        "\n",
        "def convertimgs(path,noise = False) :\n",
        "    data = []\n",
        "    for dirName, subdir, files in os.walk(path):\n",
        "        for filename in sorted(files):\n",
        "            if filename == '.DS_Store':\n",
        "                continue\n",
        "            ds = load_img(path +'/' + filename,target_size = (224,224))\n",
        "            im = img_to_array(ds)\n",
        "            im /= 255.\n",
        "            #im = im.reshape((1, im.shape[0], im.shape[1], im.shape[2]))\n",
        "            #im = preprocess_input(im)\n",
        "            if noise:\n",
        "              im = noisy(im)\n",
        "            data.append(im) \n",
        "    return data"
      ],
      "execution_count": 2,
      "outputs": []
    },
    {
      "cell_type": "code",
      "metadata": {
        "id": "P267h5kYZE_H",
        "outputId": "614885bb-3251-4b8c-b31f-e58086cd3e64",
        "colab": {
          "base_uri": "https://localhost:8080/",
          "height": 0
        }
      },
      "source": [
        "# Merged images load\n",
        "data_train = [[]  for i in range(12)]\n",
        "data_train[0] = convertimgs('/content/merge/merge_train/Correct/Male',noise = False)  #75\n",
        "data_train[1] = convertimgs('/content/merge/merge_train/Correct/Female/',noise = False) #75\n",
        "data_train[2] = convertimgs('/content/merge/merge_train/Correct/Manmade/',noise = False) #75\n",
        "data_train[3] = convertimgs('/content/merge/merge_train/Correct/Natural/',noise = False) #75\n",
        "data_train[4] = convertimgs('/content/merge/merge_train/Correct/Powered',noise = False) #75\n",
        "data_train[5] = convertimgs('/content/merge/merge_train/Correct/Nonpowered',noise = False) #75\n",
        "\n",
        "data_train[6] = convertimgs('/content/merge/merge_train/Incorrect/Male',noise = False) #75\n",
        "data_train[7] = convertimgs('/content/merge/merge_train/Incorrect/Female',noise = False) #75\n",
        "data_train[8] = convertimgs('/content/merge/merge_train/Incorrect/Manmade',noise = False) #75\n",
        "data_train[9] = convertimgs('/content/merge/merge_train/Incorrect/Natural',noise = False) #75\n",
        "data_train[10] = convertimgs('/content/merge/merge_train/Incorrect/Powered',noise = False) #75\n",
        "data_train[11] = convertimgs('/content/merge/merge_train/Incorrect/Nonpowered',noise = False) #75\n",
        "data_train = np.array(data_train)\n",
        " \n",
        "data_test = [[]  for i in range(12)]\n",
        "data_test[0] = convertimgs('/content/merge/merge_test/Correct/Male',noise = False)  #75\n",
        "data_test[1] = convertimgs('/content/merge/merge_test/Correct/Female/',noise = False) #75\n",
        "data_test[2] = convertimgs('/content/merge/merge_test/Correct/Manmade/',noise = False) #75\n",
        "data_test[3] = convertimgs('/content/merge/merge_test/Correct/Natural/',noise = False) #75\n",
        "data_test[4] = convertimgs('/content/merge/merge_test/Correct/Powered',noise = False) #75\n",
        "data_test[5] = convertimgs('/content/merge/merge_test/Correct/Nonpowered',noise = False) #75\n",
        "\n",
        "data_test[6] = convertimgs('/content/merge/merge_test/Incorrect/Male',noise = False) #75\n",
        "data_test[7] = convertimgs('/content/merge/merge_test/Incorrect/Female',noise = False) #75\n",
        "data_test[8] = convertimgs('/content/merge/merge_test/Incorrect/Manmade',noise = False) #75\n",
        "data_test[9] = convertimgs('/content/merge/merge_test/Incorrect/Natural',noise = False) #75\n",
        "data_test[10] = convertimgs('/content/merge/merge_test/Incorrect/Powered',noise = False) #75\n",
        "data_test[11] = convertimgs('/content/merge/merge_test/Incorrect/Nonpowered',noise = False) #75\n",
        "data_test = np.array(data_test)\n",
        "\n",
        "\n",
        "print(data_train.shape,data_test.shape)\n",
        "\n",
        "plt.imshow(data_train[0,1])\n",
        "plt.axis('off')\n",
        "\n",
        "# Regular Images load\n",
        "\n",
        "reg_train = [[]  for i in range(12)]\n",
        "reg_train[0] = convertimgs('/content/merge/merge_reg_train/Correct/Male',noise = False)  # 75\n",
        "reg_train[1] = convertimgs('/content/merge/merge_reg_train/Correct/Female',noise = False) # 75\n",
        "reg_train[2] = convertimgs('/content/merge/merge_reg_train/Correct/Manmade',noise = False) # 75\n",
        "reg_train[3] = convertimgs('/content/merge/merge_reg_train/Correct/Natural/',noise = False) # 75\n",
        "reg_train[4] = convertimgs('/content/merge/merge_reg_train/Correct/Powered',noise = False) # 75\n",
        "reg_train[5] = convertimgs('/content/merge/merge_reg_train/Correct/Nonpowered',noise = False) # 75\n",
        "\n",
        "reg_train[6] = convertimgs('/content/merge/merge_reg_train/Incorrect/Male',noise = False)  # 75\n",
        "reg_train[7] = convertimgs('/content/merge/merge_reg_train/Incorrect/Female',noise = False) # 75\n",
        "reg_train[8] = convertimgs('/content/merge/merge_reg_train/Incorrect/Manmade',noise = False) # 75\n",
        "reg_train[9] = convertimgs('/content/merge/merge_reg_train/Incorrect/Natural/',noise = False) # 75\n",
        "reg_train[10] = convertimgs('/content/merge/merge_reg_train/Incorrect/Powered',noise = False) # 75\n",
        "reg_train[11] = convertimgs('/content/merge/merge_reg_train/Incorrect/Nonpowered',noise = False) # 75\n",
        "reg_train = np.array(reg_train)\n",
        "\n",
        "\n",
        "reg_test = [[]  for i in range(12)]\n",
        "reg_test[0] = convertimgs('/content/merge/merge_reg_test/Correct/Male',noise = False)  #75\n",
        "reg_test[1] = convertimgs('/content/merge/merge_reg_test/Correct/Female/',noise = False) #75\n",
        "reg_test[2] = convertimgs('/content/merge/merge_reg_test/Correct/Manmade/',noise = False) #75\n",
        "reg_test[3] = convertimgs('/content/merge/merge_reg_test/Correct/Natural/',noise = False) #75\n",
        "reg_test[4] = convertimgs('/content/merge/merge_reg_test/Correct/Powered',noise = False) #75\n",
        "reg_test[5] = convertimgs('/content/merge/merge_reg_test/Correct/Nonpowered',noise = False) #75\n",
        "\n",
        "reg_test[6] = convertimgs('/content/merge/merge_reg_test/Incorrect/Male',noise = False) #75\n",
        "reg_test[7] = convertimgs('/content/merge/merge_reg_test/Incorrect/Female',noise = False) #75\n",
        "reg_test[8] = convertimgs('/content/merge/merge_reg_test/Incorrect/Manmade',noise = False) #75\n",
        "reg_test[9] = convertimgs('/content/merge/merge_reg_test/Incorrect/Natural',noise = False) #75\n",
        "reg_test[10] = convertimgs('/content/merge/merge_reg_test/Incorrect/Powered',noise = False) #75\n",
        "reg_test[11] = convertimgs('/content/merge/merge_reg_test/Incorrect/Nonpowered',noise = False) #75\n",
        "reg_test = np.array(reg_test)\n",
        "\n",
        "print(reg_train.shape,reg_test.shape)"
      ],
      "execution_count": 3,
      "outputs": [
        {
          "output_type": "stream",
          "text": [
            "(12, 80, 224, 224, 3) (12, 40, 224, 224, 3)\n",
            "(12, 80, 224, 224, 3) (12, 40, 224, 224, 3)\n"
          ],
          "name": "stdout"
        },
        {
          "output_type": "display_data",
          "data": {
            "image/png": "[encoded data removed]",
            "text/plain": [
              "<Figure size 432x288 with 1 Axes>"
            ]
          },
          "metadata": {
            "tags": [],
            "needs_background": "light"
          }
        }
      ]
    },
    {
      "cell_type": "markdown",
      "metadata": {
        "id": "RsJqRd2ccJXG"
      },
      "source": [
        "# Model"
      ]
    },
    {
      "cell_type": "code",
      "metadata": {
        "id": "Dsm9BSiwGctD",
        "outputId": "28f9145e-6aac-431d-9abd-c85f1de1e5ce",
        "colab": {
          "base_uri": "https://localhost:8080/",
          "height": 323
        }
      },
      "source": [
        "model = VGG16(weights='imagenet',\n",
        "              include_top=False,input_shape = [224,224,3])\n",
        "#plot_model(model,show_shapes=True,expand_nested=True)\n",
        "#model.save_weights('vgg_w',save_format='h5')\n",
        "\n",
        "categories = ['Male','Female','Manmade','Natural','Powered','Nonpowered']\n",
        "interest = 0\n",
        "print('Category of interest: ', categories[interest])\n",
        "train_it = np.concatenate((reg_train[interest],reg_train[interest + 6]))\n",
        "test_it = np.concatenate((reg_test[interest],reg_test[interest + 6]))\n",
        "print(train_it.shape,test_it.shape)\n",
        "\n",
        "start = time.time()\n",
        "features_train = model.predict(train_it) \n",
        "print(f'Train Time: {time.time() - start}')\n",
        "\n",
        "start = time.time()\n",
        "features_test = model.predict(test_it) \n",
        "print(f'Test Time: {time.time() - start}')\n",
        "epochs = 30\n",
        "\n",
        "#train_data = np.load('features_train.npy')\n",
        "ntrain = 80\n",
        "train_labels = to_categorical([0] * ntrain + [1]*ntrain)\n",
        "\n",
        "\n",
        "#test_data = np.load('features_test.npy')\n",
        "ntest = 40\n",
        "test_labels = to_categorical([0] * ntest + [1]*ntest) \n",
        "\n",
        "losses = 'binary_crossentropy'\n",
        "\n",
        "top_model = Sequential()\n",
        "top_model.add(Flatten(input_shape=features_train.shape[1:])) \n",
        "top_model.add(Dense(4096, activation='relu',name = 'top_dense1')) \n",
        "top_model.add(Dense(2, activation='softmax',name = 'predictions'))\n",
        "\n",
        "top_model.compile(optimizer= Adam(lr=1e-5),\n",
        "              loss=losses,\n",
        "              metrics=['accuracy'])\n",
        "top_model.summary()\n",
        "\n",
        "es = EarlyStopping(monitor='loss', mode='min', verbose=1)\n"
      ],
      "execution_count": 50,
      "outputs": [
        {
          "output_type": "stream",
          "text": [
            "Category of interest:  Male\n",
            "(160, 224, 224, 3) (80, 224, 224, 3)\n",
            "Train Time: 0.6748530864715576\n",
            "Test Time: 0.3942553997039795\n",
            "Model: \"sequential\"\n",
            "_________________________________________________________________\n",
            "Layer (type)                 Output Shape              Param #   \n",
            "=================================================================\n",
            "flatten (Flatten)            (None, 25088)             0         \n",
            "_________________________________________________________________\n",
            "top_dense1 (Dense)           (None, 4096)              102764544 \n",
            "_________________________________________________________________\n",
            "predictions (Dense)          (None, 2)                 8194      \n",
            "=================================================================\n",
            "Total params: 102,772,738\n",
            "Trainable params: 102,772,738\n",
            "Non-trainable params: 0\n",
            "_________________________________________________________________\n"
          ],
          "name": "stdout"
        }
      ]
    },
    {
      "cell_type": "code",
      "metadata": {
        "id": "pBvaXyRraKrN",
        "outputId": "477c988f-3cb2-4c83-ef49-f54d2214a8e9",
        "colab": {
          "base_uri": "https://localhost:8080/",
          "height": 1000
        }
      },
      "source": [
        "categories = ['Male','Female','Manmade','Natural','Powered','Nonpowered']\n",
        "\n",
        "acc = np.zeros((2,6))\n",
        "for imtype in range(2):\n",
        "  for cat in range(6):\n",
        "\n",
        "    print('Category of interest: ', categories[cat])\n",
        "    train_it = np.concatenate((reg_train[cat],reg_train[cat + 6])) # Train on regular data\n",
        "    if imtype == 0: # Regular\n",
        "      test_it = np.concatenate((reg_test[cat],reg_test[cat + 6])) # Test on merged data\n",
        "    else:\n",
        "      test_it = np.concatenate((data_test[cat],data_test[cat + 6])) # Test on merged data\n",
        "    print(train_it.shape,test_it.shape)\n",
        "\n",
        "\n",
        "    start = time.time()\n",
        "    train_data = model.predict(train_it) \n",
        "    print(f'Train Time: {time.time() - start}')\n",
        "\n",
        "    start = time.time()\n",
        "    test_data = model.predict(test_it) \n",
        "    print(f'Test Time: {time.time() - start}')\n",
        "\n",
        "    history = top_model.fit(x = train_data,  y = train_labels,\n",
        "            epochs=epochs,\n",
        "            batch_size=64,\n",
        "            verbose = 0, callbacks = [es])\n",
        "\n",
        "    out = top_model.evaluate(test_data, test_labels)\n",
        "    acc[imtype,cat] = out[1]\n",
        "    print(out)"
      ],
      "execution_count": 10,
      "outputs": [
        {
          "output_type": "stream",
          "text": [
            "Category of interest:  Male\n",
            "(160, 224, 224, 3) (80, 224, 224, 3)\n",
            "Train Time: 0.652073860168457\n",
            "Test Time: 0.31532812118530273\n",
            "Epoch 00005: early stopping\n",
            "3/3 [==============================] - 0s 4ms/step - loss: 0.4278 - accuracy: 0.8250\n",
            "[0.4277891218662262, 0.824999988079071]\n",
            "Category of interest:  Female\n",
            "(160, 224, 224, 3) (80, 224, 224, 3)\n",
            "Train Time: 0.5907230377197266\n",
            "Test Time: 0.31891942024230957\n",
            "Epoch 00012: early stopping\n",
            "3/3 [==============================] - 0s 4ms/step - loss: 0.4052 - accuracy: 0.9000\n",
            "[0.4051578640937805, 0.8999999761581421]\n",
            "Category of interest:  Manmade\n",
            "(160, 224, 224, 3) (80, 224, 224, 3)\n",
            "Train Time: 0.5954484939575195\n",
            "Test Time: 0.31873321533203125\n",
            "Epoch 00007: early stopping\n",
            "3/3 [==============================] - 0s 4ms/step - loss: 0.0705 - accuracy: 0.9750\n",
            "[0.07054908573627472, 0.9750000238418579]\n",
            "Category of interest:  Natural\n",
            "(160, 224, 224, 3) (80, 224, 224, 3)\n",
            "Train Time: 0.5961012840270996\n",
            "Test Time: 0.31986427307128906\n",
            "Epoch 00014: early stopping\n",
            "3/3 [==============================] - 0s 3ms/step - loss: 0.1409 - accuracy: 0.9500\n",
            "[0.14090602099895477, 0.949999988079071]\n",
            "Category of interest:  Powered\n",
            "(160, 224, 224, 3) (80, 224, 224, 3)\n",
            "Train Time: 0.589339017868042\n",
            "Test Time: 0.31841254234313965\n",
            "Epoch 00012: early stopping\n",
            "3/3 [==============================] - 0s 4ms/step - loss: 0.5598 - accuracy: 0.8250\n",
            "[0.5598251819610596, 0.824999988079071]\n",
            "Category of interest:  Nonpowered\n",
            "(160, 224, 224, 3) (80, 224, 224, 3)\n",
            "Train Time: 0.5909128189086914\n",
            "Test Time: 0.31804895401000977\n",
            "Epoch 00017: early stopping\n",
            "3/3 [==============================] - 0s 4ms/step - loss: 0.5929 - accuracy: 0.8375\n",
            "[0.592906653881073, 0.8374999761581421]\n",
            "Category of interest:  Male\n",
            "(160, 224, 224, 3) (80, 224, 224, 3)\n",
            "Train Time: 0.596519947052002\n",
            "Test Time: 0.32546210289001465\n",
            "Epoch 00012: early stopping\n",
            "3/3 [==============================] - 0s 4ms/step - loss: 0.8458 - accuracy: 0.8000\n",
            "[0.8458112478256226, 0.800000011920929]\n",
            "Category of interest:  Female\n",
            "(160, 224, 224, 3) (80, 224, 224, 3)\n",
            "Train Time: 0.5936563014984131\n",
            "Test Time: 0.32126545906066895\n",
            "Epoch 00009: early stopping\n",
            "3/3 [==============================] - 0s 4ms/step - loss: 0.9996 - accuracy: 0.6250\n",
            "[0.9996094703674316, 0.625]\n",
            "Category of interest:  Manmade\n",
            "(160, 224, 224, 3) (80, 224, 224, 3)\n",
            "Train Time: 0.5958652496337891\n",
            "Test Time: 0.3306107521057129\n",
            "Epoch 00007: early stopping\n",
            "3/3 [==============================] - 0s 4ms/step - loss: 0.5685 - accuracy: 0.8250\n",
            "[0.56849604845047, 0.824999988079071]\n",
            "Category of interest:  Natural\n",
            "(160, 224, 224, 3) (80, 224, 224, 3)\n",
            "Train Time: 0.599217414855957\n",
            "Test Time: 0.33120298385620117\n",
            "Epoch 00010: early stopping\n",
            "3/3 [==============================] - 0s 4ms/step - loss: 1.9196 - accuracy: 0.6875\n",
            "[1.9195665121078491, 0.6875]\n",
            "Category of interest:  Powered\n",
            "(160, 224, 224, 3) (80, 224, 224, 3)\n",
            "Train Time: 0.6040775775909424\n",
            "Test Time: 0.3315575122833252\n",
            "Epoch 00012: early stopping\n",
            "3/3 [==============================] - 0s 4ms/step - loss: 1.1350 - accuracy: 0.6500\n",
            "[1.1349761486053467, 0.6499999761581421]\n",
            "Category of interest:  Nonpowered\n",
            "(160, 224, 224, 3) (80, 224, 224, 3)\n",
            "Train Time: 0.5955607891082764\n",
            "Test Time: 0.3282907009124756\n",
            "Epoch 00007: early stopping\n",
            "3/3 [==============================] - 0s 4ms/step - loss: 1.0632 - accuracy: 0.6000\n",
            "[1.0632027387619019, 0.6000000238418579]\n"
          ],
          "name": "stdout"
        }
      ]
    },
    {
      "cell_type": "code",
      "metadata": {
        "id": "uj3ifGzqLISN",
        "outputId": "d1df5166-292b-444a-f991-a3e4a74290e9",
        "colab": {
          "base_uri": "https://localhost:8080/",
          "height": 51
        }
      },
      "source": [
        ""
      ],
      "execution_count": 17,
      "outputs": [
        {
          "output_type": "execute_result",
          "data": {
            "text/plain": [
              "array([0.32499999, 0.25      , 0.19999999, 0.27499998, 0.125     ,\n",
              "       0.22500002])"
            ]
          },
          "metadata": {
            "tags": []
          },
          "execution_count": 17
        }
      ]
    },
    {
      "cell_type": "code",
      "metadata": {
        "id": "DvIZeqnRgQ4j"
      },
      "source": [
        "diff = acc[0]-acc[1]\n",
        "print(np.mean(acc))\n",
        "import seaborn as sns\n",
        "\n",
        "sns.set(style=\"white\",rc={\"lines.linewidth\": 0.7})\n",
        "plt.figure(figsize = (8,8))\n",
        "ax = sns.boxplot(data = acc.T )\n",
        "ax.set_xlabel('Category',size = 20)\n",
        "ax.set_xticklabels(['Regular','Merged'],size = 15)\n",
        "ax.set_ylabel('Binary Classification Acc.',size = 20)\n",
        "\n",
        "# Cateogory wise performance difference\n",
        "plt.figure(figsize = (8,8))\n",
        "sns.set(style=\"white\",rc={\"lines.linewidth\": 1})\n",
        "ax = sns.lineplot(data = diff ,marker=\"o\")\n",
        "ax.set_xlabel('Category',size = 20)\n",
        "ax.set_xticklabels(['Regular','Male','Female','Manmade','Natural','Pwrd','Nonpwrd'],size = 15)\n",
        "ax.set_ylabel('\\u0394 Accuracy',size = 20)\n",
        "\n"
      ],
      "execution_count": null,
      "outputs": []
    },
    {
      "cell_type": "markdown",
      "metadata": {
        "id": "bRcNO6SiiCOd"
      },
      "source": [
        "# Tuning Value Calculation"
      ]
    },
    {
      "cell_type": "code",
      "metadata": {
        "id": "X3fPlYt_uupE"
      },
      "source": [
        "categories = ['Male','Female','Manmade','Natural','Powered','Nonpowered']\n",
        "calc_tun_activ = 0\n",
        "\n",
        "if calc_tun_activ:\n",
        "  for cat in range(6): \n",
        "\n",
        "    print('Category of interest: ', categories[cat])\n",
        "    train_it = reg_train[cat]\n",
        "\n",
        "    layer_names = [layer.name for layer in model.layers if 'conv' in layer.name]\n",
        "    layer_outputs = [layer.output for layer in model.layers if layer.name in layer_names]\n",
        "    activation_model = Model(inputs=model.input, outputs=layer_outputs)\n",
        "\n",
        "\n",
        "    start = time.time()\n",
        "    tun_activ = tc.calc_tun(train_it,activation_model,layer_names)\n",
        "    print(f'Elapsed: {time.time() - start}s')\n",
        "\n",
        "    with open('tuning_values_' + str(cat), 'wb') as fp:\n",
        "      pickle.dump(tun_activ, fp)\n",
        "\n"
      ],
      "execution_count": 11,
      "outputs": []
    },
    {
      "cell_type": "markdown",
      "metadata": {
        "id": "KmnNRm50Q05-"
      },
      "source": [
        "### Load tuning activities"
      ]
    },
    {
      "cell_type": "code",
      "metadata": {
        "id": "if9i3JjziHTN",
        "outputId": "f0a8fcf4-3500-4328-e20b-df1ceac42dd7",
        "colab": {
          "base_uri": "https://localhost:8080/",
          "height": 0
        }
      },
      "source": [
        "tun_activ = []\n",
        "for interest in range(6): \n",
        "  with open ('/content/drive/My Drive/obj/tuning_values_' + str(interest), 'rb') as fp:\n",
        "      tun_activ.extend(pickle.load(fp))\n",
        "len(tun_activ)\n",
        "\n"
      ],
      "execution_count": 12,
      "outputs": [
        {
          "output_type": "execute_result",
          "data": {
            "text/plain": [
              "240"
            ]
          },
          "metadata": {
            "tags": []
          },
          "execution_count": 12
        }
      ]
    },
    {
      "cell_type": "markdown",
      "metadata": {
        "id": "jJIu_3X-iLeP"
      },
      "source": [
        "### Calculation of tuning values for each map"
      ]
    },
    {
      "cell_type": "code",
      "metadata": {
        "id": "Y6C47jSjiJXP"
      },
      "source": [
        "ncats = 6\n",
        "# to fish out each category tun_activations\n",
        "labels = np.array([0] * 40 + [1] * 40 + [2] * 40 + [3] * 40 + [4] * 40 + [5] * 40)\n",
        "cat_tun = [[[] for j in range(len(tun_activ[0]))] for i in range(ncats)]\n",
        "\n",
        "avg_tun_activ = tc.calc_avg(tun_activ) #average tuning activity for each map\n",
        "std_tun_activ = tc.calc_std(tun_activ,avg_tun_activ) #std tuning activity for each map\n",
        "\n",
        "for i in range(ncats):\n",
        "  #Calculating average activity of each\n",
        "  #feature map in response to images of respective category, \n",
        "  #with the mean activity under all image categories subtracted from it\n",
        "  idx = list(np.where(labels == i))\n",
        "  cat_tun[i] = tc.calc_avg([tun_activ[i] for i in idx[0]])\n",
        "\n",
        "# Vector of tuning values for each obj cataegory\n",
        "fc = [[[0 for item in subl] for subl in cat_tun[0]] for i in range(ncats)]\n",
        "#fc has length of ncats x nlayers x no of maps in each layer\n",
        "for cat in range(ncats):\n",
        "  for layer in range(len(cat_tun[cat])):\n",
        "    for map in range(len(cat_tun[cat][layer])):\n",
        "      if std_tun_activ[layer][map] == 0:\n",
        "        continue\n",
        "      fc[cat][layer][map] = (cat_tun[cat][layer][map] - \n",
        "                                avg_tun_activ[layer][map])/std_tun_activ[layer][map]\n"
      ],
      "execution_count": 13,
      "outputs": []
    },
    {
      "cell_type": "markdown",
      "metadata": {
        "id": "OiF5A5hzMSjT"
      },
      "source": [
        "### Tuning quality"
      ]
    },
    {
      "cell_type": "code",
      "metadata": {
        "id": "wOSl0b-UiRnH",
        "outputId": "0dd872c3-24b3-4695-f779-e5079301824c",
        "colab": {
          "base_uri": "https://localhost:8080/",
          "height": 0
        }
      },
      "source": [
        "tun_quality = tc.calc_tun_quality(fc)\n",
        "sns.set(style=\"whitegrid\")\n",
        "ax = sns.boxplot(data = tun_quality,palette='cool')\n",
        "ax.set_xlabel('Layer')\n",
        "ax.set_xticklabels(np.arange(1,14))\n",
        "ax.set_ylabel('Tuning Quality')\n",
        "ax.set_ylim([0,50])"
      ],
      "execution_count": 14,
      "outputs": [
        {
          "output_type": "execute_result",
          "data": {
            "text/plain": [
              "(0.0, 50.0)"
            ]
          },
          "metadata": {
            "tags": []
          },
          "execution_count": 14
        },
        {
          "output_type": "display_data",
          "data": {
            "image/png": "[encoded data removed]",
            "text/plain": [
              "<Figure size 432x288 with 1 Axes>"
            ]
          },
          "metadata": {
            "tags": []
          }
        }
      ]
    },
    {
      "cell_type": "markdown",
      "metadata": {
        "id": "mRNlihyciXY9"
      },
      "source": [
        "# Gradient Value Calculations"
      ]
    },
    {
      "cell_type": "code",
      "metadata": {
        "id": "mraDcC9EftAE"
      },
      "source": [
        "calc_gradient_val = 0\n",
        "if calc_gradient_val:\n",
        "  d_train = data_train.reshape([900,224,224,3])\n",
        "  labels = np.array([0] * 75 + [1]*75 + [2] * 75 + [3] * 75 + [4] * 75 + [5] * 75 +\n",
        "                    [0] * 75 + [1]*75 + [2] * 75 + [3] * 75 + [4] * 75 + [5] * 75)\n",
        "  layer_names = [layer.name for layer in model.layers if 'conv' in layer.name]\n",
        "  cat_grads = [[[] for j in range(len(layer_names))] for i in range(ncats)]\n",
        "\n",
        "\n",
        "  start = time.time()\n",
        "  for i in range(ncats):\n",
        "    idx = list(np.where(labels == i))\n",
        "    cat_grads[i] = gc.calc_avg_gradcam(d_train[idx],model,top_model)\n",
        "  print(f'Elapsed: {time.time() - start}s')\n",
        "\n",
        "  with open('gradient_val_cat_merged', 'wb') as fp:\n",
        "      pickle.dump(cat_grads, fp)\n"
      ],
      "execution_count": null,
      "outputs": []
    },
    {
      "cell_type": "code",
      "metadata": {
        "id": "2CI0DiuXnin9",
        "outputId": "05e23f4b-f8b5-462e-d78c-a73b8a5425e1",
        "colab": {
          "base_uri": "https://localhost:8080/",
          "height": 232
        }
      },
      "source": [
        "with open ('/content/drive/My Drive/obj/gradient_val_cat_merged', 'rb') as fp:\n",
        "    cat_grads = pickle.load(fp)\n",
        "\n",
        "#cat_grads = [[[-item for item in subl] for subl in level] for level in cat_grads_posivite]\n",
        "corr_all = st.calc_all_corrcoeff(fc,cat_grads)\n",
        "\n",
        "import random\n",
        "\n",
        "cat_grad_s = cat_grads.copy()\n",
        "random.shuffle(cat_grad_s)\n",
        "for cat in range(len(cat_grad_s)):\n",
        "  for layer in range(len(cat_grad_s[cat])):\n",
        "    random.shuffle(cat_grad_s[cat][layer])\n",
        "\n",
        "corr_shuff = st.calc_all_corrcoeff(fc,cat_grad_s)\n",
        "pt.plot_corr(corr_shuff,corr_all,figsize = (10,4))"
      ],
      "execution_count": null,
      "outputs": [
        {
          "output_type": "error",
          "ename": "NameError",
          "evalue": "ignored",
          "traceback": [
            "\u001b[0;31m---------------------------------------------------------------------------\u001b[0m",
            "\u001b[0;31mNameError\u001b[0m                                 Traceback (most recent call last)",
            "\u001b[0;32m<ipython-input-7-2e2f03c0a3b2>\u001b[0m in \u001b[0;36m<module>\u001b[0;34m()\u001b[0m\n\u001b[1;32m      3\u001b[0m \u001b[0;34m\u001b[0m\u001b[0m\n\u001b[1;32m      4\u001b[0m \u001b[0;31m#cat_grads = [[[-item for item in subl] for subl in level] for level in cat_grads_posivite]\u001b[0m\u001b[0;34m\u001b[0m\u001b[0;34m\u001b[0m\u001b[0;34m\u001b[0m\u001b[0m\n\u001b[0;32m----> 5\u001b[0;31m \u001b[0mcorr_all\u001b[0m \u001b[0;34m=\u001b[0m \u001b[0mst\u001b[0m\u001b[0;34m.\u001b[0m\u001b[0mcalc_all_corrcoeff\u001b[0m\u001b[0;34m(\u001b[0m\u001b[0mfc\u001b[0m\u001b[0;34m,\u001b[0m\u001b[0mcat_grads\u001b[0m\u001b[0;34m)\u001b[0m\u001b[0;34m\u001b[0m\u001b[0;34m\u001b[0m\u001b[0m\n\u001b[0m\u001b[1;32m      6\u001b[0m \u001b[0;34m\u001b[0m\u001b[0m\n\u001b[1;32m      7\u001b[0m \u001b[0;32mimport\u001b[0m \u001b[0mrandom\u001b[0m\u001b[0;34m\u001b[0m\u001b[0;34m\u001b[0m\u001b[0m\n",
            "\u001b[0;31mNameError\u001b[0m: name 'fc' is not defined"
          ]
        }
      ]
    },
    {
      "cell_type": "code",
      "metadata": {
        "id": "HEFBJ_f8Oe2Q"
      },
      "source": [
        "with open ('/content/drive/My Drive/obj/gradient_val_cat_merged', 'rb') as fp:\n",
        "    cat_grads = pickle.load(fp)"
      ],
      "execution_count": null,
      "outputs": []
    },
    {
      "cell_type": "markdown",
      "metadata": {
        "id": "LoqhbP8HixD0"
      },
      "source": [
        "# Attention"
      ]
    },
    {
      "cell_type": "markdown",
      "metadata": {
        "id": "-etj3D0SVwfb"
      },
      "source": [
        "### Att"
      ]
    },
    {
      "cell_type": "code",
      "metadata": {
        "id": "QMxZPtSnWNdZ"
      },
      "source": [
        "#!/usr/bin/env python3\n",
        "# -*- coding: utf-8 -*-\n",
        "\"\"\"\n",
        "Created on Sat Oct 10 02:39:43 2020\n",
        "\n",
        "@author: soukhind\n",
        "\"\"\"\n",
        "import numpy as np\n",
        "import tensorflow as tf\n",
        "from tensorflow.keras.layers import Activation\n",
        "from tensorflow.keras.activations import relu\n",
        "from keras.utils.generic_utils import get_custom_objects\n",
        "from tensorflow.keras.callbacks import EarlyStopping\n",
        "from vis.utils import utils\n",
        "from tensorflow.python.ops import nn\n",
        "from tensorflow import math\n",
        "import time\n",
        "from sklearn.metrics import roc_curve,accuracy_score,precision_recall_curve,f1_score\n",
        "\n",
        "def gen_attnmap(modifier,mask,category,bi,atype):\n",
        "    \"\"\"\n",
        "    \n",
        "\n",
        "    Parameters\n",
        "    ----------\n",
        "    modifier : list\n",
        "        modifier to be used to implement attention.\n",
        "    mask : ndarray\n",
        "        binary vector to determine which layer to apply attention at. \n",
        "        include attention strength by multiplying to it\n",
        "    category : ndarray\n",
        "        cateogies .\n",
        "    bi : boolean \n",
        "        bidirectionality\n",
        "        True & False.\n",
        "    atype: int\n",
        "        1 = Multiplicative\n",
        "        2 = Additive\n",
        "    Returns\n",
        "    -------\n",
        "    tensor_attnmap : tensor\n",
        "        attention map.\n",
        "\n",
        "    \"\"\"\n",
        "    attnmap = []\n",
        "    beta = calc_beta(avg_tun_activ)/10\n",
        "  \n",
        "    #conv1_1 & conv1_2\n",
        "    for layer in range(2):\n",
        "        mapval = np.float32(modifier[category][layer])\n",
        "        if bi == False:\n",
        "            mapval[mapval < 0] = 0\n",
        "        if atype == 1:\n",
        "          amap = np.ones((224,224,64),dtype='float32') + np.tile(mapval,[224,224,1])* mask[layer]\n",
        "        elif atype == 2:\n",
        "          amap = np.tile(mapval,[224,224,1])* mask[layer]\n",
        "        #amap[amap < 0] = 0\n",
        "        attnmap.append(amap)\n",
        "    \n",
        "    #conv2_1 & conv2_2\n",
        "    for layer in range(2,4):\n",
        "        mapval = np.float32(modifier[category][layer])\n",
        "        if bi == False:\n",
        "            mapval[mapval < 0] = 0\n",
        "        if atype == 1:\n",
        "          amap = np.ones((112,112,128),dtype='float32') + np.tile(mapval,[112,112,1])* mask[layer]\n",
        "        elif atype == 2:\n",
        "          amap = np.tile(mapval,[112,112,1])* mask[layer]\n",
        "        #amap[amap < 0] = 0\n",
        "        attnmap.append(amap)\n",
        "    \n",
        "    #conv3_1 - conv3_3\n",
        "    for layer in range(4,7):\n",
        "        mapval = np.float32(modifier[category][layer])\n",
        "        if bi == False:\n",
        "            mapval[mapval < 0] = 0\n",
        "        if atype == 1:\n",
        "          amap = np.ones((56,56,256),dtype='float32') + np.tile(mapval,[56,56,1])* mask[layer]\n",
        "        elif atype == 2:\n",
        "          amap = np.tile(mapval,[56,56,1])* mask[layer]\n",
        "        #amap[amap < 0] = 0\n",
        "        attnmap.append(amap)\n",
        "    \n",
        "    #conv4_1 - conv4_3\n",
        "    for layer in range(7,10):\n",
        "        mapval = np.float32(modifier[category][layer])\n",
        "        if bi == False:\n",
        "            mapval[mapval < 0] = 0\n",
        "        if atype == 1:\n",
        "          amap = np.ones((28,28,512),dtype='float32') + np.tile(mapval,[28,28,1])* mask[layer]\n",
        "        elif atype == 2:\n",
        "          amap = np.tile(mapval,[28,28,1])* mask[layer]\n",
        "        #amap[amap < 0] = 0\n",
        "        attnmap.append(amap)\n",
        "    \n",
        "    #conv5_1 - conv5_3\n",
        "    for layer in range(10,13):\n",
        "        mapval = np.float32(modifier[category][layer])\n",
        "        if bi == False:\n",
        "            mapval[mapval < 0] = 0\n",
        "        if atype ==1:\n",
        "          amap = np.ones((14,14,512),dtype='float32') + np.tile(mapval,[14,14,1])* mask[layer]\n",
        "        elif atype == 2:\n",
        "          amap = np.tile(mapval,[14,14,1])* mask[layer]\n",
        "        #amap[amap < 0] = 0\n",
        "        attnmap.append(amap)\n",
        "    \n",
        "    tensor_attnmap = []\n",
        "    for layer in range(len(attnmap)):\n",
        "      tensor_attnmap.append(tf.convert_to_tensor(attnmap[layer])) \n",
        "    \n",
        "    return tensor_attnmap\n",
        "\n",
        "\n",
        "\n",
        "def avg_accuracy(data_train,train_labels,\n",
        "                 data_test,test_labels,\n",
        "                 modifier,\n",
        "                 model,top_model,idxpath,\n",
        "                 category,\n",
        "                 atstrng,\n",
        "                 bidir = True,\n",
        "                 atype = 1):\n",
        "    \"\"\"\n",
        "    \n",
        "\n",
        "    Parameters\n",
        "    ----------\n",
        "    data_train : ndarray\n",
        "        Training data.\n",
        "    train_labels : categorical\n",
        "        Training labels.\n",
        "    data_test : ndarray\n",
        "        Testing data.\n",
        "    test_labels : categorical\n",
        "        Testing labels.\n",
        "    categories : ndarray\n",
        "        Names of each category.\n",
        "    modifier : list\n",
        "        modifier to be used to implement attention.\n",
        "    model : keras model\n",
        "        base model.\n",
        "    top_model : keras model\n",
        "        top model.\n",
        "    idxpath : string\n",
        "        for internal use.\n",
        "    atstrng : float32\n",
        "        attention strength.\n",
        "    bidir : bool, optional\n",
        "        Bidirectionality. The default is True.\n",
        "    atype: int\n",
        "        1 = Multiplicative\n",
        "        2 = Additive\n",
        "    Returns\n",
        "    -------\n",
        "    t_acc\n",
        "        Accuracy for each category at each layer.\n",
        "\n",
        "    \"\"\"\n",
        "    \n",
        "    epochs = 30    \n",
        "    n_layers = 13\n",
        "    t_acc = np.zeros(n_layers)\n",
        "    thr = np.zeros(n_layers)\n",
        "    for li in range(n_layers):\n",
        "        layermask = np.zeros(13)\n",
        "        layermask[li] = 1\n",
        "        tensor_attnmap = gen_attnmap(modifier,layermask*atstrng,category,bidir,atype)\n",
        "        \n",
        "        \n",
        "        def attnrelu(x,map = tensor_attnmap,atype = atype):\n",
        "            layeridx = np.load(idxpath)\n",
        "            if layeridx == 13:\n",
        "                layeridx = 0\n",
        "            if atype == 1:\n",
        "              x = nn.relu(x)\n",
        "              activations = math.multiply(x,map[layeridx])\n",
        "            if atype == 2:\n",
        "              activations = math.add(x,map[layeridx])\n",
        "              activations = nn.relu(activations)\n",
        "            layeridx += 1\n",
        "            np.save(idxpath,layeridx)\n",
        "            return activations\n",
        "    \n",
        "        get_custom_objects().update({'attnrelu': Activation(attnrelu)})\n",
        "    \n",
        "        for layer in model.layers:\n",
        "            if(hasattr(layer,'activation')):\n",
        "                layer.activation = attnrelu\n",
        "    \n",
        "        utils.apply_modifications(model)\n",
        "        model.compile()\n",
        "        \n",
        "        f_train = model.predict(data_train)     \n",
        "    \n",
        "        f_test = model.predict(data_test)\n",
        "        es = EarlyStopping(monitor='loss', mode='min', verbose=1)\n",
        "  \n",
        "        history = top_model.fit(x = f_train,  y = train_labels,\n",
        "                epochs=epochs,\n",
        "                batch_size=64,\n",
        "                verbose = 0, callbacks = [es])\n",
        "    \n",
        "        out = top_model.evaluate(f_test, test_labels)\n",
        "        t_acc[li] = out[1]\n",
        "\n",
        "    return t_acc\n",
        "\n",
        "\n",
        "def calc_beta(avg_act):\n",
        "  beta = [0 for item in avg_act]\n",
        "  for layer in range(len(avg_act)):\n",
        "    for item in avg_act[layer]:\n",
        "      beta[layer] += np.mean(item)\n",
        "      beta = np.array(beta)\n",
        "  return beta"
      ],
      "execution_count": 10,
      "outputs": []
    },
    {
      "cell_type": "markdown",
      "metadata": {
        "id": "fP0gLmlmVz7q"
      },
      "source": [
        "### Driver"
      ]
    },
    {
      "cell_type": "code",
      "metadata": {
        "id": "0foPTv5Git5q",
        "cellView": "both",
        "outputId": "059ccc4f-8950-4c4f-9a2b-262b31dc3a32",
        "colab": {
          "base_uri": "https://localhost:8080/",
          "height": 1000
        }
      },
      "source": [
        "#@title Multiplicative and bidirectionality corrected\n",
        "\n",
        "from vgg16obj.tools import model_calcs as mc\n",
        "import gc\n",
        "#cat_grads = [[[-item for item in subl] for subl in level] for level in cat_grads]\n",
        "layeridx = 0\n",
        "np.save('layeridx',layeridx)\n",
        "atstrng = 10.5 #0,0.5,1,1.5,2,2.5,3,3.5,4,4.5,5,5.5,6,6.5,7,7.5,8,8.5,9,9.5,10\n",
        "grand_acc = [[] for i in range(6)] \n",
        "for cat in range(6):\n",
        "  tf.keras.backend.clear_session()\n",
        "  print('Category of interest: ', categories[cat])\n",
        "  train_it = np.concatenate((reg_train[cat],reg_train[cat + 6]))\n",
        "  test_it = np.concatenate((data_test[cat],data_test[cat + 6]))\n",
        "  print(train_it.shape,test_it.shape)\n",
        "  model = VGG16(weights='imagenet',\n",
        "                      include_top=False,input_shape = [224,224,3])\n",
        "        \n",
        "  top_model = Sequential()\n",
        "  top_model.add(Flatten(input_shape=features_train.shape[1:])) \n",
        "  top_model.add(Dense(4096, activation='relu',name = 'top_dense1')) \n",
        "  top_model.add(Dense(2, activation='sigmoid',name = 'predictions'))\n",
        "  top_model.compile(optimizer= Adam(lr=1e-5),\n",
        "              loss='categorical_crossentropy',\n",
        "              metrics=['accuracy'])\n",
        "  \n",
        "  grand_acc[cat] = avg_accuracy(train_it,\n",
        "                            train_labels,\n",
        "                            test_it,\n",
        "                            test_labels,\n",
        "                            fc,\n",
        "                            model,\n",
        "                            top_model,\n",
        "                            '/content/layeridx.npy',\n",
        "                            cat,\n",
        "                            atstrng,\n",
        "                            bidir = True,\n",
        "                            atype = 1 )\n",
        "  gc.collect()\n",
        "\n"
      ],
      "execution_count": 34,
      "outputs": [
        {
          "output_type": "stream",
          "text": [
            "Category of interest:  Male\n",
            "(160, 224, 224, 3) (80, 224, 224, 3)\n",
            "WARNING:tensorflow:No training configuration found in the save file, so the model was *not* compiled. Compile it manually.\n",
            "Epoch 00009: early stopping\n",
            "3/3 [==============================] - 0s 3ms/step - loss: 0.4562 - accuracy: 0.7875\n",
            "Epoch 00016: early stopping\n",
            "3/3 [==============================] - 0s 5ms/step - loss: 0.5904 - accuracy: 0.7000\n",
            "Epoch 00011: early stopping\n",
            "3/3 [==============================] - 0s 4ms/step - loss: 0.5022 - accuracy: 0.6375\n",
            "Epoch 00020: early stopping\n",
            "3/3 [==============================] - 0s 4ms/step - loss: 1.0867 - accuracy: 0.6375\n",
            "Epoch 00012: early stopping\n",
            "3/3 [==============================] - 0s 3ms/step - loss: 0.9710 - accuracy: 0.6875\n",
            "Epoch 00027: early stopping\n",
            "3/3 [==============================] - 0s 5ms/step - loss: 1.2014 - accuracy: 0.6000\n",
            "Epoch 00011: early stopping\n",
            "3/3 [==============================] - 0s 4ms/step - loss: 1.3392 - accuracy: 0.6375\n",
            "Epoch 00015: early stopping\n",
            "3/3 [==============================] - 0s 4ms/step - loss: 1.7551 - accuracy: 0.7000\n",
            "Epoch 00009: early stopping\n",
            "3/3 [==============================] - 0s 5ms/step - loss: 1.2972 - accuracy: 0.6750\n",
            "Epoch 00007: early stopping\n",
            "3/3 [==============================] - 0s 4ms/step - loss: 1.1709 - accuracy: 0.6750\n",
            "Epoch 00014: early stopping\n",
            "3/3 [==============================] - 0s 4ms/step - loss: 0.9356 - accuracy: 0.7750\n",
            "Epoch 00006: early stopping\n",
            "3/3 [==============================] - 0s 6ms/step - loss: 7.8490 - accuracy: 0.5000 \n",
            "Epoch 00009: early stopping\n",
            "3/3 [==============================] - 0s 4ms/step - loss: 2.5778 - accuracy: 0.5750\n",
            "Category of interest:  Female\n",
            "(160, 224, 224, 3) (80, 224, 224, 3)\n",
            "WARNING:tensorflow:No training configuration found in the save file, so the model was *not* compiled. Compile it manually.\n",
            "Epoch 00015: early stopping\n",
            "3/3 [==============================] - 0s 4ms/step - loss: 0.5205 - accuracy: 0.7375\n",
            "Epoch 00011: early stopping\n",
            "3/3 [==============================] - 0s 3ms/step - loss: 0.4729 - accuracy: 0.7750\n",
            "Epoch 00011: early stopping\n",
            "3/3 [==============================] - 0s 4ms/step - loss: 0.9231 - accuracy: 0.6750\n",
            "Epoch 00029: early stopping\n",
            "3/3 [==============================] - 0s 4ms/step - loss: 0.9247 - accuracy: 0.6875\n",
            "Epoch 00021: early stopping\n",
            "3/3 [==============================] - 0s 3ms/step - loss: 1.2070 - accuracy: 0.5750\n",
            "Epoch 00016: early stopping\n",
            "3/3 [==============================] - 0s 4ms/step - loss: 1.2296 - accuracy: 0.6250\n",
            "Epoch 00011: early stopping\n",
            "3/3 [==============================] - 0s 4ms/step - loss: 1.6530 - accuracy: 0.6375\n",
            "Epoch 00011: early stopping\n",
            "3/3 [==============================] - 0s 4ms/step - loss: 1.5604 - accuracy: 0.6250\n",
            "Epoch 00011: early stopping\n",
            "3/3 [==============================] - 0s 4ms/step - loss: 3.1747 - accuracy: 0.5375\n",
            "Epoch 00012: early stopping\n",
            "3/3 [==============================] - 0s 4ms/step - loss: 0.7522 - accuracy: 0.7625\n",
            "Epoch 00012: early stopping\n",
            "3/3 [==============================] - 0s 4ms/step - loss: 1.4980 - accuracy: 0.6500\n",
            "Epoch 00008: early stopping\n",
            "3/3 [==============================] - 0s 4ms/step - loss: 8.0395 - accuracy: 0.5000 \n",
            "Epoch 00014: early stopping\n",
            "3/3 [==============================] - 0s 4ms/step - loss: 4.0098 - accuracy: 0.5000\n",
            "Category of interest:  Manmade\n",
            "(160, 224, 224, 3) (80, 224, 224, 3)\n",
            "WARNING:tensorflow:No training configuration found in the save file, so the model was *not* compiled. Compile it manually.\n",
            "Epoch 00020: early stopping\n",
            "3/3 [==============================] - 0s 4ms/step - loss: 0.7226 - accuracy: 0.5750\n",
            "Epoch 00018: early stopping\n",
            "3/3 [==============================] - 0s 4ms/step - loss: 2.5355 - accuracy: 0.5000\n",
            "Epoch 00020: early stopping\n",
            "3/3 [==============================] - 0s 4ms/step - loss: 0.6223 - accuracy: 0.6875\n",
            "Epoch 00016: early stopping\n",
            "3/3 [==============================] - 0s 5ms/step - loss: 0.4118 - accuracy: 0.7750\n",
            "Epoch 00017: early stopping\n",
            "3/3 [==============================] - 0s 4ms/step - loss: 0.3754 - accuracy: 0.8500\n",
            "Epoch 00017: early stopping\n",
            "3/3 [==============================] - 0s 4ms/step - loss: 0.6254 - accuracy: 0.7500\n",
            "Epoch 00009: early stopping\n",
            "3/3 [==============================] - 0s 5ms/step - loss: 0.9028 - accuracy: 0.7750\n",
            "Epoch 00015: early stopping\n",
            "3/3 [==============================] - 0s 4ms/step - loss: 1.3142 - accuracy: 0.7250\n",
            "Epoch 00012: early stopping\n",
            "3/3 [==============================] - 0s 4ms/step - loss: 0.6942 - accuracy: 0.7875\n",
            "Epoch 00012: early stopping\n",
            "3/3 [==============================] - 0s 4ms/step - loss: 0.8724 - accuracy: 0.6625\n",
            "Epoch 00013: early stopping\n",
            "3/3 [==============================] - 0s 4ms/step - loss: 0.8100 - accuracy: 0.7000\n",
            "Epoch 00008: early stopping\n",
            "3/3 [==============================] - 0s 4ms/step - loss: 2.2969 - accuracy: 0.7000\n",
            "Epoch 00010: early stopping\n",
            "3/3 [==============================] - 0s 4ms/step - loss: 0.5933 - accuracy: 0.8500\n",
            "Category of interest:  Natural\n",
            "(160, 224, 224, 3) (80, 224, 224, 3)\n",
            "WARNING:tensorflow:No training configuration found in the save file, so the model was *not* compiled. Compile it manually.\n",
            "Epoch 00012: early stopping\n",
            "3/3 [==============================] - 0s 4ms/step - loss: 0.5192 - accuracy: 0.6875\n",
            "Epoch 00018: early stopping\n",
            "3/3 [==============================] - 0s 4ms/step - loss: 0.7874 - accuracy: 0.6625\n",
            "Epoch 00013: early stopping\n",
            "3/3 [==============================] - 0s 4ms/step - loss: 0.6531 - accuracy: 0.7750\n",
            "Epoch 00010: early stopping\n",
            "3/3 [==============================] - 0s 4ms/step - loss: 0.4532 - accuracy: 0.8000\n",
            "Epoch 00017: early stopping\n",
            "3/3 [==============================] - 0s 4ms/step - loss: 0.8370 - accuracy: 0.6625\n",
            "Epoch 00016: early stopping\n",
            "3/3 [==============================] - 0s 4ms/step - loss: 0.9555 - accuracy: 0.7375\n",
            "Epoch 00005: early stopping\n",
            "3/3 [==============================] - 0s 5ms/step - loss: 1.0768 - accuracy: 0.7250\n",
            "Epoch 00010: early stopping\n",
            "3/3 [==============================] - 0s 4ms/step - loss: 4.8173 - accuracy: 0.5750\n",
            "Epoch 00010: early stopping\n",
            "3/3 [==============================] - 0s 4ms/step - loss: 1.1096 - accuracy: 0.7625\n",
            "Epoch 00015: early stopping\n",
            "3/3 [==============================] - 0s 4ms/step - loss: 0.9984 - accuracy: 0.7000\n",
            "Epoch 00012: early stopping\n",
            "3/3 [==============================] - 0s 4ms/step - loss: 0.6977 - accuracy: 0.7500\n",
            "Epoch 00012: early stopping\n",
            "3/3 [==============================] - 0s 4ms/step - loss: 2.8401 - accuracy: 0.6500\n",
            "Epoch 00009: early stopping\n",
            "3/3 [==============================] - 0s 4ms/step - loss: 1.4162 - accuracy: 0.7250\n",
            "Category of interest:  Powered\n",
            "(160, 224, 224, 3) (80, 224, 224, 3)\n",
            "WARNING:tensorflow:No training configuration found in the save file, so the model was *not* compiled. Compile it manually.\n",
            "Epoch 00016: early stopping\n",
            "3/3 [==============================] - 0s 5ms/step - loss: 0.6679 - accuracy: 0.6125\n",
            "Epoch 00012: early stopping\n",
            "3/3 [==============================] - 0s 4ms/step - loss: 0.6868 - accuracy: 0.7250\n",
            "Epoch 00013: early stopping\n",
            "3/3 [==============================] - 0s 4ms/step - loss: 0.8975 - accuracy: 0.6375\n",
            "Epoch 00022: early stopping\n",
            "3/3 [==============================] - 0s 4ms/step - loss: 0.6698 - accuracy: 0.6375\n",
            "Epoch 00019: early stopping\n",
            "3/3 [==============================] - 0s 5ms/step - loss: 1.1260 - accuracy: 0.5625\n",
            "Epoch 00015: early stopping\n",
            "3/3 [==============================] - 0s 4ms/step - loss: 1.0343 - accuracy: 0.7000\n",
            "Epoch 00012: early stopping\n",
            "3/3 [==============================] - 0s 4ms/step - loss: 1.5159 - accuracy: 0.6375\n",
            "Epoch 00017: early stopping\n",
            "3/3 [==============================] - 0s 5ms/step - loss: 0.9924 - accuracy: 0.7125\n",
            "Epoch 00012: early stopping\n",
            "3/3 [==============================] - 0s 4ms/step - loss: 1.6094 - accuracy: 0.6750\n",
            "Epoch 00012: early stopping\n",
            "3/3 [==============================] - 0s 3ms/step - loss: 1.6464 - accuracy: 0.6000\n",
            "Epoch 00010: early stopping\n",
            "3/3 [==============================] - 0s 4ms/step - loss: 1.4885 - accuracy: 0.6250\n",
            "Epoch 00016: early stopping\n",
            "3/3 [==============================] - 0s 4ms/step - loss: 4.4194 - accuracy: 0.5625\n",
            "Epoch 00011: early stopping\n",
            "3/3 [==============================] - 0s 3ms/step - loss: 4.7764 - accuracy: 0.5375\n",
            "Category of interest:  Nonpowered\n",
            "(160, 224, 224, 3) (80, 224, 224, 3)\n",
            "WARNING:tensorflow:No training configuration found in the save file, so the model was *not* compiled. Compile it manually.\n",
            "Epoch 00024: early stopping\n",
            "3/3 [==============================] - 0s 4ms/step - loss: 0.5558 - accuracy: 0.7250\n",
            "Epoch 00013: early stopping\n",
            "3/3 [==============================] - 0s 4ms/step - loss: 0.6262 - accuracy: 0.6625\n",
            "Epoch 00012: early stopping\n",
            "3/3 [==============================] - 0s 4ms/step - loss: 0.9922 - accuracy: 0.5750\n",
            "Epoch 00024: early stopping\n",
            "3/3 [==============================] - 0s 4ms/step - loss: 3.6209 - accuracy: 0.5375\n",
            "Epoch 00030: early stopping\n",
            "3/3 [==============================] - 0s 4ms/step - loss: 2.8978 - accuracy: 0.5125\n",
            "Epoch 00019: early stopping\n",
            "3/3 [==============================] - 0s 5ms/step - loss: 2.8102 - accuracy: 0.5125\n",
            "Epoch 00017: early stopping\n",
            "3/3 [==============================] - 0s 4ms/step - loss: 1.9589 - accuracy: 0.5250\n",
            "Epoch 00015: early stopping\n",
            "3/3 [==============================] - 0s 4ms/step - loss: 1.4047 - accuracy: 0.5750\n",
            "Epoch 00015: early stopping\n",
            "3/3 [==============================] - 0s 5ms/step - loss: 3.2679 - accuracy: 0.5375\n",
            "Epoch 00009: early stopping\n",
            "3/3 [==============================] - 0s 5ms/step - loss: 1.2672 - accuracy: 0.6500\n",
            "Epoch 00011: early stopping\n",
            "3/3 [==============================] - 0s 4ms/step - loss: 1.7907 - accuracy: 0.5500\n",
            "Epoch 00008: early stopping\n",
            "3/3 [==============================] - 0s 4ms/step - loss: 7.8577 - accuracy: 0.5125\n",
            "Epoch 00006: early stopping\n",
            "3/3 [==============================] - 0s 4ms/step - loss: 4.6880 - accuracy: 0.5375\n"
          ],
          "name": "stdout"
        }
      ]
    },
    {
      "cell_type": "code",
      "metadata": {
        "id": "_D_xfrLyptgA"
      },
      "source": [
        "grand_acc = np.array(grand_acc)\n",
        "grand_acc.reshape([1,6,13])\n",
        "np.save('tun_accuracy_new' + str(atstrng),grand_acc)"
      ],
      "execution_count": 36,
      "outputs": []
    },
    {
      "cell_type": "code",
      "metadata": {
        "id": "8aeOcsA8jVFs",
        "outputId": "e5443ab7-4612-45cd-8e71-e2e30bbd479d",
        "colab": {
          "base_uri": "https://localhost:8080/",
          "height": 362
        }
      },
      "source": [
        "import seaborn as sns\n",
        "sns.set(style=\"white\",rc={\"lines.linewidth\": 0.7})\n",
        "plt.figure(figsize = (15,5))\n",
        "ax = sns.pointplot(data = grand_acc, color = 'mediumseagreen',\n",
        "                   errorwidth = 0.1 , capsize = 0.2)\n",
        "ax.set_xlabel('Layer',size = 20)\n",
        "ax.set_xticklabels(np.arange(1,14))\n",
        "ax.set_ylabel('Avg. acc.',size = 20)\n"
      ],
      "execution_count": 37,
      "outputs": [
        {
          "output_type": "execute_result",
          "data": {
            "text/plain": [
              "Text(0, 0.5, 'Avg. acc.')"
            ]
          },
          "metadata": {
            "tags": []
          },
          "execution_count": 37
        },
        {
          "output_type": "display_data",
          "data": {
            "image/png": "[encoded data removed]",
            "text/plain": [
              "<Figure size 1080x360 with 1 Axes>"
            ]
          },
          "metadata": {
            "tags": []
          }
        }
      ]
    },
    {
      "cell_type": "markdown",
      "metadata": {
        "id": "wY8oDGHaSuqf"
      },
      "source": [
        "### Regular Accuracy"
      ]
    },
    {
      "cell_type": "code",
      "metadata": {
        "id": "vLuKzW56SuEZ",
        "outputId": "4710129a-d3cc-43f0-f3a1-7bf04c2736a3",
        "colab": {
          "base_uri": "https://localhost:8080/",
          "height": 493
        }
      },
      "source": [
        "categories = ['Male','Female','Manmade','Natural','Powered','Nonpowered']\n",
        "acc = [0]*6\n",
        "for cat in range(6):\n",
        "  tf.keras.backend.clear_session()\n",
        "\n",
        "  print('Category of interest: ', categories[cat])\n",
        "  train_it = np.concatenate((reg_train[cat],reg_train[cat + 6]))\n",
        "  test_it = np.concatenate((data_test[cat],data_test[cat + 6]))\n",
        "  print(train_it.shape,test_it.shape)\n",
        "\n",
        "\n",
        "  #plot_model(model,show_shapes=True,expand_nested=True)\n",
        "  #model.save_weights('vgg_w',save_format='h5')\n",
        "\n",
        "  features_train = model.predict(train_it) \n",
        "\n",
        "  features_test = model.predict(test_it) \n",
        "\n",
        "\n",
        "  epochs = 30\n",
        "  #train_data = np.load('features_train.npy')\n",
        "  ntrain = 80\n",
        "  train_data = features_train\n",
        "  train_labels = to_categorical([0] * ntrain + [1]*ntrain)\n",
        "\n",
        "\n",
        "  #test_data = np.load('features_test.npy')\n",
        "  ntest = 40\n",
        "  test_data = features_test\n",
        "  test_labels = to_categorical([0] * ntest + [1]*ntest)\n",
        "\n",
        "\n",
        "\n",
        "  es = EarlyStopping(monitor='loss', mode='min', verbose=1)\n",
        "\n",
        "  history = top_model.fit(x = train_data,  y = train_labels,\n",
        "            epochs=epochs,\n",
        "            batch_size=64,\n",
        "            verbose = 0, callbacks = [es])\n",
        "\n",
        "  out = top_model.evaluate(test_data, test_labels)\n",
        "  print(out)\n",
        "  acc[cat] = out[1]\n",
        "  #print('rounded test labels',pred)\n",
        "np.mean(acc)"
      ],
      "execution_count": 51,
      "outputs": [
        {
          "output_type": "stream",
          "text": [
            "Category of interest:  Male\n",
            "(160, 224, 224, 3) (80, 224, 224, 3)\n",
            "3/3 [==============================] - 0s 3ms/step - loss: 0.7951 - accuracy: 0.6875\n",
            "[0.7950838804244995, 0.6875]\n",
            "Category of interest:  Female\n",
            "(160, 224, 224, 3) (80, 224, 224, 3)\n",
            "3/3 [==============================] - 0s 4ms/step - loss: 0.8500 - accuracy: 0.7125\n",
            "[0.8499897718429565, 0.7124999761581421]\n",
            "Category of interest:  Manmade\n",
            "(160, 224, 224, 3) (80, 224, 224, 3)\n",
            "Epoch 00007: early stopping\n",
            "3/3 [==============================] - 0s 4ms/step - loss: 0.4451 - accuracy: 0.8250\n",
            "[0.4451473355293274, 0.824999988079071]\n",
            "Category of interest:  Natural\n",
            "(160, 224, 224, 3) (80, 224, 224, 3)\n",
            "3/3 [==============================] - 0s 5ms/step - loss: 1.1088 - accuracy: 0.6375\n",
            "[1.108811616897583, 0.637499988079071]\n",
            "Category of interest:  Powered\n",
            "(160, 224, 224, 3) (80, 224, 224, 3)\n",
            "Epoch 00006: early stopping\n",
            "3/3 [==============================] - 0s 4ms/step - loss: 1.6181 - accuracy: 0.4875\n",
            "[1.6181102991104126, 0.48750001192092896]\n",
            "Category of interest:  Nonpowered\n",
            "(160, 224, 224, 3) (80, 224, 224, 3)\n",
            "Epoch 00003: early stopping\n",
            "3/3 [==============================] - 0s 4ms/step - loss: 0.7083 - accuracy: 0.6625\n",
            "[0.7083037495613098, 0.6625000238418579]\n"
          ],
          "name": "stdout"
        },
        {
          "output_type": "execute_result",
          "data": {
            "text/plain": [
              "0.6687499980131785"
            ]
          },
          "metadata": {
            "tags": []
          },
          "execution_count": 51
        }
      ]
    },
    {
      "cell_type": "markdown",
      "metadata": {
        "id": "qrX-2ukIQ1wV"
      },
      "source": [
        "# Plots"
      ]
    },
    {
      "cell_type": "markdown",
      "metadata": {
        "id": "d-Pl1kB3Q3vO"
      },
      "source": [
        "### Layer wise plot\n"
      ]
    },
    {
      "cell_type": "code",
      "metadata": {
        "id": "vTMr8HqKU6gb",
        "outputId": "425ded07-fef8-436e-f6f6-d2e05ed38ba4",
        "colab": {
          "base_uri": "https://localhost:8080/",
          "height": 770
        }
      },
      "source": [
        "import numpy as np\n",
        "import matplotlib.pyplot as plt\n",
        "\n",
        "x = np.load('tun_accuracy_new0.npy')\n",
        "x = np.expand_dims(x,0)\n",
        "\n",
        "for i in np.arange(0.5,11,1):\n",
        "  temp = np.load('tun_accuracy_new' + str(i) + '.npy')\n",
        "  temp = np.expand_dims(temp,0)\n",
        "  x = np.vstack((x,temp))\n",
        "\n",
        "for i in np.arange(1,11,1):\n",
        "  temp = np.load('tun_accuracy_new' + str(i) + '.npy')\n",
        "  temp = np.expand_dims(temp,0)\n",
        "  x = np.vstack((x,temp))\n",
        "\n",
        "\n",
        "\n",
        "\n",
        "x = np.amax(x,0)\n",
        "\n",
        "plt_data = np.zeros((6,13))\n",
        "for i in range(6):\n",
        "  for j in range(13):\n",
        "    plt_data[i,j] = x[i,j] - acc[i]\n",
        "\n",
        "\n",
        "import seaborn as sns\n",
        "sns.set(style=\"white\",rc={\"lines.linewidth\": 1})\n",
        "plt.figure(figsize = (15,12))\n",
        "ax = sns.pointplot(data = plt_data*100, color = 'mediumseagreen',\n",
        "                   errorwidth = 0.1 , capsize = 0.2)\n",
        "                   \n",
        "ax.set_xlabel('Layer',size = 20)\n",
        "ax.set_xticklabels(np.arange(1,14),size = 20)\n",
        "plt.yticks(fontsize = 20)\n",
        "plt.ylim(0,30)\n",
        "plt.title('Attention by tuning curve, bias stng: 0-10.5',size = 15)\n",
        "ax.set_ylabel('Performance Increase (%)',size = 20)"
      ],
      "execution_count": 44,
      "outputs": [
        {
          "output_type": "execute_result",
          "data": {
            "text/plain": [
              "Text(0, 0.5, 'Performance Increase (%)')"
            ]
          },
          "metadata": {
            "tags": []
          },
          "execution_count": 44
        },
        {
          "output_type": "display_data",
          "data": {
            "image/png": "[encoded data removed]",
            "text/plain": [
              "<Figure size 1080x864 with 1 Axes>"
            ]
          },
          "metadata": {
            "tags": []
          }
        }
      ]
    },
    {
      "cell_type": "code",
      "metadata": {
        "id": "RLyWyHABKsS1"
      },
      "source": [
        "#grad_acc = plt_data\n",
        "tun_acc = plt_data"
      ],
      "execution_count": 238,
      "outputs": []
    },
    {
      "cell_type": "code",
      "metadata": {
        "id": "P3nPgsdnoC9t",
        "outputId": "07443c10-3e8e-4095-cde4-f77ad4e03ae2",
        "colab": {
          "base_uri": "https://localhost:8080/",
          "height": 918
        }
      },
      "source": [
        "import seaborn as sns\n",
        "sns.set(style=\"white\",rc={\"lines.linewidth\": 1})\n",
        "plt.figure(figsize = (15,12))\n",
        "ax = sns.pointplot(data = tun_acc*100, color = 'mediumseagreen',\n",
        "                   errorwidth = 0.1 , capsize = 0.2)\n",
        "ax = sns.pointplot(data = grad_acc*100, color = 'red',\n",
        "                   errorwidth = 0.1 , capsize = 0.2)                  \n",
        "ax.set_xlabel('Layer',size = 20)\n",
        "ax.set_xticklabels(np.arange(1,14),size = 20)\n",
        "ax.set_yticklabels(np.arange(0,40,5),size = 20)\n",
        "ax.set_ylabel('Performance Increase (%)',size = 20)"
      ],
      "execution_count": 239,
      "outputs": [
        {
          "output_type": "error",
          "ename": "NameError",
          "evalue": "ignored",
          "traceback": [
            "\u001b[0;31m---------------------------------------------------------------------------\u001b[0m",
            "\u001b[0;31mNameError\u001b[0m                                 Traceback (most recent call last)",
            "\u001b[0;32m<ipython-input-239-d5a5c03901e6>\u001b[0m in \u001b[0;36m<module>\u001b[0;34m()\u001b[0m\n\u001b[1;32m      4\u001b[0m ax = sns.pointplot(data = tun_acc*100, color = 'mediumseagreen',\n\u001b[1;32m      5\u001b[0m                    errorwidth = 0.1 , capsize = 0.2)\n\u001b[0;32m----> 6\u001b[0;31m ax = sns.pointplot(data = grad_acc*100, color = 'red',\n\u001b[0m\u001b[1;32m      7\u001b[0m                    errorwidth = 0.1 , capsize = 0.2)                  \n\u001b[1;32m      8\u001b[0m \u001b[0max\u001b[0m\u001b[0;34m.\u001b[0m\u001b[0mset_xlabel\u001b[0m\u001b[0;34m(\u001b[0m\u001b[0;34m'Layer'\u001b[0m\u001b[0;34m,\u001b[0m\u001b[0msize\u001b[0m \u001b[0;34m=\u001b[0m \u001b[0;36m20\u001b[0m\u001b[0;34m)\u001b[0m\u001b[0;34m\u001b[0m\u001b[0;34m\u001b[0m\u001b[0m\n",
            "\u001b[0;31mNameError\u001b[0m: name 'grad_acc' is not defined"
          ]
        },
        {
          "output_type": "display_data",
          "data": {
            "image/png": "[encoded data removed]",
            "text/plain": [
              "<Figure size 1080x864 with 1 Axes>"
            ]
          },
          "metadata": {
            "tags": []
          }
        }
      ]
    },
    {
      "cell_type": "code",
      "metadata": {
        "id": "6xvHyvKjmefC"
      },
      "source": [
        "#grad_acc = plt_data\n",
        "#tun_acc = plt_data\n",
        "\n",
        "from scipy import stats\n",
        "pval = np.zeros(13)\n",
        "\n",
        "for i in range(13):\n",
        "  _,pval[i] = stats.ttest_ind(tun_acc[:,i],grad_acc[:,i],equal_var=False)\n",
        "\n",
        "pval"
      ],
      "execution_count": null,
      "outputs": []
    },
    {
      "cell_type": "markdown",
      "metadata": {
        "id": "9C8vZVeCQ9Dj"
      },
      "source": [
        "### Category wise plot"
      ]
    },
    {
      "cell_type": "code",
      "metadata": {
        "id": "hv3A3Sp5Kft8",
        "outputId": "12c01ef8-0b4f-40d3-cb8c-a8df44bed8f6",
        "colab": {
          "base_uri": "https://localhost:8080/",
          "height": 34
        }
      },
      "source": [
        "np.argmax(gacc[:,0,7])"
      ],
      "execution_count": 53,
      "outputs": [
        {
          "output_type": "execute_result",
          "data": {
            "text/plain": [
              "7"
            ]
          },
          "metadata": {
            "tags": []
          },
          "execution_count": 53
        }
      ]
    },
    {
      "cell_type": "code",
      "metadata": {
        "id": "HVAZyDCmQ7sE",
        "outputId": "a69ca82d-1ef6-40ef-93c5-6f41cea5e92f",
        "colab": {
          "base_uri": "https://localhost:8080/",
          "height": 903
        }
      },
      "source": [
        "gacc = np.load('tun_accuracy_new0.npy')\n",
        "gacc = np.expand_dims(gacc,0)\n",
        "\n",
        "for i in np.arange(0.5,11,1):\n",
        "  temp = np.load('tun_accuracy_new' + str(i) + '.npy')\n",
        "  temp = np.expand_dims(temp,0)\n",
        "  gacc = np.vstack((gacc,temp))\n",
        "strngs = np.arange(0.5,5,1)\n",
        "\n",
        "for i in np.arange(1,11,1):\n",
        "  temp = np.load('tun_accuracy_new' + str(i) + '.npy')\n",
        "  temp = np.expand_dims(temp,0)\n",
        "  gacc = np.vstack((gacc,temp))\n",
        "strngs = np.concatenate((strngs,np.arange(1,6,1)))\n",
        "y = np.amax(gacc,0).T\n",
        "\n",
        "\n",
        "plt_data = np.zeros((13,6))\n",
        "for i in range(13):\n",
        "  for j in range(6):\n",
        "    plt_data[i,j] = y[i,j] - acc[j]\n",
        "\n",
        "\n",
        "import seaborn as sns\n",
        "sns.set(style=\"white\",rc={\"lines.linewidth\": 1})\n",
        "layer = 0\n",
        "f,axes = plt.subplots(3,2,figsize=(15,15))\n",
        "f.add_subplot(111, frameon=False)\n",
        "# hide tick and tick label of the big axis\n",
        "plt.tick_params(labelcolor='none', top=False, bottom=False, left=False, right=False)\n",
        "plt.xlabel(\"Layer\",size = 15)\n",
        "plt.ylabel(\"Performance Increase (%)\",size = 15)\n",
        "for x in range(3):\n",
        "  for y in range(2):\n",
        "    axes[x,y].bar(x = np.arange(0,13),height = plt_data[:,layer]*100,color = 'mediumseagreen')\n",
        "    axes[x,y].set_xticklabels(np.arange(1,14),size = 15)\n",
        "    axes[x,y].set_xticks(np.arange(0,14))\n",
        "    axes[x,y].set_title(categories[layer],size = 15)\n",
        "    axes[x,y].set_ylim(0,40)\n",
        "    axes[x,y].set_xlim(-1,13)\n",
        "    axes[x,y].hlines(y = 0,xmin= -1,xmax = 13)\n",
        "    layer+=1\n",
        "  "
      ],
      "execution_count": 52,
      "outputs": [
        {
          "output_type": "display_data",
          "data": {
            "image/png": "[encoded data removed]",
            "text/plain": [
              "<Figure size 1080x1080 with 7 Axes>"
            ]
          },
          "metadata": {
            "tags": []
          }
        }
      ]
    },
    {
      "cell_type": "code",
      "metadata": {
        "id": "DKDUKSNafHw6",
        "outputId": "57eaeb25-85fa-46cd-9fa6-4edb1c8b1eeb",
        "colab": {
          "base_uri": "https://localhost:8080/",
          "height": 68
        }
      },
      "source": [
        "np.mean(plt_data,1)*100\n"
      ],
      "execution_count": 191,
      "outputs": [
        {
          "output_type": "execute_result",
          "data": {
            "text/plain": [
              "array([ 7.70833492,  5.83333274,  7.70833492,  8.95833472,  8.33333333,\n",
              "        9.16666786,  8.7500006 ,  6.45833413,  8.54166746, 12.70833413,\n",
              "       10.41666766, 10.83333393,  7.70833393])"
            ]
          },
          "metadata": {
            "tags": []
          },
          "execution_count": 191
        }
      ]
    }
  ]
}
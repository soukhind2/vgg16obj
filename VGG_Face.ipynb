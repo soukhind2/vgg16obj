{
  "nbformat": 4,
  "nbformat_minor": 0,
  "metadata": {
    "colab": {
      "name": "VGG_Face.ipynb",
      "provenance": [],
      "toc_visible": true,
      "authorship_tag": "ABX9TyN3YIOy5p9YEXtkY+5WMXvw",
      "include_colab_link": true
    },
    "kernelspec": {
      "name": "python3",
      "display_name": "Python 3"
    },
    "accelerator": "GPU"
  },
  "cells": [
    {
      "cell_type": "markdown",
      "metadata": {
        "id": "view-in-github",
        "colab_type": "text"
      },
      "source": [
        "<a href=\"https://colab.research.google.com/github/soukhind2/vgg16obj/blob/tuning_calc/VGG_Face.ipynb\" target=\"_parent\"><img src=\"https://colab.research.google.com/assets/colab-badge.svg\" alt=\"Open In Colab\"/></a>"
      ]
    },
    {
      "cell_type": "markdown",
      "metadata": {
        "id": "9uhBNXwh_w9B"
      },
      "source": [
        "# Preload"
      ]
    },
    {
      "cell_type": "markdown",
      "metadata": {
        "id": "TNH3vmYgxdao"
      },
      "source": [
        "Mount the google drive and load necessary packages"
      ]
    },
    {
      "cell_type": "code",
      "metadata": {
        "id": "tWeNtkRpYWgy",
        "colab": {
          "base_uri": "https://localhost:8080/"
        },
        "outputId": "765c3adf-2d99-4039-89ae-3e121f4d67e8"
      },
      "source": [
        "from google.colab import drive\n",
        "\n",
        "from pathlib import Path\n",
        "import sys\n",
        "drive.mount(\"/content/drive\", force_remount=True)"
      ],
      "execution_count": 1,
      "outputs": [
        {
          "output_type": "stream",
          "text": [
            "Mounted at /content/drive\n"
          ],
          "name": "stdout"
        }
      ]
    },
    {
      "cell_type": "code",
      "metadata": {
        "id": "paH-Z9zPYk6t",
        "colab": {
          "base_uri": "https://localhost:8080/"
        },
        "outputId": "561b0e60-e79b-47f9-b30b-395f558a4ecb"
      },
      "source": [
        "!rm -rf vgg16obj\n",
        "!git clone -b tuning_calc https://github.com/soukhind2/vgg16obj\n",
        "! pip install https://github.com/raghakot/keras-vis/archive/master.zip #keras vis"
      ],
      "execution_count": 2,
      "outputs": [
        {
          "output_type": "stream",
          "text": [
            "Cloning into 'vgg16obj'...\n",
            "remote: Enumerating objects: 101, done.\u001b[K\n",
            "remote: Counting objects: 100% (101/101), done.\u001b[K\n",
            "remote: Compressing objects: 100% (89/89), done.\u001b[K\n",
            "remote: Total 408 (delta 49), reused 36 (delta 12), pack-reused 307\u001b[K\n",
            "Receiving objects: 100% (408/408), 8.89 MiB | 27.58 MiB/s, done.\n",
            "Resolving deltas: 100% (226/226), done.\n",
            "Collecting https://github.com/raghakot/keras-vis/archive/master.zip\n",
            "\u001b[?25l  Downloading https://github.com/raghakot/keras-vis/archive/master.zip\n",
            "\u001b[K     | 50.0MB 82.2MB/s\n",
            "\u001b[?25hRequirement already satisfied: keras>=2.0 in /usr/local/lib/python3.7/dist-packages (from keras-vis==0.5.0) (2.4.3)\n",
            "Requirement already satisfied: six in /usr/local/lib/python3.7/dist-packages (from keras-vis==0.5.0) (1.15.0)\n",
            "Requirement already satisfied: scikit-image in /usr/local/lib/python3.7/dist-packages (from keras-vis==0.5.0) (0.16.2)\n",
            "Requirement already satisfied: matplotlib in /usr/local/lib/python3.7/dist-packages (from keras-vis==0.5.0) (3.2.2)\n",
            "Requirement already satisfied: h5py in /usr/local/lib/python3.7/dist-packages (from keras-vis==0.5.0) (2.10.0)\n",
            "Requirement already satisfied: scipy>=0.14 in /usr/local/lib/python3.7/dist-packages (from keras>=2.0->keras-vis==0.5.0) (1.4.1)\n",
            "Requirement already satisfied: pyyaml in /usr/local/lib/python3.7/dist-packages (from keras>=2.0->keras-vis==0.5.0) (3.13)\n",
            "Requirement already satisfied: numpy>=1.9.1 in /usr/local/lib/python3.7/dist-packages (from keras>=2.0->keras-vis==0.5.0) (1.19.5)\n",
            "Requirement already satisfied: PyWavelets>=0.4.0 in /usr/local/lib/python3.7/dist-packages (from scikit-image->keras-vis==0.5.0) (1.1.1)\n",
            "Requirement already satisfied: pillow>=4.3.0 in /usr/local/lib/python3.7/dist-packages (from scikit-image->keras-vis==0.5.0) (7.0.0)\n",
            "Requirement already satisfied: networkx>=2.0 in /usr/local/lib/python3.7/dist-packages (from scikit-image->keras-vis==0.5.0) (2.5)\n",
            "Requirement already satisfied: imageio>=2.3.0 in /usr/local/lib/python3.7/dist-packages (from scikit-image->keras-vis==0.5.0) (2.4.1)\n",
            "Requirement already satisfied: kiwisolver>=1.0.1 in /usr/local/lib/python3.7/dist-packages (from matplotlib->keras-vis==0.5.0) (1.3.1)\n",
            "Requirement already satisfied: pyparsing!=2.0.4,!=2.1.2,!=2.1.6,>=2.0.1 in /usr/local/lib/python3.7/dist-packages (from matplotlib->keras-vis==0.5.0) (2.4.7)\n",
            "Requirement already satisfied: python-dateutil>=2.1 in /usr/local/lib/python3.7/dist-packages (from matplotlib->keras-vis==0.5.0) (2.8.1)\n",
            "Requirement already satisfied: cycler>=0.10 in /usr/local/lib/python3.7/dist-packages (from matplotlib->keras-vis==0.5.0) (0.10.0)\n",
            "Requirement already satisfied: decorator>=4.3.0 in /usr/local/lib/python3.7/dist-packages (from networkx>=2.0->scikit-image->keras-vis==0.5.0) (4.4.2)\n",
            "Building wheels for collected packages: keras-vis\n",
            "  Building wheel for keras-vis (setup.py) ... \u001b[?25l\u001b[?25hdone\n",
            "  Created wheel for keras-vis: filename=keras_vis-0.5.0-py2.py3-none-any.whl size=30857 sha256=12651f4bea99622a5122339b8d8879c20a0bde6bcd3febd0ed17087d54affaed\n",
            "  Stored in directory: /tmp/pip-ephem-wheel-cache-n9t80s2w/wheels/7e/91/e5/9fdb0f2f5fa5d9f402c6fbfaf015aadbe3dba024ede6532727\n",
            "Successfully built keras-vis\n",
            "Installing collected packages: keras-vis\n",
            "  Found existing installation: keras-vis 0.4.1\n",
            "    Uninstalling keras-vis-0.4.1:\n",
            "      Successfully uninstalled keras-vis-0.4.1\n",
            "Successfully installed keras-vis-0.5.0\n"
          ],
          "name": "stdout"
        }
      ]
    },
    {
      "cell_type": "markdown",
      "metadata": {
        "id": "bVSWxf5qxoSv"
      },
      "source": [
        "Unpack the items"
      ]
    },
    {
      "cell_type": "code",
      "metadata": {
        "id": "TL5079ZkYpf5"
      },
      "source": [
        "#!unzip -q /content/drive/My\\ Drive/obj/data\n",
        "#!unzip -q /content/drive/My\\ Drive/obj/test2\n",
        "#!unzip -q /content/drive/My\\ Drive/obj/sean_test\n",
        "!unzip -q /content/drive/My\\ Drive/obj/data_6class\n",
        "!unzip -q /content/drive/My\\ Drive/obj/merge\n",
        "!unzip -q /content/drive/My\\ Drive/obj/vggface_files"
      ],
      "execution_count": 3,
      "outputs": []
    },
    {
      "cell_type": "markdown",
      "metadata": {
        "id": "Uxfdgi8hHv_1"
      },
      "source": [
        "# Load libraries\n",
        "Load the necessary libraries"
      ]
    },
    {
      "cell_type": "code",
      "metadata": {
        "id": "bmdIPynMYsJj"
      },
      "source": [
        "import numpy as np\n",
        "import pandas as pd\n",
        "import os\n",
        "import time\n",
        "import math\n",
        "import matplotlib.pyplot as plt\n",
        "import pickle\n",
        "import cv2\n",
        "import seaborn as sns\n",
        "\n",
        "\n",
        "from keras.applications.vgg16 import VGG16,preprocess_input\n",
        "from keras.preprocessing.image import ImageDataGenerator,load_img, img_to_array\n",
        "from keras.layers import Flatten,Dense,Dropout,Input,BatchNormalization\n",
        "from keras.models import Sequential,Model\n",
        "from keras.utils.np_utils import to_categorical\n",
        "from keras.optimizers import Adam\n",
        "from keras.callbacks import EarlyStopping\n",
        "from keras.utils.vis_utils import plot_model\n",
        "\n",
        "from sklearn import metrics\n",
        "from sklearn.metrics import confusion_matrix\n",
        "import itertools\n",
        "\n",
        "from vgg16obj.tools import tuning_calcs as tc\n",
        "from vgg16obj.tools import gradient_calcs as gc\n",
        "from vgg16obj.tools import stats as st\n",
        "from vgg16obj.tools import plot_tools as pt\n",
        "\n",
        "\n",
        "import tensorflow as tf\n",
        "from tensorflow import math"
      ],
      "execution_count": 4,
      "outputs": []
    },
    {
      "cell_type": "markdown",
      "metadata": {
        "id": "vPKnbq8zZAEI"
      },
      "source": [
        "# Load Images"
      ]
    },
    {
      "cell_type": "markdown",
      "metadata": {
        "id": "K3AFr11WZBql"
      },
      "source": [
        "### Merged Images"
      ]
    },
    {
      "cell_type": "code",
      "metadata": {
        "id": "jWkKJ-FAY8Dq"
      },
      "source": [
        "def noisy(image):\n",
        "  row,col,ch= image.shape\n",
        "  mean = 0\n",
        "  var = 1\n",
        "  sigma = var**0.5\n",
        "  gauss = np.random.normal(mean,sigma,(row,col,ch))\n",
        "  gauss = gauss.reshape(row,col,ch)\n",
        "  noisy = image + gauss\n",
        "  return noisy\n",
        "\n",
        "def convertimgs(path,noise = False) :\n",
        "    data = []\n",
        "    for dirName, subdir, files in os.walk(path):\n",
        "        for filename in sorted(files):\n",
        "            if filename == '.DS_Store':\n",
        "                continue\n",
        "            ds = load_img(path +'/' + filename,target_size = (224,224))\n",
        "            im = img_to_array(ds)\n",
        "            im /= 255.\n",
        "            #im = im.reshape((1, im.shape[0], im.shape[1], im.shape[2]))\n",
        "            #im = preprocess_input(im)\n",
        "            if noise:\n",
        "              im = noisy(im)\n",
        "            data.append(im) \n",
        "    return data"
      ],
      "execution_count": 5,
      "outputs": []
    },
    {
      "cell_type": "code",
      "metadata": {
        "id": "P267h5kYZE_H",
        "colab": {
          "base_uri": "https://localhost:8080/",
          "height": 0
        },
        "outputId": "e511f5ff-a565-4331-c5f0-5b32a7d3878c"
      },
      "source": [
        "# Merged images load\n",
        "data_train = [[]  for i in range(12)]\n",
        "data_train[0] = convertimgs('/content/merge/merge_train/Correct/Male',noise = False)  #75\n",
        "data_train[1] = convertimgs('/content/merge/merge_train/Correct/Female/',noise = False) #75\n",
        "data_train[2] = convertimgs('/content/merge/merge_train/Correct/Manmade/',noise = False) #75\n",
        "data_train[3] = convertimgs('/content/merge/merge_train/Correct/Natural/',noise = False) #75\n",
        "data_train[4] = convertimgs('/content/merge/merge_train/Correct/Powered',noise = False) #75\n",
        "data_train[5] = convertimgs('/content/merge/merge_train/Correct/Nonpowered',noise = False) #75\n",
        "\n",
        "data_train[6] = convertimgs('/content/merge/merge_train/Incorrect/Male',noise = False) #75\n",
        "data_train[7] = convertimgs('/content/merge/merge_train/Incorrect/Female',noise = False) #75\n",
        "data_train[8] = convertimgs('/content/merge/merge_train/Incorrect/Manmade',noise = False) #75\n",
        "data_train[9] = convertimgs('/content/merge/merge_train/Incorrect/Natural',noise = False) #75\n",
        "data_train[10] = convertimgs('/content/merge/merge_train/Incorrect/Powered',noise = False) #75\n",
        "data_train[11] = convertimgs('/content/merge/merge_train/Incorrect/Nonpowered',noise = False) #75\n",
        "data_train = np.array(data_train)\n",
        " \n",
        "data_test = [[]  for i in range(12)]\n",
        "data_test[0] = convertimgs('/content/merge/merge_test/Correct/Male',noise = False)  #75\n",
        "data_test[1] = convertimgs('/content/merge/merge_test/Correct/Female/',noise = False) #75\n",
        "data_test[2] = convertimgs('/content/merge/merge_test/Correct/Manmade/',noise = False) #75\n",
        "data_test[3] = convertimgs('/content/merge/merge_test/Correct/Natural/',noise = False) #75\n",
        "data_test[4] = convertimgs('/content/merge/merge_test/Correct/Powered',noise = False) #75\n",
        "data_test[5] = convertimgs('/content/merge/merge_test/Correct/Nonpowered',noise = False) #75\n",
        "\n",
        "data_test[6] = convertimgs('/content/merge/merge_test/Incorrect/Male',noise = False) #75\n",
        "data_test[7] = convertimgs('/content/merge/merge_test/Incorrect/Female',noise = False) #75\n",
        "data_test[8] = convertimgs('/content/merge/merge_test/Incorrect/Manmade',noise = False) #75\n",
        "data_test[9] = convertimgs('/content/merge/merge_test/Incorrect/Natural',noise = False) #75\n",
        "data_test[10] = convertimgs('/content/merge/merge_test/Incorrect/Powered',noise = False) #75\n",
        "data_test[11] = convertimgs('/content/merge/merge_test/Incorrect/Nonpowered',noise = False) #75\n",
        "data_test = np.array(data_test)\n",
        "\n",
        "\n",
        "print(data_train.shape,data_test.shape)\n",
        "\n",
        "plt.imshow(data_train[0,1])\n",
        "plt.axis('off')\n",
        "\n",
        "# Regular Images load\n",
        "\n",
        "reg_train = [[]  for i in range(12)]\n",
        "reg_train[0] = convertimgs('/content/merge/merge_reg_train/Correct/Male',noise = False)  # 75\n",
        "reg_train[1] = convertimgs('/content/merge/merge_reg_train/Correct/Female',noise = False) # 75\n",
        "reg_train[2] = convertimgs('/content/merge/merge_reg_train/Correct/Manmade',noise = False) # 75\n",
        "reg_train[3] = convertimgs('/content/merge/merge_reg_train/Correct/Natural/',noise = False) # 75\n",
        "reg_train[4] = convertimgs('/content/merge/merge_reg_train/Correct/Powered',noise = False) # 75\n",
        "reg_train[5] = convertimgs('/content/merge/merge_reg_train/Correct/Nonpowered',noise = False) # 75\n",
        "\n",
        "reg_train[6] = convertimgs('/content/merge/merge_reg_train/Incorrect/Male',noise = False)  # 75\n",
        "reg_train[7] = convertimgs('/content/merge/merge_reg_train/Incorrect/Female',noise = False) # 75\n",
        "reg_train[8] = convertimgs('/content/merge/merge_reg_train/Incorrect/Manmade',noise = False) # 75\n",
        "reg_train[9] = convertimgs('/content/merge/merge_reg_train/Incorrect/Natural/',noise = False) # 75\n",
        "reg_train[10] = convertimgs('/content/merge/merge_reg_train/Incorrect/Powered',noise = False) # 75\n",
        "reg_train[11] = convertimgs('/content/merge/merge_reg_train/Incorrect/Nonpowered',noise = False) # 75\n",
        "reg_train = np.array(reg_train)\n",
        "\n",
        "\n",
        "reg_test = [[]  for i in range(12)]\n",
        "reg_test[0] = convertimgs('/content/merge/merge_reg_test/Correct/Male',noise = False)  #75\n",
        "reg_test[1] = convertimgs('/content/merge/merge_reg_test/Correct/Female/',noise = False) #75\n",
        "reg_test[2] = convertimgs('/content/merge/merge_reg_test/Correct/Manmade/',noise = False) #75\n",
        "reg_test[3] = convertimgs('/content/merge/merge_reg_test/Correct/Natural/',noise = False) #75\n",
        "reg_test[4] = convertimgs('/content/merge/merge_reg_test/Correct/Powered',noise = False) #75\n",
        "reg_test[5] = convertimgs('/content/merge/merge_reg_test/Correct/Nonpowered',noise = False) #75\n",
        "\n",
        "reg_test[6] = convertimgs('/content/merge/merge_reg_test/Incorrect/Male',noise = False) #75\n",
        "reg_test[7] = convertimgs('/content/merge/merge_reg_test/Incorrect/Female',noise = False) #75\n",
        "reg_test[8] = convertimgs('/content/merge/merge_reg_test/Incorrect/Manmade',noise = False) #75\n",
        "reg_test[9] = convertimgs('/content/merge/merge_reg_test/Incorrect/Natural',noise = False) #75\n",
        "reg_test[10] = convertimgs('/content/merge/merge_reg_test/Incorrect/Powered',noise = False) #75\n",
        "reg_test[11] = convertimgs('/content/merge/merge_reg_test/Incorrect/Nonpowered',noise = False) #75\n",
        "reg_test = np.array(reg_test)\n",
        "\n",
        "print(reg_train.shape,reg_test.shape)\n",
        "\n"
      ],
      "execution_count": 6,
      "outputs": [
        {
          "output_type": "stream",
          "text": [
            "(12, 80, 224, 224, 3) (12, 40, 224, 224, 3)\n",
            "(12, 80, 224, 224, 3) (12, 40, 224, 224, 3)\n"
          ],
          "name": "stdout"
        },
        {
          "output_type": "display_data",
          "data": {
            "image/png": "[encoded data removed]",
            "text/plain": [
              "<Figure size 432x288 with 1 Axes>"
            ]
          },
          "metadata": {
            "tags": [],
            "needs_background": "light"
          }
        }
      ]
    },
    {
      "cell_type": "markdown",
      "metadata": {
        "id": "RsJqRd2ccJXG"
      },
      "source": [
        "# Model\n",
        "Call the base model and the top model here"
      ]
    },
    {
      "cell_type": "markdown",
      "metadata": {
        "id": "6QLK6addybWJ"
      },
      "source": [
        "### Model Architecture"
      ]
    },
    {
      "cell_type": "markdown",
      "metadata": {
        "id": "n_VSUClbgm_V"
      },
      "source": [
        ""
      ]
    },
    {
      "cell_type": "code",
      "metadata": {
        "id": "Dsm9BSiwGctD",
        "colab": {
          "base_uri": "https://localhost:8080/"
        },
        "outputId": "536b66b5-4e83-4f4d-d090-cf2b7fc62f7f"
      },
      "source": [
        "# Calling VGG16 without the top FC layers with weights loaded from imagenet \n",
        "model = VGG16(weights='imagenet',\n",
        "              include_top=False,input_shape = [224,224,3])\n",
        "#plot_model(model,show_shapes=True,expand_nested=True)\n",
        "#model.save_weights('vgg_w',save_format='h5')\n",
        "\n",
        "categories = ['Male','Female','Manmade','Natural','Powered','Nonpowered']\n",
        "interest = 0\n",
        "print('Category of interest: ', categories[interest])\n",
        "train_it = np.concatenate((reg_train[interest],reg_train[interest + 6]))\n",
        "test_it = np.concatenate((reg_test[interest],reg_test[interest + 6]))\n",
        "print(train_it.shape,test_it.shape)\n",
        "\n",
        "start = time.time()\n",
        "features_train = model.predict(train_it) \n",
        "print(f'Train Time: {time.time() - start}')\n",
        "\n",
        "start = time.time()\n",
        "features_test = model.predict(test_it) \n",
        "print(f'Test Time: {time.time() - start}')\n",
        "epochs = 30\n",
        "\n",
        "ntrain = 80\n",
        "train_labels = to_categorical([0] * ntrain + [1]*ntrain)\n",
        "\n",
        "\n",
        "ntest = 40\n",
        "test_labels = to_categorical([0] * ntest + [1]*ntest) \n",
        "\n",
        "losses = 'binary_crossentropy'\n",
        "\n",
        "# Initialize the top model with FC layers. These are the only ones to be trained\n",
        "top_model = Sequential()\n",
        "top_model.add(Flatten(input_shape=features_train.shape[1:])) \n",
        "top_model.add(Dense(4096, activation='relu',name = 'top_dense1')) \n",
        "top_model.add(Dense(4096, activation='relu',name = 'top_dense2')) \n",
        "top_model.add(Dense(2, activation='softmax',name = 'predictions'))\n",
        "\n",
        "top_model.compile(optimizer= Adam(lr=1e-5),\n",
        "              loss=losses,\n",
        "              metrics=['accuracy'])\n",
        "top_model.summary()\n",
        "\n",
        "es = EarlyStopping(monitor='loss', mode='min', verbose=1)\n"
      ],
      "execution_count": 7,
      "outputs": [
        {
          "output_type": "stream",
          "text": [
            "Downloading data from https://storage.googleapis.com/tensorflow/keras-applications/vgg16/vgg16_weights_tf_dim_ordering_tf_kernels_notop.h5\n",
            "58892288/58889256 [==============================] - 0s 0us/step\n",
            "Category of interest:  Male\n",
            "(160, 224, 224, 3) (80, 224, 224, 3)\n",
            "Train Time: 4.280263185501099\n",
            "Test Time: 0.6415176391601562\n",
            "Model: \"sequential\"\n",
            "_________________________________________________________________\n",
            "Layer (type)                 Output Shape              Param #   \n",
            "=================================================================\n",
            "flatten (Flatten)            (None, 25088)             0         \n",
            "_________________________________________________________________\n",
            "top_dense1 (Dense)           (None, 4096)              102764544 \n",
            "_________________________________________________________________\n",
            "top_dense2 (Dense)           (None, 4096)              16781312  \n",
            "_________________________________________________________________\n",
            "predictions (Dense)          (None, 2)                 8194      \n",
            "=================================================================\n",
            "Total params: 119,554,050\n",
            "Trainable params: 119,554,050\n",
            "Non-trainable params: 0\n",
            "_________________________________________________________________\n"
          ],
          "name": "stdout"
        }
      ]
    },
    {
      "cell_type": "markdown",
      "metadata": {
        "id": "La-h_mR0ygZN"
      },
      "source": [
        "### Model Testing\n",
        "\n",
        "Train the model on regular images, and then test separately on regular images\n",
        "followed by testing separately for merged images"
      ]
    },
    {
      "cell_type": "code",
      "metadata": {
        "id": "pBvaXyRraKrN"
      },
      "source": [
        "categories = ['Male','Female','Manmade','Natural','Powered','Nonpowered']\n",
        "\n",
        "acc = np.zeros((2,6))\n",
        "for imtype in range(2):\n",
        "  for cat in range(6):\n",
        "\n",
        "    print('Category of interest: ', categories[cat])\n",
        "    train_it = np.concatenate((reg_train[cat],reg_train[cat + 6])) # Train on regular data\n",
        "    if imtype == 0: # Regular\n",
        "      test_it = np.concatenate((reg_test[cat],reg_test[cat + 6])) # Test on merged data\n",
        "    else:\n",
        "      test_it = np.concatenate((data_test[cat],data_test[cat + 6])) # Test on merged data\n",
        "    print(train_it.shape,test_it.shape)\n",
        "\n",
        "    \n",
        "    start = time.time()\n",
        "    train_data = model.predict(train_it) \n",
        "    print(f'Train Time: {time.time() - start}')\n",
        "\n",
        "    start = time.time()\n",
        "    test_data = model.predict(test_it) \n",
        "    print(f'Test Time: {time.time() - start}')\n",
        "    \n",
        "    history = top_model.fit(x = train_data,  y = train_labels,\n",
        "            epochs=epochs,\n",
        "            batch_size=64,\n",
        "            verbose = 1, callbacks = [es])\n",
        "\n",
        "    out = top_model.evaluate(test_data, test_labels)\n",
        "    acc[imtype,cat] = out[1]\n",
        "    print(out)"
      ],
      "execution_count": null,
      "outputs": []
    },
    {
      "cell_type": "markdown",
      "metadata": {
        "id": "2Gi97SdGyrE2"
      },
      "source": [
        "### Prelim result plots\n",
        "Plot the average accuracy obtained for regular vs merged images"
      ]
    },
    {
      "cell_type": "code",
      "metadata": {
        "id": "DvIZeqnRgQ4j",
        "colab": {
          "base_uri": "https://localhost:8080/",
          "height": 1000
        },
        "outputId": "bd17d7a4-4c8a-40be-d5f9-cf09be054908"
      },
      "source": [
        "diff = acc[0]-acc[1]\n",
        "print(np.mean(acc))\n",
        "import seaborn as sns\n",
        "\n",
        "sns.set(style=\"white\",rc={\"lines.linewidth\": 0.7})\n",
        "plt.figure(figsize = (8,8))\n",
        "ax = sns.boxplot(data = acc.T )\n",
        "ax.set_xlabel('Category',size = 20)\n",
        "ax.set_xticklabels(['Regular','Merged'],size = 15)\n",
        "ax.set_ylabel('Binary Classification Acc.',size = 20)\n",
        "\n",
        "# Cateogory wise performance difference\n",
        "plt.figure(figsize = (8,8))\n",
        "sns.set(style=\"white\",rc={\"lines.linewidth\": 1})\n",
        "ax = sns.lineplot(data = diff ,marker=\"o\")\n",
        "ax.set_xlabel('Category',size = 20)\n",
        "ax.set_xticklabels(['Regular','Male','Female','Manmade','Natural','Pwrd','Nonpwrd'],size = 15)\n",
        "ax.set_ylabel('\\u0394 Accuracy',size = 20)\n",
        "\n"
      ],
      "execution_count": null,
      "outputs": [
        {
          "output_type": "stream",
          "text": [
            "0.7708333432674408\n"
          ],
          "name": "stdout"
        },
        {
          "output_type": "execute_result",
          "data": {
            "text/plain": [
              "Text(0, 0.5, 'Δ Accuracy')"
            ]
          },
          "metadata": {
            "tags": []
          },
          "execution_count": 9
        },
        {
          "output_type": "display_data",
          "data": {
            "image/png": "[encoded data removed]",
            "text/plain": [
              "<Figure size 576x576 with 1 Axes>"
            ]
          },
          "metadata": {
            "tags": []
          }
        },
        {
          "output_type": "display_data",
          "data": {
            "image/png": "[encoded data removed]",
            "text/plain": [
              "<Figure size 576x576 with 1 Axes>"
            ]
          },
          "metadata": {
            "tags": []
          }
        }
      ]
    },
    {
      "cell_type": "markdown",
      "metadata": {
        "id": "bRcNO6SiiCOd"
      },
      "source": [
        "# Tuning Value Calculation"
      ]
    },
    {
      "cell_type": "code",
      "metadata": {
        "id": "X3fPlYt_uupE"
      },
      "source": [
        "categories = ['Male','Female','Manmade','Natural','Powered','Nonpowered']\n",
        "calc_tun_activ = 0\n",
        "\n",
        "if calc_tun_activ:\n",
        "  for cat in range(6): \n",
        "\n",
        "    print('Category of interest: ', categories[cat])\n",
        "    train_it = reg_train[cat]\n",
        "\n",
        "    layer_names = [layer.name for layer in model.layers if 'conv' in layer.name]\n",
        "    layer_outputs = [layer.output for layer in model.layers if layer.name in layer_names]\n",
        "    activation_model = Model(inputs=model.input, outputs=layer_outputs)\n",
        "\n",
        "\n",
        "    start = time.time()\n",
        "    tun_activ = tc.calc_tun(train_it,activation_model,layer_names)\n",
        "    print(f'Elapsed: {time.time() - start}s')\n",
        "\n",
        "    with open('tuning_values_' + str(cat), 'wb') as fp:\n",
        "      pickle.dump(tun_activ, fp)\n",
        "\n"
      ],
      "execution_count": 66,
      "outputs": []
    },
    {
      "cell_type": "markdown",
      "metadata": {
        "id": "KmnNRm50Q05-"
      },
      "source": [
        "### Load tuning activities"
      ]
    },
    {
      "cell_type": "code",
      "metadata": {
        "id": "if9i3JjziHTN",
        "colab": {
          "base_uri": "https://localhost:8080/"
        },
        "outputId": "8b95ca80-5659-4806-bd04-ac9566c64067"
      },
      "source": [
        "tun_activ = []\n",
        "for interest in range(6): \n",
        "  with open ('/content/vggface_files/tuning_values_' + str(interest), 'rb') as fp:\n",
        "      tun_activ.extend(pickle.load(fp))\n",
        "len(tun_activ)\n",
        "\n"
      ],
      "execution_count": 67,
      "outputs": [
        {
          "output_type": "execute_result",
          "data": {
            "text/plain": [
              "480"
            ]
          },
          "metadata": {
            "tags": []
          },
          "execution_count": 67
        }
      ]
    },
    {
      "cell_type": "markdown",
      "metadata": {
        "id": "jJIu_3X-iLeP"
      },
      "source": [
        "### Calculation of tuning values for each map"
      ]
    },
    {
      "cell_type": "code",
      "metadata": {
        "id": "Y6C47jSjiJXP"
      },
      "source": [
        "ncats = 6\n",
        "# to fish out each category tun_activations\n",
        "labels = np.array([0] * 40 + [1] * 40 + [2] * 40 + [3] * 40 + [4] * 40 + [5] * 40)\n",
        "cat_tun = [[[] for j in range(len(tun_activ[0]))] for i in range(ncats)]\n",
        "\n",
        "avg_tun_activ = tc.calc_avg(tun_activ) #average tuning activity for each map\n",
        "std_tun_activ = tc.calc_std(tun_activ,avg_tun_activ) #std tuning activity for each map\n",
        "\n",
        "for i in range(ncats):\n",
        "  #Calculating average activity of each\n",
        "  #feature map in response to images of respective category, \n",
        "  #with the mean activity under all image categories subtracted from it\n",
        "  idx = list(np.where(labels == i))\n",
        "  cat_tun[i] = tc.calc_avg([tun_activ[i] for i in idx[0]])\n",
        "\n",
        "# Vector of tuning values for each obj cataegory\n",
        "fc = [[[0 for item in subl] for subl in cat_tun[0]] for i in range(ncats)]\n",
        "#fc has length of ncats x nlayers x no of maps in each layer\n",
        "for cat in range(ncats):\n",
        "  for layer in range(len(cat_tun[cat])):\n",
        "    for map in range(len(cat_tun[cat][layer])):\n",
        "      if std_tun_activ[layer][map] == 0:\n",
        "        continue\n",
        "      fc[cat][layer][map] = (cat_tun[cat][layer][map] - \n",
        "                                avg_tun_activ[layer][map])/std_tun_activ[layer][map]\n"
      ],
      "execution_count": 68,
      "outputs": []
    },
    {
      "cell_type": "markdown",
      "metadata": {
        "id": "OiF5A5hzMSjT"
      },
      "source": [
        "### Tuning quality"
      ]
    },
    {
      "cell_type": "code",
      "metadata": {
        "id": "wOSl0b-UiRnH",
        "colab": {
          "base_uri": "https://localhost:8080/",
          "height": 306
        },
        "outputId": "84342df1-a126-4a8b-98c7-0f7a56b5b668"
      },
      "source": [
        "tun_quality = tc.calc_tun_quality(fc)\n",
        "sns.set(style=\"whitegrid\")\n",
        "ax = sns.boxplot(data = tun_quality,palette='cool')\n",
        "ax.set_xlabel('Layer')\n",
        "ax.set_xticklabels(np.arange(1,14))\n",
        "ax.set_ylabel('Tuning Quality')\n",
        "ax.set_ylim([0,50])"
      ],
      "execution_count": 69,
      "outputs": [
        {
          "output_type": "execute_result",
          "data": {
            "text/plain": [
              "(0.0, 50.0)"
            ]
          },
          "metadata": {
            "tags": []
          },
          "execution_count": 69
        },
        {
          "output_type": "display_data",
          "data": {
            "image/png": "[encoded data removed]",
            "text/plain": [
              "<Figure size 432x288 with 1 Axes>"
            ]
          },
          "metadata": {
            "tags": []
          }
        }
      ]
    },
    {
      "cell_type": "code",
      "metadata": {
        "id": "yS676k4v-wCB",
        "outputId": "986e896c-63f7-4de5-d9da-ffc8dd0c2bf0",
        "colab": {
          "base_uri": "https://localhost:8080/",
          "height": 306
        }
      },
      "source": [
        "tun_q_face = [[0 for item in subl] for subl in fc[0]]\n",
        "for cat in range(2):\n",
        "  for layer in range(len(fc[cat])):\n",
        "    for map in range(len(fc[cat][layer])):\n",
        "      if tun_q_face[layer][map] < abs(fc[cat][layer][map]):\n",
        "        tun_q_face[layer][map] = abs(fc[cat][layer][map])\n",
        "\n",
        "sns.set(style=\"whitegrid\")\n",
        "ax = sns.boxplot(data = tun_q_face,palette='cool')\n",
        "ax.set_xlabel('Layer')\n",
        "ax.set_xticklabels(np.arange(1,14))\n",
        "ax.set_ylabel('Tuning Quality')\n",
        "ax.set_ylim([0,30])"
      ],
      "execution_count": 70,
      "outputs": [
        {
          "output_type": "execute_result",
          "data": {
            "text/plain": [
              "(0.0, 30.0)"
            ]
          },
          "metadata": {
            "tags": []
          },
          "execution_count": 70
        },
        {
          "output_type": "display_data",
          "data": {
            "image/png": "[encoded data removed]",
            "text/plain": [
              "<Figure size 432x288 with 1 Axes>"
            ]
          },
          "metadata": {
            "tags": []
          }
        }
      ]
    },
    {
      "cell_type": "markdown",
      "metadata": {
        "id": "mRNlihyciXY9"
      },
      "source": [
        "# Gradient Value Calculations"
      ]
    },
    {
      "cell_type": "code",
      "metadata": {
        "id": "mraDcC9EftAE"
      },
      "source": [
        "calc_gradient_val = 0\n",
        "if calc_gradient_val:\n",
        "  d_train = data_train.reshape([960,224,224,3])\n",
        "  labels = np.array([0] * 75 + [1]*75 + [2] * 75 + [3] * 75 + [4] * 75 + [5] * 75 +\n",
        "                    [0] * 75 + [1]*75 + [2] * 75 + [3] * 75 + [4] * 75 + [5] * 75)\n",
        "  layer_names = [layer.name for layer in model.layers if 'conv' in layer.name]\n",
        "  cat_grads = [[[] for j in range(len(layer_names))] for i in range(ncats)]\n",
        "\n",
        "\n",
        "  start = time.time()\n",
        "  for i in range(ncats):\n",
        "    idx = list(np.where(labels == i))\n",
        "    cat_grads[i] = gc.calc_avg_gradcam(d_train[idx],model,top_model)\n",
        "  print(f'Elapsed: {time.time() - start}s')\n",
        "\n",
        "  with open('gradient_val_cat_merged', 'wb') as fp:\n",
        "      pickle.dump(cat_grads, fp)\n"
      ],
      "execution_count": null,
      "outputs": []
    },
    {
      "cell_type": "code",
      "metadata": {
        "id": "2CI0DiuXnin9",
        "colab": {
          "base_uri": "https://localhost:8080/",
          "height": 232
        },
        "outputId": "05e23f4b-f8b5-462e-d78c-a73b8a5425e1"
      },
      "source": [
        "with open ('/content/drive/My Drive/obj/gradient_val_cat_merged', 'rb') as fp:\n",
        "    cat_grads = pickle.load(fp)\n",
        "\n",
        "#cat_grads = [[[-item for item in subl] for subl in level] for level in cat_grads_posivite]\n",
        "corr_all = st.calc_all_corrcoeff(fc,cat_grads)\n",
        "\n",
        "import random\n",
        "\n",
        "cat_grad_s = cat_grads.copy()\n",
        "random.shuffle(cat_grad_s)\n",
        "for cat in range(len(cat_grad_s)):\n",
        "  for layer in range(len(cat_grad_s[cat])):\n",
        "    random.shuffle(cat_grad_s[cat][layer])\n",
        "\n",
        "corr_shuff = st.calc_all_corrcoeff(fc,cat_grad_s)\n",
        "pt.plot_corr(corr_shuff,corr_all,figsize = (10,4))"
      ],
      "execution_count": null,
      "outputs": [
        {
          "output_type": "error",
          "ename": "NameError",
          "evalue": "ignored",
          "traceback": [
            "\u001b[0;31m---------------------------------------------------------------------------\u001b[0m",
            "\u001b[0;31mNameError\u001b[0m                                 Traceback (most recent call last)",
            "\u001b[0;32m<ipython-input-7-2e2f03c0a3b2>\u001b[0m in \u001b[0;36m<module>\u001b[0;34m()\u001b[0m\n\u001b[1;32m      3\u001b[0m \u001b[0;34m\u001b[0m\u001b[0m\n\u001b[1;32m      4\u001b[0m \u001b[0;31m#cat_grads = [[[-item for item in subl] for subl in level] for level in cat_grads_posivite]\u001b[0m\u001b[0;34m\u001b[0m\u001b[0;34m\u001b[0m\u001b[0;34m\u001b[0m\u001b[0m\n\u001b[0;32m----> 5\u001b[0;31m \u001b[0mcorr_all\u001b[0m \u001b[0;34m=\u001b[0m \u001b[0mst\u001b[0m\u001b[0;34m.\u001b[0m\u001b[0mcalc_all_corrcoeff\u001b[0m\u001b[0;34m(\u001b[0m\u001b[0mfc\u001b[0m\u001b[0;34m,\u001b[0m\u001b[0mcat_grads\u001b[0m\u001b[0;34m)\u001b[0m\u001b[0;34m\u001b[0m\u001b[0;34m\u001b[0m\u001b[0m\n\u001b[0m\u001b[1;32m      6\u001b[0m \u001b[0;34m\u001b[0m\u001b[0m\n\u001b[1;32m      7\u001b[0m \u001b[0;32mimport\u001b[0m \u001b[0mrandom\u001b[0m\u001b[0;34m\u001b[0m\u001b[0;34m\u001b[0m\u001b[0m\n",
            "\u001b[0;31mNameError\u001b[0m: name 'fc' is not defined"
          ]
        }
      ]
    },
    {
      "cell_type": "code",
      "metadata": {
        "id": "HEFBJ_f8Oe2Q"
      },
      "source": [
        "with open ('/content/drive/My Drive/obj/gradient_val_cat_merged', 'rb') as fp:\n",
        "    cat_grads = pickle.load(fp)"
      ],
      "execution_count": null,
      "outputs": []
    },
    {
      "cell_type": "markdown",
      "metadata": {
        "id": "LoqhbP8HixD0"
      },
      "source": [
        "# Attention"
      ]
    },
    {
      "cell_type": "markdown",
      "metadata": {
        "id": "-etj3D0SVwfb"
      },
      "source": [
        "### Att\n",
        "(This is optional. The same code is written in vgg16obj/tools/model_calcs.py called separately in the next driver chunk"
      ]
    },
    {
      "cell_type": "code",
      "metadata": {
        "id": "LzVB6VIwM2ta",
        "outputId": "0897178a-6b82-4b89-bfc7-c6d2ada20daa",
        "colab": {
          "base_uri": "https://localhost:8080/"
        }
      },
      "source": [
        "vgg = VGG16(weights=None,\n",
        "              include_top=False,input_shape = [224,224,3])\n",
        "\n",
        "output = vgg.output\n",
        "x = Flatten()(output)\n",
        "x = Dense(4096,activation = 'relu')(x)\n",
        "x = Dense(4096,activation = 'relu')(x)\n",
        "x = Dense(2622,activation = 'softmax')(x)\n",
        "\n",
        "model2 = Model(inputs = vgg.input, outputs = x)\n",
        "model2.load_weights('/content/vggface_files/vggface_weights.h5')\n",
        "model2.summary()\n",
        "\n",
        "model = VGG16(weights=None,\n",
        "              include_top=False,input_shape = [224,224,3])\n",
        "\n",
        "for layer in range(13):\n",
        "  model.layers[layer].set_weights(model2.layers[layer].get_weights())\n"
      ],
      "execution_count": 73,
      "outputs": [
        {
          "output_type": "stream",
          "text": [
            "Model: \"model_6\"\n",
            "_________________________________________________________________\n",
            "Layer (type)                 Output Shape              Param #   \n",
            "=================================================================\n",
            "input_2 (InputLayer)         [(None, 224, 224, 3)]     0         \n",
            "_________________________________________________________________\n",
            "block1_conv1 (Conv2D)        (None, 224, 224, 64)      1792      \n",
            "_________________________________________________________________\n",
            "block1_conv2 (Conv2D)        (None, 224, 224, 64)      36928     \n",
            "_________________________________________________________________\n",
            "block1_pool (MaxPooling2D)   (None, 112, 112, 64)      0         \n",
            "_________________________________________________________________\n",
            "block2_conv1 (Conv2D)        (None, 112, 112, 128)     73856     \n",
            "_________________________________________________________________\n",
            "block2_conv2 (Conv2D)        (None, 112, 112, 128)     147584    \n",
            "_________________________________________________________________\n",
            "block2_pool (MaxPooling2D)   (None, 56, 56, 128)       0         \n",
            "_________________________________________________________________\n",
            "block3_conv1 (Conv2D)        (None, 56, 56, 256)       295168    \n",
            "_________________________________________________________________\n",
            "block3_conv2 (Conv2D)        (None, 56, 56, 256)       590080    \n",
            "_________________________________________________________________\n",
            "block3_conv3 (Conv2D)        (None, 56, 56, 256)       590080    \n",
            "_________________________________________________________________\n",
            "block3_pool (MaxPooling2D)   (None, 28, 28, 256)       0         \n",
            "_________________________________________________________________\n",
            "block4_conv1 (Conv2D)        (None, 28, 28, 512)       1180160   \n",
            "_________________________________________________________________\n",
            "block4_conv2 (Conv2D)        (None, 28, 28, 512)       2359808   \n",
            "_________________________________________________________________\n",
            "block4_conv3 (Conv2D)        (None, 28, 28, 512)       2359808   \n",
            "_________________________________________________________________\n",
            "block4_pool (MaxPooling2D)   (None, 14, 14, 512)       0         \n",
            "_________________________________________________________________\n",
            "block5_conv1 (Conv2D)        (None, 14, 14, 512)       2359808   \n",
            "_________________________________________________________________\n",
            "block5_conv2 (Conv2D)        (None, 14, 14, 512)       2359808   \n",
            "_________________________________________________________________\n",
            "block5_conv3 (Conv2D)        (None, 14, 14, 512)       2359808   \n",
            "_________________________________________________________________\n",
            "block5_pool (MaxPooling2D)   (None, 7, 7, 512)         0         \n",
            "_________________________________________________________________\n",
            "flatten_1 (Flatten)          (None, 25088)             0         \n",
            "_________________________________________________________________\n",
            "dense (Dense)                (None, 4096)              102764544 \n",
            "_________________________________________________________________\n",
            "dense_1 (Dense)              (None, 4096)              16781312  \n",
            "_________________________________________________________________\n",
            "dense_2 (Dense)              (None, 2622)              10742334  \n",
            "=================================================================\n",
            "Total params: 145,002,878\n",
            "Trainable params: 145,002,878\n",
            "Non-trainable params: 0\n",
            "_________________________________________________________________\n"
          ],
          "name": "stdout"
        }
      ]
    },
    {
      "cell_type": "code",
      "metadata": {
        "id": "QMxZPtSnWNdZ"
      },
      "source": [
        "#!/usr/bin/env python3\n",
        "# -*- coding: utf-8 -*-\n",
        "\"\"\"\n",
        "Created on Sat Oct 10 02:39:43 2020\n",
        "\n",
        "@author: soukhind\n",
        "\"\"\"\n",
        "import numpy as np\n",
        "import tensorflow as tf\n",
        "from tensorflow.keras.layers import Activation\n",
        "from tensorflow.keras.activations import relu\n",
        "from keras.utils.generic_utils import get_custom_objects\n",
        "from tensorflow.keras.callbacks import EarlyStopping\n",
        "from vis.utils import utils\n",
        "from tensorflow.python.ops import nn\n",
        "from tensorflow import math\n",
        "import time\n",
        "from sklearn.metrics import roc_curve,accuracy_score,precision_recall_curve,f1_score\n",
        "\n",
        "def gen_attnmap(modifier,mask,category,bi,atype):\n",
        "    \"\"\"\n",
        "    \n",
        "\n",
        "    Parameters\n",
        "    ----------\n",
        "    modifier : list\n",
        "        modifier to be used to implement attention.\n",
        "    mask : ndarray\n",
        "        binary vector to determine which layer to apply attention at. \n",
        "        include attention strength by multiplying to it\n",
        "    category : ndarray\n",
        "        cateogies .\n",
        "    bi : boolean \n",
        "        bidirectionality\n",
        "        True & False.\n",
        "    atype: int\n",
        "        1 = Multiplicative\n",
        "        2 = Additive\n",
        "    Returns\n",
        "    -------\n",
        "    tensor_attnmap : tensor\n",
        "        attention map.\n",
        "\n",
        "    \"\"\"\n",
        "    attnmap = []\n",
        "    #beta = calc_beta(avg_tun_activ)/10\n",
        "  \n",
        "    #conv1_1 & conv1_2\n",
        "    for layer in range(2):\n",
        "        mapval = np.float32(modifier[category][layer])\n",
        "        if bi == False:\n",
        "            mapval[mapval < 0] = 0\n",
        "        if atype == 1:\n",
        "          amap = np.ones((224,224,64),dtype='float32') + np.tile(mapval,[224,224,1])* mask[layer]\n",
        "        elif atype == 2:\n",
        "          amap = np.tile(mapval,[224,224,1])* mask[layer]\n",
        "        #amap[amap < 0] = 0\n",
        "        attnmap.append(amap)\n",
        "    \n",
        "    #conv2_1 & conv2_2\n",
        "    for layer in range(2,4):\n",
        "        mapval = np.float32(modifier[category][layer])\n",
        "        if bi == False:\n",
        "            mapval[mapval < 0] = 0\n",
        "        if atype == 1:\n",
        "          amap = np.ones((112,112,128),dtype='float32') + np.tile(mapval,[112,112,1])* mask[layer]\n",
        "        elif atype == 2:\n",
        "          amap = np.tile(mapval,[112,112,1])* mask[layer]\n",
        "        #amap[amap < 0] = 0\n",
        "        attnmap.append(amap)\n",
        "    \n",
        "    #conv3_1 - conv3_3\n",
        "    for layer in range(4,7):\n",
        "        mapval = np.float32(modifier[category][layer])\n",
        "        if bi == False:\n",
        "            mapval[mapval < 0] = 0\n",
        "        if atype == 1:\n",
        "          amap = np.ones((56,56,256),dtype='float32') + np.tile(mapval,[56,56,1])* mask[layer]\n",
        "        elif atype == 2:\n",
        "          amap = np.tile(mapval,[56,56,1])* mask[layer]\n",
        "        #amap[amap < 0] = 0\n",
        "        attnmap.append(amap)\n",
        "    \n",
        "    #conv4_1 - conv4_3\n",
        "    for layer in range(7,10):\n",
        "        mapval = np.float32(modifier[category][layer])\n",
        "        if bi == False:\n",
        "            mapval[mapval < 0] = 0\n",
        "        if atype == 1:\n",
        "          amap = np.ones((28,28,512),dtype='float32') + np.tile(mapval,[28,28,1])* mask[layer]\n",
        "        elif atype == 2:\n",
        "          amap = np.tile(mapval,[28,28,1])* mask[layer]\n",
        "        #amap[amap < 0] = 0\n",
        "        attnmap.append(amap)\n",
        "    \n",
        "    #conv5_1 - conv5_3\n",
        "    for layer in range(10,13):\n",
        "        mapval = np.float32(modifier[category][layer])\n",
        "        if bi == False:\n",
        "            mapval[mapval < 0] = 0\n",
        "        if atype ==1:\n",
        "          amap = np.ones((14,14,512),dtype='float32') + np.tile(mapval,[14,14,1])* mask[layer]\n",
        "        elif atype == 2:\n",
        "          amap = np.tile(mapval,[14,14,1])* mask[layer]\n",
        "        #amap[amap < 0] = 0\n",
        "        attnmap.append(amap)\n",
        "    \n",
        "    tensor_attnmap = []\n",
        "    for layer in range(len(attnmap)):\n",
        "      tensor_attnmap.append(tf.convert_to_tensor(attnmap[layer])) \n",
        "    \n",
        "    return tensor_attnmap\n",
        "\n",
        "\n",
        "\n",
        "def avg_accuracy(data_train,train_labels,\n",
        "                 data_test,test_labels,\n",
        "                 modifier,\n",
        "                 model,top_model,idxpath,\n",
        "                 category,\n",
        "                 atstrng,\n",
        "                 bidir = True,\n",
        "                 atype = 1):\n",
        "    \"\"\"\n",
        "    \n",
        "\n",
        "    Parameters\n",
        "    ----------\n",
        "    data_train : ndarray\n",
        "        Training data.\n",
        "    train_labels : categorical\n",
        "        Training labels.\n",
        "    data_test : ndarray\n",
        "        Testing data.\n",
        "    test_labels : categorical\n",
        "        Testing labels.\n",
        "    categories : ndarray\n",
        "        Names of each category.\n",
        "    modifier : list\n",
        "        modifier to be used to implement attention.\n",
        "    model : keras model\n",
        "        base model.\n",
        "    top_model : keras model\n",
        "        top model.\n",
        "    idxpath : string\n",
        "        for internal use.\n",
        "    atstrng : float32\n",
        "        attention strength.\n",
        "    bidir : bool, optional\n",
        "        Bidirectionality. The default is True.\n",
        "    atype: int\n",
        "        1 = Multiplicative\n",
        "        2 = Additive\n",
        "    Returns\n",
        "    -------\n",
        "    t_acc\n",
        "        Accuracy for each category at each layer.\n",
        "\n",
        "    \"\"\"\n",
        "    \n",
        "    epochs = 30    \n",
        "    n_layers = 13\n",
        "    t_acc = np.zeros(n_layers)\n",
        "    thr = np.zeros(n_layers)\n",
        "    for li in range(n_layers):\n",
        "        layermask = np.zeros(13)\n",
        "        layermask[li] = 1\n",
        "        tensor_attnmap = gen_attnmap(modifier,layermask*atstrng,category,bidir,atype)\n",
        "        \n",
        "        \n",
        "        def attnrelu(x,map = tensor_attnmap,atype = atype):\n",
        "            layeridx = np.load(idxpath)\n",
        "            if layeridx == 13:\n",
        "                layeridx = 0\n",
        "            if atype == 1:\n",
        "              x = nn.relu(x)\n",
        "              activations = math.multiply(x,map[layeridx])\n",
        "            if atype == 2:\n",
        "              activations = math.add(x,map[layeridx])\n",
        "              activations = nn.relu(activations)\n",
        "            layeridx += 1\n",
        "            np.save(idxpath,layeridx)\n",
        "            return activations\n",
        "    \n",
        "        get_custom_objects().update({'attnrelu': Activation(attnrelu)})\n",
        "    \n",
        "        for layer in model.layers:\n",
        "            if(hasattr(layer,'activation')):\n",
        "                layer.activation = attnrelu\n",
        "    \n",
        "        utils.apply_modifications(model)\n",
        "        model.compile()\n",
        "        \n",
        "        f_train = model.predict(data_train)     \n",
        "    \n",
        "        f_test = model.predict(data_test)\n",
        "        es = EarlyStopping(monitor='loss', mode='min', verbose=1)\n",
        "  \n",
        "        history = top_model.fit(x = f_train,  y = train_labels,\n",
        "                epochs=epochs,\n",
        "                batch_size=64,\n",
        "                verbose = 0, callbacks = [])\n",
        "    \n",
        "        out = top_model.evaluate(f_test, test_labels)\n",
        "        t_acc[li] = out[1]\n",
        "\n",
        "    return t_acc\n",
        "\n",
        "\n",
        "def calc_beta(avg_act):\n",
        "  beta = [0 for item in avg_act]\n",
        "  for layer in range(len(avg_act)):\n",
        "    for item in avg_act[layer]:\n",
        "      beta[layer] += np.mean(item)\n",
        "      beta = np.array(beta)\n",
        "  return beta"
      ],
      "execution_count": null,
      "outputs": []
    },
    {
      "cell_type": "markdown",
      "metadata": {
        "id": "fP0gLmlmVz7q"
      },
      "source": [
        "### Driver\n",
        "This is the big loop which applies attention at each layer separately as a function of different attentional strengths. \n",
        "PS. This is very heavy and requires hours to finish.\n"
      ]
    },
    {
      "cell_type": "code",
      "metadata": {
        "id": "0foPTv5Git5q"
      },
      "source": [
        "#@title Multiplicative and bidirectionality corrected\n",
        "\n",
        "from vgg16obj.tools import model_calcs as mc\n",
        "import gc\n",
        "layeridx = 0\n",
        "np.save('layeridx',layeridx)\n",
        "#atstrng = 10.5 #0,0.5,1,1.5,2,2.5,3,3.5,4,4.5,5,5.5,6,6.5,7,7.5,8,8.5,9,9.5,10\n",
        "for atstrng in np.arange(0,10,1): #Calling for different attn strengths\n",
        "  grand_acc = [[] for i in range(6)] \n",
        "  for cat in range(6): # Iterating over 6 categories\n",
        "    tf.keras.backend.clear_session()\n",
        "    print('Category of interest: ', categories[cat])\n",
        "    train_it = np.concatenate((reg_train[cat],reg_train[cat + 6])) # Training on regular data\n",
        "    test_it = np.concatenate((data_test[cat],data_test[cat + 6])) # Testing on merged data\n",
        "    print(train_it.shape,test_it.shape)\n",
        "    model = VGG16(weights= None,\n",
        "                        include_top=False,input_shape = [224,224,3])\n",
        "    \n",
        "    for layer in range(13):\n",
        "      model.layers[layer].set_weights(model2.layers[layer].get_weights())\n",
        "    top_model = Sequential()\n",
        "    top_model.add(Flatten(input_shape=features_train.shape[1:])) \n",
        "    top_model.add(Dense(4096, activation='relu',name = 'top_dense1')) \n",
        "    top_model.add(Dense(4096, activation='relu',name = 'top_dense2')) \n",
        "    top_model.add(Dense(2, activation='sigmoid',name = 'predictions'))\n",
        "    top_model.compile(optimizer= Adam(lr=1e-5),\n",
        "                loss='binary_crossentropy',\n",
        "                metrics=['accuracy'])\n",
        "    \n",
        "    # Read avg_accuracy's definition to learn about the parameters\n",
        "    grand_acc[cat] = avg_accuracy(train_it,\n",
        "                              train_labels,\n",
        "                              test_it,\n",
        "                              test_labels,\n",
        "                              fc,\n",
        "                              model,\n",
        "                              top_model,\n",
        "                              '/content/layeridx.npy',\n",
        "                              cat,\n",
        "                              atstrng,\n",
        "                              bidir = True,\n",
        "                              atype = 1 )\n",
        "  grand_acc = np.array(grand_acc)\n",
        "  grand_acc.reshape([13,6,13])\n",
        "  # Use tun_accuracy_multi for multiplicative mode (atype = 1) and\n",
        "  # use tun_accuracy_bias for bias mode (atype = 2)\n",
        "  np.save('tun_accuracy_multi' + str(atstrng),grand_acc)\n",
        "\n"
      ],
      "execution_count": null,
      "outputs": []
    },
    {
      "cell_type": "code",
      "metadata": {
        "id": "_D_xfrLyptgA"
      },
      "source": [
        "grand_acc = np.array(grand_acc)\n",
        "grand_acc.reshape([1,6,13])\n",
        "np.save('tun_accuracy_new' + str(atstrng),grand_acc)"
      ],
      "execution_count": null,
      "outputs": []
    },
    {
      "cell_type": "code",
      "metadata": {
        "id": "8aeOcsA8jVFs",
        "colab": {
          "base_uri": "https://localhost:8080/",
          "height": 362
        },
        "outputId": "dabfbdff-b3c0-431a-b55c-5f5687afae8a"
      },
      "source": [
        "import seaborn as sns\n",
        "sns.set(style=\"white\",rc={\"lines.linewidth\": 0.7})\n",
        "plt.figure(figsize = (15,5))\n",
        "ax = sns.pointplot(data = grand_acc, color = 'mediumseagreen',\n",
        "                   errorwidth = 0.1 , capsize = 0.2)\n",
        "ax.set_xlabel('Layer',size = 20)\n",
        "ax.set_xticklabels(np.arange(1,14))\n",
        "ax.set_ylabel('Avg. acc.',size = 20)\n"
      ],
      "execution_count": null,
      "outputs": [
        {
          "output_type": "execute_result",
          "data": {
            "text/plain": [
              "Text(0, 0.5, 'Avg. acc.')"
            ]
          },
          "metadata": {
            "tags": []
          },
          "execution_count": 39
        },
        {
          "output_type": "display_data",
          "data": {
            "image/png": "[encoded data removed]",
            "text/plain": [
              "<Figure size 1080x360 with 1 Axes>"
            ]
          },
          "metadata": {
            "tags": []
          }
        }
      ]
    },
    {
      "cell_type": "markdown",
      "metadata": {
        "id": "wY8oDGHaSuqf"
      },
      "source": [
        "### Regular Accuracy\n",
        "Calculate the regular accuracy so that they can be contrasted against when attention is applied."
      ]
    },
    {
      "cell_type": "markdown",
      "metadata": {
        "id": "6Xe_unm5Pw76"
      },
      "source": [
        ""
      ]
    },
    {
      "cell_type": "code",
      "metadata": {
        "id": "vLuKzW56SuEZ",
        "colab": {
          "base_uri": "https://localhost:8080/"
        },
        "outputId": "5220fcff-cb5a-4e95-b86f-9559400b107c"
      },
      "source": [
        "# Reinitialising the models for calculating regular accuracy\n",
        "model = VGG16(weights=None,\n",
        "              include_top=False,input_shape = [224,224,3])\n",
        "\n",
        "for layer in range(13):\n",
        "  model.layers[layer].set_weights(model2.layers[layer].get_weights())\n",
        "\n",
        "          \n",
        "categories = ['Male','Female','Manmade','Natural','Powered','Nonpowered']\n",
        "interest = 0\n",
        "print('Category of interest: ', categories[interest])\n",
        "train_it = np.concatenate((reg_train[interest],reg_train[interest + 6]))\n",
        "test_it = np.concatenate((reg_test[interest],reg_test[interest + 6]))\n",
        "print(train_it.shape,test_it.shape)\n",
        "\n",
        "start = time.time()\n",
        "features_train = model.predict(train_it) \n",
        "print(f'Train Time: {time.time() - start}')\n",
        "\n",
        "start = time.time()\n",
        "features_test = model.predict(test_it) \n",
        "print(f'Test Time: {time.time() - start}')\n",
        "epochs = 30\n",
        "\n",
        "ntrain = 80\n",
        "train_labels = to_categorical([0] * ntrain + [1]*ntrain)\n",
        "\n",
        "\n",
        "ntest = 40\n",
        "test_labels = to_categorical([0] * ntest + [1]*ntest) \n",
        "\n",
        "losses = 'binary_crossentropy'\n",
        "\n",
        "# Initialize the top model with FC layers. These are the only ones to be trained\n",
        "top_model = Sequential()\n",
        "top_model.add(Flatten(input_shape=features_train.shape[1:])) \n",
        "top_model.add(Dense(4096, activation='relu',name = 'top_dense1')) \n",
        "top_model.add(Dense(2, activation='softmax',name = 'predictions'))\n",
        "\n",
        "top_model.compile(optimizer= Adam(lr=1e-5),\n",
        "              loss=losses,\n",
        "              metrics=['accuracy'])\n",
        "#top_model.summary()\n",
        "\n",
        "es = EarlyStopping(monitor='loss', mode='min', verbose=1)\n",
        "\n",
        "categories = ['Male','Female','Manmade','Natural','Powered','Nonpowered']\n",
        "iter = 10\n",
        "\n",
        "acc = np.zeros((iter,6))\n",
        "for i in range(iter):\n",
        "  for cat in range(6):\n",
        "\n",
        "    print('Category of interest: ', categories[cat])\n",
        "    train_it = np.concatenate((reg_train[cat],reg_train[cat + 6])) # Train on regular data\n",
        "    \n",
        "    test_it = np.concatenate((data_test[cat],data_test[cat + 6])) # Test on merged data\n",
        "    print(train_it.shape,test_it.shape)\n",
        "\n",
        "    \n",
        "    start = time.time()\n",
        "    train_data = model.predict(train_it) \n",
        "    print(f'Train Time: {time.time() - start}')\n",
        "\n",
        "    start = time.time()\n",
        "    test_data = model.predict(test_it) \n",
        "    print(f'Test Time: {time.time() - start}')\n",
        "    \n",
        "    history = top_model.fit(x = train_data,  y = train_labels,\n",
        "            epochs=epochs,\n",
        "            batch_size=64,\n",
        "            verbose = 0, callbacks = [es])\n",
        "\n",
        "    out = top_model.evaluate(test_data, test_labels)\n",
        "    acc[i,cat] = out[1]\n",
        "    print(out)"
      ],
      "execution_count": null,
      "outputs": [
        {
          "output_type": "stream",
          "text": [
            "Category of interest:  Male\n",
            "(160, 224, 224, 3) (80, 224, 224, 3)\n",
            "Train Time: 0.7326698303222656\n",
            "Test Time: 0.3981170654296875\n",
            "Category of interest:  Male\n",
            "(160, 224, 224, 3) (80, 224, 224, 3)\n",
            "Train Time: 0.6011404991149902\n",
            "Test Time: 0.3272078037261963\n",
            "Epoch 00004: early stopping\n",
            "3/3 [==============================] - 0s 4ms/step - loss: 0.3676 - accuracy: 0.8125\n",
            "[0.3676280379295349, 0.8125]\n",
            "Category of interest:  Female\n",
            "(160, 224, 224, 3) (80, 224, 224, 3)\n",
            "Train Time: 0.6022474765777588\n",
            "Test Time: 0.3363356590270996\n",
            "Epoch 00002: early stopping\n",
            "3/3 [==============================] - 0s 3ms/step - loss: 0.8211 - accuracy: 0.6625\n",
            "[0.8210544586181641, 0.6625000238418579]\n",
            "Category of interest:  Manmade\n",
            "(160, 224, 224, 3) (80, 224, 224, 3)\n",
            "Train Time: 0.6008810997009277\n",
            "Test Time: 0.33910155296325684\n",
            "Epoch 00002: early stopping\n",
            "3/3 [==============================] - 0s 3ms/step - loss: 1.9550 - accuracy: 0.3250\n",
            "[1.9550418853759766, 0.32499998807907104]\n",
            "Category of interest:  Natural\n",
            "(160, 224, 224, 3) (80, 224, 224, 3)\n",
            "Train Time: 0.6082701683044434\n",
            "Test Time: 0.33788561820983887\n",
            "3/3 [==============================] - 0s 3ms/step - loss: 0.4998 - accuracy: 0.7500\n",
            "[0.4998309016227722, 0.75]\n",
            "Category of interest:  Powered\n",
            "(160, 224, 224, 3) (80, 224, 224, 3)\n",
            "Train Time: 0.598332405090332\n",
            "Test Time: 0.3365917205810547\n",
            "3/3 [==============================] - 0s 3ms/step - loss: 0.7899 - accuracy: 0.6375\n",
            "[0.789892852306366, 0.637499988079071]\n",
            "Category of interest:  Nonpowered\n",
            "(160, 224, 224, 3) (80, 224, 224, 3)\n",
            "Train Time: 0.5951931476593018\n",
            "Test Time: 0.33446621894836426\n",
            "Epoch 00017: early stopping\n",
            "3/3 [==============================] - 0s 3ms/step - loss: 0.9470 - accuracy: 0.6000\n",
            "[0.9469684362411499, 0.6000000238418579]\n",
            "Category of interest:  Male\n",
            "(160, 224, 224, 3) (80, 224, 224, 3)\n",
            "Train Time: 0.5973043441772461\n",
            "Test Time: 0.33790111541748047\n",
            "Epoch 00009: early stopping\n",
            "3/3 [==============================] - 0s 3ms/step - loss: 0.8965 - accuracy: 0.7000\n",
            "[0.8965326547622681, 0.699999988079071]\n",
            "Category of interest:  Female\n",
            "(160, 224, 224, 3) (80, 224, 224, 3)\n",
            "Train Time: 0.5983867645263672\n",
            "Test Time: 0.33187222480773926\n",
            "Epoch 00011: early stopping\n",
            "3/3 [==============================] - 0s 4ms/step - loss: 1.3683 - accuracy: 0.6500\n",
            "[1.3682554960250854, 0.6499999761581421]\n",
            "Category of interest:  Manmade\n",
            "(160, 224, 224, 3) (80, 224, 224, 3)\n",
            "Train Time: 0.6083450317382812\n",
            "Test Time: 0.33814215660095215\n",
            "3/3 [==============================] - 0s 3ms/step - loss: 0.5600 - accuracy: 0.7250\n",
            "[0.5599672794342041, 0.7250000238418579]\n",
            "Category of interest:  Natural\n",
            "(160, 224, 224, 3) (80, 224, 224, 3)\n",
            "Train Time: 0.6070759296417236\n",
            "Test Time: 0.3396141529083252\n",
            "Epoch 00017: early stopping\n",
            "3/3 [==============================] - 0s 4ms/step - loss: 0.6701 - accuracy: 0.7125\n",
            "[0.6700837016105652, 0.7124999761581421]\n",
            "Category of interest:  Powered\n",
            "(160, 224, 224, 3) (80, 224, 224, 3)\n",
            "Train Time: 0.6069400310516357\n",
            "Test Time: 0.34908485412597656\n",
            "Epoch 00002: early stopping\n",
            "3/3 [==============================] - 0s 3ms/step - loss: 1.7639 - accuracy: 0.4250\n",
            "[1.7639045715332031, 0.42500001192092896]\n",
            "Category of interest:  Nonpowered\n",
            "(160, 224, 224, 3) (80, 224, 224, 3)\n",
            "Train Time: 0.6039254665374756\n",
            "Test Time: 0.3402113914489746\n",
            "3/3 [==============================] - 0s 3ms/step - loss: 1.0332 - accuracy: 0.6375\n",
            "[1.0332375764846802, 0.637499988079071]\n",
            "Category of interest:  Male\n",
            "(160, 224, 224, 3) (80, 224, 224, 3)\n",
            "Train Time: 0.6078488826751709\n",
            "Test Time: 0.3453085422515869\n",
            "Epoch 00008: early stopping\n",
            "3/3 [==============================] - 0s 4ms/step - loss: 0.8401 - accuracy: 0.6750\n",
            "[0.8401159048080444, 0.675000011920929]\n",
            "Category of interest:  Female\n",
            "(160, 224, 224, 3) (80, 224, 224, 3)\n",
            "Train Time: 0.6167502403259277\n",
            "Test Time: 0.34769368171691895\n",
            "Epoch 00007: early stopping\n",
            "3/3 [==============================] - 0s 3ms/step - loss: 1.2257 - accuracy: 0.6125\n",
            "[1.225743293762207, 0.612500011920929]\n",
            "Category of interest:  Manmade\n",
            "(160, 224, 224, 3) (80, 224, 224, 3)\n",
            "Train Time: 0.6125164031982422\n",
            "Test Time: 0.35320162773132324\n",
            "Epoch 00007: early stopping\n",
            "3/3 [==============================] - 0s 3ms/step - loss: 0.8096 - accuracy: 0.6250\n",
            "[0.8096203804016113, 0.625]\n",
            "Category of interest:  Natural\n",
            "(160, 224, 224, 3) (80, 224, 224, 3)\n",
            "Train Time: 0.6239969730377197\n",
            "Test Time: 0.352672815322876\n",
            "Epoch 00010: early stopping\n",
            "3/3 [==============================] - 0s 3ms/step - loss: 0.7250 - accuracy: 0.6500\n",
            "[0.7249809503555298, 0.6499999761581421]\n",
            "Category of interest:  Powered\n",
            "(160, 224, 224, 3) (80, 224, 224, 3)\n",
            "Train Time: 0.6179375648498535\n",
            "Test Time: 0.35553646087646484\n",
            "Epoch 00002: early stopping\n",
            "3/3 [==============================] - 0s 4ms/step - loss: 1.8356 - accuracy: 0.4500\n",
            "[1.8355804681777954, 0.44999998807907104]\n",
            "Category of interest:  Nonpowered\n",
            "(160, 224, 224, 3) (80, 224, 224, 3)\n",
            "Train Time: 0.6091232299804688\n",
            "Test Time: 0.3582315444946289\n",
            "Epoch 00005: early stopping\n",
            "3/3 [==============================] - 0s 4ms/step - loss: 1.7702 - accuracy: 0.4875\n",
            "[1.7701599597930908, 0.48750001192092896]\n",
            "Category of interest:  Male\n",
            "(160, 224, 224, 3) (80, 224, 224, 3)\n",
            "Train Time: 0.6231398582458496\n",
            "Test Time: 0.3621041774749756\n",
            "Epoch 00009: early stopping\n",
            "3/3 [==============================] - 0s 4ms/step - loss: 0.8165 - accuracy: 0.6375\n",
            "[0.8164560198783875, 0.637499988079071]\n",
            "Category of interest:  Female\n",
            "(160, 224, 224, 3) (80, 224, 224, 3)\n",
            "Train Time: 0.631812572479248\n",
            "Test Time: 0.36275649070739746\n",
            "Epoch 00002: early stopping\n",
            "3/3 [==============================] - 0s 3ms/step - loss: 1.1120 - accuracy: 0.5750\n",
            "[1.1119903326034546, 0.574999988079071]\n",
            "Category of interest:  Manmade\n",
            "(160, 224, 224, 3) (80, 224, 224, 3)\n",
            "Train Time: 0.6301398277282715\n",
            "Test Time: 0.3694276809692383\n",
            "3/3 [==============================] - 0s 4ms/step - loss: 0.5230 - accuracy: 0.7625\n",
            "[0.522957444190979, 0.762499988079071]\n",
            "Category of interest:  Natural\n",
            "(160, 224, 224, 3) (80, 224, 224, 3)\n",
            "Train Time: 0.6379306316375732\n",
            "Test Time: 0.3747413158416748\n",
            "Epoch 00002: early stopping\n",
            "3/3 [==============================] - 0s 4ms/step - loss: 0.8266 - accuracy: 0.6250\n",
            "[0.8265790939331055, 0.625]\n",
            "Category of interest:  Powered\n",
            "(160, 224, 224, 3) (80, 224, 224, 3)\n",
            "Train Time: 0.627220869064331\n",
            "Test Time: 0.3718852996826172\n",
            "3/3 [==============================] - 0s 4ms/step - loss: 0.8760 - accuracy: 0.6000\n",
            "[0.876007080078125, 0.6000000238418579]\n",
            "Category of interest:  Nonpowered\n",
            "(160, 224, 224, 3) (80, 224, 224, 3)\n",
            "Train Time: 0.6358582973480225\n",
            "Test Time: 0.3716905117034912\n",
            "Epoch 00012: early stopping\n",
            "3/3 [==============================] - 0s 4ms/step - loss: 0.9424 - accuracy: 0.6250\n",
            "[0.942389965057373, 0.625]\n",
            "Category of interest:  Male\n",
            "(160, 224, 224, 3) (80, 224, 224, 3)\n",
            "Train Time: 0.6554226875305176\n",
            "Test Time: 0.37952518463134766\n",
            "Epoch 00008: early stopping\n",
            "3/3 [==============================] - 0s 4ms/step - loss: 0.7807 - accuracy: 0.6625\n",
            "[0.7807124853134155, 0.6625000238418579]\n",
            "Category of interest:  Female\n",
            "(160, 224, 224, 3) (80, 224, 224, 3)\n",
            "Train Time: 0.6515505313873291\n",
            "Test Time: 0.377305269241333\n",
            "Epoch 00014: early stopping\n",
            "3/3 [==============================] - 0s 3ms/step - loss: 1.1739 - accuracy: 0.6250\n",
            "[1.1738557815551758, 0.625]\n",
            "Category of interest:  Manmade\n",
            "(160, 224, 224, 3) (80, 224, 224, 3)\n",
            "Train Time: 0.666276216506958\n",
            "Test Time: 0.386627197265625\n",
            "3/3 [==============================] - 0s 4ms/step - loss: 0.5577 - accuracy: 0.7250\n",
            "[0.557667076587677, 0.7250000238418579]\n",
            "Category of interest:  Natural\n",
            "(160, 224, 224, 3) (80, 224, 224, 3)\n",
            "Train Time: 0.6449124813079834\n",
            "Test Time: 0.3746490478515625\n",
            "Epoch 00019: early stopping\n",
            "3/3 [==============================] - 0s 4ms/step - loss: 0.7628 - accuracy: 0.6750\n",
            "[0.7627760171890259, 0.675000011920929]\n",
            "Category of interest:  Powered\n",
            "(160, 224, 224, 3) (80, 224, 224, 3)\n",
            "Train Time: 0.6483719348907471\n",
            "Test Time: 0.37711000442504883\n",
            "Epoch 00002: early stopping\n",
            "3/3 [==============================] - 0s 4ms/step - loss: 2.0542 - accuracy: 0.4375\n",
            "[2.0542054176330566, 0.4375]\n",
            "Category of interest:  Nonpowered\n",
            "(160, 224, 224, 3) (80, 224, 224, 3)\n",
            "Train Time: 0.6348211765289307\n",
            "Test Time: 0.37451887130737305\n",
            "Epoch 00005: early stopping\n",
            "3/3 [==============================] - 0s 4ms/step - loss: 1.8861 - accuracy: 0.4625\n",
            "[1.8861147165298462, 0.4625000059604645]\n",
            "Category of interest:  Male\n",
            "(160, 224, 224, 3) (80, 224, 224, 3)\n",
            "Train Time: 0.6300311088562012\n",
            "Test Time: 0.37830686569213867\n",
            "Epoch 00002: early stopping\n",
            "3/3 [==============================] - 0s 4ms/step - loss: 2.7294 - accuracy: 0.4750\n",
            "[2.7293717861175537, 0.4749999940395355]\n",
            "Category of interest:  Female\n",
            "(160, 224, 224, 3) (80, 224, 224, 3)\n",
            "Train Time: 0.639991283416748\n",
            "Test Time: 0.36960911750793457\n",
            "Epoch 00002: early stopping\n",
            "3/3 [==============================] - 0s 3ms/step - loss: 2.6297 - accuracy: 0.5000\n",
            "[2.6296613216400146, 0.5]\n",
            "Category of interest:  Manmade\n",
            "(160, 224, 224, 3) (80, 224, 224, 3)\n",
            "Train Time: 0.6420896053314209\n",
            "Test Time: 0.3723866939544678\n",
            "Epoch 00008: early stopping\n",
            "3/3 [==============================] - 0s 3ms/step - loss: 0.7727 - accuracy: 0.6125\n",
            "[0.7727171182632446, 0.612500011920929]\n",
            "Category of interest:  Natural\n",
            "(160, 224, 224, 3) (80, 224, 224, 3)\n",
            "Train Time: 0.634089469909668\n",
            "Test Time: 0.3749716281890869\n",
            "Epoch 00011: early stopping\n",
            "3/3 [==============================] - 0s 4ms/step - loss: 0.8058 - accuracy: 0.6875\n",
            "[0.8058274984359741, 0.6875]\n",
            "Category of interest:  Powered\n",
            "(160, 224, 224, 3) (80, 224, 224, 3)\n",
            "Train Time: 0.628032922744751\n",
            "Test Time: 0.36184215545654297\n",
            "3/3 [==============================] - 0s 3ms/step - loss: 0.9814 - accuracy: 0.5750\n",
            "[0.9814025163650513, 0.574999988079071]\n",
            "Category of interest:  Nonpowered\n",
            "(160, 224, 224, 3) (80, 224, 224, 3)\n",
            "Train Time: 0.6201808452606201\n",
            "Test Time: 0.36385178565979004\n",
            "3/3 [==============================] - 0s 3ms/step - loss: 1.0143 - accuracy: 0.6375\n",
            "[1.0143487453460693, 0.637499988079071]\n",
            "Category of interest:  Male\n",
            "(160, 224, 224, 3) (80, 224, 224, 3)\n",
            "Train Time: 0.6231908798217773\n",
            "Test Time: 0.3603665828704834\n",
            "Epoch 00007: early stopping\n",
            "3/3 [==============================] - 0s 4ms/step - loss: 0.7856 - accuracy: 0.6625\n",
            "[0.7855713963508606, 0.6625000238418579]\n",
            "Category of interest:  Female\n",
            "(160, 224, 224, 3) (80, 224, 224, 3)\n",
            "Train Time: 0.6270997524261475\n",
            "Test Time: 0.35651230812072754\n",
            "Epoch 00012: early stopping\n",
            "3/3 [==============================] - 0s 4ms/step - loss: 1.2493 - accuracy: 0.6000\n",
            "[1.2492809295654297, 0.6000000238418579]\n",
            "Category of interest:  Manmade\n",
            "(160, 224, 224, 3) (80, 224, 224, 3)\n",
            "Train Time: 0.6256773471832275\n",
            "Test Time: 0.34722352027893066\n",
            "Epoch 00002: early stopping\n",
            "3/3 [==============================] - 0s 3ms/step - loss: 2.2693 - accuracy: 0.3625\n",
            "[2.2692625522613525, 0.36250001192092896]\n",
            "Category of interest:  Natural\n",
            "(160, 224, 224, 3) (80, 224, 224, 3)\n",
            "Train Time: 0.6372971534729004\n",
            "Test Time: 0.37047362327575684\n",
            "Epoch 00008: early stopping\n",
            "3/3 [==============================] - 0s 4ms/step - loss: 0.7957 - accuracy: 0.7000\n",
            "[0.795709490776062, 0.699999988079071]\n",
            "Category of interest:  Powered\n",
            "(160, 224, 224, 3) (80, 224, 224, 3)\n",
            "Train Time: 0.6203451156616211\n",
            "Test Time: 0.35723137855529785\n",
            "Epoch 00007: early stopping\n",
            "3/3 [==============================] - 0s 4ms/step - loss: 1.6011 - accuracy: 0.4750\n",
            "[1.6011472940444946, 0.4749999940395355]\n",
            "Category of interest:  Nonpowered\n",
            "(160, 224, 224, 3) (80, 224, 224, 3)\n",
            "Train Time: 0.6181564331054688\n",
            "Test Time: 0.36345791816711426\n",
            "Epoch 00011: early stopping\n",
            "3/3 [==============================] - 0s 4ms/step - loss: 1.2360 - accuracy: 0.5500\n",
            "[1.2359521389007568, 0.550000011920929]\n",
            "Category of interest:  Male\n",
            "(160, 224, 224, 3) (80, 224, 224, 3)\n",
            "Train Time: 0.6199285984039307\n",
            "Test Time: 0.36225342750549316\n",
            "Epoch 00007: early stopping\n",
            "3/3 [==============================] - 0s 3ms/step - loss: 0.6635 - accuracy: 0.7250\n",
            "[0.6635398864746094, 0.7250000238418579]\n",
            "Category of interest:  Female\n",
            "(160, 224, 224, 3) (80, 224, 224, 3)\n",
            "Train Time: 0.613940954208374\n",
            "Test Time: 0.3574953079223633\n",
            "3/3 [==============================] - 0s 4ms/step - loss: 1.2463 - accuracy: 0.5750\n",
            "[1.2462637424468994, 0.574999988079071]\n",
            "Category of interest:  Manmade\n",
            "(160, 224, 224, 3) (80, 224, 224, 3)\n",
            "Train Time: 0.6256587505340576\n",
            "Test Time: 0.3572843074798584\n",
            "Epoch 00013: early stopping\n",
            "3/3 [==============================] - 0s 4ms/step - loss: 0.6081 - accuracy: 0.7125\n",
            "[0.608088493347168, 0.7124999761581421]\n",
            "Category of interest:  Natural\n",
            "(160, 224, 224, 3) (80, 224, 224, 3)\n",
            "Train Time: 0.6229808330535889\n",
            "Test Time: 0.3520336151123047\n",
            "3/3 [==============================] - 0s 4ms/step - loss: 0.8921 - accuracy: 0.7000\n",
            "[0.8921195268630981, 0.699999988079071]\n",
            "Category of interest:  Powered\n",
            "(160, 224, 224, 3) (80, 224, 224, 3)\n",
            "Train Time: 0.609879732131958\n",
            "Test Time: 0.3513195514678955\n",
            "3/3 [==============================] - 0s 4ms/step - loss: 1.0409 - accuracy: 0.5375\n",
            "[1.0409095287322998, 0.5375000238418579]\n",
            "Category of interest:  Nonpowered\n",
            "(160, 224, 224, 3) (80, 224, 224, 3)\n",
            "Train Time: 0.6103060245513916\n",
            "Test Time: 0.3399529457092285\n",
            "Epoch 00002: early stopping\n",
            "3/3 [==============================] - 0s 3ms/step - loss: 1.0364 - accuracy: 0.5625\n",
            "[1.0364465713500977, 0.5625]\n",
            "Category of interest:  Male\n",
            "(160, 224, 224, 3) (80, 224, 224, 3)\n",
            "Train Time: 0.6167926788330078\n",
            "Test Time: 0.3540380001068115\n",
            "Epoch 00010: early stopping\n",
            "3/3 [==============================] - 0s 3ms/step - loss: 0.6336 - accuracy: 0.7500\n",
            "[0.6335640549659729, 0.75]\n",
            "Category of interest:  Female\n",
            "(160, 224, 224, 3) (80, 224, 224, 3)\n",
            "Train Time: 0.6192917823791504\n",
            "Test Time: 0.35842227935791016\n",
            "Epoch 00013: early stopping\n",
            "3/3 [==============================] - 0s 3ms/step - loss: 1.0894 - accuracy: 0.6000\n",
            "[1.089431643486023, 0.6000000238418579]\n",
            "Category of interest:  Manmade\n",
            "(160, 224, 224, 3) (80, 224, 224, 3)\n",
            "Train Time: 0.6205644607543945\n",
            "Test Time: 0.3563551902770996\n",
            "3/3 [==============================] - 0s 4ms/step - loss: 0.5462 - accuracy: 0.7125\n",
            "[0.5462469458580017, 0.7124999761581421]\n",
            "Category of interest:  Natural\n",
            "(160, 224, 224, 3) (80, 224, 224, 3)\n",
            "Train Time: 0.6219301223754883\n",
            "Test Time: 0.35726261138916016\n",
            "3/3 [==============================] - 0s 4ms/step - loss: 0.8722 - accuracy: 0.7125\n",
            "[0.8721580505371094, 0.7124999761581421]\n",
            "Category of interest:  Powered\n",
            "(160, 224, 224, 3) (80, 224, 224, 3)\n",
            "Train Time: 0.6262788772583008\n",
            "Test Time: 0.36286044120788574\n",
            "Epoch 00002: early stopping\n",
            "3/3 [==============================] - 0s 4ms/step - loss: 1.9211 - accuracy: 0.4250\n",
            "[1.9211499691009521, 0.42500001192092896]\n",
            "Category of interest:  Nonpowered\n",
            "(160, 224, 224, 3) (80, 224, 224, 3)\n",
            "Train Time: 0.6262867450714111\n",
            "Test Time: 0.35341858863830566\n",
            "Epoch 00002: early stopping\n",
            "3/3 [==============================] - 0s 3ms/step - loss: 1.6067 - accuracy: 0.4875\n",
            "[1.606736183166504, 0.48750001192092896]\n",
            "Category of interest:  Male\n",
            "(160, 224, 224, 3) (80, 224, 224, 3)\n",
            "Train Time: 0.6207077503204346\n",
            "Test Time: 0.3720536231994629\n",
            "3/3 [==============================] - 0s 4ms/step - loss: 0.5927 - accuracy: 0.7125\n",
            "[0.5927232503890991, 0.7124999761581421]\n",
            "Category of interest:  Female\n",
            "(160, 224, 224, 3) (80, 224, 224, 3)\n",
            "Train Time: 0.6249852180480957\n",
            "Test Time: 0.3588700294494629\n",
            "Epoch 00005: early stopping\n",
            "3/3 [==============================] - 0s 4ms/step - loss: 1.0353 - accuracy: 0.6000\n",
            "[1.0352717638015747, 0.6000000238418579]\n",
            "Category of interest:  Manmade\n",
            "(160, 224, 224, 3) (80, 224, 224, 3)\n",
            "Train Time: 0.6347949504852295\n",
            "Test Time: 0.37011241912841797\n",
            "3/3 [==============================] - 0s 4ms/step - loss: 0.5963 - accuracy: 0.7125\n",
            "[0.5963336825370789, 0.7124999761581421]\n",
            "Category of interest:  Natural\n",
            "(160, 224, 224, 3) (80, 224, 224, 3)\n",
            "Train Time: 0.6289384365081787\n",
            "Test Time: 0.3617265224456787\n",
            "Epoch 00011: early stopping\n",
            "3/3 [==============================] - 0s 3ms/step - loss: 0.8007 - accuracy: 0.7000\n",
            "[0.8006618618965149, 0.699999988079071]\n",
            "Category of interest:  Powered\n",
            "(160, 224, 224, 3) (80, 224, 224, 3)\n",
            "Train Time: 0.6214616298675537\n",
            "Test Time: 0.3589036464691162\n",
            "Epoch 00003: early stopping\n",
            "3/3 [==============================] - 0s 4ms/step - loss: 2.1617 - accuracy: 0.5000\n",
            "[2.161651611328125, 0.5]\n",
            "Category of interest:  Nonpowered\n",
            "(160, 224, 224, 3) (80, 224, 224, 3)\n",
            "Train Time: 0.6227898597717285\n",
            "Test Time: 0.36713624000549316\n",
            "3/3 [==============================] - 0s 4ms/step - loss: 1.1660 - accuracy: 0.5750\n",
            "[1.166023850440979, 0.574999988079071]\n"
          ],
          "name": "stdout"
        }
      ]
    },
    {
      "cell_type": "markdown",
      "metadata": {
        "id": "qrX-2ukIQ1wV"
      },
      "source": [
        "# Plots"
      ]
    },
    {
      "cell_type": "markdown",
      "metadata": {
        "id": "d-Pl1kB3Q3vO"
      },
      "source": [
        "### Layer wise plot\n",
        "This code generates the plot for performance increase as a function of attention applied at each layer separately."
      ]
    },
    {
      "cell_type": "code",
      "metadata": {
        "id": "vTMr8HqKU6gb",
        "colab": {
          "base_uri": "https://localhost:8080/",
          "height": 770
        },
        "outputId": "15ed470a-e2fa-4226-b538-97b9550eed45"
      },
      "source": [
        "acc = [0.61,0.60,0.76,0.69,0.68,0.62]\n",
        "import numpy as np\n",
        "import matplotlib.pyplot as plt\n",
        "\n",
        "x = np.load('tun_accuracy_bias1.npy')\n",
        "x = np.expand_dims(x,0)\n",
        "\n",
        "for i in np.arange(2,10,1):\n",
        "  temp = np.load('tun_accuracy_bias' + str(i) + '.npy')\n",
        "  temp = np.expand_dims(temp,0)\n",
        "  x = np.vstack((x,temp))\n",
        "\n",
        "\n",
        "x = np.amax(x,0)\n",
        "\n",
        "plt_data = np.zeros((6,13))\n",
        "for i in range(6):\n",
        "  for j in range(13):\n",
        "    plt_data[i,j] = x[i,j] - acc[i]\n",
        "\n",
        "\n",
        "import seaborn as sns\n",
        "sns.set(style=\"white\",rc={\"lines.linewidth\": 1})\n",
        "plt.figure(figsize = (15,12))\n",
        "ax = sns.pointplot(data = plt_data*100, color = 'mediumseagreen',\n",
        "                   errorwidth = 0.1 , capsize = 0.2)\n",
        "                   \n",
        "ax.set_xlabel('Layer',size = 20)\n",
        "ax.set_xticklabels(np.arange(1,14),size = 20)\n",
        "plt.yticks(fontsize = 20)\n",
        "plt.ylim(0,30)\n",
        "plt.title('Attention by tuning curve, bias stng: 0 - 10.5',size = 15)\n",
        "ax.set_ylabel('Performance Increase (%)',size = 20)"
      ],
      "execution_count": null,
      "outputs": [
        {
          "output_type": "execute_result",
          "data": {
            "text/plain": [
              "Text(0, 0.5, 'Performance Increase (%)')"
            ]
          },
          "metadata": {
            "tags": []
          },
          "execution_count": 33
        },
        {
          "output_type": "display_data",
          "data": {
            "image/png": "[encoded data removed]",
            "text/plain": [
              "<Figure size 1080x864 with 1 Axes>"
            ]
          },
          "metadata": {
            "tags": []
          }
        }
      ]
    },
    {
      "cell_type": "code",
      "metadata": {
        "id": "6xvHyvKjmefC"
      },
      "source": [
        "# NOT REQUIRED FOR NOW\n",
        "#grad_acc = plt_data\n",
        "#tun_acc = plt_data\n",
        "\n",
        "from scipy import stats\n",
        "pval = np.zeros(13)\n",
        "\n",
        "for i in range(13):\n",
        "  _,pval[i] = stats.ttest_ind(tun_acc[:,i],grad_acc[:,i],equal_var=False)\n",
        "\n",
        "pval"
      ],
      "execution_count": null,
      "outputs": []
    },
    {
      "cell_type": "markdown",
      "metadata": {
        "id": "9C8vZVeCQ9Dj"
      },
      "source": [
        "### Category wise plot\n",
        "This code generates the plot for performance increase as a function of category and attention applied at each layer separately."
      ]
    },
    {
      "cell_type": "code",
      "metadata": {
        "id": "HVAZyDCmQ7sE",
        "colab": {
          "base_uri": "https://localhost:8080/",
          "height": 903
        },
        "outputId": "5c5a9b23-552f-4b35-be06-ef33eed4aac8"
      },
      "source": [
        "gacc = np.load('tun_accuracy_bias1.npy')\n",
        "gacc = np.expand_dims(gacc,0)\n",
        "\n",
        "for i in np.arange(2,10,1):\n",
        "  temp = np.load('tun_accuracy_bias' + str(i) + '.npy')\n",
        "  temp = np.expand_dims(temp,0)\n",
        "  gacc = np.vstack((gacc,temp))\n",
        "strngs = np.arange(0.5,5,1)\n",
        "'''\n",
        "for i in np.arange(1,11,1):\n",
        "  temp = np.load('tun_accuracy_add' + str(i) + '.npy')\n",
        "  temp = np.expand_dims(temp,0)\n",
        "  gacc = np.vstack((gacc,temp))\n",
        "strngs = np.concatenate((strngs,np.arange(1,6,1)))'''\n",
        "y = np.amax(gacc,0).T\n",
        "\n",
        "\n",
        "plt_data = np.zeros((13,6))\n",
        "for i in range(13):\n",
        "  for j in range(6):\n",
        "    plt_data[i,j] = y[i,j] - acc[j]\n",
        "\n",
        "\n",
        "import seaborn as sns\n",
        "sns.set(style=\"white\",rc={\"lines.linewidth\": 1})\n",
        "layer = 0\n",
        "f,axes = plt.subplots(3,2,figsize=(15,15))\n",
        "f.add_subplot(111, frameon=False)\n",
        "# hide tick and tick label of the big axis\n",
        "plt.tick_params(labelcolor='none', top=False, bottom=False, left=False, right=False)\n",
        "plt.xlabel(\"Layer\",size = 15)\n",
        "plt.ylabel(\"Performance Increase (%)\",size = 15)\n",
        "for x in range(3):\n",
        "  for y in range(2):\n",
        "    axes[x,y].bar(x = np.arange(0,13),height = plt_data[:,layer]*100,color = 'mediumseagreen')\n",
        "    axes[x,y].set_xticklabels(np.arange(1,14),size = 15)\n",
        "    axes[x,y].set_xticks(np.arange(0,14))\n",
        "    axes[x,y].set_title(categories[layer],size = 15)\n",
        "    axes[x,y].set_ylim(-10,35)\n",
        "    axes[x,y].set_xlim(-1,13)\n",
        "    axes[x,y].hlines(y = 0,xmin= -1,xmax = 13)\n",
        "    layer+=1\n",
        "  "
      ],
      "execution_count": null,
      "outputs": [
        {
          "output_type": "display_data",
          "data": {
            "image/png": "[encoded data removed]",
            "text/plain": [
              "<Figure size 1080x1080 with 7 Axes>"
            ]
          },
          "metadata": {
            "tags": []
          }
        }
      ]
    },
    {
      "cell_type": "code",
      "metadata": {
        "id": "rSQiL-0QHqZy"
      },
      "source": [
        "#!/usr/bin/env python3\n",
        "# -*- coding: utf-8 -*-\n",
        "\"\"\"\n",
        "Created on Sat Oct 10 02:39:43 2020\n",
        "\n",
        "@author: soukhind\n",
        "\"\"\"\n",
        "import numpy as np\n",
        "import tensorflow as tf\n",
        "from tensorflow.keras.layers import Activation\n",
        "from tensorflow.keras.activations import relu\n",
        "from keras.utils.generic_utils import get_custom_objects\n",
        "from tensorflow.keras.callbacks import EarlyStopping\n",
        "from vis.utils import utils\n",
        "from tensorflow.python.ops import nn\n",
        "from tensorflow import math\n",
        "import time\n",
        "from sklearn.metrics import roc_curve,accuracy_score,precision_recall_curve,f1_score\n",
        "\n",
        "def gen_attnmap(modifier,mask,category,bi,atype,rand_map):\n",
        "    \"\"\"\n",
        "    \n",
        "\n",
        "    Parameters\n",
        "    ----------\n",
        "    modifier : list\n",
        "        modifier to be used to implement attention.\n",
        "    mask : ndarray\n",
        "        binary vector to determine which layer to apply attention at. \n",
        "        include attention strength by multiplying to it\n",
        "    category : ndarray\n",
        "        cateogies .\n",
        "    bi : boolean \n",
        "        bidirectionality\n",
        "        True & False.\n",
        "    atype: int\n",
        "        1 = Multiplicative\n",
        "        2 = Additive\n",
        "    rand_map: bool, optional\n",
        "        Set to 'True' for random set of tuning values\n",
        "    Returns\n",
        "    -------\n",
        "    tensor_attnmap : tensor\n",
        "        attention map.\n",
        "\n",
        "    \"\"\"\n",
        "    attnmap = []\n",
        "    #beta = calc_beta(avg_tun_activ)/10\n",
        "  \n",
        "    #conv1_1 & conv1_2\n",
        "\n",
        "    for layer in range(2):\n",
        "        mapval = np.float32(modifier[category][layer])\n",
        "        if bi == False:\n",
        "            mapval[mapval < 0] = 0\n",
        "        if atype == 1:\n",
        "          amap = np.ones((224,224,64),dtype='float32') + np.tile(mapval,[224,224,1])* mask[layer]\n",
        "        elif atype == 2:\n",
        "          amap = np.tile(mapval,[224,224,1])* mask[layer]\n",
        "        #amap[amap < 0] = 0\n",
        "        if rand_map == 1:\n",
        "          random.shuffle(amap)\n",
        "        elif rand_map == 2:\n",
        "          \n",
        "          amap = np.ones((224,224,64),dtype='float32') +  mask[layer]\n",
        "        attnmap.append(amap)\n",
        "        \n",
        "    \n",
        "    #conv2_1 & conv2_2\n",
        "    for layer in range(2,4):\n",
        "        mapval = np.float32(modifier[category][layer])\n",
        "        if bi == False:\n",
        "            mapval[mapval < 0] = 0\n",
        "        if atype == 1:\n",
        "          amap = np.ones((112,112,128),dtype='float32') + np.tile(mapval,[112,112,1])* mask[layer]\n",
        "        elif atype == 2:\n",
        "          amap = np.tile(mapval,[112,112,1])* mask[layer]\n",
        "        #amap[amap < 0] = 0\n",
        "        if rand_map == 1:\n",
        "          random.shuffle(amap)\n",
        "        elif rand_map == 2:\n",
        "          amap = np.ones((112,112,128),dtype='float32') +  mask[layer]\n",
        "        attnmap.append(amap)\n",
        "    \n",
        "    #conv3_1 - conv3_3\n",
        "    for layer in range(4,7):\n",
        "        mapval = np.float32(modifier[category][layer])\n",
        "        if bi == False:\n",
        "            mapval[mapval < 0] = 0\n",
        "        if atype == 1:\n",
        "          amap = np.ones((56,56,256),dtype='float32') + np.tile(mapval,[56,56,1])* mask[layer]\n",
        "        elif atype == 2:\n",
        "          amap = np.tile(mapval,[56,56,1])* mask[layer]\n",
        "        #amap[amap < 0] = 0\n",
        "        if rand_map == 1:\n",
        "          random.shuffle(amap)\n",
        "        elif rand_map == 2:\n",
        "          amap = np.ones((56,56,256),dtype='float32') + mask[layer]\n",
        "        attnmap.append(amap)\n",
        "    \n",
        "    #conv4_1 - conv4_3\n",
        "    for layer in range(7,10):\n",
        "        mapval = np.float32(modifier[category][layer])\n",
        "        if bi == False:\n",
        "            mapval[mapval < 0] = 0\n",
        "        if atype == 1:\n",
        "          amap = np.ones((28,28,512),dtype='float32') + np.tile(mapval,[28,28,1])* mask[layer]\n",
        "        elif atype == 2:\n",
        "          amap = np.tile(mapval,[28,28,1])* mask[layer]\n",
        "        #amap[amap < 0] = 0\n",
        "        if rand_map == 1:\n",
        "          random.shuffle(amap)\n",
        "        elif rand_map == 2:\n",
        "          amap = np.ones((28,28,512),dtype='float32') + mask[layer]\n",
        "        attnmap.append(amap)\n",
        "    \n",
        "    #conv5_1 - conv5_3\n",
        "    for layer in range(10,13):\n",
        "        mapval = np.float32(modifier[category][layer])\n",
        "        if bi == False:\n",
        "            mapval[mapval < 0] = 0\n",
        "        if atype ==1:\n",
        "          amap = np.ones((14,14,512),dtype='float32') + np.tile(mapval,[14,14,1])* mask[layer]\n",
        "        elif atype == 2:\n",
        "          amap = np.tile(mapval,[14,14,1])* mask[layer]\n",
        "        #amap[amap < 0] = 0\n",
        "        if rand_map == 1:\n",
        "          random.shuffle(amap)\n",
        "        elif rand_map == 2:\n",
        "          amap = np.ones((14,14,512),dtype='float32') + mask[layer]\n",
        "        attnmap.append(amap)\n",
        "    \n",
        "    \n",
        "    \n",
        "    tensor_attnmap = []\n",
        "    for layer in range(len(attnmap)):\n",
        "      tensor_attnmap.append(tf.convert_to_tensor(attnmap[layer])) \n",
        "    \n",
        "    return tensor_attnmap\n",
        "\n",
        "\n",
        "\n",
        "def calc_tun_act_attn(data_train,\n",
        "                 modifier,\n",
        "                 model,idxpath,\n",
        "                 category,\n",
        "                 atstrng,\n",
        "                 bidir = True,\n",
        "                 atype = 1,\n",
        "                 rand_map = 0):\n",
        "    \"\"\"\n",
        "    \n",
        "\n",
        "    Parameters\n",
        "    ----------\n",
        "    data_train : ndarray\n",
        "        Training data.\n",
        "    train_labels : categorical\n",
        "        Training labels.\n",
        "    data_test : ndarray\n",
        "        Testing data.\n",
        "    test_labels : categorical\n",
        "        Testing labels.\n",
        "    categories : ndarray\n",
        "        Names of each category.\n",
        "    modifier : list\n",
        "        modifier to be used to implement attention.\n",
        "    model : keras model\n",
        "        base model.\n",
        "    top_model : keras model\n",
        "        top model.\n",
        "    idxpath : string\n",
        "        for internal use.\n",
        "    atstrng : float32\n",
        "        attention strength.\n",
        "    bidir : bool, optional\n",
        "        Bidirectionality. The default is True.\n",
        "    atype: int\n",
        "        1 = Multiplicative\n",
        "        2 = Additive\n",
        "    rand_map: int, optional\n",
        "        0 = No randomization\n",
        "        1 = Shuffled tuning values\n",
        "        2 = Same tuning values\n",
        "    Returns\n",
        "    -------\n",
        "    t_acc\n",
        "        Accuracy for each category at each layer.\n",
        "\n",
        "    \"\"\"\n",
        "    \n",
        "    n_layers = 13\n",
        "    thr = np.zeros(n_layers)\n",
        "    for li in range(n_layers):\n",
        "        layermask = np.zeros(13)\n",
        "        layermask[li] = 1\n",
        "        tensor_attnmap = gen_attnmap(modifier,layermask*atstrng,category,bidir,atype,rand_map)     \n",
        "        def attnrelu(x,map = tensor_attnmap,atype = atype):\n",
        "            layeridx = np.load(idxpath)\n",
        "            if layeridx == 13:\n",
        "                layeridx = 0\n",
        "            if atype == 1:\n",
        "              x = nn.relu(x)\n",
        "              activations = math.multiply(x,map[layeridx])\n",
        "            if atype == 2:\n",
        "              activations = math.add(x,map[layeridx])\n",
        "              activations = nn.relu(activations)\n",
        "            layeridx += 1\n",
        "            np.save(idxpath,layeridx)\n",
        "            return activations\n",
        "    \n",
        "        get_custom_objects().update({'attnrelu': Activation(attnrelu)})\n",
        "    \n",
        "        for layer in model.layers:\n",
        "            if(hasattr(layer,'activation')):\n",
        "                layer.activation = attnrelu\n",
        "    \n",
        "        utils.apply_modifications(model)\n",
        "        model.compile()\n",
        "        \n",
        "        layer_names = [layer.name for layer in model.layers if 'conv' in layer.name]\n",
        "        layer_outputs = [layer.output for layer in model.layers if layer.name in layer_names]\n",
        "        activation_model = Model(inputs=model.input, outputs=layer_outputs)\n",
        "\n",
        "        tun_activ = tc.calc_tun(train_it,activation_model,layer_names)\n",
        "\n",
        "        with open('/content/drive/MyDrive/obj/tun_vals_attn/VGGFace/tuning_values_' + str(li) + '_' +\n",
        "                  str(atstrng) + '_' + str(category), 'wb') as fp:\n",
        "          pickle.dump(tun_activ, fp)\n",
        "\n",
        "        print('Layer: ' + str(li) + ' | Strng: ' + str(atstrng))\n",
        "     \n"
      ],
      "execution_count": 74,
      "outputs": []
    },
    {
      "cell_type": "code",
      "metadata": {
        "id": "tsdSTChxH1bO",
        "outputId": "b5f59526-efb6-402d-b3d3-9289e7a9aeaa",
        "colab": {
          "base_uri": "https://localhost:8080/"
        }
      },
      "source": [
        "layeridx = 0\n",
        "np.save('layeridx',layeridx)\n",
        "#atstrng = 10.5 #0,1,2,3,4,5,6,7,8,9\n",
        "for atstrng in np.arange(0,10,1): #Calling for different attn strengths\n",
        "  for cat in range(6): # Iterating over 6 categories\n",
        "    tf.keras.backend.clear_session()\n",
        "    print('Category of interest: ', categories[cat])\n",
        "    train_it = reg_train[cat]\n",
        "    model = VGG16(weights='imagenet',\n",
        "                        include_top=False,input_shape = [224,224,3])\n",
        "    for layer in range(13):\n",
        "      model.layers[layer].set_weights(model2.layers[layer].get_weights())\n",
        "    # Read avg_accuracy's definition to learn about the parameters\n",
        "    calc_tun_act_attn(train_it,\n",
        "                  fc,\n",
        "                  model,\n",
        "                  '/content/layeridx.npy',\n",
        "                  cat,\n",
        "                  atstrng,\n",
        "                  bidir = True,\n",
        "                  atype = 1,\n",
        "                  rand_map = 2 )\n",
        "\n"
      ],
      "execution_count": null,
      "outputs": [
        {
          "output_type": "stream",
          "text": [
            "Category of interest:  Male\n",
            "WARNING:tensorflow:No training configuration found in the save file, so the model was *not* compiled. Compile it manually.\n",
            "Layer: 0 | Strng: 0\n",
            "Layer: 1 | Strng: 0\n"
          ],
          "name": "stdout"
        }
      ]
    },
    {
      "cell_type": "code",
      "metadata": {
        "id": "RgL3aBf080zm"
      },
      "source": [
        "tun_activ = []\n",
        "for interest in range(6): \n",
        "  with open ('/content/drive/MyDrive/obj/tun_vals_attn/VGGFace/tuning_values_0_0-' + str(interest), 'rb') as fp:\n",
        "      tun_activ.extend(pickle.load(fp))\n",
        "len(tun_activ)\n",
        "\n",
        "\n",
        "ncats = 6\n",
        "# to fish out each category tun_activations\n",
        "labels = np.array([0] * 40 + [1] * 40 + [2] * 40 + [3] * 40 + [4] * 40 + [5] * 40)\n",
        "cat_tun = [[[] for j in range(len(tun_activ[0]))] for i in range(ncats)]\n",
        "\n",
        "avg_tun_activ = tc.calc_avg(tun_activ) #average tuning activity for each map\n",
        "std_tun_activ = tc.calc_std(tun_activ,avg_tun_activ) #std tuning activity for each map\n",
        "\n",
        "for i in range(ncats):\n",
        "  #Calculating average activity of each\n",
        "  #feature map in response to images of respective category, \n",
        "  #with the mean activity under all image categories subtracted from it\n",
        "  idx = list(np.where(labels == i))\n",
        "  cat_tun[i] = tc.calc_avg([tun_activ[i] for i in idx[0]])\n",
        "\n",
        "# Vector of tuning values for each obj cataegory\n",
        "fc = [[[0 for item in subl] for subl in cat_tun[0]] for i in range(ncats)]\n",
        "#fc has length of ncats x nlayers x no of maps in each layer\n",
        "for cat in range(ncats):\n",
        "  for layer in range(len(cat_tun[cat])):\n",
        "    for map in range(len(cat_tun[cat][layer])):\n",
        "      if std_tun_activ[layer][map] == 0:\n",
        "        continue\n",
        "      fc[cat][layer][map] = (cat_tun[cat][layer][map] - \n",
        "                                avg_tun_activ[layer][map])/std_tun_activ[layer][map]"
      ],
      "execution_count": 71,
      "outputs": []
    },
    {
      "cell_type": "code",
      "metadata": {
        "id": "h6c1STisB_5U",
        "outputId": "ecdc66ee-0b8e-43b3-862a-74af923a766b",
        "colab": {
          "base_uri": "https://localhost:8080/"
        }
      },
      "source": [
        "len(tun_activ)"
      ],
      "execution_count": 72,
      "outputs": [
        {
          "output_type": "execute_result",
          "data": {
            "text/plain": [
              "960"
            ]
          },
          "metadata": {
            "tags": []
          },
          "execution_count": 72
        }
      ]
    },
    {
      "cell_type": "code",
      "metadata": {
        "colab": {
          "base_uri": "https://localhost:8080/"
        },
        "id": "Bv10Yl4X3iFl",
        "outputId": "fd963a84-8282-4be3-859c-aa0d458c9241"
      },
      "source": [
        "fc = []\n",
        "with open ('/content/drive/MyDrive/obj/tun_vals_attn/VGGFace/fc/fc_0_' + str(0), 'rb') as fp:\n",
        "    fc.extend(pickle.load(fp))\n",
        "len(fc)\n",
        "\n"
      ],
      "execution_count": 45,
      "outputs": [
        {
          "output_type": "execute_result",
          "data": {
            "text/plain": [
              "6"
            ]
          },
          "metadata": {
            "tags": []
          },
          "execution_count": 45
        }
      ]
    },
    {
      "cell_type": "code",
      "metadata": {
        "colab": {
          "base_uri": "https://localhost:8080/",
          "height": 306
        },
        "id": "x8z0nFTH3iFn",
        "outputId": "11035196-3b72-4f5a-dd29-6e2cafa909dc"
      },
      "source": [
        "tun_quality = tc.calc_tun_quality(fc)\n",
        "sns.set(style=\"whitegrid\")\n",
        "ax = sns.boxplot(data = tun_quality,palette='cool')\n",
        "ax.set_xlabel('Layer')\n",
        "ax.set_xticklabels(np.arange(1,14))\n",
        "ax.set_ylabel('Tuning Quality')\n",
        "ax.set_ylim([0,30])"
      ],
      "execution_count": 56,
      "outputs": [
        {
          "output_type": "execute_result",
          "data": {
            "text/plain": [
              "(0.0, 30.0)"
            ]
          },
          "metadata": {
            "tags": []
          },
          "execution_count": 56
        },
        {
          "output_type": "display_data",
          "data": {
            "image/png": "[encoded data removed]",
            "text/plain": [
              "<Figure size 432x288 with 1 Axes>"
            ]
          },
          "metadata": {
            "tags": []
          }
        }
      ]
    },
    {
      "cell_type": "code",
      "metadata": {
        "colab": {
          "base_uri": "https://localhost:8080/",
          "height": 306
        },
        "id": "OuLPVbNH6O4l",
        "outputId": "6d8efabd-6fad-4f09-c4ef-8892da1a3152"
      },
      "source": [
        "tun_q_face = [[0 for item in subl] for subl in fc[0]]\n",
        "for cat in range(2):\n",
        "  for layer in range(len(fc[cat])):\n",
        "    for map in range(len(fc[cat][layer])):\n",
        "      if tun_q_face[layer][map] < abs(fc[cat][layer][map]):\n",
        "        tun_q_face[layer][map] = abs(fc[cat][layer][map])\n",
        "\n",
        "sns.set(style=\"whitegrid\")\n",
        "ax = sns.boxplot(data = tun_q_face,palette='cool')\n",
        "ax.set_xlabel('Layer')\n",
        "ax.set_xticklabels(np.arange(1,14))\n",
        "ax.set_ylabel('Tuning Quality')\n",
        "ax.set_ylim([0,100])"
      ],
      "execution_count": 60,
      "outputs": [
        {
          "output_type": "execute_result",
          "data": {
            "text/plain": [
              "(0.0, 100.0)"
            ]
          },
          "metadata": {
            "tags": []
          },
          "execution_count": 60
        },
        {
          "output_type": "display_data",
          "data": {
            "image/png": "[encoded data removed]",
            "text/plain": [
              "<Figure size 432x288 with 1 Axes>"
            ]
          },
          "metadata": {
            "tags": []
          }
        }
      ]
    },
    {
      "cell_type": "code",
      "metadata": {
        "colab": {
          "base_uri": "https://localhost:8080/",
          "height": 306
        },
        "id": "d7OZfPDD3uq0",
        "outputId": "0f8bce84-8741-409f-90e8-3250230f89eb"
      },
      "source": [
        "tun_q_face = [[0 for item in subl] for subl in fc[0]]\n",
        "for cat in range(2,6):\n",
        "  for layer in range(len(fc[cat])):\n",
        "    for map in range(len(fc[cat][layer])):\n",
        "      if tun_q_face[layer][map] < abs(fc[cat][layer][map]):\n",
        "        tun_q_face[layer][map] = abs(fc[cat][layer][map])\n",
        "\n",
        "sns.set(style=\"whitegrid\")\n",
        "ax = sns.boxplot(data = tun_q_face,palette='cool')\n",
        "ax.set_xlabel('Layer')\n",
        "ax.set_xticklabels(np.arange(1,14))\n",
        "ax.set_ylabel('Tuning Quality')\n",
        "ax.set_ylim([0,100])"
      ],
      "execution_count": 59,
      "outputs": [
        {
          "output_type": "execute_result",
          "data": {
            "text/plain": [
              "(0.0, 100.0)"
            ]
          },
          "metadata": {
            "tags": []
          },
          "execution_count": 59
        },
        {
          "output_type": "display_data",
          "data": {
            "image/png": "[encoded data removed]",
            "text/plain": [
              "<Figure size 432x288 with 1 Axes>"
            ]
          },
          "metadata": {
            "tags": []
          }
        }
      ]
    },
    {
      "cell_type": "code",
      "metadata": {
        "id": "X7Fxp4Y29d47"
      },
      "source": [
        ""
      ],
      "execution_count": 48,
      "outputs": []
    }
  ]
}